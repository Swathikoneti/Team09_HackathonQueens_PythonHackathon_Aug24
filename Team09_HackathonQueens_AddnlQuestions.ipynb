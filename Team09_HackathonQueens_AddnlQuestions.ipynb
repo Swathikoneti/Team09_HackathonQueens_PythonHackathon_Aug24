{
 "cells": [
  {
   "cell_type": "markdown",
   "id": "858163d4-b24b-45b8-b914-e28b3c6daed3",
   "metadata": {},
   "source": [
    "# Additional Questions"
   ]
  },
  {
   "cell_type": "code",
   "execution_count": 350,
   "id": "4c157679-8743-4e8c-877b-482524d380b7",
   "metadata": {},
   "outputs": [],
   "source": [
    "import pandas as pd \n",
    "import numpy as np \n",
    "import seaborn as sns\n",
    "import matplotlib.pyplot as plt\n",
    "import warnings\n",
    "import plotly.express as px\n",
    "warnings.filterwarnings(\"ignore\")\n",
    "import re"
   ]
  },
  {
   "cell_type": "code",
   "execution_count": 351,
   "id": "3b34d0cb-e9a3-4501-8b10-d94f1ec86d26",
   "metadata": {},
   "outputs": [],
   "source": [
    "#Read the excel file and store the sheets into dataframes.\n",
    "df = pd.ExcelFile(r\"V02Max_Combined.xlsx\")\n",
    "kay = pd.read_excel(df, sheet_name = 'Kayaking')\n",
    "ath = pd.read_excel(df, sheet_name = 'Athletes')\n",
    "tri = pd.read_excel(df, sheet_name = 'Triathlon')\n",
    "fen = pd.read_excel(df, sheet_name = 'Fencing')"
   ]
  },
  {
   "cell_type": "code",
   "execution_count": 352,
   "id": "8b2987f3-3c6a-4aac-824e-5e38774bf96b",
   "metadata": {},
   "outputs": [
    {
     "name": "stdout",
     "output_type": "stream",
     "text": [
      "Dataframe successfully written to Excel file FinalVO2_Table.xlsx\n",
      "\n",
      "Reading FinalVO2_Table.xlsx Excel file for Verification:\n",
      "       ID     time     RR       VO2  power\n",
      "0       1 -130.840  672.0  0.302008      0\n",
      "1       1 -130.168  672.0  0.302008      0\n",
      "2       1 -129.536  632.0  0.301336      0\n",
      "3       1 -128.824  712.0  0.301336      0\n",
      "4       1 -127.948  876.0  0.301336      0\n",
      "...    ..      ...    ...       ...    ...\n",
      "52057  18  947.288  536.0  0.507071      0\n",
      "52058  18  947.816  528.0  0.507071      0\n",
      "52059  18  948.344  528.0  0.507071      0\n",
      "52060  18  948.884  540.0  0.507071      0\n",
      "52061  18  949.424  540.0  0.507071      0\n",
      "\n",
      "[52062 rows x 5 columns]\n"
     ]
    }
   ],
   "source": [
    "#Concatenating all sport related table to one dataframe final_table\n",
    "final_table=pd.concat([fen[['ID','time','RR','VO2','power']],\n",
    "                       kay[['ID','time','RR','VO2','power']],\n",
    "                       tri[['ID','time','RR','VO2','power']]],ignore_index=True)\n",
    "\n",
    "#defining output excel file name\n",
    "output='FinalVO2_Table.xlsx'\n",
    "\n",
    "#writing dataframe to excel using to_excel\n",
    "final_table.to_excel(output,index=False)\n",
    "print(\"Dataframe successfully written to Excel file\",output)\n",
    "\n",
    "#Reading the excel file back into dataframe for verification\n",
    "print(\"\\nReading\",output,\"Excel file for Verification:\")\n",
    "sportdf=pd.read_excel(\"FinalVO2_Table.xlsx\")\n",
    "print(sportdf)"
   ]
  },
  {
   "cell_type": "code",
   "execution_count": 353,
   "id": "cfb22a24-d66e-4eeb-bd23-2bfe2c5d2b0b",
   "metadata": {},
   "outputs": [],
   "source": [
    "#Load athlete details into dataframe\n",
    "VO2ml=pd.DataFrame(ath)\n",
    "\n",
    "#Sum the VO2 values for each ID\n",
    "Sum_VO2 = final_table.groupby('ID')['VO2'].sum().reset_index() \n",
    "\n",
    "#Merge sum of VO2 values for each id to VO2ml dataframe\n",
    "VO2ml=VO2ml.merge(Sum_VO2,on='ID')\n",
    "\n",
    "#Find VO2ml/kg which is VO2ml/min divided by each athlete weight\n",
    "VO2ml['VO2ml/kg']=VO2ml['VO2']/VO2ml['Weight']"
   ]
  },
  {
   "cell_type": "markdown",
   "id": "e6280b8b-0f0a-4f37-99a1-0a31b68d9ab1",
   "metadata": {},
   "source": [
    "## Qn1:Find the max power to weight Ratio for each athlete"
   ]
  },
  {
   "cell_type": "code",
   "execution_count": 355,
   "id": "f41d2ef1-13d4-4c38-82f0-d62242cec498",
   "metadata": {},
   "outputs": [
    {
     "name": "stdout",
     "output_type": "stream",
     "text": [
      "Max Power to Weight Ratio for each athlete:\n"
     ]
    },
    {
     "data": {
      "text/html": [
       "<style type=\"text/css\">\n",
       "</style>\n",
       "<table id=\"T_e42e5\">\n",
       "  <thead>\n",
       "    <tr>\n",
       "      <th id=\"T_e42e5_level0_col0\" class=\"col_heading level0 col0\" >ID</th>\n",
       "      <th id=\"T_e42e5_level0_col1\" class=\"col_heading level0 col1\" >First Name</th>\n",
       "      <th id=\"T_e42e5_level0_col2\" class=\"col_heading level0 col2\" >Last Name</th>\n",
       "      <th id=\"T_e42e5_level0_col3\" class=\"col_heading level0 col3\" >PWR</th>\n",
       "    </tr>\n",
       "  </thead>\n",
       "  <tbody>\n",
       "    <tr>\n",
       "      <td id=\"T_e42e5_row0_col0\" class=\"data row0 col0\" >1</td>\n",
       "      <td id=\"T_e42e5_row0_col1\" class=\"data row0 col1\" >Olivia</td>\n",
       "      <td id=\"T_e42e5_row0_col2\" class=\"data row0 col2\" >Martinez</td>\n",
       "      <td id=\"T_e42e5_row0_col3\" class=\"data row0 col3\" >3.165736</td>\n",
       "    </tr>\n",
       "    <tr>\n",
       "      <td id=\"T_e42e5_row1_col0\" class=\"data row1 col0\" >2</td>\n",
       "      <td id=\"T_e42e5_row1_col1\" class=\"data row1 col1\" >Ethan</td>\n",
       "      <td id=\"T_e42e5_row1_col2\" class=\"data row1 col2\" >Reynolds</td>\n",
       "      <td id=\"T_e42e5_row1_col3\" class=\"data row1 col3\" >2.491103</td>\n",
       "    </tr>\n",
       "    <tr>\n",
       "      <td id=\"T_e42e5_row2_col0\" class=\"data row2 col0\" >3</td>\n",
       "      <td id=\"T_e42e5_row2_col1\" class=\"data row2 col1\" >Jackson</td>\n",
       "      <td id=\"T_e42e5_row2_col2\" class=\"data row2 col2\" >Harper</td>\n",
       "      <td id=\"T_e42e5_row2_col3\" class=\"data row2 col3\" >3.392659</td>\n",
       "    </tr>\n",
       "    <tr>\n",
       "      <td id=\"T_e42e5_row3_col0\" class=\"data row3 col0\" >4</td>\n",
       "      <td id=\"T_e42e5_row3_col1\" class=\"data row3 col1\" >Liam</td>\n",
       "      <td id=\"T_e42e5_row3_col2\" class=\"data row3 col2\" >Sanchez</td>\n",
       "      <td id=\"T_e42e5_row3_col3\" class=\"data row3 col3\" >3.986928</td>\n",
       "    </tr>\n",
       "    <tr>\n",
       "      <td id=\"T_e42e5_row4_col0\" class=\"data row4 col0\" >5</td>\n",
       "      <td id=\"T_e42e5_row4_col1\" class=\"data row4 col1\" >Ava</td>\n",
       "      <td id=\"T_e42e5_row4_col2\" class=\"data row4 col2\" >Thompson</td>\n",
       "      <td id=\"T_e42e5_row4_col3\" class=\"data row4 col3\" >3.599476</td>\n",
       "    </tr>\n",
       "    <tr>\n",
       "      <td id=\"T_e42e5_row5_col0\" class=\"data row5 col0\" >6</td>\n",
       "      <td id=\"T_e42e5_row5_col1\" class=\"data row5 col1\" >Sophia</td>\n",
       "      <td id=\"T_e42e5_row5_col2\" class=\"data row5 col2\" >Rodriguez</td>\n",
       "      <td id=\"T_e42e5_row5_col3\" class=\"data row5 col3\" >3.734756</td>\n",
       "    </tr>\n",
       "    <tr>\n",
       "      <td id=\"T_e42e5_row6_col0\" class=\"data row6 col0\" >7</td>\n",
       "      <td id=\"T_e42e5_row6_col1\" class=\"data row6 col1\" >Grace</td>\n",
       "      <td id=\"T_e42e5_row6_col2\" class=\"data row6 col2\" >Simmons</td>\n",
       "      <td id=\"T_e42e5_row6_col3\" class=\"data row6 col3\" >3.413655</td>\n",
       "    </tr>\n",
       "    <tr>\n",
       "      <td id=\"T_e42e5_row7_col0\" class=\"data row7 col0\" >8</td>\n",
       "      <td id=\"T_e42e5_row7_col1\" class=\"data row7 col1\" >Aiden</td>\n",
       "      <td id=\"T_e42e5_row7_col2\" class=\"data row7 col2\" >Bennett</td>\n",
       "      <td id=\"T_e42e5_row7_col3\" class=\"data row7 col3\" >3.320312</td>\n",
       "    </tr>\n",
       "    <tr>\n",
       "      <td id=\"T_e42e5_row8_col0\" class=\"data row8 col0\" >9</td>\n",
       "      <td id=\"T_e42e5_row8_col1\" class=\"data row8 col1\" >Chloe</td>\n",
       "      <td id=\"T_e42e5_row8_col2\" class=\"data row8 col2\" >Price</td>\n",
       "      <td id=\"T_e42e5_row8_col3\" class=\"data row8 col3\" >3.502627</td>\n",
       "    </tr>\n",
       "    <tr>\n",
       "      <td id=\"T_e42e5_row9_col0\" class=\"data row9 col0\" >10</td>\n",
       "      <td id=\"T_e42e5_row9_col1\" class=\"data row9 col1\" >Lily</td>\n",
       "      <td id=\"T_e42e5_row9_col2\" class=\"data row9 col2\" >Jordan</td>\n",
       "      <td id=\"T_e42e5_row9_col3\" class=\"data row9 col3\" >3.401361</td>\n",
       "    </tr>\n",
       "    <tr>\n",
       "      <td id=\"T_e42e5_row10_col0\" class=\"data row10 col0\" >11</td>\n",
       "      <td id=\"T_e42e5_row10_col1\" class=\"data row10 col1\" >Isabella</td>\n",
       "      <td id=\"T_e42e5_row10_col2\" class=\"data row10 col2\" >Griffin</td>\n",
       "      <td id=\"T_e42e5_row10_col3\" class=\"data row10 col3\" >3.950472</td>\n",
       "    </tr>\n",
       "    <tr>\n",
       "      <td id=\"T_e42e5_row11_col0\" class=\"data row11 col0\" >12</td>\n",
       "      <td id=\"T_e42e5_row11_col1\" class=\"data row11 col1\" >Caleb</td>\n",
       "      <td id=\"T_e42e5_row11_col2\" class=\"data row11 col2\" >Dixon</td>\n",
       "      <td id=\"T_e42e5_row11_col3\" class=\"data row11 col3\" >3.546512</td>\n",
       "    </tr>\n",
       "    <tr>\n",
       "      <td id=\"T_e42e5_row12_col0\" class=\"data row12 col0\" >13</td>\n",
       "      <td id=\"T_e42e5_row12_col1\" class=\"data row12 col1\" >Mia</td>\n",
       "      <td id=\"T_e42e5_row12_col2\" class=\"data row12 col2\" >Carpenter</td>\n",
       "      <td id=\"T_e42e5_row12_col3\" class=\"data row12 col3\" >3.814064</td>\n",
       "    </tr>\n",
       "    <tr>\n",
       "      <td id=\"T_e42e5_row13_col0\" class=\"data row13 col0\" >14</td>\n",
       "      <td id=\"T_e42e5_row13_col1\" class=\"data row13 col1\" >Harper</td>\n",
       "      <td id=\"T_e42e5_row13_col2\" class=\"data row13 col2\" >Mitchell</td>\n",
       "      <td id=\"T_e42e5_row13_col3\" class=\"data row13 col3\" >3.691814</td>\n",
       "    </tr>\n",
       "    <tr>\n",
       "      <td id=\"T_e42e5_row14_col0\" class=\"data row14 col0\" >15</td>\n",
       "      <td id=\"T_e42e5_row14_col1\" class=\"data row14 col1\" >Mason</td>\n",
       "      <td id=\"T_e42e5_row14_col2\" class=\"data row14 col2\" >Wallace</td>\n",
       "      <td id=\"T_e42e5_row14_col3\" class=\"data row14 col3\" >3.385827</td>\n",
       "    </tr>\n",
       "    <tr>\n",
       "      <td id=\"T_e42e5_row15_col0\" class=\"data row15 col0\" >16</td>\n",
       "      <td id=\"T_e42e5_row15_col1\" class=\"data row15 col1\" >Logan</td>\n",
       "      <td id=\"T_e42e5_row15_col2\" class=\"data row15 col2\" >Anderson</td>\n",
       "      <td id=\"T_e42e5_row15_col3\" class=\"data row15 col3\" >3.267045</td>\n",
       "    </tr>\n",
       "    <tr>\n",
       "      <td id=\"T_e42e5_row16_col0\" class=\"data row16 col0\" >17</td>\n",
       "      <td id=\"T_e42e5_row16_col1\" class=\"data row16 col1\" >Lucas</td>\n",
       "      <td id=\"T_e42e5_row16_col2\" class=\"data row16 col2\" >Foster</td>\n",
       "      <td id=\"T_e42e5_row16_col3\" class=\"data row16 col3\" >4.636591</td>\n",
       "    </tr>\n",
       "    <tr>\n",
       "      <td id=\"T_e42e5_row17_col0\" class=\"data row17 col0\" >18</td>\n",
       "      <td id=\"T_e42e5_row17_col1\" class=\"data row17 col1\" >Owen</td>\n",
       "      <td id=\"T_e42e5_row17_col2\" class=\"data row17 col2\" >Myers</td>\n",
       "      <td id=\"T_e42e5_row17_col3\" class=\"data row17 col3\" >5.037783</td>\n",
       "    </tr>\n",
       "  </tbody>\n",
       "</table>\n"
      ],
      "text/plain": [
       "<pandas.io.formats.style.Styler at 0x147f8a210>"
      ]
     },
     "execution_count": 355,
     "metadata": {},
     "output_type": "execute_result"
    }
   ],
   "source": [
    "#Load athlete details into dataframe\n",
    "PR=pd.DataFrame(ath)\n",
    "\n",
    "#Find the max Power values for each ID\n",
    "max_PR = final_table.groupby('ID')['power'].idxmax()\n",
    "max_power = final_table.loc[max_PR]\n",
    "\n",
    "#Merge max of Power values for each id to PWR dataframe\n",
    "pwr=PR.merge(max_power,on='ID')\n",
    "\n",
    "\n",
    "#Find Power to weight ratio that is power/weight\n",
    "pwr['PWR']=pwr['power']/pwr['Weight']\n",
    "\n",
    "#display every athlete's Power to weight ratio\n",
    "print(\"Max Power to Weight Ratio for each athlete:\")\n",
    "pwr[['ID','First Name','Last Name','PWR']].style.hide(axis='index')\n"
   ]
  },
  {
   "cell_type": "markdown",
   "id": "9d6a2c0f-ef16-4f7c-88c3-9b1d6e974178",
   "metadata": {},
   "source": [
    "## Qn2: Display athlete details, power to weight ratio and category-Low(<3.5),moderate(>=3.5 & <5),High(>=5)"
   ]
  },
  {
   "cell_type": "code",
   "execution_count": 357,
   "id": "7ee3b730-87e9-4000-805c-405fba41afac",
   "metadata": {},
   "outputs": [
    {
     "name": "stdout",
     "output_type": "stream",
     "text": [
      "Power To Weight Ratio Category:\n"
     ]
    },
    {
     "data": {
      "text/html": [
       "<style type=\"text/css\">\n",
       "</style>\n",
       "<table id=\"T_9b181\">\n",
       "  <thead>\n",
       "    <tr>\n",
       "      <th id=\"T_9b181_level0_col0\" class=\"col_heading level0 col0\" >ID</th>\n",
       "      <th id=\"T_9b181_level0_col1\" class=\"col_heading level0 col1\" >First Name</th>\n",
       "      <th id=\"T_9b181_level0_col2\" class=\"col_heading level0 col2\" >Last Name</th>\n",
       "      <th id=\"T_9b181_level0_col3\" class=\"col_heading level0 col3\" >PWR</th>\n",
       "      <th id=\"T_9b181_level0_col4\" class=\"col_heading level0 col4\" >PWR_Category</th>\n",
       "    </tr>\n",
       "  </thead>\n",
       "  <tbody>\n",
       "    <tr>\n",
       "      <td id=\"T_9b181_row0_col0\" class=\"data row0 col0\" >1</td>\n",
       "      <td id=\"T_9b181_row0_col1\" class=\"data row0 col1\" >Olivia</td>\n",
       "      <td id=\"T_9b181_row0_col2\" class=\"data row0 col2\" >Martinez</td>\n",
       "      <td id=\"T_9b181_row0_col3\" class=\"data row0 col3\" >3.165736</td>\n",
       "      <td id=\"T_9b181_row0_col4\" class=\"data row0 col4\" >Low</td>\n",
       "    </tr>\n",
       "    <tr>\n",
       "      <td id=\"T_9b181_row1_col0\" class=\"data row1 col0\" >2</td>\n",
       "      <td id=\"T_9b181_row1_col1\" class=\"data row1 col1\" >Ethan</td>\n",
       "      <td id=\"T_9b181_row1_col2\" class=\"data row1 col2\" >Reynolds</td>\n",
       "      <td id=\"T_9b181_row1_col3\" class=\"data row1 col3\" >2.491103</td>\n",
       "      <td id=\"T_9b181_row1_col4\" class=\"data row1 col4\" >Low</td>\n",
       "    </tr>\n",
       "    <tr>\n",
       "      <td id=\"T_9b181_row2_col0\" class=\"data row2 col0\" >3</td>\n",
       "      <td id=\"T_9b181_row2_col1\" class=\"data row2 col1\" >Jackson</td>\n",
       "      <td id=\"T_9b181_row2_col2\" class=\"data row2 col2\" >Harper</td>\n",
       "      <td id=\"T_9b181_row2_col3\" class=\"data row2 col3\" >3.392659</td>\n",
       "      <td id=\"T_9b181_row2_col4\" class=\"data row2 col4\" >Low</td>\n",
       "    </tr>\n",
       "    <tr>\n",
       "      <td id=\"T_9b181_row3_col0\" class=\"data row3 col0\" >4</td>\n",
       "      <td id=\"T_9b181_row3_col1\" class=\"data row3 col1\" >Liam</td>\n",
       "      <td id=\"T_9b181_row3_col2\" class=\"data row3 col2\" >Sanchez</td>\n",
       "      <td id=\"T_9b181_row3_col3\" class=\"data row3 col3\" >3.986928</td>\n",
       "      <td id=\"T_9b181_row3_col4\" class=\"data row3 col4\" >Moderate</td>\n",
       "    </tr>\n",
       "    <tr>\n",
       "      <td id=\"T_9b181_row4_col0\" class=\"data row4 col0\" >5</td>\n",
       "      <td id=\"T_9b181_row4_col1\" class=\"data row4 col1\" >Ava</td>\n",
       "      <td id=\"T_9b181_row4_col2\" class=\"data row4 col2\" >Thompson</td>\n",
       "      <td id=\"T_9b181_row4_col3\" class=\"data row4 col3\" >3.599476</td>\n",
       "      <td id=\"T_9b181_row4_col4\" class=\"data row4 col4\" >Moderate</td>\n",
       "    </tr>\n",
       "    <tr>\n",
       "      <td id=\"T_9b181_row5_col0\" class=\"data row5 col0\" >6</td>\n",
       "      <td id=\"T_9b181_row5_col1\" class=\"data row5 col1\" >Sophia</td>\n",
       "      <td id=\"T_9b181_row5_col2\" class=\"data row5 col2\" >Rodriguez</td>\n",
       "      <td id=\"T_9b181_row5_col3\" class=\"data row5 col3\" >3.734756</td>\n",
       "      <td id=\"T_9b181_row5_col4\" class=\"data row5 col4\" >Moderate</td>\n",
       "    </tr>\n",
       "    <tr>\n",
       "      <td id=\"T_9b181_row6_col0\" class=\"data row6 col0\" >7</td>\n",
       "      <td id=\"T_9b181_row6_col1\" class=\"data row6 col1\" >Grace</td>\n",
       "      <td id=\"T_9b181_row6_col2\" class=\"data row6 col2\" >Simmons</td>\n",
       "      <td id=\"T_9b181_row6_col3\" class=\"data row6 col3\" >3.413655</td>\n",
       "      <td id=\"T_9b181_row6_col4\" class=\"data row6 col4\" >Low</td>\n",
       "    </tr>\n",
       "    <tr>\n",
       "      <td id=\"T_9b181_row7_col0\" class=\"data row7 col0\" >8</td>\n",
       "      <td id=\"T_9b181_row7_col1\" class=\"data row7 col1\" >Aiden</td>\n",
       "      <td id=\"T_9b181_row7_col2\" class=\"data row7 col2\" >Bennett</td>\n",
       "      <td id=\"T_9b181_row7_col3\" class=\"data row7 col3\" >3.320312</td>\n",
       "      <td id=\"T_9b181_row7_col4\" class=\"data row7 col4\" >Low</td>\n",
       "    </tr>\n",
       "    <tr>\n",
       "      <td id=\"T_9b181_row8_col0\" class=\"data row8 col0\" >9</td>\n",
       "      <td id=\"T_9b181_row8_col1\" class=\"data row8 col1\" >Chloe</td>\n",
       "      <td id=\"T_9b181_row8_col2\" class=\"data row8 col2\" >Price</td>\n",
       "      <td id=\"T_9b181_row8_col3\" class=\"data row8 col3\" >3.502627</td>\n",
       "      <td id=\"T_9b181_row8_col4\" class=\"data row8 col4\" >Moderate</td>\n",
       "    </tr>\n",
       "    <tr>\n",
       "      <td id=\"T_9b181_row9_col0\" class=\"data row9 col0\" >10</td>\n",
       "      <td id=\"T_9b181_row9_col1\" class=\"data row9 col1\" >Lily</td>\n",
       "      <td id=\"T_9b181_row9_col2\" class=\"data row9 col2\" >Jordan</td>\n",
       "      <td id=\"T_9b181_row9_col3\" class=\"data row9 col3\" >3.401361</td>\n",
       "      <td id=\"T_9b181_row9_col4\" class=\"data row9 col4\" >Low</td>\n",
       "    </tr>\n",
       "    <tr>\n",
       "      <td id=\"T_9b181_row10_col0\" class=\"data row10 col0\" >11</td>\n",
       "      <td id=\"T_9b181_row10_col1\" class=\"data row10 col1\" >Isabella</td>\n",
       "      <td id=\"T_9b181_row10_col2\" class=\"data row10 col2\" >Griffin</td>\n",
       "      <td id=\"T_9b181_row10_col3\" class=\"data row10 col3\" >3.950472</td>\n",
       "      <td id=\"T_9b181_row10_col4\" class=\"data row10 col4\" >Moderate</td>\n",
       "    </tr>\n",
       "    <tr>\n",
       "      <td id=\"T_9b181_row11_col0\" class=\"data row11 col0\" >12</td>\n",
       "      <td id=\"T_9b181_row11_col1\" class=\"data row11 col1\" >Caleb</td>\n",
       "      <td id=\"T_9b181_row11_col2\" class=\"data row11 col2\" >Dixon</td>\n",
       "      <td id=\"T_9b181_row11_col3\" class=\"data row11 col3\" >3.546512</td>\n",
       "      <td id=\"T_9b181_row11_col4\" class=\"data row11 col4\" >Moderate</td>\n",
       "    </tr>\n",
       "    <tr>\n",
       "      <td id=\"T_9b181_row12_col0\" class=\"data row12 col0\" >13</td>\n",
       "      <td id=\"T_9b181_row12_col1\" class=\"data row12 col1\" >Mia</td>\n",
       "      <td id=\"T_9b181_row12_col2\" class=\"data row12 col2\" >Carpenter</td>\n",
       "      <td id=\"T_9b181_row12_col3\" class=\"data row12 col3\" >3.814064</td>\n",
       "      <td id=\"T_9b181_row12_col4\" class=\"data row12 col4\" >Moderate</td>\n",
       "    </tr>\n",
       "    <tr>\n",
       "      <td id=\"T_9b181_row13_col0\" class=\"data row13 col0\" >14</td>\n",
       "      <td id=\"T_9b181_row13_col1\" class=\"data row13 col1\" >Harper</td>\n",
       "      <td id=\"T_9b181_row13_col2\" class=\"data row13 col2\" >Mitchell</td>\n",
       "      <td id=\"T_9b181_row13_col3\" class=\"data row13 col3\" >3.691814</td>\n",
       "      <td id=\"T_9b181_row13_col4\" class=\"data row13 col4\" >Moderate</td>\n",
       "    </tr>\n",
       "    <tr>\n",
       "      <td id=\"T_9b181_row14_col0\" class=\"data row14 col0\" >15</td>\n",
       "      <td id=\"T_9b181_row14_col1\" class=\"data row14 col1\" >Mason</td>\n",
       "      <td id=\"T_9b181_row14_col2\" class=\"data row14 col2\" >Wallace</td>\n",
       "      <td id=\"T_9b181_row14_col3\" class=\"data row14 col3\" >3.385827</td>\n",
       "      <td id=\"T_9b181_row14_col4\" class=\"data row14 col4\" >Low</td>\n",
       "    </tr>\n",
       "    <tr>\n",
       "      <td id=\"T_9b181_row15_col0\" class=\"data row15 col0\" >16</td>\n",
       "      <td id=\"T_9b181_row15_col1\" class=\"data row15 col1\" >Logan</td>\n",
       "      <td id=\"T_9b181_row15_col2\" class=\"data row15 col2\" >Anderson</td>\n",
       "      <td id=\"T_9b181_row15_col3\" class=\"data row15 col3\" >3.267045</td>\n",
       "      <td id=\"T_9b181_row15_col4\" class=\"data row15 col4\" >Low</td>\n",
       "    </tr>\n",
       "    <tr>\n",
       "      <td id=\"T_9b181_row16_col0\" class=\"data row16 col0\" >17</td>\n",
       "      <td id=\"T_9b181_row16_col1\" class=\"data row16 col1\" >Lucas</td>\n",
       "      <td id=\"T_9b181_row16_col2\" class=\"data row16 col2\" >Foster</td>\n",
       "      <td id=\"T_9b181_row16_col3\" class=\"data row16 col3\" >4.636591</td>\n",
       "      <td id=\"T_9b181_row16_col4\" class=\"data row16 col4\" >Moderate</td>\n",
       "    </tr>\n",
       "    <tr>\n",
       "      <td id=\"T_9b181_row17_col0\" class=\"data row17 col0\" >18</td>\n",
       "      <td id=\"T_9b181_row17_col1\" class=\"data row17 col1\" >Owen</td>\n",
       "      <td id=\"T_9b181_row17_col2\" class=\"data row17 col2\" >Myers</td>\n",
       "      <td id=\"T_9b181_row17_col3\" class=\"data row17 col3\" >5.037783</td>\n",
       "      <td id=\"T_9b181_row17_col4\" class=\"data row17 col4\" >High</td>\n",
       "    </tr>\n",
       "  </tbody>\n",
       "</table>\n"
      ],
      "text/plain": [
       "<pandas.io.formats.style.Styler at 0x1467ef7d0>"
      ]
     },
     "execution_count": 357,
     "metadata": {},
     "output_type": "execute_result"
    }
   ],
   "source": [
    "#Define PWR category-low,Moderate,High \n",
    "pwr['PWR_Category']='Low'\n",
    "pwr.loc[(pwr['PWR']>=3.5)&(pwr['PWR']<5),'PWR_Category']='Moderate'\n",
    "pwr.loc[(pwr['PWR']>=5),'PWR_Category']='High'\n",
    "\n",
    "#Print PWR Category for each athlete \n",
    "print(\"Power To Weight Ratio Category:\")\n",
    "pwr[['ID','First Name','Last Name','PWR','PWR_Category']].style.hide(axis='index')"
   ]
  },
  {
   "cell_type": "markdown",
   "id": "768660e0-7f8d-4afd-9b89-3c5a3399e665",
   "metadata": {},
   "source": [
    "## Qn3: Find the count of athletes in each ethinicity and display a funnel chart"
   ]
  },
  {
   "cell_type": "code",
   "execution_count": 359,
   "id": "95b98783-ee3f-4d10-91de-373c7aecf07c",
   "metadata": {},
   "outputs": [
    {
     "name": "stdout",
     "output_type": "stream",
     "text": [
      "  Ethnicity  Count\n",
      "0   African      6\n",
      "1     White      6\n",
      "2    Latino      4\n",
      "3     Asian      2\n"
     ]
    },
    {
     "data": {
      "application/vnd.plotly.v1+json": {
       "config": {
        "plotlyServerURL": "https://plot.ly"
       },
       "data": [
        {
         "hovertemplate": "Count=%{x}<br>Ethnicity=%{y}<extra></extra>",
         "legendgroup": "",
         "marker": {
          "color": "#636efa"
         },
         "name": "",
         "orientation": "h",
         "showlegend": false,
         "type": "funnel",
         "x": [
          6,
          6,
          4,
          2
         ],
         "xaxis": "x",
         "y": [
          "African",
          "White",
          "Latino",
          "Asian"
         ],
         "yaxis": "y"
        }
       ],
       "layout": {
        "autosize": true,
        "legend": {
         "tracegroupgap": 0
        },
        "template": {
         "data": {
          "bar": [
           {
            "error_x": {
             "color": "#2a3f5f"
            },
            "error_y": {
             "color": "#2a3f5f"
            },
            "marker": {
             "line": {
              "color": "#E5ECF6",
              "width": 0.5
             },
             "pattern": {
              "fillmode": "overlay",
              "size": 10,
              "solidity": 0.2
             }
            },
            "type": "bar"
           }
          ],
          "barpolar": [
           {
            "marker": {
             "line": {
              "color": "#E5ECF6",
              "width": 0.5
             },
             "pattern": {
              "fillmode": "overlay",
              "size": 10,
              "solidity": 0.2
             }
            },
            "type": "barpolar"
           }
          ],
          "carpet": [
           {
            "aaxis": {
             "endlinecolor": "#2a3f5f",
             "gridcolor": "white",
             "linecolor": "white",
             "minorgridcolor": "white",
             "startlinecolor": "#2a3f5f"
            },
            "baxis": {
             "endlinecolor": "#2a3f5f",
             "gridcolor": "white",
             "linecolor": "white",
             "minorgridcolor": "white",
             "startlinecolor": "#2a3f5f"
            },
            "type": "carpet"
           }
          ],
          "choropleth": [
           {
            "colorbar": {
             "outlinewidth": 0,
             "ticks": ""
            },
            "type": "choropleth"
           }
          ],
          "contour": [
           {
            "colorbar": {
             "outlinewidth": 0,
             "ticks": ""
            },
            "colorscale": [
             [
              0,
              "#0d0887"
             ],
             [
              0.1111111111111111,
              "#46039f"
             ],
             [
              0.2222222222222222,
              "#7201a8"
             ],
             [
              0.3333333333333333,
              "#9c179e"
             ],
             [
              0.4444444444444444,
              "#bd3786"
             ],
             [
              0.5555555555555556,
              "#d8576b"
             ],
             [
              0.6666666666666666,
              "#ed7953"
             ],
             [
              0.7777777777777778,
              "#fb9f3a"
             ],
             [
              0.8888888888888888,
              "#fdca26"
             ],
             [
              1,
              "#f0f921"
             ]
            ],
            "type": "contour"
           }
          ],
          "contourcarpet": [
           {
            "colorbar": {
             "outlinewidth": 0,
             "ticks": ""
            },
            "type": "contourcarpet"
           }
          ],
          "heatmap": [
           {
            "colorbar": {
             "outlinewidth": 0,
             "ticks": ""
            },
            "colorscale": [
             [
              0,
              "#0d0887"
             ],
             [
              0.1111111111111111,
              "#46039f"
             ],
             [
              0.2222222222222222,
              "#7201a8"
             ],
             [
              0.3333333333333333,
              "#9c179e"
             ],
             [
              0.4444444444444444,
              "#bd3786"
             ],
             [
              0.5555555555555556,
              "#d8576b"
             ],
             [
              0.6666666666666666,
              "#ed7953"
             ],
             [
              0.7777777777777778,
              "#fb9f3a"
             ],
             [
              0.8888888888888888,
              "#fdca26"
             ],
             [
              1,
              "#f0f921"
             ]
            ],
            "type": "heatmap"
           }
          ],
          "heatmapgl": [
           {
            "colorbar": {
             "outlinewidth": 0,
             "ticks": ""
            },
            "colorscale": [
             [
              0,
              "#0d0887"
             ],
             [
              0.1111111111111111,
              "#46039f"
             ],
             [
              0.2222222222222222,
              "#7201a8"
             ],
             [
              0.3333333333333333,
              "#9c179e"
             ],
             [
              0.4444444444444444,
              "#bd3786"
             ],
             [
              0.5555555555555556,
              "#d8576b"
             ],
             [
              0.6666666666666666,
              "#ed7953"
             ],
             [
              0.7777777777777778,
              "#fb9f3a"
             ],
             [
              0.8888888888888888,
              "#fdca26"
             ],
             [
              1,
              "#f0f921"
             ]
            ],
            "type": "heatmapgl"
           }
          ],
          "histogram": [
           {
            "marker": {
             "pattern": {
              "fillmode": "overlay",
              "size": 10,
              "solidity": 0.2
             }
            },
            "type": "histogram"
           }
          ],
          "histogram2d": [
           {
            "colorbar": {
             "outlinewidth": 0,
             "ticks": ""
            },
            "colorscale": [
             [
              0,
              "#0d0887"
             ],
             [
              0.1111111111111111,
              "#46039f"
             ],
             [
              0.2222222222222222,
              "#7201a8"
             ],
             [
              0.3333333333333333,
              "#9c179e"
             ],
             [
              0.4444444444444444,
              "#bd3786"
             ],
             [
              0.5555555555555556,
              "#d8576b"
             ],
             [
              0.6666666666666666,
              "#ed7953"
             ],
             [
              0.7777777777777778,
              "#fb9f3a"
             ],
             [
              0.8888888888888888,
              "#fdca26"
             ],
             [
              1,
              "#f0f921"
             ]
            ],
            "type": "histogram2d"
           }
          ],
          "histogram2dcontour": [
           {
            "colorbar": {
             "outlinewidth": 0,
             "ticks": ""
            },
            "colorscale": [
             [
              0,
              "#0d0887"
             ],
             [
              0.1111111111111111,
              "#46039f"
             ],
             [
              0.2222222222222222,
              "#7201a8"
             ],
             [
              0.3333333333333333,
              "#9c179e"
             ],
             [
              0.4444444444444444,
              "#bd3786"
             ],
             [
              0.5555555555555556,
              "#d8576b"
             ],
             [
              0.6666666666666666,
              "#ed7953"
             ],
             [
              0.7777777777777778,
              "#fb9f3a"
             ],
             [
              0.8888888888888888,
              "#fdca26"
             ],
             [
              1,
              "#f0f921"
             ]
            ],
            "type": "histogram2dcontour"
           }
          ],
          "mesh3d": [
           {
            "colorbar": {
             "outlinewidth": 0,
             "ticks": ""
            },
            "type": "mesh3d"
           }
          ],
          "parcoords": [
           {
            "line": {
             "colorbar": {
              "outlinewidth": 0,
              "ticks": ""
             }
            },
            "type": "parcoords"
           }
          ],
          "pie": [
           {
            "automargin": true,
            "type": "pie"
           }
          ],
          "scatter": [
           {
            "fillpattern": {
             "fillmode": "overlay",
             "size": 10,
             "solidity": 0.2
            },
            "type": "scatter"
           }
          ],
          "scatter3d": [
           {
            "line": {
             "colorbar": {
              "outlinewidth": 0,
              "ticks": ""
             }
            },
            "marker": {
             "colorbar": {
              "outlinewidth": 0,
              "ticks": ""
             }
            },
            "type": "scatter3d"
           }
          ],
          "scattercarpet": [
           {
            "marker": {
             "colorbar": {
              "outlinewidth": 0,
              "ticks": ""
             }
            },
            "type": "scattercarpet"
           }
          ],
          "scattergeo": [
           {
            "marker": {
             "colorbar": {
              "outlinewidth": 0,
              "ticks": ""
             }
            },
            "type": "scattergeo"
           }
          ],
          "scattergl": [
           {
            "marker": {
             "colorbar": {
              "outlinewidth": 0,
              "ticks": ""
             }
            },
            "type": "scattergl"
           }
          ],
          "scattermapbox": [
           {
            "marker": {
             "colorbar": {
              "outlinewidth": 0,
              "ticks": ""
             }
            },
            "type": "scattermapbox"
           }
          ],
          "scatterpolar": [
           {
            "marker": {
             "colorbar": {
              "outlinewidth": 0,
              "ticks": ""
             }
            },
            "type": "scatterpolar"
           }
          ],
          "scatterpolargl": [
           {
            "marker": {
             "colorbar": {
              "outlinewidth": 0,
              "ticks": ""
             }
            },
            "type": "scatterpolargl"
           }
          ],
          "scatterternary": [
           {
            "marker": {
             "colorbar": {
              "outlinewidth": 0,
              "ticks": ""
             }
            },
            "type": "scatterternary"
           }
          ],
          "surface": [
           {
            "colorbar": {
             "outlinewidth": 0,
             "ticks": ""
            },
            "colorscale": [
             [
              0,
              "#0d0887"
             ],
             [
              0.1111111111111111,
              "#46039f"
             ],
             [
              0.2222222222222222,
              "#7201a8"
             ],
             [
              0.3333333333333333,
              "#9c179e"
             ],
             [
              0.4444444444444444,
              "#bd3786"
             ],
             [
              0.5555555555555556,
              "#d8576b"
             ],
             [
              0.6666666666666666,
              "#ed7953"
             ],
             [
              0.7777777777777778,
              "#fb9f3a"
             ],
             [
              0.8888888888888888,
              "#fdca26"
             ],
             [
              1,
              "#f0f921"
             ]
            ],
            "type": "surface"
           }
          ],
          "table": [
           {
            "cells": {
             "fill": {
              "color": "#EBF0F8"
             },
             "line": {
              "color": "white"
             }
            },
            "header": {
             "fill": {
              "color": "#C8D4E3"
             },
             "line": {
              "color": "white"
             }
            },
            "type": "table"
           }
          ]
         },
         "layout": {
          "annotationdefaults": {
           "arrowcolor": "#2a3f5f",
           "arrowhead": 0,
           "arrowwidth": 1
          },
          "autotypenumbers": "strict",
          "coloraxis": {
           "colorbar": {
            "outlinewidth": 0,
            "ticks": ""
           }
          },
          "colorscale": {
           "diverging": [
            [
             0,
             "#8e0152"
            ],
            [
             0.1,
             "#c51b7d"
            ],
            [
             0.2,
             "#de77ae"
            ],
            [
             0.3,
             "#f1b6da"
            ],
            [
             0.4,
             "#fde0ef"
            ],
            [
             0.5,
             "#f7f7f7"
            ],
            [
             0.6,
             "#e6f5d0"
            ],
            [
             0.7,
             "#b8e186"
            ],
            [
             0.8,
             "#7fbc41"
            ],
            [
             0.9,
             "#4d9221"
            ],
            [
             1,
             "#276419"
            ]
           ],
           "sequential": [
            [
             0,
             "#0d0887"
            ],
            [
             0.1111111111111111,
             "#46039f"
            ],
            [
             0.2222222222222222,
             "#7201a8"
            ],
            [
             0.3333333333333333,
             "#9c179e"
            ],
            [
             0.4444444444444444,
             "#bd3786"
            ],
            [
             0.5555555555555556,
             "#d8576b"
            ],
            [
             0.6666666666666666,
             "#ed7953"
            ],
            [
             0.7777777777777778,
             "#fb9f3a"
            ],
            [
             0.8888888888888888,
             "#fdca26"
            ],
            [
             1,
             "#f0f921"
            ]
           ],
           "sequentialminus": [
            [
             0,
             "#0d0887"
            ],
            [
             0.1111111111111111,
             "#46039f"
            ],
            [
             0.2222222222222222,
             "#7201a8"
            ],
            [
             0.3333333333333333,
             "#9c179e"
            ],
            [
             0.4444444444444444,
             "#bd3786"
            ],
            [
             0.5555555555555556,
             "#d8576b"
            ],
            [
             0.6666666666666666,
             "#ed7953"
            ],
            [
             0.7777777777777778,
             "#fb9f3a"
            ],
            [
             0.8888888888888888,
             "#fdca26"
            ],
            [
             1,
             "#f0f921"
            ]
           ]
          },
          "colorway": [
           "#636efa",
           "#EF553B",
           "#00cc96",
           "#ab63fa",
           "#FFA15A",
           "#19d3f3",
           "#FF6692",
           "#B6E880",
           "#FF97FF",
           "#FECB52"
          ],
          "font": {
           "color": "#2a3f5f"
          },
          "geo": {
           "bgcolor": "white",
           "lakecolor": "white",
           "landcolor": "#E5ECF6",
           "showlakes": true,
           "showland": true,
           "subunitcolor": "white"
          },
          "hoverlabel": {
           "align": "left"
          },
          "hovermode": "closest",
          "mapbox": {
           "style": "light"
          },
          "paper_bgcolor": "white",
          "plot_bgcolor": "#E5ECF6",
          "polar": {
           "angularaxis": {
            "gridcolor": "white",
            "linecolor": "white",
            "ticks": ""
           },
           "bgcolor": "#E5ECF6",
           "radialaxis": {
            "gridcolor": "white",
            "linecolor": "white",
            "ticks": ""
           }
          },
          "scene": {
           "xaxis": {
            "backgroundcolor": "#E5ECF6",
            "gridcolor": "white",
            "gridwidth": 2,
            "linecolor": "white",
            "showbackground": true,
            "ticks": "",
            "zerolinecolor": "white"
           },
           "yaxis": {
            "backgroundcolor": "#E5ECF6",
            "gridcolor": "white",
            "gridwidth": 2,
            "linecolor": "white",
            "showbackground": true,
            "ticks": "",
            "zerolinecolor": "white"
           },
           "zaxis": {
            "backgroundcolor": "#E5ECF6",
            "gridcolor": "white",
            "gridwidth": 2,
            "linecolor": "white",
            "showbackground": true,
            "ticks": "",
            "zerolinecolor": "white"
           }
          },
          "shapedefaults": {
           "line": {
            "color": "#2a3f5f"
           }
          },
          "ternary": {
           "aaxis": {
            "gridcolor": "white",
            "linecolor": "white",
            "ticks": ""
           },
           "baxis": {
            "gridcolor": "white",
            "linecolor": "white",
            "ticks": ""
           },
           "bgcolor": "#E5ECF6",
           "caxis": {
            "gridcolor": "white",
            "linecolor": "white",
            "ticks": ""
           }
          },
          "title": {
           "x": 0.05
          },
          "xaxis": {
           "automargin": true,
           "gridcolor": "white",
           "linecolor": "white",
           "ticks": "",
           "title": {
            "standoff": 15
           },
           "zerolinecolor": "white",
           "zerolinewidth": 2
          },
          "yaxis": {
           "automargin": true,
           "gridcolor": "white",
           "linecolor": "white",
           "ticks": "",
           "title": {
            "standoff": 15
           },
           "zerolinecolor": "white",
           "zerolinewidth": 2
          }
         }
        },
        "title": {
         "font": {
          "size": 20
         },
         "text": "Athlete Count By Ethnicity",
         "x": 0.5
        },
        "xaxis": {
         "anchor": "y",
         "autorange": true,
         "domain": [
          0,
          1
         ],
         "range": [
          -3.3333333333333335,
          3.3333333333333335
         ],
         "title": {
          "text": "Count"
         },
         "type": "linear"
        },
        "yaxis": {
         "anchor": "x",
         "autorange": true,
         "domain": [
          0,
          1
         ],
         "range": [
          3.5,
          -0.5
         ],
         "title": {
          "text": "Ethnicity"
         },
         "type": "category"
        }
       }
      },
      "image/png": "[encoded data removed]",
      "text/html": [
       "<div>                            <div id=\"dd1c67bd-7c35-4424-9706-13318bc8684e\" class=\"plotly-graph-div\" style=\"height:525px; width:100%;\"></div>            <script type=\"text/javascript\">                require([\"plotly\"], function(Plotly) {                    window.PLOTLYENV=window.PLOTLYENV || {};                                    if (document.getElementById(\"dd1c67bd-7c35-4424-9706-13318bc8684e\")) {                    Plotly.newPlot(                        \"dd1c67bd-7c35-4424-9706-13318bc8684e\",                        [{\"hovertemplate\":\"Count=%{x}<br>Ethnicity=%{y}<extra></extra>\",\"legendgroup\":\"\",\"marker\":{\"color\":\"#636efa\"},\"name\":\"\",\"orientation\":\"h\",\"showlegend\":false,\"x\":[6,6,4,2],\"xaxis\":\"x\",\"y\":[\"African\",\"White\",\"Latino\",\"Asian\"],\"yaxis\":\"y\",\"type\":\"funnel\"}],                        {\"template\":{\"data\":{\"histogram2dcontour\":[{\"type\":\"histogram2dcontour\",\"colorbar\":{\"outlinewidth\":0,\"ticks\":\"\"},\"colorscale\":[[0.0,\"#0d0887\"],[0.1111111111111111,\"#46039f\"],[0.2222222222222222,\"#7201a8\"],[0.3333333333333333,\"#9c179e\"],[0.4444444444444444,\"#bd3786\"],[0.5555555555555556,\"#d8576b\"],[0.6666666666666666,\"#ed7953\"],[0.7777777777777778,\"#fb9f3a\"],[0.8888888888888888,\"#fdca26\"],[1.0,\"#f0f921\"]]}],\"choropleth\":[{\"type\":\"choropleth\",\"colorbar\":{\"outlinewidth\":0,\"ticks\":\"\"}}],\"histogram2d\":[{\"type\":\"histogram2d\",\"colorbar\":{\"outlinewidth\":0,\"ticks\":\"\"},\"colorscale\":[[0.0,\"#0d0887\"],[0.1111111111111111,\"#46039f\"],[0.2222222222222222,\"#7201a8\"],[0.3333333333333333,\"#9c179e\"],[0.4444444444444444,\"#bd3786\"],[0.5555555555555556,\"#d8576b\"],[0.6666666666666666,\"#ed7953\"],[0.7777777777777778,\"#fb9f3a\"],[0.8888888888888888,\"#fdca26\"],[1.0,\"#f0f921\"]]}],\"heatmap\":[{\"type\":\"heatmap\",\"colorbar\":{\"outlinewidth\":0,\"ticks\":\"\"},\"colorscale\":[[0.0,\"#0d0887\"],[0.1111111111111111,\"#46039f\"],[0.2222222222222222,\"#7201a8\"],[0.3333333333333333,\"#9c179e\"],[0.4444444444444444,\"#bd3786\"],[0.5555555555555556,\"#d8576b\"],[0.6666666666666666,\"#ed7953\"],[0.7777777777777778,\"#fb9f3a\"],[0.8888888888888888,\"#fdca26\"],[1.0,\"#f0f921\"]]}],\"heatmapgl\":[{\"type\":\"heatmapgl\",\"colorbar\":{\"outlinewidth\":0,\"ticks\":\"\"},\"colorscale\":[[0.0,\"#0d0887\"],[0.1111111111111111,\"#46039f\"],[0.2222222222222222,\"#7201a8\"],[0.3333333333333333,\"#9c179e\"],[0.4444444444444444,\"#bd3786\"],[0.5555555555555556,\"#d8576b\"],[0.6666666666666666,\"#ed7953\"],[0.7777777777777778,\"#fb9f3a\"],[0.8888888888888888,\"#fdca26\"],[1.0,\"#f0f921\"]]}],\"contourcarpet\":[{\"type\":\"contourcarpet\",\"colorbar\":{\"outlinewidth\":0,\"ticks\":\"\"}}],\"contour\":[{\"type\":\"contour\",\"colorbar\":{\"outlinewidth\":0,\"ticks\":\"\"},\"colorscale\":[[0.0,\"#0d0887\"],[0.1111111111111111,\"#46039f\"],[0.2222222222222222,\"#7201a8\"],[0.3333333333333333,\"#9c179e\"],[0.4444444444444444,\"#bd3786\"],[0.5555555555555556,\"#d8576b\"],[0.6666666666666666,\"#ed7953\"],[0.7777777777777778,\"#fb9f3a\"],[0.8888888888888888,\"#fdca26\"],[1.0,\"#f0f921\"]]}],\"surface\":[{\"type\":\"surface\",\"colorbar\":{\"outlinewidth\":0,\"ticks\":\"\"},\"colorscale\":[[0.0,\"#0d0887\"],[0.1111111111111111,\"#46039f\"],[0.2222222222222222,\"#7201a8\"],[0.3333333333333333,\"#9c179e\"],[0.4444444444444444,\"#bd3786\"],[0.5555555555555556,\"#d8576b\"],[0.6666666666666666,\"#ed7953\"],[0.7777777777777778,\"#fb9f3a\"],[0.8888888888888888,\"#fdca26\"],[1.0,\"#f0f921\"]]}],\"mesh3d\":[{\"type\":\"mesh3d\",\"colorbar\":{\"outlinewidth\":0,\"ticks\":\"\"}}],\"scatter\":[{\"fillpattern\":{\"fillmode\":\"overlay\",\"size\":10,\"solidity\":0.2},\"type\":\"scatter\"}],\"parcoords\":[{\"type\":\"parcoords\",\"line\":{\"colorbar\":{\"outlinewidth\":0,\"ticks\":\"\"}}}],\"scatterpolargl\":[{\"type\":\"scatterpolargl\",\"marker\":{\"colorbar\":{\"outlinewidth\":0,\"ticks\":\"\"}}}],\"bar\":[{\"error_x\":{\"color\":\"#2a3f5f\"},\"error_y\":{\"color\":\"#2a3f5f\"},\"marker\":{\"line\":{\"color\":\"#E5ECF6\",\"width\":0.5},\"pattern\":{\"fillmode\":\"overlay\",\"size\":10,\"solidity\":0.2}},\"type\":\"bar\"}],\"scattergeo\":[{\"type\":\"scattergeo\",\"marker\":{\"colorbar\":{\"outlinewidth\":0,\"ticks\":\"\"}}}],\"scatterpolar\":[{\"type\":\"scatterpolar\",\"marker\":{\"colorbar\":{\"outlinewidth\":0,\"ticks\":\"\"}}}],\"histogram\":[{\"marker\":{\"pattern\":{\"fillmode\":\"overlay\",\"size\":10,\"solidity\":0.2}},\"type\":\"histogram\"}],\"scattergl\":[{\"type\":\"scattergl\",\"marker\":{\"colorbar\":{\"outlinewidth\":0,\"ticks\":\"\"}}}],\"scatter3d\":[{\"type\":\"scatter3d\",\"line\":{\"colorbar\":{\"outlinewidth\":0,\"ticks\":\"\"}},\"marker\":{\"colorbar\":{\"outlinewidth\":0,\"ticks\":\"\"}}}],\"scattermapbox\":[{\"type\":\"scattermapbox\",\"marker\":{\"colorbar\":{\"outlinewidth\":0,\"ticks\":\"\"}}}],\"scatterternary\":[{\"type\":\"scatterternary\",\"marker\":{\"colorbar\":{\"outlinewidth\":0,\"ticks\":\"\"}}}],\"scattercarpet\":[{\"type\":\"scattercarpet\",\"marker\":{\"colorbar\":{\"outlinewidth\":0,\"ticks\":\"\"}}}],\"carpet\":[{\"aaxis\":{\"endlinecolor\":\"#2a3f5f\",\"gridcolor\":\"white\",\"linecolor\":\"white\",\"minorgridcolor\":\"white\",\"startlinecolor\":\"#2a3f5f\"},\"baxis\":{\"endlinecolor\":\"#2a3f5f\",\"gridcolor\":\"white\",\"linecolor\":\"white\",\"minorgridcolor\":\"white\",\"startlinecolor\":\"#2a3f5f\"},\"type\":\"carpet\"}],\"table\":[{\"cells\":{\"fill\":{\"color\":\"#EBF0F8\"},\"line\":{\"color\":\"white\"}},\"header\":{\"fill\":{\"color\":\"#C8D4E3\"},\"line\":{\"color\":\"white\"}},\"type\":\"table\"}],\"barpolar\":[{\"marker\":{\"line\":{\"color\":\"#E5ECF6\",\"width\":0.5},\"pattern\":{\"fillmode\":\"overlay\",\"size\":10,\"solidity\":0.2}},\"type\":\"barpolar\"}],\"pie\":[{\"automargin\":true,\"type\":\"pie\"}]},\"layout\":{\"autotypenumbers\":\"strict\",\"colorway\":[\"#636efa\",\"#EF553B\",\"#00cc96\",\"#ab63fa\",\"#FFA15A\",\"#19d3f3\",\"#FF6692\",\"#B6E880\",\"#FF97FF\",\"#FECB52\"],\"font\":{\"color\":\"#2a3f5f\"},\"hovermode\":\"closest\",\"hoverlabel\":{\"align\":\"left\"},\"paper_bgcolor\":\"white\",\"plot_bgcolor\":\"#E5ECF6\",\"polar\":{\"bgcolor\":\"#E5ECF6\",\"angularaxis\":{\"gridcolor\":\"white\",\"linecolor\":\"white\",\"ticks\":\"\"},\"radialaxis\":{\"gridcolor\":\"white\",\"linecolor\":\"white\",\"ticks\":\"\"}},\"ternary\":{\"bgcolor\":\"#E5ECF6\",\"aaxis\":{\"gridcolor\":\"white\",\"linecolor\":\"white\",\"ticks\":\"\"},\"baxis\":{\"gridcolor\":\"white\",\"linecolor\":\"white\",\"ticks\":\"\"},\"caxis\":{\"gridcolor\":\"white\",\"linecolor\":\"white\",\"ticks\":\"\"}},\"coloraxis\":{\"colorbar\":{\"outlinewidth\":0,\"ticks\":\"\"}},\"colorscale\":{\"sequential\":[[0.0,\"#0d0887\"],[0.1111111111111111,\"#46039f\"],[0.2222222222222222,\"#7201a8\"],[0.3333333333333333,\"#9c179e\"],[0.4444444444444444,\"#bd3786\"],[0.5555555555555556,\"#d8576b\"],[0.6666666666666666,\"#ed7953\"],[0.7777777777777778,\"#fb9f3a\"],[0.8888888888888888,\"#fdca26\"],[1.0,\"#f0f921\"]],\"sequentialminus\":[[0.0,\"#0d0887\"],[0.1111111111111111,\"#46039f\"],[0.2222222222222222,\"#7201a8\"],[0.3333333333333333,\"#9c179e\"],[0.4444444444444444,\"#bd3786\"],[0.5555555555555556,\"#d8576b\"],[0.6666666666666666,\"#ed7953\"],[0.7777777777777778,\"#fb9f3a\"],[0.8888888888888888,\"#fdca26\"],[1.0,\"#f0f921\"]],\"diverging\":[[0,\"#8e0152\"],[0.1,\"#c51b7d\"],[0.2,\"#de77ae\"],[0.3,\"#f1b6da\"],[0.4,\"#fde0ef\"],[0.5,\"#f7f7f7\"],[0.6,\"#e6f5d0\"],[0.7,\"#b8e186\"],[0.8,\"#7fbc41\"],[0.9,\"#4d9221\"],[1,\"#276419\"]]},\"xaxis\":{\"gridcolor\":\"white\",\"linecolor\":\"white\",\"ticks\":\"\",\"title\":{\"standoff\":15},\"zerolinecolor\":\"white\",\"automargin\":true,\"zerolinewidth\":2},\"yaxis\":{\"gridcolor\":\"white\",\"linecolor\":\"white\",\"ticks\":\"\",\"title\":{\"standoff\":15},\"zerolinecolor\":\"white\",\"automargin\":true,\"zerolinewidth\":2},\"scene\":{\"xaxis\":{\"backgroundcolor\":\"#E5ECF6\",\"gridcolor\":\"white\",\"linecolor\":\"white\",\"showbackground\":true,\"ticks\":\"\",\"zerolinecolor\":\"white\",\"gridwidth\":2},\"yaxis\":{\"backgroundcolor\":\"#E5ECF6\",\"gridcolor\":\"white\",\"linecolor\":\"white\",\"showbackground\":true,\"ticks\":\"\",\"zerolinecolor\":\"white\",\"gridwidth\":2},\"zaxis\":{\"backgroundcolor\":\"#E5ECF6\",\"gridcolor\":\"white\",\"linecolor\":\"white\",\"showbackground\":true,\"ticks\":\"\",\"zerolinecolor\":\"white\",\"gridwidth\":2}},\"shapedefaults\":{\"line\":{\"color\":\"#2a3f5f\"}},\"annotationdefaults\":{\"arrowcolor\":\"#2a3f5f\",\"arrowhead\":0,\"arrowwidth\":1},\"geo\":{\"bgcolor\":\"white\",\"landcolor\":\"#E5ECF6\",\"subunitcolor\":\"white\",\"showland\":true,\"showlakes\":true,\"lakecolor\":\"white\"},\"title\":{\"x\":0.05},\"mapbox\":{\"style\":\"light\"}}},\"xaxis\":{\"anchor\":\"y\",\"domain\":[0.0,1.0],\"title\":{\"text\":\"Count\"}},\"yaxis\":{\"anchor\":\"x\",\"domain\":[0.0,1.0],\"title\":{\"text\":\"Ethnicity\"}},\"legend\":{\"tracegroupgap\":0},\"title\":{\"text\":\"Athlete Count By Ethnicity\",\"font\":{\"size\":20},\"x\":0.5}},                        {\"responsive\": true}                    ).then(function(){\n",
       "                            \n",
       "var gd = document.getElementById('dd1c67bd-7c35-4424-9706-13318bc8684e');\n",
       "var x = new MutationObserver(function (mutations, observer) {{\n",
       "        var display = window.getComputedStyle(gd).display;\n",
       "        if (!display || display === 'none') {{\n",
       "            console.log([gd, 'removed!']);\n",
       "            Plotly.purge(gd);\n",
       "            observer.disconnect();\n",
       "        }}\n",
       "}});\n",
       "\n",
       "// Listen for the removal of the full notebook cells\n",
       "var notebookContainer = gd.closest('#notebook-container');\n",
       "if (notebookContainer) {{\n",
       "    x.observe(notebookContainer, {childList: true});\n",
       "}}\n",
       "\n",
       "// Listen for the clearing of the current output cell\n",
       "var outputEl = gd.closest('.output');\n",
       "if (outputEl) {{\n",
       "    x.observe(outputEl, {childList: true});\n",
       "}}\n",
       "\n",
       "                        })                };                });            </script>        </div>"
      ]
     },
     "metadata": {},
     "output_type": "display_data"
    }
   ],
   "source": [
    "#Count the no of athletes by ethnicity\n",
    "Count_Eth=ath.groupby('Ethnicity')['ID'].size().sort_values(ascending=False).reset_index(name='Count')\n",
    "\n",
    "#Print Count for each category\n",
    "print(Count_Eth)\n",
    "\n",
    "# Plot the Funnel Chart\n",
    "fig = px.funnel(Count_Eth,x= 'Count',y='Ethnicity',title = 'Athlete Count By Ethnicity')\n",
    "\n",
    "# Update the title font size and alignment\n",
    "fig.update_layout(title=dict(x=0.5, font=dict(size=20)))\n",
    "fig.show()"
   ]
  },
  {
   "cell_type": "markdown",
   "id": "e3ba2657-aa00-4f9d-9523-b0957ca7da83",
   "metadata": {},
   "source": [
    "## Qn 4:Find which gender has the maximum avg Max PWR and avg Max VO2."
   ]
  },
  {
   "cell_type": "code",
   "execution_count": 361,
   "id": "70c9b429-5c1d-4334-afc2-b6a5eeb880d1",
   "metadata": {},
   "outputs": [
    {
     "name": "stdout",
     "output_type": "stream",
     "text": [
      "   Gender   Max PWR    Max VO2\n",
      "0  Female  3.559427  62.449086\n",
      "1    Male  3.718056  71.147827\n",
      "\n",
      "Gender          Male\n",
      "Max PWR     3.718056\n",
      "Max VO2    71.147827\n",
      "Name: 1, dtype: object\n",
      "\n",
      "Gender with maximum Avg Max PWR and Avg Max VO2 : Male\n"
     ]
    }
   ],
   "source": [
    "#Find VO2ml/kg which is VO2ml/min divided by each athlete weight\n",
    "pwr['VO2ml/kg']=VO2ml['VO2']/pwr['Weight']\n",
    "\n",
    "#Calculate average MAX PWR gender wise\n",
    "Mean_gender=pwr.groupby('Gender')['PWR'].mean().reset_index(name='Max PWR')\n",
    "\n",
    "#Calculate average MAX VO2 gender wise\n",
    "Mean_gender1=pwr.groupby('Gender')['VO2ml/kg'].mean().reset_index(name='Max VO2')\n",
    "\n",
    "#Merge both average values\n",
    "Merge_Mean=Mean_gender.merge(Mean_gender1[['Gender','Max VO2']],on='Gender')\n",
    "\n",
    "#print the average values\n",
    "print(Merge_Mean)\n",
    "\n",
    "# Sort the merged DataFrame in descending order by Avg Max PWR and Avg Max VO2 and filter the first row\n",
    "Merge_Mean_sorted = Merge_Mean.sort_values(by=['Max PWR', 'Max VO2'], ascending=False).iloc[0]\n",
    "print(f\"\\n{Merge_Mean_sorted}\")\n",
    "\n",
    "#print the gender who has max VO2 and PWR\n",
    "print(f\"\\nGender with maximum Avg Max PWR and Avg Max VO2 : {Merge_Mean_sorted['Gender']}\")"
   ]
  },
  {
   "cell_type": "markdown",
   "id": "9f9162e8-e519-409c-9200-04daf99affa4",
   "metadata": {},
   "source": [
    "## Qn5:What is the average power-to-weight ratio for athletes across different ethnicity.Print the highest and lowest average PWR by ethnicity"
   ]
  },
  {
   "cell_type": "code",
   "execution_count": 363,
   "id": "54175cec-33fe-4a66-94a6-571b4db56999",
   "metadata": {},
   "outputs": [
    {
     "name": "stdout",
     "output_type": "stream",
     "text": [
      "  Ethnicity  Max PWR\n",
      "0   African     3.34\n",
      "1     Asian     3.75\n",
      "2    Latino     4.08\n",
      "3     White     3.57\n",
      "\n",
      "Ethnicity:Latino has the highest Power To Weight ratio - 4.08\n",
      "\n",
      "Ethnicity:African has the lowest Power To Weight ratio - 3.34\n"
     ]
    }
   ],
   "source": [
    "#Calculate average MAX PWR ethnicity wise\n",
    "Mean_Ethnicity=pwr.groupby('Ethnicity')['PWR'].mean().reset_index(name='Max PWR')\n",
    "\n",
    "# Round the Max PWR to 2 decimal places\n",
    "Mean_Ethnicity['Max PWR'] = Mean_Ethnicity['Max PWR'].round(2)\n",
    "\n",
    "# Print Mean PWR by ethnicity\n",
    "print(Mean_Ethnicity)\n",
    "\n",
    "#find the highest PWR values for ethnicity \n",
    "top_PWR = Mean_Ethnicity.nlargest(1, 'Max PWR')[['Ethnicity','Max PWR']].reset_index(drop=True)\n",
    "print(f\"\\nEthnicity:{top_PWR['Ethnicity'][0]} has the highest Power To Weight ratio - {top_PWR['Max PWR'][0]}\")\n",
    "\n",
    "#find the Lowest PWR values for ethnicity \n",
    "small_PWR = Mean_Ethnicity.nsmallest(1, 'Max PWR')[['Ethnicity','Max PWR']].reset_index(drop=True)\n",
    "print(f\"\\nEthnicity:{small_PWR['Ethnicity'][0]} has the lowest Power To Weight ratio - {small_PWR['Max PWR'][0]}\")"
   ]
  },
  {
   "cell_type": "markdown",
   "id": "43564745-ce47-4b10-833c-92d8b604e535",
   "metadata": {},
   "source": [
    "## Qn6: Using Sunburst chart display athlete sport,gender and Age Group¶"
   ]
  },
  {
   "cell_type": "code",
   "execution_count": 365,
   "id": "7c45fdb3-104b-4af5-b8dc-a97254af6d68",
   "metadata": {},
   "outputs": [
    {
     "data": {
      "application/vnd.plotly.v1+json": {
       "config": {
        "plotlyServerURL": "https://plot.ly"
       },
       "data": [
        {
         "branchvalues": "total",
         "domain": {
          "x": [
           0,
           1
          ],
          "y": [
           0,
           1
          ]
         },
         "hovertemplate": "labels=%{label}<br>count=%{value}<br>parent=%{parent}<br>id=%{id}<extra></extra>",
         "ids": [
          "triathlon/Male/12",
          "kayak/Female/13",
          "kayak/Male/13",
          "fencing/Female/14",
          "fencing/Female/15",
          "fencing/Male/15",
          "fencing/Male/16",
          "kayak/Male/16",
          "fencing/Female/17",
          "kayak/Female/18",
          "kayak/Male/18",
          "fencing/Female",
          "kayak/Female",
          "fencing/Male",
          "kayak/Male",
          "triathlon/Male",
          "fencing",
          "kayak",
          "triathlon"
         ],
         "labels": [
          "12",
          "13",
          "13",
          "14",
          "15",
          "15",
          "16",
          "16",
          "17",
          "18",
          "18",
          "Female",
          "Female",
          "Male",
          "Male",
          "Male",
          "fencing",
          "kayak",
          "triathlon"
         ],
         "maxdepth": 3,
         "name": "",
         "parents": [
          "triathlon/Male",
          "kayak/Female",
          "kayak/Male",
          "fencing/Female",
          "fencing/Female",
          "fencing/Male",
          "fencing/Male",
          "kayak/Male",
          "fencing/Female",
          "kayak/Female",
          "kayak/Male",
          "fencing",
          "kayak",
          "fencing",
          "kayak",
          "triathlon",
          "",
          "",
          ""
         ],
         "type": "sunburst",
         "values": [
          2,
          1,
          1,
          2,
          3,
          1,
          2,
          1,
          2,
          2,
          1,
          7,
          3,
          3,
          3,
          2,
          10,
          6,
          2
         ]
        }
       ],
       "layout": {
        "height": 800,
        "legend": {
         "tracegroupgap": 0
        },
        "margin": {
         "t": 60
        },
        "sunburstcolorway": [
         "#1F77B4",
         "#FF7F0E",
         "#2CA02C",
         "#D62728",
         "#9467BD",
         "#8C564B",
         "#E377C2",
         "#7F7F7F",
         "#BCBD22",
         "#17BECF"
        ],
        "template": {
         "data": {
          "bar": [
           {
            "error_x": {
             "color": "#2a3f5f"
            },
            "error_y": {
             "color": "#2a3f5f"
            },
            "marker": {
             "line": {
              "color": "#E5ECF6",
              "width": 0.5
             },
             "pattern": {
              "fillmode": "overlay",
              "size": 10,
              "solidity": 0.2
             }
            },
            "type": "bar"
           }
          ],
          "barpolar": [
           {
            "marker": {
             "line": {
              "color": "#E5ECF6",
              "width": 0.5
             },
             "pattern": {
              "fillmode": "overlay",
              "size": 10,
              "solidity": 0.2
             }
            },
            "type": "barpolar"
           }
          ],
          "carpet": [
           {
            "aaxis": {
             "endlinecolor": "#2a3f5f",
             "gridcolor": "white",
             "linecolor": "white",
             "minorgridcolor": "white",
             "startlinecolor": "#2a3f5f"
            },
            "baxis": {
             "endlinecolor": "#2a3f5f",
             "gridcolor": "white",
             "linecolor": "white",
             "minorgridcolor": "white",
             "startlinecolor": "#2a3f5f"
            },
            "type": "carpet"
           }
          ],
          "choropleth": [
           {
            "colorbar": {
             "outlinewidth": 0,
             "ticks": ""
            },
            "type": "choropleth"
           }
          ],
          "contour": [
           {
            "colorbar": {
             "outlinewidth": 0,
             "ticks": ""
            },
            "colorscale": [
             [
              0,
              "#0d0887"
             ],
             [
              0.1111111111111111,
              "#46039f"
             ],
             [
              0.2222222222222222,
              "#7201a8"
             ],
             [
              0.3333333333333333,
              "#9c179e"
             ],
             [
              0.4444444444444444,
              "#bd3786"
             ],
             [
              0.5555555555555556,
              "#d8576b"
             ],
             [
              0.6666666666666666,
              "#ed7953"
             ],
             [
              0.7777777777777778,
              "#fb9f3a"
             ],
             [
              0.8888888888888888,
              "#fdca26"
             ],
             [
              1,
              "#f0f921"
             ]
            ],
            "type": "contour"
           }
          ],
          "contourcarpet": [
           {
            "colorbar": {
             "outlinewidth": 0,
             "ticks": ""
            },
            "type": "contourcarpet"
           }
          ],
          "heatmap": [
           {
            "colorbar": {
             "outlinewidth": 0,
             "ticks": ""
            },
            "colorscale": [
             [
              0,
              "#0d0887"
             ],
             [
              0.1111111111111111,
              "#46039f"
             ],
             [
              0.2222222222222222,
              "#7201a8"
             ],
             [
              0.3333333333333333,
              "#9c179e"
             ],
             [
              0.4444444444444444,
              "#bd3786"
             ],
             [
              0.5555555555555556,
              "#d8576b"
             ],
             [
              0.6666666666666666,
              "#ed7953"
             ],
             [
              0.7777777777777778,
              "#fb9f3a"
             ],
             [
              0.8888888888888888,
              "#fdca26"
             ],
             [
              1,
              "#f0f921"
             ]
            ],
            "type": "heatmap"
           }
          ],
          "heatmapgl": [
           {
            "colorbar": {
             "outlinewidth": 0,
             "ticks": ""
            },
            "colorscale": [
             [
              0,
              "#0d0887"
             ],
             [
              0.1111111111111111,
              "#46039f"
             ],
             [
              0.2222222222222222,
              "#7201a8"
             ],
             [
              0.3333333333333333,
              "#9c179e"
             ],
             [
              0.4444444444444444,
              "#bd3786"
             ],
             [
              0.5555555555555556,
              "#d8576b"
             ],
             [
              0.6666666666666666,
              "#ed7953"
             ],
             [
              0.7777777777777778,
              "#fb9f3a"
             ],
             [
              0.8888888888888888,
              "#fdca26"
             ],
             [
              1,
              "#f0f921"
             ]
            ],
            "type": "heatmapgl"
           }
          ],
          "histogram": [
           {
            "marker": {
             "pattern": {
              "fillmode": "overlay",
              "size": 10,
              "solidity": 0.2
             }
            },
            "type": "histogram"
           }
          ],
          "histogram2d": [
           {
            "colorbar": {
             "outlinewidth": 0,
             "ticks": ""
            },
            "colorscale": [
             [
              0,
              "#0d0887"
             ],
             [
              0.1111111111111111,
              "#46039f"
             ],
             [
              0.2222222222222222,
              "#7201a8"
             ],
             [
              0.3333333333333333,
              "#9c179e"
             ],
             [
              0.4444444444444444,
              "#bd3786"
             ],
             [
              0.5555555555555556,
              "#d8576b"
             ],
             [
              0.6666666666666666,
              "#ed7953"
             ],
             [
              0.7777777777777778,
              "#fb9f3a"
             ],
             [
              0.8888888888888888,
              "#fdca26"
             ],
             [
              1,
              "#f0f921"
             ]
            ],
            "type": "histogram2d"
           }
          ],
          "histogram2dcontour": [
           {
            "colorbar": {
             "outlinewidth": 0,
             "ticks": ""
            },
            "colorscale": [
             [
              0,
              "#0d0887"
             ],
             [
              0.1111111111111111,
              "#46039f"
             ],
             [
              0.2222222222222222,
              "#7201a8"
             ],
             [
              0.3333333333333333,
              "#9c179e"
             ],
             [
              0.4444444444444444,
              "#bd3786"
             ],
             [
              0.5555555555555556,
              "#d8576b"
             ],
             [
              0.6666666666666666,
              "#ed7953"
             ],
             [
              0.7777777777777778,
              "#fb9f3a"
             ],
             [
              0.8888888888888888,
              "#fdca26"
             ],
             [
              1,
              "#f0f921"
             ]
            ],
            "type": "histogram2dcontour"
           }
          ],
          "mesh3d": [
           {
            "colorbar": {
             "outlinewidth": 0,
             "ticks": ""
            },
            "type": "mesh3d"
           }
          ],
          "parcoords": [
           {
            "line": {
             "colorbar": {
              "outlinewidth": 0,
              "ticks": ""
             }
            },
            "type": "parcoords"
           }
          ],
          "pie": [
           {
            "automargin": true,
            "type": "pie"
           }
          ],
          "scatter": [
           {
            "fillpattern": {
             "fillmode": "overlay",
             "size": 10,
             "solidity": 0.2
            },
            "type": "scatter"
           }
          ],
          "scatter3d": [
           {
            "line": {
             "colorbar": {
              "outlinewidth": 0,
              "ticks": ""
             }
            },
            "marker": {
             "colorbar": {
              "outlinewidth": 0,
              "ticks": ""
             }
            },
            "type": "scatter3d"
           }
          ],
          "scattercarpet": [
           {
            "marker": {
             "colorbar": {
              "outlinewidth": 0,
              "ticks": ""
             }
            },
            "type": "scattercarpet"
           }
          ],
          "scattergeo": [
           {
            "marker": {
             "colorbar": {
              "outlinewidth": 0,
              "ticks": ""
             }
            },
            "type": "scattergeo"
           }
          ],
          "scattergl": [
           {
            "marker": {
             "colorbar": {
              "outlinewidth": 0,
              "ticks": ""
             }
            },
            "type": "scattergl"
           }
          ],
          "scattermapbox": [
           {
            "marker": {
             "colorbar": {
              "outlinewidth": 0,
              "ticks": ""
             }
            },
            "type": "scattermapbox"
           }
          ],
          "scatterpolar": [
           {
            "marker": {
             "colorbar": {
              "outlinewidth": 0,
              "ticks": ""
             }
            },
            "type": "scatterpolar"
           }
          ],
          "scatterpolargl": [
           {
            "marker": {
             "colorbar": {
              "outlinewidth": 0,
              "ticks": ""
             }
            },
            "type": "scatterpolargl"
           }
          ],
          "scatterternary": [
           {
            "marker": {
             "colorbar": {
              "outlinewidth": 0,
              "ticks": ""
             }
            },
            "type": "scatterternary"
           }
          ],
          "surface": [
           {
            "colorbar": {
             "outlinewidth": 0,
             "ticks": ""
            },
            "colorscale": [
             [
              0,
              "#0d0887"
             ],
             [
              0.1111111111111111,
              "#46039f"
             ],
             [
              0.2222222222222222,
              "#7201a8"
             ],
             [
              0.3333333333333333,
              "#9c179e"
             ],
             [
              0.4444444444444444,
              "#bd3786"
             ],
             [
              0.5555555555555556,
              "#d8576b"
             ],
             [
              0.6666666666666666,
              "#ed7953"
             ],
             [
              0.7777777777777778,
              "#fb9f3a"
             ],
             [
              0.8888888888888888,
              "#fdca26"
             ],
             [
              1,
              "#f0f921"
             ]
            ],
            "type": "surface"
           }
          ],
          "table": [
           {
            "cells": {
             "fill": {
              "color": "#EBF0F8"
             },
             "line": {
              "color": "white"
             }
            },
            "header": {
             "fill": {
              "color": "#C8D4E3"
             },
             "line": {
              "color": "white"
             }
            },
            "type": "table"
           }
          ]
         },
         "layout": {
          "annotationdefaults": {
           "arrowcolor": "#2a3f5f",
           "arrowhead": 0,
           "arrowwidth": 1
          },
          "autotypenumbers": "strict",
          "coloraxis": {
           "colorbar": {
            "outlinewidth": 0,
            "ticks": ""
           }
          },
          "colorscale": {
           "diverging": [
            [
             0,
             "#8e0152"
            ],
            [
             0.1,
             "#c51b7d"
            ],
            [
             0.2,
             "#de77ae"
            ],
            [
             0.3,
             "#f1b6da"
            ],
            [
             0.4,
             "#fde0ef"
            ],
            [
             0.5,
             "#f7f7f7"
            ],
            [
             0.6,
             "#e6f5d0"
            ],
            [
             0.7,
             "#b8e186"
            ],
            [
             0.8,
             "#7fbc41"
            ],
            [
             0.9,
             "#4d9221"
            ],
            [
             1,
             "#276419"
            ]
           ],
           "sequential": [
            [
             0,
             "#0d0887"
            ],
            [
             0.1111111111111111,
             "#46039f"
            ],
            [
             0.2222222222222222,
             "#7201a8"
            ],
            [
             0.3333333333333333,
             "#9c179e"
            ],
            [
             0.4444444444444444,
             "#bd3786"
            ],
            [
             0.5555555555555556,
             "#d8576b"
            ],
            [
             0.6666666666666666,
             "#ed7953"
            ],
            [
             0.7777777777777778,
             "#fb9f3a"
            ],
            [
             0.8888888888888888,
             "#fdca26"
            ],
            [
             1,
             "#f0f921"
            ]
           ],
           "sequentialminus": [
            [
             0,
             "#0d0887"
            ],
            [
             0.1111111111111111,
             "#46039f"
            ],
            [
             0.2222222222222222,
             "#7201a8"
            ],
            [
             0.3333333333333333,
             "#9c179e"
            ],
            [
             0.4444444444444444,
             "#bd3786"
            ],
            [
             0.5555555555555556,
             "#d8576b"
            ],
            [
             0.6666666666666666,
             "#ed7953"
            ],
            [
             0.7777777777777778,
             "#fb9f3a"
            ],
            [
             0.8888888888888888,
             "#fdca26"
            ],
            [
             1,
             "#f0f921"
            ]
           ]
          },
          "colorway": [
           "#636efa",
           "#EF553B",
           "#00cc96",
           "#ab63fa",
           "#FFA15A",
           "#19d3f3",
           "#FF6692",
           "#B6E880",
           "#FF97FF",
           "#FECB52"
          ],
          "font": {
           "color": "#2a3f5f"
          },
          "geo": {
           "bgcolor": "white",
           "lakecolor": "white",
           "landcolor": "#E5ECF6",
           "showlakes": true,
           "showland": true,
           "subunitcolor": "white"
          },
          "hoverlabel": {
           "align": "left"
          },
          "hovermode": "closest",
          "mapbox": {
           "style": "light"
          },
          "paper_bgcolor": "white",
          "plot_bgcolor": "#E5ECF6",
          "polar": {
           "angularaxis": {
            "gridcolor": "white",
            "linecolor": "white",
            "ticks": ""
           },
           "bgcolor": "#E5ECF6",
           "radialaxis": {
            "gridcolor": "white",
            "linecolor": "white",
            "ticks": ""
           }
          },
          "scene": {
           "xaxis": {
            "backgroundcolor": "#E5ECF6",
            "gridcolor": "white",
            "gridwidth": 2,
            "linecolor": "white",
            "showbackground": true,
            "ticks": "",
            "zerolinecolor": "white"
           },
           "yaxis": {
            "backgroundcolor": "#E5ECF6",
            "gridcolor": "white",
            "gridwidth": 2,
            "linecolor": "white",
            "showbackground": true,
            "ticks": "",
            "zerolinecolor": "white"
           },
           "zaxis": {
            "backgroundcolor": "#E5ECF6",
            "gridcolor": "white",
            "gridwidth": 2,
            "linecolor": "white",
            "showbackground": true,
            "ticks": "",
            "zerolinecolor": "white"
           }
          },
          "shapedefaults": {
           "line": {
            "color": "#2a3f5f"
           }
          },
          "ternary": {
           "aaxis": {
            "gridcolor": "white",
            "linecolor": "white",
            "ticks": ""
           },
           "baxis": {
            "gridcolor": "white",
            "linecolor": "white",
            "ticks": ""
           },
           "bgcolor": "#E5ECF6",
           "caxis": {
            "gridcolor": "white",
            "linecolor": "white",
            "ticks": ""
           }
          },
          "title": {
           "x": 0.05
          },
          "xaxis": {
           "automargin": true,
           "gridcolor": "white",
           "linecolor": "white",
           "ticks": "",
           "title": {
            "standoff": 15
           },
           "zerolinecolor": "white",
           "zerolinewidth": 2
          },
          "yaxis": {
           "automargin": true,
           "gridcolor": "white",
           "linecolor": "white",
           "ticks": "",
           "title": {
            "standoff": 15
           },
           "zerolinecolor": "white",
           "zerolinewidth": 2
          }
         }
        },
        "title": {
         "font": {
          "color": "Red"
         },
         "text": "Athletes by Sport,Gender and Age",
         "x": 0.5
        },
        "width": 1000
       }
      },
      "image/png": "[encoded data removed]",
      "text/html": [
       "<div>                            <div id=\"00e8eaf9-4b30-44f4-92e9-debc005a4041\" class=\"plotly-graph-div\" style=\"height:800px; width:1000px;\"></div>            <script type=\"text/javascript\">                require([\"plotly\"], function(Plotly) {                    window.PLOTLYENV=window.PLOTLYENV || {};                                    if (document.getElementById(\"00e8eaf9-4b30-44f4-92e9-debc005a4041\")) {                    Plotly.newPlot(                        \"00e8eaf9-4b30-44f4-92e9-debc005a4041\",                        [{\"branchvalues\":\"total\",\"domain\":{\"x\":[0.0,1.0],\"y\":[0.0,1.0]},\"hovertemplate\":\"labels=%{label}<br>count=%{value}<br>parent=%{parent}<br>id=%{id}<extra></extra>\",\"ids\":[\"triathlon/Male/12\",\"kayak/Female/13\",\"kayak/Male/13\",\"fencing/Female/14\",\"fencing/Female/15\",\"fencing/Male/15\",\"fencing/Male/16\",\"kayak/Male/16\",\"fencing/Female/17\",\"kayak/Female/18\",\"kayak/Male/18\",\"fencing/Female\",\"kayak/Female\",\"fencing/Male\",\"kayak/Male\",\"triathlon/Male\",\"fencing\",\"kayak\",\"triathlon\"],\"labels\":[\"12\",\"13\",\"13\",\"14\",\"15\",\"15\",\"16\",\"16\",\"17\",\"18\",\"18\",\"Female\",\"Female\",\"Male\",\"Male\",\"Male\",\"fencing\",\"kayak\",\"triathlon\"],\"maxdepth\":3,\"name\":\"\",\"parents\":[\"triathlon/Male\",\"kayak/Female\",\"kayak/Male\",\"fencing/Female\",\"fencing/Female\",\"fencing/Male\",\"fencing/Male\",\"kayak/Male\",\"fencing/Female\",\"kayak/Female\",\"kayak/Male\",\"fencing\",\"kayak\",\"fencing\",\"kayak\",\"triathlon\",\"\",\"\",\"\"],\"values\":[2,1,1,2,3,1,2,1,2,2,1,7,3,3,3,2,10,6,2],\"type\":\"sunburst\"}],                        {\"template\":{\"data\":{\"histogram2dcontour\":[{\"type\":\"histogram2dcontour\",\"colorbar\":{\"outlinewidth\":0,\"ticks\":\"\"},\"colorscale\":[[0.0,\"#0d0887\"],[0.1111111111111111,\"#46039f\"],[0.2222222222222222,\"#7201a8\"],[0.3333333333333333,\"#9c179e\"],[0.4444444444444444,\"#bd3786\"],[0.5555555555555556,\"#d8576b\"],[0.6666666666666666,\"#ed7953\"],[0.7777777777777778,\"#fb9f3a\"],[0.8888888888888888,\"#fdca26\"],[1.0,\"#f0f921\"]]}],\"choropleth\":[{\"type\":\"choropleth\",\"colorbar\":{\"outlinewidth\":0,\"ticks\":\"\"}}],\"histogram2d\":[{\"type\":\"histogram2d\",\"colorbar\":{\"outlinewidth\":0,\"ticks\":\"\"},\"colorscale\":[[0.0,\"#0d0887\"],[0.1111111111111111,\"#46039f\"],[0.2222222222222222,\"#7201a8\"],[0.3333333333333333,\"#9c179e\"],[0.4444444444444444,\"#bd3786\"],[0.5555555555555556,\"#d8576b\"],[0.6666666666666666,\"#ed7953\"],[0.7777777777777778,\"#fb9f3a\"],[0.8888888888888888,\"#fdca26\"],[1.0,\"#f0f921\"]]}],\"heatmap\":[{\"type\":\"heatmap\",\"colorbar\":{\"outlinewidth\":0,\"ticks\":\"\"},\"colorscale\":[[0.0,\"#0d0887\"],[0.1111111111111111,\"#46039f\"],[0.2222222222222222,\"#7201a8\"],[0.3333333333333333,\"#9c179e\"],[0.4444444444444444,\"#bd3786\"],[0.5555555555555556,\"#d8576b\"],[0.6666666666666666,\"#ed7953\"],[0.7777777777777778,\"#fb9f3a\"],[0.8888888888888888,\"#fdca26\"],[1.0,\"#f0f921\"]]}],\"heatmapgl\":[{\"type\":\"heatmapgl\",\"colorbar\":{\"outlinewidth\":0,\"ticks\":\"\"},\"colorscale\":[[0.0,\"#0d0887\"],[0.1111111111111111,\"#46039f\"],[0.2222222222222222,\"#7201a8\"],[0.3333333333333333,\"#9c179e\"],[0.4444444444444444,\"#bd3786\"],[0.5555555555555556,\"#d8576b\"],[0.6666666666666666,\"#ed7953\"],[0.7777777777777778,\"#fb9f3a\"],[0.8888888888888888,\"#fdca26\"],[1.0,\"#f0f921\"]]}],\"contourcarpet\":[{\"type\":\"contourcarpet\",\"colorbar\":{\"outlinewidth\":0,\"ticks\":\"\"}}],\"contour\":[{\"type\":\"contour\",\"colorbar\":{\"outlinewidth\":0,\"ticks\":\"\"},\"colorscale\":[[0.0,\"#0d0887\"],[0.1111111111111111,\"#46039f\"],[0.2222222222222222,\"#7201a8\"],[0.3333333333333333,\"#9c179e\"],[0.4444444444444444,\"#bd3786\"],[0.5555555555555556,\"#d8576b\"],[0.6666666666666666,\"#ed7953\"],[0.7777777777777778,\"#fb9f3a\"],[0.8888888888888888,\"#fdca26\"],[1.0,\"#f0f921\"]]}],\"surface\":[{\"type\":\"surface\",\"colorbar\":{\"outlinewidth\":0,\"ticks\":\"\"},\"colorscale\":[[0.0,\"#0d0887\"],[0.1111111111111111,\"#46039f\"],[0.2222222222222222,\"#7201a8\"],[0.3333333333333333,\"#9c179e\"],[0.4444444444444444,\"#bd3786\"],[0.5555555555555556,\"#d8576b\"],[0.6666666666666666,\"#ed7953\"],[0.7777777777777778,\"#fb9f3a\"],[0.8888888888888888,\"#fdca26\"],[1.0,\"#f0f921\"]]}],\"mesh3d\":[{\"type\":\"mesh3d\",\"colorbar\":{\"outlinewidth\":0,\"ticks\":\"\"}}],\"scatter\":[{\"fillpattern\":{\"fillmode\":\"overlay\",\"size\":10,\"solidity\":0.2},\"type\":\"scatter\"}],\"parcoords\":[{\"type\":\"parcoords\",\"line\":{\"colorbar\":{\"outlinewidth\":0,\"ticks\":\"\"}}}],\"scatterpolargl\":[{\"type\":\"scatterpolargl\",\"marker\":{\"colorbar\":{\"outlinewidth\":0,\"ticks\":\"\"}}}],\"bar\":[{\"error_x\":{\"color\":\"#2a3f5f\"},\"error_y\":{\"color\":\"#2a3f5f\"},\"marker\":{\"line\":{\"color\":\"#E5ECF6\",\"width\":0.5},\"pattern\":{\"fillmode\":\"overlay\",\"size\":10,\"solidity\":0.2}},\"type\":\"bar\"}],\"scattergeo\":[{\"type\":\"scattergeo\",\"marker\":{\"colorbar\":{\"outlinewidth\":0,\"ticks\":\"\"}}}],\"scatterpolar\":[{\"type\":\"scatterpolar\",\"marker\":{\"colorbar\":{\"outlinewidth\":0,\"ticks\":\"\"}}}],\"histogram\":[{\"marker\":{\"pattern\":{\"fillmode\":\"overlay\",\"size\":10,\"solidity\":0.2}},\"type\":\"histogram\"}],\"scattergl\":[{\"type\":\"scattergl\",\"marker\":{\"colorbar\":{\"outlinewidth\":0,\"ticks\":\"\"}}}],\"scatter3d\":[{\"type\":\"scatter3d\",\"line\":{\"colorbar\":{\"outlinewidth\":0,\"ticks\":\"\"}},\"marker\":{\"colorbar\":{\"outlinewidth\":0,\"ticks\":\"\"}}}],\"scattermapbox\":[{\"type\":\"scattermapbox\",\"marker\":{\"colorbar\":{\"outlinewidth\":0,\"ticks\":\"\"}}}],\"scatterternary\":[{\"type\":\"scatterternary\",\"marker\":{\"colorbar\":{\"outlinewidth\":0,\"ticks\":\"\"}}}],\"scattercarpet\":[{\"type\":\"scattercarpet\",\"marker\":{\"colorbar\":{\"outlinewidth\":0,\"ticks\":\"\"}}}],\"carpet\":[{\"aaxis\":{\"endlinecolor\":\"#2a3f5f\",\"gridcolor\":\"white\",\"linecolor\":\"white\",\"minorgridcolor\":\"white\",\"startlinecolor\":\"#2a3f5f\"},\"baxis\":{\"endlinecolor\":\"#2a3f5f\",\"gridcolor\":\"white\",\"linecolor\":\"white\",\"minorgridcolor\":\"white\",\"startlinecolor\":\"#2a3f5f\"},\"type\":\"carpet\"}],\"table\":[{\"cells\":{\"fill\":{\"color\":\"#EBF0F8\"},\"line\":{\"color\":\"white\"}},\"header\":{\"fill\":{\"color\":\"#C8D4E3\"},\"line\":{\"color\":\"white\"}},\"type\":\"table\"}],\"barpolar\":[{\"marker\":{\"line\":{\"color\":\"#E5ECF6\",\"width\":0.5},\"pattern\":{\"fillmode\":\"overlay\",\"size\":10,\"solidity\":0.2}},\"type\":\"barpolar\"}],\"pie\":[{\"automargin\":true,\"type\":\"pie\"}]},\"layout\":{\"autotypenumbers\":\"strict\",\"colorway\":[\"#636efa\",\"#EF553B\",\"#00cc96\",\"#ab63fa\",\"#FFA15A\",\"#19d3f3\",\"#FF6692\",\"#B6E880\",\"#FF97FF\",\"#FECB52\"],\"font\":{\"color\":\"#2a3f5f\"},\"hovermode\":\"closest\",\"hoverlabel\":{\"align\":\"left\"},\"paper_bgcolor\":\"white\",\"plot_bgcolor\":\"#E5ECF6\",\"polar\":{\"bgcolor\":\"#E5ECF6\",\"angularaxis\":{\"gridcolor\":\"white\",\"linecolor\":\"white\",\"ticks\":\"\"},\"radialaxis\":{\"gridcolor\":\"white\",\"linecolor\":\"white\",\"ticks\":\"\"}},\"ternary\":{\"bgcolor\":\"#E5ECF6\",\"aaxis\":{\"gridcolor\":\"white\",\"linecolor\":\"white\",\"ticks\":\"\"},\"baxis\":{\"gridcolor\":\"white\",\"linecolor\":\"white\",\"ticks\":\"\"},\"caxis\":{\"gridcolor\":\"white\",\"linecolor\":\"white\",\"ticks\":\"\"}},\"coloraxis\":{\"colorbar\":{\"outlinewidth\":0,\"ticks\":\"\"}},\"colorscale\":{\"sequential\":[[0.0,\"#0d0887\"],[0.1111111111111111,\"#46039f\"],[0.2222222222222222,\"#7201a8\"],[0.3333333333333333,\"#9c179e\"],[0.4444444444444444,\"#bd3786\"],[0.5555555555555556,\"#d8576b\"],[0.6666666666666666,\"#ed7953\"],[0.7777777777777778,\"#fb9f3a\"],[0.8888888888888888,\"#fdca26\"],[1.0,\"#f0f921\"]],\"sequentialminus\":[[0.0,\"#0d0887\"],[0.1111111111111111,\"#46039f\"],[0.2222222222222222,\"#7201a8\"],[0.3333333333333333,\"#9c179e\"],[0.4444444444444444,\"#bd3786\"],[0.5555555555555556,\"#d8576b\"],[0.6666666666666666,\"#ed7953\"],[0.7777777777777778,\"#fb9f3a\"],[0.8888888888888888,\"#fdca26\"],[1.0,\"#f0f921\"]],\"diverging\":[[0,\"#8e0152\"],[0.1,\"#c51b7d\"],[0.2,\"#de77ae\"],[0.3,\"#f1b6da\"],[0.4,\"#fde0ef\"],[0.5,\"#f7f7f7\"],[0.6,\"#e6f5d0\"],[0.7,\"#b8e186\"],[0.8,\"#7fbc41\"],[0.9,\"#4d9221\"],[1,\"#276419\"]]},\"xaxis\":{\"gridcolor\":\"white\",\"linecolor\":\"white\",\"ticks\":\"\",\"title\":{\"standoff\":15},\"zerolinecolor\":\"white\",\"automargin\":true,\"zerolinewidth\":2},\"yaxis\":{\"gridcolor\":\"white\",\"linecolor\":\"white\",\"ticks\":\"\",\"title\":{\"standoff\":15},\"zerolinecolor\":\"white\",\"automargin\":true,\"zerolinewidth\":2},\"scene\":{\"xaxis\":{\"backgroundcolor\":\"#E5ECF6\",\"gridcolor\":\"white\",\"linecolor\":\"white\",\"showbackground\":true,\"ticks\":\"\",\"zerolinecolor\":\"white\",\"gridwidth\":2},\"yaxis\":{\"backgroundcolor\":\"#E5ECF6\",\"gridcolor\":\"white\",\"linecolor\":\"white\",\"showbackground\":true,\"ticks\":\"\",\"zerolinecolor\":\"white\",\"gridwidth\":2},\"zaxis\":{\"backgroundcolor\":\"#E5ECF6\",\"gridcolor\":\"white\",\"linecolor\":\"white\",\"showbackground\":true,\"ticks\":\"\",\"zerolinecolor\":\"white\",\"gridwidth\":2}},\"shapedefaults\":{\"line\":{\"color\":\"#2a3f5f\"}},\"annotationdefaults\":{\"arrowcolor\":\"#2a3f5f\",\"arrowhead\":0,\"arrowwidth\":1},\"geo\":{\"bgcolor\":\"white\",\"landcolor\":\"#E5ECF6\",\"subunitcolor\":\"white\",\"showland\":true,\"showlakes\":true,\"lakecolor\":\"white\"},\"title\":{\"x\":0.05},\"mapbox\":{\"style\":\"light\"}}},\"legend\":{\"tracegroupgap\":0},\"margin\":{\"t\":60},\"sunburstcolorway\":[\"#1F77B4\",\"#FF7F0E\",\"#2CA02C\",\"#D62728\",\"#9467BD\",\"#8C564B\",\"#E377C2\",\"#7F7F7F\",\"#BCBD22\",\"#17BECF\"],\"height\":800,\"width\":1000,\"title\":{\"font\":{\"color\":\"Red\"},\"text\":\"Athletes by Sport,Gender and Age\",\"x\":0.5}},                        {\"responsive\": true}                    ).then(function(){\n",
       "                            \n",
       "var gd = document.getElementById('00e8eaf9-4b30-44f4-92e9-debc005a4041');\n",
       "var x = new MutationObserver(function (mutations, observer) {{\n",
       "        var display = window.getComputedStyle(gd).display;\n",
       "        if (!display || display === 'none') {{\n",
       "            console.log([gd, 'removed!']);\n",
       "            Plotly.purge(gd);\n",
       "            observer.disconnect();\n",
       "        }}\n",
       "}});\n",
       "\n",
       "// Listen for the removal of the full notebook cells\n",
       "var notebookContainer = gd.closest('#notebook-container');\n",
       "if (notebookContainer) {{\n",
       "    x.observe(notebookContainer, {childList: true});\n",
       "}}\n",
       "\n",
       "// Listen for the clearing of the current output cell\n",
       "var outputEl = gd.closest('.output');\n",
       "if (outputEl) {{\n",
       "    x.observe(outputEl, {childList: true});\n",
       "}}\n",
       "\n",
       "                        })                };                });            </script>        </div>"
      ]
     },
     "metadata": {},
     "output_type": "display_data"
    }
   ],
   "source": [
    "# Create sunburst chart for athlete \n",
    "fig = px.sunburst(ath, path=['sport', 'Gender', 'age'],maxdepth=3, width=1000,height=800,color_discrete_sequence=px.colors.qualitative.D3)\n",
    "\n",
    "#Assign title \n",
    "fig.update_layout(title={\n",
    "        'text': 'Athletes by Sport,Gender and Age',\n",
    "        'x': 0.5,\n",
    "        'font': {\n",
    "            'color': 'Red'}})\n",
    "\n",
    "#show sunburst chart\n",
    "fig.show()"
   ]
  },
  {
   "cell_type": "markdown",
   "id": "2fef9981-b306-4724-82c6-64c16fc9229f",
   "metadata": {},
   "source": [
    "## Qn7:What is the average Power to weight ratio for the oldest and youngest athletes?Also find who has high Max PWR oldest/youngest."
   ]
  },
  {
   "cell_type": "code",
   "execution_count": 367,
   "id": "305bb3c8-3708-4448-bf46-95df805a359d",
   "metadata": {},
   "outputs": [
    {
     "name": "stdout",
     "output_type": "stream",
     "text": [
      "\n",
      "Oldest Athlete Age group:18 Power To Weight ratio - 3.77\n",
      "Youngest Athlete Age group:12 Power To Weight ratio - 4.84\n",
      "\n",
      "The Youngest athletes - Age group 12 has the highest Power To Weight ratio\n"
     ]
    }
   ],
   "source": [
    "#Calculate average MAX PWR age wise\n",
    "Mean_Age=pwr.groupby('age')['PWR'].mean().reset_index(name='Max PWR')\n",
    "\n",
    "# Round the Max PWR to 2 decimal places\n",
    "Mean_Age['Max PWR'] = Mean_Age['Max PWR'].round(2)\n",
    "\n",
    "#find the Max PWR values for Oldest athlete\n",
    "Oage_PWR = Mean_Age.nlargest(1, 'age')[['age','Max PWR']].reset_index(drop=True)\n",
    "print(f\"\\nOldest Athlete Age group:{Oage_PWR['age'][0]} Power To Weight ratio - {Oage_PWR['Max PWR'][0]}\")\n",
    "\n",
    "#find the Max PWR values for youngest athlete\n",
    "Yage_PWR = Mean_Age.nsmallest(1, 'age')[['age','Max PWR']].reset_index(drop=True)\n",
    "print(f\"Youngest Athlete Age group:{Yage_PWR['age'][0]} Power To Weight ratio - {Yage_PWR['Max PWR'][0]}\")\n",
    "\n",
    "# Determine who has the highest Max PWR ratio\n",
    "if Oage_PWR['Max PWR'].iloc[0] > Yage_PWR['Max PWR'].iloc[0]:\n",
    "    print(f\"\\nThe Oldest athletes - Age group {Oage_PWR['age'][0]} has the highest Power To Weight ratio\")\n",
    "elif Yage_PWR['Max PWR'].iloc[0] > Oage_PWR['Max PWR'].iloc[0]:\n",
    "    print(f\"\\nThe Youngest athletes - Age group {Yage_PWR['age'][0]} has the highest Power To Weight ratio\")\n",
    "else:\n",
    "    print(\"\\nBoth the oldest and youngest athletes have the same Power To Weight ratio.\")\n"
   ]
  },
  {
   "cell_type": "markdown",
   "id": "78f3db0d-c519-4877-861c-56e80525abae",
   "metadata": {},
   "source": [
    "## Qn8: Group by age and display the power to weight ratio and category and find which age group are in the least power to weight ratio\n"
   ]
  },
  {
   "cell_type": "code",
   "execution_count": 369,
   "id": "53a11a9b-a035-450a-b9a4-0820cd26a4da",
   "metadata": {},
   "outputs": [
    {
     "name": "stdout",
     "output_type": "stream",
     "text": [
      "   age  Max PWR\n",
      "0   12     4.84\n",
      "1   13     3.54\n",
      "2   14     3.45\n",
      "3   15     3.10\n",
      "4   16     3.55\n",
      "5   17     3.67\n",
      "6   18     3.77\n",
      "\n",
      "Athlete Age Group:15 has the least Power To Weight ratio - 3.1\n"
     ]
    }
   ],
   "source": [
    "#Calculate average MAX PWR age wise\n",
    "Mean_Age1=pwr.groupby('age')['PWR'].mean().reset_index(name='Max PWR')\n",
    "\n",
    "# Round the Max PWR to 2 decimal places\n",
    "Mean_Age1['Max PWR'] = Mean_Age1['Max PWR'].round(2)\n",
    "\n",
    "#print age wise PWR ratio\n",
    "print(Mean_Age1)\n",
    "\n",
    "#find the least PWR values \n",
    "Min_PWR = Mean_Age1.nsmallest(1, 'Max PWR')[['age','Max PWR']].reset_index(drop=True)\n",
    "print(f\"\\nAthlete Age Group:{Min_PWR['age'][0]} has the least Power To Weight ratio - {Min_PWR['Max PWR'][0]}\")\n"
   ]
  },
  {
   "cell_type": "markdown",
   "id": "a6cbdb32-3860-4add-80c7-1cf7476735ca",
   "metadata": {},
   "source": [
    "## Qn9:Mean of P_VT1 for each ethnicty and display top 2 ethnicity based on P_VT1 values"
   ]
  },
  {
   "cell_type": "code",
   "execution_count": 371,
   "id": "cf59004b-f88f-4280-a315-d5bda86224db",
   "metadata": {},
   "outputs": [
    {
     "name": "stdout",
     "output_type": "stream",
     "text": [
      "  Ethnicity   Avg P_VT1\n",
      "0   African  104.166667\n",
      "1     Asian  142.000000\n",
      "2    Latino   92.500000\n",
      "3     White  126.000000\n",
      "\n",
      "Top 2 ethnicity with mean P_VT1 details:\n"
     ]
    },
    {
     "data": {
      "text/html": [
       "<style type=\"text/css\">\n",
       "</style>\n",
       "<table id=\"T_28f5f\">\n",
       "  <thead>\n",
       "    <tr>\n",
       "      <th id=\"T_28f5f_level0_col0\" class=\"col_heading level0 col0\" >Ethnicity</th>\n",
       "      <th id=\"T_28f5f_level0_col1\" class=\"col_heading level0 col1\" >Avg P_VT1</th>\n",
       "    </tr>\n",
       "  </thead>\n",
       "  <tbody>\n",
       "    <tr>\n",
       "      <td id=\"T_28f5f_row0_col0\" class=\"data row0 col0\" >Asian</td>\n",
       "      <td id=\"T_28f5f_row0_col1\" class=\"data row0 col1\" >142.000000</td>\n",
       "    </tr>\n",
       "    <tr>\n",
       "      <td id=\"T_28f5f_row1_col0\" class=\"data row1 col0\" >White</td>\n",
       "      <td id=\"T_28f5f_row1_col1\" class=\"data row1 col1\" >126.000000</td>\n",
       "    </tr>\n",
       "  </tbody>\n",
       "</table>\n"
      ],
      "text/plain": [
       "<pandas.io.formats.style.Styler at 0x1468f1e50>"
      ]
     },
     "execution_count": 371,
     "metadata": {},
     "output_type": "execute_result"
    }
   ],
   "source": [
    "#Calculate average P_VT1 ethnicity wise\n",
    "Mean_pvt1=ath.groupby('Ethnicity')['P_vt1'].mean().reset_index(name='Avg P_VT1')\n",
    "\n",
    "#print average P_VT1 ethnicity wise\n",
    "print(Mean_pvt1)\n",
    "\n",
    "#find top 2 ethnicity based on P_VT1 values\n",
    "top_etnicity = Mean_pvt1.nlargest(2, 'Avg P_VT1')[['Ethnicity','Avg P_VT1']].reset_index(drop=True)\n",
    "\n",
    "#print the top 2 ethnicity with mean P_VT1 details\n",
    "print(\"\\nTop 2 ethnicity with mean P_VT1 details:\")\n",
    "top_etnicity.style.hide(axis='index')\n",
    "#print(f\"\\nAthlete Age Group:{Min_PWR['age'][0]} has the least Power To Weight ratio - {Min_PWR['Max PWR'][0]}\")"
   ]
  },
  {
   "cell_type": "markdown",
   "id": "0a102f5e-4956-4e46-a8e8-bcff7fa11c91",
   "metadata": {},
   "source": [
    "## Qn10: Find the athlete with the least weight in the oldest age category"
   ]
  },
  {
   "cell_type": "code",
   "execution_count": 373,
   "id": "207a53e7-b39f-4c61-b9df-bd37f81c119f",
   "metadata": {},
   "outputs": [
    {
     "name": "stdout",
     "output_type": "stream",
     "text": [
      "Oldest age category: 18\n",
      "\n",
      "Details of the athlete with the least weight in the oldest age category:\n",
      "ID                   13\n",
      "age                  18\n",
      "Weight             83.9\n",
      "Height              183\n",
      "P_vt1               144\n",
      "P_vt2               267\n",
      "sport             kayak\n",
      "Gender           Female\n",
      "Ethnicity         Asian\n",
      "First Name          Mia\n",
      "Last Name     Carpenter\n",
      "Name: 12, dtype: object\n"
     ]
    }
   ],
   "source": [
    "# Sort the DataFrame by 'age'\n",
    "Wt_Age = ath.sort_values(by='age').reset_index(drop=True)\n",
    "\n",
    "# Find the oldest age category\n",
    "Max_age2 = Wt_Age.nlargest(1, 'age')['age'].iloc[0]\n",
    "print(f\"Oldest age category: {Max_age2}\")\n",
    "\n",
    "# Filter athletes in the oldest age category\n",
    "oldest_athletes = ath[ath['age'] == Max_age2]\n",
    "\n",
    "# Find the athlete with the least weight in the oldest age category\n",
    "least_weight_athlete = oldest_athletes.loc[oldest_athletes['Weight'].idxmin()]\n",
    "\n",
    "print(\"\\nDetails of the athlete with the least weight in the oldest age category:\")\n",
    "print(least_weight_athlete)"
   ]
  },
  {
   "cell_type": "markdown",
   "id": "7150d5b6-14c8-4d65-afd7-f98c29d16498",
   "metadata": {},
   "source": [
    "## Q11: Display count of athletes in each PWR category\n"
   ]
  },
  {
   "cell_type": "code",
   "execution_count": 375,
   "id": "6f4a1870-8873-4ef2-bb51-4179476629ef",
   "metadata": {},
   "outputs": [
    {
     "name": "stdout",
     "output_type": "stream",
     "text": [
      "  PWR_Category  Count\n",
      "0         High      1\n",
      "1          Low      8\n",
      "2     Moderate      9\n"
     ]
    }
   ],
   "source": [
    "#Count the no of athletes in each Power to Weight Ratio\n",
    "Count_PWR=pwr.groupby('PWR_Category')['ID'].count().reset_index(name='Count')\n",
    "\n",
    "#Print Count for each category\n",
    "print(Count_PWR)"
   ]
  },
  {
   "cell_type": "code",
   "execution_count": null,
   "id": "6d8c93d6-846f-4bf5-961f-c1d28187027c",
   "metadata": {},
   "outputs": [],
   "source": []
  },
  {
   "cell_type": "code",
   "execution_count": null,
   "id": "0ff1eed9-dec6-4130-9da4-283a6c38d8b8",
   "metadata": {},
   "outputs": [],
   "source": []
  }
 ],
 "metadata": {
  "kernelspec": {
   "display_name": "Python 3 (ipykernel)",
   "language": "python",
   "name": "python3"
  },
  "language_info": {
   "codemirror_mode": {
    "name": "ipython",
    "version": 3
   },
   "file_extension": ".py",
   "mimetype": "text/x-python",
   "name": "python",
   "nbconvert_exporter": "python",
   "pygments_lexer": "ipython3",
   "version": "3.11.7"
  }
 },
 "nbformat": 4,
 "nbformat_minor": 5
}
