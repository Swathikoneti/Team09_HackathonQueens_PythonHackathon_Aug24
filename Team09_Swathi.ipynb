{
 "cells": [
  {
   "cell_type": "code",
   "execution_count": 32,
   "id": "be472fad-0b0c-4fa8-9b99-8d6252d27e83",
   "metadata": {},
   "outputs": [],
   "source": [
    "import pandas as pd \n",
    "import numpy as np \n",
    "import seaborn as sns\n",
    "import matplotlib.pyplot as plt\n",
    "%matplotlib inline\n",
    "import wordcloud \n",
    "import warnings\n",
    "warnings.filterwarnings(\"ignore\")"
   ]
  },
  {
   "cell_type": "code",
   "execution_count": 26,
   "id": "d259b1f6-52ee-4cc1-be10-ade2409b3b97",
   "metadata": {},
   "outputs": [],
   "source": [
    "#Read the excel file and store the sheets into dataframes.\n",
    "df = pd.ExcelFile(r\"PythonHackathon/V02Max_Combined.xlsx\")\n",
    "kay = pd.read_excel(df, sheet_name = 'Kayaking')\n",
    "ath = pd.read_excel(df, sheet_name = 'Athletes')\n",
    "tri = pd.read_excel(df, sheet_name = 'Triathlon')\n",
    "fen = pd.read_excel(df, sheet_name = 'Fencing')"
   ]
  },
  {
   "cell_type": "markdown",
   "id": "ff2b0b6b-06d2-4d3e-abf3-c7a4c2a02ccb",
   "metadata": {},
   "source": [
    "## Qn1. Join all sport-related tables to produce one dataframe that has all athletes values. The final table should only have the same 5 columns: ID, time,power,RR, vo2, power. Write this dataframe to an excel file.\n"
   ]
  },
  {
   "cell_type": "code",
   "execution_count": 36,
   "id": "0e8f6ada-6194-4f5f-b0dc-d5ed6c67e7b5",
   "metadata": {},
   "outputs": [
    {
     "name": "stdout",
     "output_type": "stream",
     "text": [
      "Dataframe successfully written to Excel file FinalVO2_Table.xlsx\n",
      "\n",
      "Reading FinalVO2_Table.xlsx Excel file for Verification:\n",
      "       ID     time     RR       VO2  power\n",
      "0       1 -130.840  672.0  0.302008      0\n",
      "1       1 -130.168  672.0  0.302008      0\n",
      "2       1 -129.536  632.0  0.301336      0\n",
      "3       1 -128.824  712.0  0.301336      0\n",
      "4       1 -127.948  876.0  0.301336      0\n",
      "...    ..      ...    ...       ...    ...\n",
      "52057  18  947.288  536.0  0.507071      0\n",
      "52058  18  947.816  528.0  0.507071      0\n",
      "52059  18  948.344  528.0  0.507071      0\n",
      "52060  18  948.884  540.0  0.507071      0\n",
      "52061  18  949.424  540.0  0.507071      0\n",
      "\n",
      "[52062 rows x 5 columns]\n"
     ]
    }
   ],
   "source": [
    "#Concatenating all sport related table to one dataframe final_table\n",
    "final_table=pd.concat([fen[['ID','time','RR','VO2','power']],\n",
    "                       kay[['ID','time','RR','VO2','power']],\n",
    "                       tri[['ID','time','RR','VO2','power']]],ignore_index=True)\n",
    "\n",
    "#defining output excel file name\n",
    "output='FinalVO2_Table.xlsx'\n",
    "\n",
    "#writing dataframe to excel using to_excel\n",
    "final_table.to_excel(output,index=False)\n",
    "print(\"Dataframe successfully written to Excel file\",output)\n",
    "\n",
    "#Reading the excel file back into dataframe for verification\n",
    "print(\"\\nReading\",output,\"Excel file for Verification:\")\n",
    "sportdf=pd.read_excel(\"FinalVO2_Table.xlsx\")\n",
    "print(sportdf)"
   ]
  },
  {
   "cell_type": "markdown",
   "id": "27f799b0-9e53-42d4-b692-d92ceddcb473",
   "metadata": {},
   "source": [
    "## Qn2. Divide the rows into 3 parts: Warm up, GET(graded exercise test) and cool down using the data def. Label each row accordingly\n"
   ]
  },
  {
   "cell_type": "code",
   "execution_count": 30,
   "id": "85b9bc6b-ff6a-4dcf-bf69-57e7bf4d152f",
   "metadata": {},
   "outputs": [
    {
     "name": "stdout",
     "output_type": "stream",
     "text": [
      "       ID     time     RR       VO2  power      Phase\n",
      "0       1 -130.840  672.0  0.302008      0    Warm Up\n",
      "1       1 -130.168  672.0  0.302008      0    Warm Up\n",
      "2       1 -129.536  632.0  0.301336      0    Warm Up\n",
      "3       1 -128.824  712.0  0.301336      0    Warm Up\n",
      "4       1 -127.948  876.0  0.301336      0    Warm Up\n",
      "...    ..      ...    ...       ...    ...        ...\n",
      "52057  18  947.288  536.0  0.507071      0  Cool Down\n",
      "52058  18  947.816  528.0  0.507071      0  Cool Down\n",
      "52059  18  948.344  528.0  0.507071      0  Cool Down\n",
      "52060  18  948.884  540.0  0.507071      0  Cool Down\n",
      "52061  18  949.424  540.0  0.507071      0  Cool Down\n",
      "\n",
      "[52062 rows x 6 columns]\n"
     ]
    }
   ],
   "source": [
    "#Initialize Dataframe phase\n",
    "phase=pd.DataFrame(final_table)\n",
    "\n",
    "#initialize Phase column\n",
    "phase['Phase']='Other Phase'\n",
    "\n",
    "#Apply conditions to find Warm Up-time less than 0,GET-time>=0 and power>0,Cool Down-time>0 and power=0\n",
    "phase.loc[phase['time']<0,'Phase']='Warm Up'\n",
    "phase.loc[(phase['time']>=0) & (phase['power']>0),'Phase']='GET'\n",
    "phase.loc[(phase['time']>0) & (phase['power']==0),'Phase']='Cool Down'\n",
    "\n",
    "#print dataframe phase details\n",
    "print(phase)"
   ]
  },
  {
   "cell_type": "markdown",
   "id": "5309f029-0f16-41f1-bc7c-8838d44250b2",
   "metadata": {},
   "source": [
    "## Qn33. Create a list and a tuple. Print the types and lengths of both.\n"
   ]
  },
  {
   "cell_type": "code",
   "execution_count": 42,
   "id": "011ff286-f97e-4e0c-bb83-d5404276996f",
   "metadata": {},
   "outputs": [
    {
     "name": "stdout",
     "output_type": "stream",
     "text": [
      "[1, 2, 3, 4, 5, 6, 7, 8, 9, 10, 11, 12]\n",
      "(10, 20, 30, 40, 50, 60, 70, 80, 90, 10, 20)\n",
      "<class 'type'>\n",
      "<class 'tuple'>\n"
     ]
    }
   ],
   "source": [
    "# Create a List and tuple\n",
    "List=[1,2,3,4,5,6,7,8,9,10,11,12]\n",
    "print(List)\n",
    "tuple=(10,20,30,40,50,60,70,80,90,10,20)\n",
    "print(tuple)\n",
    "\n",
    "#Print the types of both.\n",
    "print(type(list))\n",
    "print(type(tuple))"
   ]
  },
  {
   "attachments": {},
   "cell_type": "markdown",
   "id": "b1f2c6f6-bdfa-4bac-8d2f-f1dbacaa082a",
   "metadata": {},
   "source": [
    "## Qn34. Display a word cloud using any values in the dataset\n",
    "\r\n"
   ]
  },
  {
   "cell_type": "markdown",
   "id": "112835af-b110-46ed-98a9-8a05fb3ba66c",
   "metadata": {},
   "source": [
    "# Installing "
   ]
  },
  {
   "cell_type": "code",
   "execution_count": 40,
   "id": "ebeb84de-11df-42e8-9521-19f5b9c78002",
   "metadata": {},
   "outputs": [
    {
     "name": "stdout",
     "output_type": "stream",
     "text": [
      "Collecting wordcloud\n",
      "  Downloading wordcloud-1.9.3-cp312-cp312-win_amd64.whl.metadata (3.5 kB)\n",
      "Requirement already satisfied: matplotlib in c:\\users\\swara\\anaconda3\\lib\\site-packages (3.8.4)\n",
      "Requirement already satisfied: numpy>=1.6.1 in c:\\users\\swara\\anaconda3\\lib\\site-packages (from wordcloud) (1.26.4)\n",
      "Requirement already satisfied: pillow in c:\\users\\swara\\anaconda3\\lib\\site-packages (from wordcloud) (10.3.0)\n",
      "Requirement already satisfied: contourpy>=1.0.1 in c:\\users\\swara\\anaconda3\\lib\\site-packages (from matplotlib) (1.2.0)\n",
      "Requirement already satisfied: cycler>=0.10 in c:\\users\\swara\\anaconda3\\lib\\site-packages (from matplotlib) (0.11.0)\n",
      "Requirement already satisfied: fonttools>=4.22.0 in c:\\users\\swara\\anaconda3\\lib\\site-packages (from matplotlib) (4.51.0)\n",
      "Requirement already satisfied: kiwisolver>=1.3.1 in c:\\users\\swara\\anaconda3\\lib\\site-packages (from matplotlib) (1.4.4)\n",
      "Requirement already satisfied: packaging>=20.0 in c:\\users\\swara\\anaconda3\\lib\\site-packages (from matplotlib) (23.2)\n",
      "Requirement already satisfied: pyparsing>=2.3.1 in c:\\users\\swara\\anaconda3\\lib\\site-packages (from matplotlib) (3.0.9)\n",
      "Requirement already satisfied: python-dateutil>=2.7 in c:\\users\\swara\\anaconda3\\lib\\site-packages (from matplotlib) (2.9.0.post0)\n",
      "Requirement already satisfied: six>=1.5 in c:\\users\\swara\\anaconda3\\lib\\site-packages (from python-dateutil>=2.7->matplotlib) (1.16.0)\n",
      "Downloading wordcloud-1.9.3-cp312-cp312-win_amd64.whl (301 kB)\n",
      "   ---------------------------------------- 0.0/301.4 kB ? eta -:--:--\n",
      "   - -------------------------------------- 10.2/301.4 kB ? eta -:--:--\n",
      "   ------------ --------------------------- 92.2/301.4 kB 1.3 MB/s eta 0:00:01\n",
      "   ------------------------------- -------- 235.5/301.4 kB 2.0 MB/s eta 0:00:01\n",
      "   ---------------------------------------- 301.4/301.4 kB 1.9 MB/s eta 0:00:00\n",
      "Installing collected packages: wordcloud\n",
      "Successfully installed wordcloud-1.9.3\n",
      "Note: you may need to restart the kernel to use updated packages.\n"
     ]
    }
   ],
   "source": [
    "pip install wordcloud matplotlib"
   ]
  },
  {
   "cell_type": "code",
   "execution_count": 42,
   "id": "3f1ecb11-5f10-46e0-9306-e6c44266ef7c",
   "metadata": {},
   "outputs": [],
   "source": [
    "from wordcloud import WordCloud"
   ]
  },
  {
   "cell_type": "markdown",
   "id": "e632b479-a6ee-4c95-b8f1-ab6d7efe0d8d",
   "metadata": {},
   "source": [
    "## Qn35. Create a Regression Plot on Max V02 and mean BMI for any sport of your choice\n",
    " "
   ]
  },
  {
   "cell_type": "code",
   "execution_count": null,
   "id": "4dffede8-4fce-48be-98be-32dd6e332cf9",
   "metadata": {},
   "outputs": [],
   "source": []
  },
  {
   "cell_type": "code",
   "execution_count": null,
   "id": "76f5cf7d-3b88-4602-ac9f-39cc69f53c1b",
   "metadata": {},
   "outputs": [],
   "source": []
  },
  {
   "attachments": {},
   "cell_type": "markdown",
   "id": "6c040e82-f967-4008-8585-7e86d15ea4be",
   "metadata": {},
   "source": [
    "## Qn36. Plot the time series of HR( every 5 mins) of athlete 1\r\n"
   ]
  },
  {
   "cell_type": "code",
   "execution_count": null,
   "id": "f6a367ad-caeb-4416-b84d-9049f2bd4963",
   "metadata": {},
   "outputs": [],
   "source": []
  },
  {
   "cell_type": "code",
   "execution_count": null,
   "id": "e15bd4f8-acef-4102-98db-9b8fda42c21c",
   "metadata": {},
   "outputs": [],
   "source": []
  },
  {
   "cell_type": "markdown",
   "id": "3033906a-348f-4218-88a6-1d2b46c4a05b",
   "metadata": {},
   "source": [
    "##Qn37. What was the maximum power achieved in terms of watts, which participant achieved it? Display name, sport and watts.\n"
   ]
  },
  {
   "cell_type": "code",
   "execution_count": null,
   "id": "e5281213-bc73-45fe-b0fe-4f15c7ea428a",
   "metadata": {},
   "outputs": [],
   "source": []
  },
  {
   "cell_type": "code",
   "execution_count": null,
   "id": "ff50d902-bc1a-418b-b383-a6706f85d455",
   "metadata": {},
   "outputs": [],
   "source": []
  },
  {
   "attachments": {},
   "cell_type": "markdown",
   "id": "637bd38e-6808-43a7-80b1-0234c508cc3a",
   "metadata": {},
   "source": [
    "##Qn38.What is the average  difference in IBI during the warm up Vs the actual test?\r\n"
   ]
  },
  {
   "cell_type": "code",
   "execution_count": null,
   "id": "61bc0762-3338-4e71-90e2-50498be2c21c",
   "metadata": {},
   "outputs": [],
   "source": []
  },
  {
   "cell_type": "markdown",
   "id": "7f046909-0fd1-49c1-9f4e-ca2860974a49",
   "metadata": {},
   "source": [
    "##Qn39.Print out what's in indexes 7, 10, and 3 for the array. [1, 2, 3, 4, 5,6,7,8,9,10]\n"
   ]
  },
  {
   "cell_type": "code",
   "execution_count": 92,
   "id": "13dd53c0-d2fc-4c8e-b904-fbdc44a83111",
   "metadata": {},
   "outputs": [
    {
     "name": "stdout",
     "output_type": "stream",
     "text": [
      "Check the index range\n",
      "Element at index 7: 8\n",
      "Index 10 is out of range.\n",
      "Element at index 3: 4\n"
     ]
    }
   ],
   "source": [
    "# define the array\n",
    "array=[1,2,3,4,5,6,7,8,9,10]\n",
    "indices=[7,10,3]\n",
    "for index in indices:\n",
    "    if index < len(array):\n",
    "        print(f\"Element at index {index}: {array[index]}\")\n",
    "    else:\n",
    "        print(f\"Index {index} is out of range.\")\n"
   ]
  },
  {
   "cell_type": "markdown",
   "id": "66d34639-2aa2-4404-b36f-142e386ad70a",
   "metadata": {},
   "source": [
    "##Qn40. \"     [ 1,  2,  3,  4,  5],\n",
    "       [ 6,  7,  8,  9, 10],\n",
    "       [11, 12, 13, 14, 15],\n",
    "       [16, 17, 18, 19, 20],\n",
    "       [21, 22, 23, 24, 25],\n",
    "       [26, 27, 28, 29, 30]  Use array slicing to display elements 1,3,5. If the value is less than 4 display it as 99\"\n"
   ]
  },
  {
   "cell_type": "code",
   "execution_count": 96,
   "id": "078e5876-6e95-4ba6-a8f1-7f5514a71e7d",
   "metadata": {},
   "outputs": [
    {
     "name": "stdout",
     "output_type": "stream",
     "text": [
      "[[99 99  5]\n",
      " [ 6  8 10]\n",
      " [11 13 15]\n",
      " [16 18 20]\n",
      " [21 23 25]\n",
      " [26 28 30]]\n"
     ]
    }
   ],
   "source": [
    "# Create the given array\n",
    "arr = np.array([[1, 2, 3, 4, 5],\n",
    "                [6, 7, 8, 9, 10],\n",
    "                [11, 12, 13, 14, 15],\n",
    "                [16, 17, 18, 19, 20],\n",
    "                [21, 22, 23, 24, 25],\n",
    "                [26, 27, 28, 29, 30]])\n",
    "\n",
    "# Slice the array to get elements 1, 3, and 5 (index 0, 2, and 4)\n",
    "sliced = arr[:, [0, 2, 4]]\n",
    "\n",
    "# Replace values less than 4 with 99\n",
    "value = np.where(sliced < 4, 99, sliced)\n",
    "\n",
    "print(value)\n"
   ]
  },
  {
   "cell_type": "markdown",
   "id": "fb97f75f-b643-4331-8fbb-787f375c8e78",
   "metadata": {},
   "source": [
    "##Qn41. What was lowest wattage achieved at the end of a test and by which participant? Display name, sport and watts.\n"
   ]
  },
  {
   "cell_type": "code",
   "execution_count": null,
   "id": "e5299924-3d72-463c-9990-b8164ee9ec1e",
   "metadata": {},
   "outputs": [],
   "source": []
  },
  {
   "cell_type": "code",
   "execution_count": null,
   "id": "51a34542-8556-420a-a7da-ea880440c256",
   "metadata": {},
   "outputs": [],
   "source": []
  },
  {
   "cell_type": "markdown",
   "id": "5a9a1945-797a-481d-a2d4-87f0230bdcf1",
   "metadata": {},
   "source": [
    "##Qn42. What was the difference in heart rate between warm up and GET for athlete 1\n"
   ]
  },
  {
   "cell_type": "code",
   "execution_count": null,
   "id": "47a8e3f7-bfdb-4a7a-ae85-f1fd59da7843",
   "metadata": {},
   "outputs": [],
   "source": []
  },
  {
   "cell_type": "code",
   "execution_count": null,
   "id": "428ab003-122f-42b7-b6f5-d29751b76f51",
   "metadata": {},
   "outputs": [],
   "source": []
  },
  {
   "cell_type": "markdown",
   "id": "7ca3259d-1f75-4d4e-bff9-d0afcc0ee50a",
   "metadata": {},
   "source": [
    "##Qn43. Create a pivot table that shows count of patients within each age group and sport\n"
   ]
  },
  {
   "cell_type": "code",
   "execution_count": null,
   "id": "fc7fa5c1-f400-408c-9396-c6148311f4bd",
   "metadata": {},
   "outputs": [],
   "source": []
  },
  {
   "attachments": {},
   "cell_type": "markdown",
   "id": "d44d0b2b-a1ba-4947-abde-7b5cd0a0964e",
   "metadata": {},
   "source": [
    "##Qn44.Display a  distrubution chart of MAX V02 for all athletes\r\n"
   ]
  },
  {
   "cell_type": "code",
   "execution_count": null,
   "id": "5c9d8b5b-e6ae-4b20-b853-7be28a070dfd",
   "metadata": {},
   "outputs": [],
   "source": []
  },
  {
   "cell_type": "markdown",
   "id": "0e0029e9-eb03-4356-b392-e5cbcee68211",
   "metadata": {},
   "source": [
    "##n45. Create a dummy array with no data with a size of 15.\n"
   ]
  },
  {
   "cell_type": "code",
   "execution_count": 66,
   "id": "64f0a185-d380-4c59-b714-c94c599b9283",
   "metadata": {},
   "outputs": [],
   "source": [
    "dummy_array = np.empty(15)"
   ]
  },
  {
   "cell_type": "markdown",
   "id": "a7832e63-22f4-495c-8d37-dc08848c40e7",
   "metadata": {},
   "source": [
    "##Qn.46.How many minutes did participant 15s exercise last and what was the total V02 max consumed during the test?\n"
   ]
  },
  {
   "cell_type": "code",
   "execution_count": null,
   "id": "f1156115-4ed8-4f0e-b599-9898a8948a0d",
   "metadata": {},
   "outputs": [],
   "source": []
  },
  {
   "cell_type": "markdown",
   "id": "80ed9bb2-0027-45b1-b0a2-778cbf7bc18b",
   "metadata": {},
   "source": [
    "##Qn47.Convert ' sport' into a numeric field through Label encoding\n"
   ]
  },
  {
   "cell_type": "code",
   "execution_count": null,
   "id": "c8c2c16a-898a-4f09-968e-9d7751566a93",
   "metadata": {},
   "outputs": [],
   "source": []
  },
  {
   "cell_type": "markdown",
   "id": "7f244716-f399-4b6d-ac61-b49306b06607",
   "metadata": {},
   "source": [
    "##Qn48. What was the average age of the athletes?\n"
   ]
  },
  {
   "cell_type": "code",
   "execution_count": 112,
   "id": "b03ec67d-27a6-424d-bfbb-3a7e0702df1f",
   "metadata": {},
   "outputs": [
    {
     "name": "stdout",
     "output_type": "stream",
     "text": [
      "Average age of athletes: 15.22 years\n"
     ]
    }
   ],
   "source": [
    "#Read the excel file and store the sheets into dataframes.\n",
    "df = pd.ExcelFile(r\"PythonHackathon/V02Max_Combined.xlsx\")\n",
    "ath = pd.read_excel(df, sheet_name = 'Athletes')\n",
    "\n",
    "# Calculate the average age\n",
    "average_age = ath['age'].mean()\n",
    "\n",
    "print(f\"Average age of athletes: {average_age:.2f} years\")"
   ]
  },
  {
   "cell_type": "code",
   "execution_count": null,
   "id": "70420c2c-f5f6-48c7-ae12-50a60ac0eb65",
   "metadata": {},
   "outputs": [],
   "source": []
  }
 ],
 "metadata": {
  "kernelspec": {
   "display_name": "Python 3 (ipykernel)",
   "language": "python",
   "name": "python3"
  },
  "language_info": {
   "codemirror_mode": {
    "name": "ipython",
    "version": 3
   },
   "file_extension": ".py",
   "mimetype": "text/x-python",
   "name": "python",
   "nbconvert_exporter": "python",
   "pygments_lexer": "ipython3",
   "version": "3.12.4"
  }
 },
 "nbformat": 4,
 "nbformat_minor": 5
}
