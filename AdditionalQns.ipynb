{
 "cells": [
  {
   "cell_type": "code",
   "execution_count": 1,
   "id": "4c157679-8743-4e8c-877b-482524d380b7",
   "metadata": {},
   "outputs": [],
   "source": [
    "import pandas as pd \n",
    "import numpy as np \n",
    "import seaborn as sns\n",
    "import matplotlib.pyplot as plt\n",
    "import warnings\n",
    "warnings.filterwarnings(\"ignore\")\n",
    "import re\n"
   ]
  },
  {
   "cell_type": "code",
   "execution_count": 3,
   "id": "3b34d0cb-e9a3-4501-8b10-d94f1ec86d26",
   "metadata": {},
   "outputs": [],
   "source": [
    "#Read the excel file and store the sheets into dataframes.\n",
    "df = pd.ExcelFile(r\"V02Max_Combined.xlsx\")\n",
    "kay = pd.read_excel(df, sheet_name = 'Kayaking')\n",
    "ath = pd.read_excel(df, sheet_name = 'Athletes')\n",
    "tri = pd.read_excel(df, sheet_name = 'Triathlon')\n",
    "fen = pd.read_excel(df, sheet_name = 'Fencing')"
   ]
  },
  {
   "cell_type": "markdown",
   "id": "e6280b8b-0f0a-4f37-99a1-0a31b68d9ab1",
   "metadata": {},
   "source": [
    "## Qn1:Find the power to weight Ratio for each athlete"
   ]
  },
  {
   "cell_type": "markdown",
   "id": "9d6a2c0f-ef16-4f7c-88c3-9b1d6e974178",
   "metadata": {},
   "source": [
    "## Qn2: Display athlete details, power to weight ratio and category-Low,moderate,High"
   ]
  },
  {
   "cell_type": "markdown",
   "id": "768660e0-7f8d-4afd-9b89-3c5a3399e665",
   "metadata": {},
   "source": [
    "## Qn3: Find the count of athletes in each ethinicity and display a funnel chart"
   ]
  },
  {
   "cell_type": "markdown",
   "id": "e3ba2657-aa00-4f9d-9523-b0957ca7da83",
   "metadata": {},
   "source": [
    "## Qn 4:Find which gender has the highest mean VO2max"
   ]
  },
  {
   "cell_type": "markdown",
   "id": "9f9162e8-e519-409c-9200-04daf99affa4",
   "metadata": {},
   "source": [
    "## Qn5:What is the average power-to-weight ratio for athletes across different ethnicity"
   ]
  },
  {
   "cell_type": "markdown",
   "id": "43564745-ce47-4b10-833c-92d8b604e535",
   "metadata": {},
   "source": [
    "## Qn6: Using Sunburst chart display athlete gender,sport, and Age Group¶"
   ]
  },
  {
   "cell_type": "markdown",
   "id": "2fef9981-b306-4724-82c6-64c16fc9229f",
   "metadata": {},
   "source": [
    "## Qn7:What is the difference in Power to weight ratio between the oldest and yougest athlete?"
   ]
  },
  {
   "cell_type": "markdown",
   "id": "78f3db0d-c519-4877-861c-56e80525abae",
   "metadata": {},
   "source": [
    "## Qn8: Group by age and display the power to weight ratio and category and find which age group are in the high power to weight ratio\n"
   ]
  },
  {
   "cell_type": "markdown",
   "id": "a6cbdb32-3860-4add-80c7-1cf7476735ca",
   "metadata": {},
   "source": [
    "## Qn9:Mean of P_VT1 for each ethnicty and display which ethnicity athletes has the low P_VT1"
   ]
  },
  {
   "cell_type": "markdown",
   "id": "0a102f5e-4956-4e46-a8e8-bcff7fa11c91",
   "metadata": {},
   "source": [
    "## Qn10: Which patient in the Oldest age category weighs the least?"
   ]
  },
  {
   "cell_type": "code",
   "execution_count": null,
   "id": "207a53e7-b39f-4c61-b9df-bd37f81c119f",
   "metadata": {},
   "outputs": [],
   "source": []
  }
 ],
 "metadata": {
  "kernelspec": {
   "display_name": "Python 3 (ipykernel)",
   "language": "python",
   "name": "python3"
  },
  "language_info": {
   "codemirror_mode": {
    "name": "ipython",
    "version": 3
   },
   "file_extension": ".py",
   "mimetype": "text/x-python",
   "name": "python",
   "nbconvert_exporter": "python",
   "pygments_lexer": "ipython3",
   "version": "3.11.7"
  }
 },
 "nbformat": 4,
 "nbformat_minor": 5
}
