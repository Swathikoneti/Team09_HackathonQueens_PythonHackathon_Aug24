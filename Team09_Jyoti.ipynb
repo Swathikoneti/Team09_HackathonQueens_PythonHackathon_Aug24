{
 "cells": [
  {
   "cell_type": "code",
   "execution_count": 10,
   "id": "0670422d-2faf-4ab7-8e57-35055b4fd180",
   "metadata": {},
   "outputs": [],
   "source": [
    "import pandas as pd \n",
    "import numpy as np \n",
    "import seaborn as sns\n",
    "import matplotlib.pyplot as plt\n",
    "import warnings\n",
    "warnings.filterwarnings(\"ignore\")\n",
    "\n",
    "#Read the excel file and store the sheets into dataframes.\n",
    "df = pd.ExcelFile('C:/Jyoti/Data Analytics/PYTHON Session/Python Hackathon/V02Max_Combined.xlsx')\n",
    "kay = pd.read_excel(df, sheet_name = 'Kayaking')\n",
    "ath = pd.read_excel(df, sheet_name = 'Athletes')\n",
    "tri = pd.read_excel(df, sheet_name = 'Triathlon')\n",
    "fen = pd.read_excel(df, sheet_name = 'Fencing')\n"
   ]
  },
  {
   "cell_type": "markdown",
   "id": "a5f21489-ad26-4ad0-92eb-b3c71c135eb5",
   "metadata": {},
   "source": [
    "## Qn1. Join all sport-related tables to produce one dataframe that has all athletes values. The final table should only have the same 5 columns: ID, time,power,RR, vo2, power. Write this dataframe to an excel file."
   ]
  },
  {
   "cell_type": "code",
   "execution_count": 12,
   "id": "a4f6838f-00e4-4a79-872e-fdb49219c765",
   "metadata": {
    "scrolled": true
   },
   "outputs": [
    {
     "name": "stdout",
     "output_type": "stream",
     "text": [
      "Dataframe successfully written to Excel file FinalVO2_Table.xlsx\n",
      "\n",
      "Reading FinalVO2_Table.xlsx Excel file for Verification:\n",
      "       ID     time     RR       VO2  power\n",
      "0       1 -130.840  672.0  0.302008      0\n",
      "1       1 -130.168  672.0  0.302008      0\n",
      "2       1 -129.536  632.0  0.301336      0\n",
      "3       1 -128.824  712.0  0.301336      0\n",
      "4       1 -127.948  876.0  0.301336      0\n",
      "...    ..      ...    ...       ...    ...\n",
      "52057  18  947.288  536.0  0.507071      0\n",
      "52058  18  947.816  528.0  0.507071      0\n",
      "52059  18  948.344  528.0  0.507071      0\n",
      "52060  18  948.884  540.0  0.507071      0\n",
      "52061  18  949.424  540.0  0.507071      0\n",
      "\n",
      "[52062 rows x 5 columns]\n"
     ]
    }
   ],
   "source": [
    "#Concatenating all sport related table to one dataframe final_table\n",
    "final_table=pd.concat([fen[['ID','time','RR','VO2','power']],\n",
    "                       kay[['ID','time','RR','VO2','power']],\n",
    "                       tri[['ID','time','RR','VO2','power']]],ignore_index=True)\n",
    "\n",
    "#defining output excel file name\n",
    "output='FinalVO2_Table.xlsx'\n",
    "\n",
    "#writing dataframe to excel using to_excel\n",
    "final_table.to_excel(output,index=False)\n",
    "print(\"Dataframe successfully written to Excel file\",output)\n",
    "\n",
    "#Reading the excel file back into dataframe for verification\n",
    "print(\"\\nReading\",output,\"Excel file for Verification:\")\n",
    "sportdf=pd.read_excel(\"FinalVO2_Table.xlsx\")\n",
    "print(sportdf)"
   ]
  },
  {
   "cell_type": "markdown",
   "id": "02f89cb8-5fde-4562-80e9-9524bfb86db0",
   "metadata": {},
   "source": [
    "## Qn2. Divide the rows into 3 parts: Warm up, GET(graded exercise test) and cool down using the data def. Label each row accordingly"
   ]
  },
  {
   "cell_type": "code",
   "execution_count": 17,
   "id": "f436f49a-ca01-417d-a9ed-e449f857418b",
   "metadata": {},
   "outputs": [
    {
     "name": "stdout",
     "output_type": "stream",
     "text": [
      "       ID     time     RR       VO2  power      Phase\n",
      "0       1 -130.840  672.0  0.302008      0    Warm Up\n",
      "1       1 -130.168  672.0  0.302008      0    Warm Up\n",
      "2       1 -129.536  632.0  0.301336      0    Warm Up\n",
      "3       1 -128.824  712.0  0.301336      0    Warm Up\n",
      "4       1 -127.948  876.0  0.301336      0    Warm Up\n",
      "...    ..      ...    ...       ...    ...        ...\n",
      "52057  18  947.288  536.0  0.507071      0  Cool Down\n",
      "52058  18  947.816  528.0  0.507071      0  Cool Down\n",
      "52059  18  948.344  528.0  0.507071      0  Cool Down\n",
      "52060  18  948.884  540.0  0.507071      0  Cool Down\n",
      "52061  18  949.424  540.0  0.507071      0  Cool Down\n",
      "\n",
      "[52062 rows x 6 columns]\n"
     ]
    }
   ],
   "source": [
    "#Initialize Dataframe phase\n",
    "phase=pd.DataFrame(final_table)\n",
    "\n",
    "#initialize Phase column\n",
    "phase['Phase']='Other Phase'\n",
    "\n",
    "#Apply conditions to find Warm Up-time less than 0,GET-time>=0 and power>0,Cool Down-time>0 and power=0\n",
    "phase.loc[phase['time']<0,'Phase']='Warm Up'\n",
    "phase.loc[(phase['time']>=0) & (phase['power']>0),'Phase']='GET'\n",
    "phase.loc[(phase['time']>0) & (phase['power']==0),'Phase']='Cool Down'\n",
    "\n",
    "#print dataframe phase details\n",
    "print(phase)"
   ]
  },
  {
   "attachments": {},
   "cell_type": "markdown",
   "id": "127453eb-868e-4d76-9111-359add23ec2d",
   "metadata": {},
   "source": [
    "## Qn 65.   [ 1,  2,  3,  4,  5],  [ 6,  7,  8,  9, 10]  [11, 12, 13, 14, 15   [16, 17, 18, 19, 2    [21, 22, 23, 24,      [26, 27, 28, 29, 30]  Use array slicing to display elements 0,174,7,1\n",
    "       "
   ]
  },
  {
   "cell_type": "code",
   "execution_count": 221,
   "id": "3f7d092e-5ef3-4e39-8fde-d81f8b3839fd",
   "metadata": {},
   "outputs": [
    {
     "name": "stdout",
     "output_type": "stream",
     "text": [
      "Orignal Array :\n",
      " [[ 1  2  3  4  5]\n",
      " [ 6  7  8  9 10]\n",
      " [11 12 13 14 15]\n",
      " [16 17 18 19 20]\n",
      " [21 22 23 24 25]\n",
      " [26 27 28 29 30]]\n",
      "\n",
      " Asked Elements from Array :  4 7 10 17\n"
     ]
    }
   ],
   "source": [
    "# Assigned Array values to variable\n",
    "New_Num = np.array([[1,2,3,4,5],[6,7,8,9,10],[11,12,13,14,15],[16,17,18,19,20],[21,22,23,24,25],[26,27,28,29,30]]) \n",
    "\n",
    "print(\"Orignal Array :\\n\",New_Num)\n",
    "print(\"\\n Asked Elements from Array : \", New_Num[0,3],New_Num[1,1],New_Num[1,4],New_Num[3,1])  #Printed Asked Elements\n"
   ]
  },
  {
   "cell_type": "markdown",
   "id": "e22383da-3ddd-4b49-a208-b507d050ffdb",
   "metadata": {},
   "source": [
    "## Qn 66. On average, how long did each participant spend at 200 watts?"
   ]
  },
  {
   "cell_type": "code",
   "execution_count": null,
   "id": "5f57571d-993e-402c-8545-960ecc48a49c",
   "metadata": {},
   "outputs": [],
   "source": []
  },
  {
   "cell_type": "markdown",
   "id": "a71dda49-bdd2-4806-bcb3-41058d14a637",
   "metadata": {},
   "source": [
    "Q67. Athletes from which sport had the highest average cardiorespiratory fitness in terms of v02 max?"
   ]
  },
  {
   "cell_type": "code",
   "execution_count": null,
   "id": "a6ae46db-d649-4503-8cc4-55da531d98ad",
   "metadata": {},
   "outputs": [],
   "source": []
  },
  {
   "cell_type": "markdown",
   "id": "eb403778-16e4-4b73-a1fb-426c465d6266",
   "metadata": {},
   "source": [
    "Q68. What % of athletes exceeded 90% of max HR? (Max HR is calculated as 220-Age)"
   ]
  },
  {
   "cell_type": "code",
   "execution_count": null,
   "id": "e4c66c80-e3ac-4a8e-8932-cfac3cce280b",
   "metadata": {},
   "outputs": [],
   "source": []
  },
  {
   "cell_type": "markdown",
   "id": "2e900cd2-8340-4202-9360-a4091ee8c62a",
   "metadata": {},
   "source": [
    "Q69. What was the lowest heart rate recorded at a power wattage of 200"
   ]
  },
  {
   "cell_type": "code",
   "execution_count": null,
   "id": "beb886c1-fe9e-4110-97e8-f59ec19395c5",
   "metadata": {},
   "outputs": [],
   "source": []
  },
  {
   "cell_type": "markdown",
   "id": "705363d5-6150-4edb-8153-2d2392253789",
   "metadata": {},
   "source": [
    "Q70. On Average how long did most athletes spend at 75% of MaxHR (Max HR is calculated as 220-Age)"
   ]
  },
  {
   "cell_type": "code",
   "execution_count": null,
   "id": "77cda7f3-c0df-4027-9fdf-82b7c3b42c8f",
   "metadata": {},
   "outputs": [],
   "source": []
  },
  {
   "cell_type": "markdown",
   "id": "1d5e5b7d-a9f1-4ed9-96d7-0e35075a9959",
   "metadata": {},
   "source": [
    "Q71. Create a crosstab to show each sport as a column and each heart rate zone as rows with counts of rows that satisfy each condition as values"
   ]
  },
  {
   "cell_type": "code",
   "execution_count": null,
   "id": "3a7a4d1f-3b7b-4dc8-a760-ee3fb75bd534",
   "metadata": {},
   "outputs": [],
   "source": []
  },
  {
   "cell_type": "markdown",
   "id": "d21456f2-9230-4cf6-8f6a-b30709b2a3e0",
   "metadata": {},
   "source": [
    "## Q72. Provide an example of a lambda function that multiplies any 2 input values."
   ]
  },
  {
   "cell_type": "code",
   "execution_count": 30,
   "id": "de461e60-d4c0-4d5d-9cd8-305ab5352b1b",
   "metadata": {},
   "outputs": [
    {
     "name": "stdin",
     "output_type": "stream",
     "text": [
      "Enter first number:  4\n",
      "Enter second number:  6\n"
     ]
    },
    {
     "name": "stdout",
     "output_type": "stream",
     "text": [
      "The Result is: 24.0\n"
     ]
    }
   ],
   "source": [
    "\n",
    "# Took 2 inputs from the user\n",
    "int1 = float(input(\"Enter first number: \"))\n",
    "int2 = float(input(\"Enter second number: \"))\n",
    "\n",
    "# Defined the lambda function\n",
    "multiply_num = lambda int1, int2: int1 * int2\n",
    "\n",
    "# Pass the inputs to the lambda function and print the result\n",
    "result = multiply_num(int1, int2)\n",
    "print(\"The Result is:\", result)"
   ]
  },
  {
   "cell_type": "markdown",
   "id": "5f356198-a89d-4afd-89d3-c1b9bf5b4457",
   "metadata": {},
   "source": [
    "Q73. How long was athlete 17s warm up"
   ]
  },
  {
   "cell_type": "code",
   "execution_count": null,
   "id": "265c6e16-2806-455d-b4b4-b6cb7db4e94f",
   "metadata": {},
   "outputs": [],
   "source": []
  },
  {
   "cell_type": "markdown",
   "id": "9391e320-c6c3-4b85-a1b1-870e95745847",
   "metadata": {},
   "source": [
    "## Q74. Take a students full name and reverse it using a for loop"
   ]
  },
  {
   "cell_type": "code",
   "execution_count": 189,
   "id": "55ae5fba-fcc8-4ef7-854f-1081b726a6b5",
   "metadata": {},
   "outputs": [
    {
     "name": "stdout",
     "output_type": "stream",
     "text": [
      "Student Name :  Olivia Martinez\n",
      "Reverse Name :  zenitraM aivilO \n",
      "\n",
      "Student Name :  Ethan Reynolds\n",
      "Reverse Name :  sdlonyeR nahtE \n",
      "\n",
      "Student Name :  Jackson Harper\n",
      "Reverse Name :  repraH noskcaJ \n",
      "\n",
      "Student Name :  Liam Sanchez\n",
      "Reverse Name :  zehcnaS maiL \n",
      "\n",
      "Student Name :  Ava Thompson\n",
      "Reverse Name :  nospmohT avA \n",
      "\n",
      "Student Name :  Sophia Rodriguez\n",
      "Reverse Name :  zeugirdoR aihpoS \n",
      "\n",
      "Student Name :  Grace Simmons\n",
      "Reverse Name :  snommiS ecarG \n",
      "\n",
      "Student Name :  Aiden Bennett\n",
      "Reverse Name :  ttenneB nediA \n",
      "\n",
      "Student Name :  Chloe Price\n",
      "Reverse Name :  ecirP eolhC \n",
      "\n",
      "Student Name :  Lily Jordan\n",
      "Reverse Name :  nadroJ yliL \n",
      "\n",
      "Student Name :  Isabella Griffin\n",
      "Reverse Name :  niffirG allebasI \n",
      "\n",
      "Student Name :  Caleb Dixon\n",
      "Reverse Name :  noxiD belaC \n",
      "\n",
      "Student Name :  Mia Carpenter\n",
      "Reverse Name :  retnepraC aiM \n",
      "\n",
      "Student Name :  Harper Mitchell\n",
      "Reverse Name :  llehctiM repraH \n",
      "\n",
      "Student Name :  Mason Wallace\n",
      "Reverse Name :  ecallaW nosaM \n",
      "\n",
      "Student Name :  Logan Anderson\n",
      "Reverse Name :  nosrednA nagoL \n",
      "\n",
      "Student Name :  Lucas Foster\n",
      "Reverse Name :  retsoF sacuL \n",
      "\n",
      "Student Name :  Owen Myers\n",
      "Reverse Name :  sreyM newO \n",
      "\n"
     ]
    }
   ],
   "source": [
    "\n",
    "# concatenate First Name and Last Name to get Full Name\n",
    "Full_Name = ath[\"First Name\"] + \" \" + ath[\"Last Name\"]\n",
    "for x in Full_Name:\n",
    "    #Print Orignal String\n",
    "    print(\"Student Name : \", x) \n",
    "    # Reversed the String\n",
    "    print(\"Reverse Name : \", x[::-1], \"\\n\") \n",
    "    continue\n"
   ]
  },
  {
   "cell_type": "markdown",
   "id": "98c965ab-8a19-40c1-97d5-bd49336e6ff3",
   "metadata": {},
   "source": [
    "Q75. What was the maximum heart rate recorded during the test. Which athlete did it belong to? Display name, sport and HR"
   ]
  },
  {
   "cell_type": "code",
   "execution_count": null,
   "id": "e8d3d87d-8962-43f1-967b-dd155dca6155",
   "metadata": {},
   "outputs": [],
   "source": []
  },
  {
   "cell_type": "markdown",
   "id": "aaa4dd2a-9572-4995-986c-6829c256477e",
   "metadata": {},
   "source": [
    "Q76. np.arange(1,31).reshape(6,5),find array slicing to get the elements 2,5,13,25,30."
   ]
  },
  {
   "cell_type": "code",
   "execution_count": null,
   "id": "2233c8ca-f598-455e-91a4-97a6d741ffd0",
   "metadata": {},
   "outputs": [],
   "source": []
  },
  {
   "cell_type": "markdown",
   "id": "cd44be06-6f8e-4486-be9a-eeb769314851",
   "metadata": {},
   "source": [
    "Q77. Display a violin chart to show distribution of VO2Max against age."
   ]
  },
  {
   "cell_type": "code",
   "execution_count": null,
   "id": "0fa80077-7835-489f-b7b7-8a930b2e0bbf",
   "metadata": {},
   "outputs": [],
   "source": []
  },
  {
   "cell_type": "markdown",
   "id": "351ec455-71d3-41e9-9034-3125e370242f",
   "metadata": {},
   "source": [
    "Q78. Create a heatmap that show heart rate zones by minutes and the number of athletes in each HR and each minute."
   ]
  },
  {
   "cell_type": "code",
   "execution_count": null,
   "id": "e29106a3-606c-4a32-bdf9-c3e14c288e0c",
   "metadata": {},
   "outputs": [],
   "source": []
  },
  {
   "cell_type": "markdown",
   "id": "b9547b2f-1673-4f36-a52f-3d61b803a216",
   "metadata": {},
   "source": [
    "Q79. Plot the Donut chart athlete distrubution by Gender"
   ]
  },
  {
   "cell_type": "code",
   "execution_count": 160,
   "id": "124347a3-5822-44aa-805e-44b8ab03f04c",
   "metadata": {
    "scrolled": true
   },
   "outputs": [
    {
     "name": "stdout",
     "output_type": "stream",
     "text": [
      "Count of Athletes By Gender:\n",
      "    Gender  count\n",
      "0  Female     10\n",
      "1    Male      8\n",
      "[Gender    2\n",
      "count     2\n",
      "dtype: int64]\n",
      "[Gender\n",
      "Female    10\n",
      "Male       8\n",
      "Name: count, dtype: int64]\n"
     ]
    },
    {
     "ename": "ValueError",
     "evalue": "x must be 1D",
     "output_type": "error",
     "traceback": [
      "\u001b[1;31m---------------------------------------------------------------------------\u001b[0m",
      "\u001b[1;31mValueError\u001b[0m                                Traceback (most recent call last)",
      "Cell \u001b[1;32mIn[160], line 18\u001b[0m\n\u001b[0;32m     13\u001b[0m \u001b[38;5;28mprint\u001b[39m (y)\n\u001b[0;32m     15\u001b[0m \u001b[38;5;66;03m#data_melted.groupby(\"products\").nunique()\u001b[39;00m\n\u001b[0;32m     16\u001b[0m \n\u001b[0;32m     17\u001b[0m \u001b[38;5;66;03m#plot pie chart\u001b[39;00m\n\u001b[1;32m---> 18\u001b[0m plt\u001b[38;5;241m.\u001b[39mpie(y,labels\u001b[38;5;241m=\u001b[39mx,autopct\u001b[38;5;241m=\u001b[39m\u001b[38;5;124m\"\u001b[39m\u001b[38;5;132;01m%1.1f\u001b[39;00m\u001b[38;5;132;01m%%\u001b[39;00m\u001b[38;5;124m\"\u001b[39m) \u001b[38;5;66;03m#, textprops={'fontsize':12}\u001b[39;00m\n\u001b[0;32m     19\u001b[0m plt\u001b[38;5;241m.\u001b[39mtitle(\u001b[38;5;124m'\u001b[39m\u001b[38;5;124mAthletes Distribution by Gender\u001b[39m\u001b[38;5;124m'\u001b[39m, fontsize\u001b[38;5;241m=\u001b[39m\u001b[38;5;241m18\u001b[39m, color \u001b[38;5;241m=\u001b[39m\u001b[38;5;124m'\u001b[39m\u001b[38;5;124mblue\u001b[39m\u001b[38;5;124m'\u001b[39m);\n\u001b[0;32m     21\u001b[0m \u001b[38;5;66;03m#For Donut\u001b[39;00m\n",
      "File \u001b[1;32m~\\anaconda3\\Lib\\site-packages\\matplotlib\\pyplot.py:3558\u001b[0m, in \u001b[0;36mpie\u001b[1;34m(x, explode, labels, colors, autopct, pctdistance, shadow, labeldistance, startangle, radius, counterclock, wedgeprops, textprops, center, frame, rotatelabels, normalize, hatch, data)\u001b[0m\n\u001b[0;32m   3535\u001b[0m \u001b[38;5;129m@_copy_docstring_and_deprecators\u001b[39m(Axes\u001b[38;5;241m.\u001b[39mpie)\n\u001b[0;32m   3536\u001b[0m \u001b[38;5;28;01mdef\u001b[39;00m \u001b[38;5;21mpie\u001b[39m(\n\u001b[0;32m   3537\u001b[0m     x: ArrayLike,\n\u001b[1;32m   (...)\u001b[0m\n\u001b[0;32m   3556\u001b[0m     data\u001b[38;5;241m=\u001b[39m\u001b[38;5;28;01mNone\u001b[39;00m,\n\u001b[0;32m   3557\u001b[0m ) \u001b[38;5;241m-\u001b[39m\u001b[38;5;241m>\u001b[39m \u001b[38;5;28mtuple\u001b[39m[\u001b[38;5;28mlist\u001b[39m[Wedge], \u001b[38;5;28mlist\u001b[39m[Text]] \u001b[38;5;241m|\u001b[39m \u001b[38;5;28mtuple\u001b[39m[\u001b[38;5;28mlist\u001b[39m[Wedge], \u001b[38;5;28mlist\u001b[39m[Text], \u001b[38;5;28mlist\u001b[39m[Text]]:\n\u001b[1;32m-> 3558\u001b[0m     \u001b[38;5;28;01mreturn\u001b[39;00m gca()\u001b[38;5;241m.\u001b[39mpie(\n\u001b[0;32m   3559\u001b[0m         x,\n\u001b[0;32m   3560\u001b[0m         explode\u001b[38;5;241m=\u001b[39mexplode,\n\u001b[0;32m   3561\u001b[0m         labels\u001b[38;5;241m=\u001b[39mlabels,\n\u001b[0;32m   3562\u001b[0m         colors\u001b[38;5;241m=\u001b[39mcolors,\n\u001b[0;32m   3563\u001b[0m         autopct\u001b[38;5;241m=\u001b[39mautopct,\n\u001b[0;32m   3564\u001b[0m         pctdistance\u001b[38;5;241m=\u001b[39mpctdistance,\n\u001b[0;32m   3565\u001b[0m         shadow\u001b[38;5;241m=\u001b[39mshadow,\n\u001b[0;32m   3566\u001b[0m         labeldistance\u001b[38;5;241m=\u001b[39mlabeldistance,\n\u001b[0;32m   3567\u001b[0m         startangle\u001b[38;5;241m=\u001b[39mstartangle,\n\u001b[0;32m   3568\u001b[0m         radius\u001b[38;5;241m=\u001b[39mradius,\n\u001b[0;32m   3569\u001b[0m         counterclock\u001b[38;5;241m=\u001b[39mcounterclock,\n\u001b[0;32m   3570\u001b[0m         wedgeprops\u001b[38;5;241m=\u001b[39mwedgeprops,\n\u001b[0;32m   3571\u001b[0m         textprops\u001b[38;5;241m=\u001b[39mtextprops,\n\u001b[0;32m   3572\u001b[0m         center\u001b[38;5;241m=\u001b[39mcenter,\n\u001b[0;32m   3573\u001b[0m         frame\u001b[38;5;241m=\u001b[39mframe,\n\u001b[0;32m   3574\u001b[0m         rotatelabels\u001b[38;5;241m=\u001b[39mrotatelabels,\n\u001b[0;32m   3575\u001b[0m         normalize\u001b[38;5;241m=\u001b[39mnormalize,\n\u001b[0;32m   3576\u001b[0m         hatch\u001b[38;5;241m=\u001b[39mhatch,\n\u001b[0;32m   3577\u001b[0m         \u001b[38;5;241m*\u001b[39m\u001b[38;5;241m*\u001b[39m({\u001b[38;5;124m\"\u001b[39m\u001b[38;5;124mdata\u001b[39m\u001b[38;5;124m\"\u001b[39m: data} \u001b[38;5;28;01mif\u001b[39;00m data \u001b[38;5;129;01mis\u001b[39;00m \u001b[38;5;129;01mnot\u001b[39;00m \u001b[38;5;28;01mNone\u001b[39;00m \u001b[38;5;28;01melse\u001b[39;00m {}),\n\u001b[0;32m   3578\u001b[0m     )\n",
      "File \u001b[1;32m~\\anaconda3\\Lib\\site-packages\\matplotlib\\__init__.py:1465\u001b[0m, in \u001b[0;36m_preprocess_data.<locals>.inner\u001b[1;34m(ax, data, *args, **kwargs)\u001b[0m\n\u001b[0;32m   1462\u001b[0m \u001b[38;5;129m@functools\u001b[39m\u001b[38;5;241m.\u001b[39mwraps(func)\n\u001b[0;32m   1463\u001b[0m \u001b[38;5;28;01mdef\u001b[39;00m \u001b[38;5;21minner\u001b[39m(ax, \u001b[38;5;241m*\u001b[39margs, data\u001b[38;5;241m=\u001b[39m\u001b[38;5;28;01mNone\u001b[39;00m, \u001b[38;5;241m*\u001b[39m\u001b[38;5;241m*\u001b[39mkwargs):\n\u001b[0;32m   1464\u001b[0m     \u001b[38;5;28;01mif\u001b[39;00m data \u001b[38;5;129;01mis\u001b[39;00m \u001b[38;5;28;01mNone\u001b[39;00m:\n\u001b[1;32m-> 1465\u001b[0m         \u001b[38;5;28;01mreturn\u001b[39;00m func(ax, \u001b[38;5;241m*\u001b[39m\u001b[38;5;28mmap\u001b[39m(sanitize_sequence, args), \u001b[38;5;241m*\u001b[39m\u001b[38;5;241m*\u001b[39mkwargs)\n\u001b[0;32m   1467\u001b[0m     bound \u001b[38;5;241m=\u001b[39m new_sig\u001b[38;5;241m.\u001b[39mbind(ax, \u001b[38;5;241m*\u001b[39margs, \u001b[38;5;241m*\u001b[39m\u001b[38;5;241m*\u001b[39mkwargs)\n\u001b[0;32m   1468\u001b[0m     auto_label \u001b[38;5;241m=\u001b[39m (bound\u001b[38;5;241m.\u001b[39marguments\u001b[38;5;241m.\u001b[39mget(label_namer)\n\u001b[0;32m   1469\u001b[0m                   \u001b[38;5;129;01mor\u001b[39;00m bound\u001b[38;5;241m.\u001b[39mkwargs\u001b[38;5;241m.\u001b[39mget(label_namer))\n",
      "File \u001b[1;32m~\\anaconda3\\Lib\\site-packages\\matplotlib\\axes\\_axes.py:3224\u001b[0m, in \u001b[0;36mAxes.pie\u001b[1;34m(self, x, explode, labels, colors, autopct, pctdistance, shadow, labeldistance, startangle, radius, counterclock, wedgeprops, textprops, center, frame, rotatelabels, normalize, hatch)\u001b[0m\n\u001b[0;32m   3222\u001b[0m x \u001b[38;5;241m=\u001b[39m np\u001b[38;5;241m.\u001b[39masarray(x, np\u001b[38;5;241m.\u001b[39mfloat32)\n\u001b[0;32m   3223\u001b[0m \u001b[38;5;28;01mif\u001b[39;00m x\u001b[38;5;241m.\u001b[39mndim \u001b[38;5;241m>\u001b[39m \u001b[38;5;241m1\u001b[39m:\n\u001b[1;32m-> 3224\u001b[0m     \u001b[38;5;28;01mraise\u001b[39;00m \u001b[38;5;167;01mValueError\u001b[39;00m(\u001b[38;5;124m\"\u001b[39m\u001b[38;5;124mx must be 1D\u001b[39m\u001b[38;5;124m\"\u001b[39m)\n\u001b[0;32m   3226\u001b[0m \u001b[38;5;28;01mif\u001b[39;00m np\u001b[38;5;241m.\u001b[39many(x \u001b[38;5;241m<\u001b[39m \u001b[38;5;241m0\u001b[39m):\n\u001b[0;32m   3227\u001b[0m     \u001b[38;5;28;01mraise\u001b[39;00m \u001b[38;5;167;01mValueError\u001b[39;00m(\u001b[38;5;124m\"\u001b[39m\u001b[38;5;124mWedge sizes \u001b[39m\u001b[38;5;124m'\u001b[39m\u001b[38;5;124mx\u001b[39m\u001b[38;5;124m'\u001b[39m\u001b[38;5;124m must be non negative values\u001b[39m\u001b[38;5;124m\"\u001b[39m)\n",
      "\u001b[1;31mValueError\u001b[0m: x must be 1D"
     ]
    },
    {
     "data": {
      "image/png": "[encoded data removed]",
      "text/plain": [
       "<Figure size 640x480 with 1 Axes>"
      ]
     },
     "metadata": {},
     "output_type": "display_data"
    }
   ],
   "source": [
    "#Number of Athletes by Gender\n",
    "print(\"Count of Athletes By Gender:\\n\",ath['Gender'].value_counts().reset_index())\n",
    "\n",
    "#-----------------------------------------------------------\n",
    "\n",
    "#Assign x and y values\n",
    "x=[ath['Gender'].value_counts().reset_index().nunique()]\n",
    "#x1=x.groupby('Gender').nunique()\n",
    "y=[(ath['Gender'].value_counts())]\n",
    "#explodes=[0,0]\n",
    "print (x)\n",
    "print (y)\n",
    "\n",
    "#data_melted.groupby(\"products\").nunique()\n",
    "\n",
    "#plot pie chart\n",
    "plt.pie(y,labels=x,autopct=\"%1.1f%%\") #, textprops={'fontsize':12}\n",
    "plt.title('Athletes Distribution by Gender', fontsize=18, color ='blue');\n",
    "\n",
    "#For Donut\n",
    "mid_circle=plt.Circle(xy=(0,0), radius=.75, facecolor='white')\n",
    "plt.gca().add_artist(mid_circle)\n",
    "plt.show()\n",
    "\n"
   ]
  },
  {
   "cell_type": "markdown",
   "id": "00094e56-fdf2-4754-8c88-17a5b17176bd",
   "metadata": {},
   "source": [
    "## Q80. find the size of Tuple for any given input."
   ]
  },
  {
   "cell_type": "code",
   "execution_count": 104,
   "id": "eb806d32-73b5-4e23-94eb-67058be76605",
   "metadata": {},
   "outputs": [
    {
     "name": "stdin",
     "output_type": "stream",
     "text": [
      "Enter Input:  Jyoti\n"
     ]
    },
    {
     "name": "stdout",
     "output_type": "stream",
     "text": [
      "Given tuple size:  5\n"
     ]
    }
   ],
   "source": [
    "# Took input from user\n",
    "My_tuple = input(\"Enter Input: \")\n",
    "\n",
    "# Count length of tuple and store in size\n",
    "size = len(My_tuple)\n",
    "\n",
    "print(\"Given tuple size: \",size) # Print the output"
   ]
  },
  {
   "cell_type": "code",
   "execution_count": null,
   "id": "a32685f2-5be6-4796-aabc-fc28151510c8",
   "metadata": {},
   "outputs": [],
   "source": []
  }
 ],
 "metadata": {
  "kernelspec": {
   "display_name": "Python 3 (ipykernel)",
   "language": "python",
   "name": "python3"
  },
  "language_info": {
   "codemirror_mode": {
    "name": "ipython",
    "version": 3
   },
   "file_extension": ".py",
   "mimetype": "text/x-python",
   "name": "python",
   "nbconvert_exporter": "python",
   "pygments_lexer": "ipython3",
   "version": "3.12.4"
  }
 },
 "nbformat": 4,
 "nbformat_minor": 5
}
