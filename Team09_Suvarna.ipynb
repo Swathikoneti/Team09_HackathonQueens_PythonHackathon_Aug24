{
 "cells": [
  {
   "cell_type": "code",
   "execution_count": 3,
   "id": "6675596e-32a8-462e-832b-ecb2550dc282",
   "metadata": {},
   "outputs": [],
   "source": [
    "import pandas as pd \n",
    "import numpy as np \n",
    "import seaborn as sns\n",
    "import matplotlib.pyplot as plt\n",
    "import warnings\n",
    "warnings.filterwarnings(\"ignore\")"
   ]
  },
  {
   "cell_type": "code",
   "execution_count": 10,
   "id": "731f22b2-2d17-4704-9c03-d17fa94de3f3",
   "metadata": {},
   "outputs": [],
   "source": [
    "#Read the excel file and store the sheets into dataframes.\n",
    "\n",
    "df = pd.ExcelFile(r\"V02Max_Combined.xlsx\")\n",
    "kay = pd.read_excel(df, sheet_name = 'Kayaking')\n",
    "ath = pd.read_excel(df, sheet_name = 'Athletes')\n",
    "tri = pd.read_excel(df, sheet_name = 'Triathlon')\n",
    "fen = pd.read_excel(df, sheet_name = 'Fencing')"
   ]
  },
  {
   "cell_type": "markdown",
   "id": "b5b5e55a-e66a-4251-a035-27daf1f78b6f",
   "metadata": {},
   "source": [
    "<span style=\"font-size:24px;\">##Qn 1: Join all sport-related tables to produce one dataframe that has all athletes values. The final table should only have the same 5 columns: ID, time,power,RR, vo2, power. Write this dataframe to an excel file.</span>\n"
   ]
  },
  {
   "cell_type": "code",
   "execution_count": 11,
   "id": "74e4d0dd-e3bd-41b7-b111-4f9bd25b6cfe",
   "metadata": {},
   "outputs": [
    {
     "name": "stdout",
     "output_type": "stream",
     "text": [
      "Dataframe successfully written to Excel file FinalVO2_Table.xlsx\n",
      "\n",
      "Reading FinalVO2_Table.xlsx Excel file for Verification:\n",
      "       ID     time     RR       VO2  power\n",
      "0       1 -130.840  672.0  0.302008      0\n",
      "1       1 -130.168  672.0  0.302008      0\n",
      "2       1 -129.536  632.0  0.301336      0\n",
      "3       1 -128.824  712.0  0.301336      0\n",
      "4       1 -127.948  876.0  0.301336      0\n",
      "...    ..      ...    ...       ...    ...\n",
      "52057  18  947.288  536.0  0.507071      0\n",
      "52058  18  947.816  528.0  0.507071      0\n",
      "52059  18  948.344  528.0  0.507071      0\n",
      "52060  18  948.884  540.0  0.507071      0\n",
      "52061  18  949.424  540.0  0.507071      0\n",
      "\n",
      "[52062 rows x 5 columns]\n"
     ]
    }
   ],
   "source": [
    "#Concatenating all sport related table to one dataframe final_table\n",
    "final_table=pd.concat([fen[['ID','time','RR','VO2','power']],\n",
    "                       kay[['ID','time','RR','VO2','power']],\n",
    "                       tri[['ID','time','RR','VO2','power']]],ignore_index=True)\n",
    "\n",
    "#defining output excel file name\n",
    "output='FinalVO2_Table.xlsx'\n",
    "\n",
    "#writing dataframe to excel using to_excel\n",
    "final_table.to_excel(output,index=False)\n",
    "print(\"Dataframe successfully written to Excel file\",output)\n",
    "\n",
    "#Reading the excel file back into dataframe for verification\n",
    "print(\"\\nReading\",output,\"Excel file for Verification:\")\n",
    "sportdf=pd.read_excel(\"FinalVO2_Table.xlsx\")\n",
    "print(sportdf)"
   ]
  },
  {
   "cell_type": "markdown",
   "id": "f3abc351-8665-4cea-8ff3-bbc5f6ea67f0",
   "metadata": {},
   "source": [
    "<span style=\"font-size:24px;\">##Qn 2: Divide the rows into 3 parts: Warm up, GET(graded exercise test) and cool down using the data def. Label each row accordingly</span>\n"
   ]
  },
  {
   "cell_type": "code",
   "execution_count": 13,
   "id": "accb5666-d048-4102-a91e-2d22b714d125",
   "metadata": {},
   "outputs": [
    {
     "name": "stdout",
     "output_type": "stream",
     "text": [
      "       ID     time     RR       VO2  power      Phase\n",
      "0       1 -130.840  672.0  0.302008      0    Warm Up\n",
      "1       1 -130.168  672.0  0.302008      0    Warm Up\n",
      "2       1 -129.536  632.0  0.301336      0    Warm Up\n",
      "3       1 -128.824  712.0  0.301336      0    Warm Up\n",
      "4       1 -127.948  876.0  0.301336      0    Warm Up\n",
      "...    ..      ...    ...       ...    ...        ...\n",
      "52057  18  947.288  536.0  0.507071      0  Cool Down\n",
      "52058  18  947.816  528.0  0.507071      0  Cool Down\n",
      "52059  18  948.344  528.0  0.507071      0  Cool Down\n",
      "52060  18  948.884  540.0  0.507071      0  Cool Down\n",
      "52061  18  949.424  540.0  0.507071      0  Cool Down\n",
      "\n",
      "[52062 rows x 6 columns]\n"
     ]
    }
   ],
   "source": [
    "\n",
    "\n",
    "#Initialize Dataframe phase\n",
    "phase=pd.DataFrame(final_table)\n",
    "\n",
    "#initialize Phase column\n",
    "phase['Phase']='Other Phase'\n",
    "\n",
    "#Apply conditions to find Warm Up-time less than 0,GET-time>=0 and power>0,Cool Down-time>0 and power=0\n",
    "phase.loc[phase['time']<0,'Phase']='Warm Up'\n",
    "phase.loc[(phase['time']>=0) & (phase['power']>0),'Phase']='GET'\n",
    "phase.loc[(phase['time']>0) & (phase['power']==0),'Phase']='Cool Down'\n",
    "\n",
    "#print dataframe phase details\n",
    "print(phase)"
   ]
  },
  {
   "cell_type": "markdown",
   "id": "3add9cf7-b1aa-490e-b611-bf4554869913",
   "metadata": {},
   "source": [
    "## Qn 17: What is the maximum ventilatory threshold for triathletes.\n"
   ]
  },
  {
   "cell_type": "code",
   "execution_count": 20,
   "id": "afef2d17-04ae-4e69-ae0d-977284720f21",
   "metadata": {},
   "outputs": [
    {
     "name": "stdout",
     "output_type": "stream",
     "text": [
      "Maximum Vantilatory Threshold 1 : 101\n",
      "Maximum Vantilatory Threshold 2 : 168\n"
     ]
    }
   ],
   "source": [
    "#merging triathlon and athlete datasets\n",
    "max_VT=ath[ath['sport'] == 'triathlon']\n",
    "\n",
    "#getting max VT \n",
    "max_pvt1=max_VT['P_vt1'].max()\n",
    "max_pvt2=max_VT['P_vt2'].max()\n",
    "print('Maximum Vantilatory Threshold 1 :', max_pvt1)\n",
    "print('Maximum Vantilatory Threshold 2 :', max_pvt2)\n"
   ]
  },
  {
   "cell_type": "markdown",
   "id": "7d6cf45a-be4e-4bc3-8b82-af35968b7406",
   "metadata": {},
   "source": [
    "## Qn 18: Display the number of athletes in every sport against the name of the sport.\n"
   ]
  },
  {
   "cell_type": "code",
   "execution_count": 32,
   "id": "0df318c7-1561-44b4-b714-938ae39cd032",
   "metadata": {},
   "outputs": [
    {
     "data": {
      "text/html": [
       "<div>\n",
       "<style scoped>\n",
       "    .dataframe tbody tr th:only-of-type {\n",
       "        vertical-align: middle;\n",
       "    }\n",
       "\n",
       "    .dataframe tbody tr th {\n",
       "        vertical-align: top;\n",
       "    }\n",
       "\n",
       "    .dataframe thead th {\n",
       "        text-align: right;\n",
       "    }\n",
       "</style>\n",
       "<table border=\"1\" class=\"dataframe\">\n",
       "  <thead>\n",
       "    <tr style=\"text-align: right;\">\n",
       "      <th></th>\n",
       "      <th>sport</th>\n",
       "      <th>Count</th>\n",
       "    </tr>\n",
       "  </thead>\n",
       "  <tbody>\n",
       "    <tr>\n",
       "      <th>0</th>\n",
       "      <td>fencing</td>\n",
       "      <td>10</td>\n",
       "    </tr>\n",
       "    <tr>\n",
       "      <th>1</th>\n",
       "      <td>kayak</td>\n",
       "      <td>6</td>\n",
       "    </tr>\n",
       "    <tr>\n",
       "      <th>2</th>\n",
       "      <td>triathlon</td>\n",
       "      <td>2</td>\n",
       "    </tr>\n",
       "  </tbody>\n",
       "</table>\n",
       "</div>"
      ],
      "text/plain": [
       "       sport  Count\n",
       "0    fencing     10\n",
       "1      kayak      6\n",
       "2  triathlon      2"
      ]
     },
     "execution_count": 32,
     "metadata": {},
     "output_type": "execute_result"
    }
   ],
   "source": [
    "#find counts of athletes\n",
    "sport_ct=ath.groupby('sport')['ID'].nunique()\n",
    "sport_ct=sport_ct.reset_index(name='Count')\n",
    "#printing the result\n",
    "sport_ct"
   ]
  },
  {
   "cell_type": "markdown",
   "id": "2d2544b0-a573-48be-8609-845a39214189",
   "metadata": {},
   "source": [
    "## Qn 19:Display a bar chart showing the average V02 Max by sport.\n"
   ]
  },
  {
   "cell_type": "code",
   "execution_count": 38,
   "id": "ac22c3d7-263e-47ad-8456-fb36a493df66",
   "metadata": {},
   "outputs": [
    {
     "name": "stdout",
     "output_type": "stream",
     "text": [
      "VO2 max for each sport:\n",
      "       sport    Max VO2\n",
      "0    fencing  57.460350\n",
      "1      kayak  77.345233\n",
      "2  triathlon  77.499291\n"
     ]
    },
    {
     "data": {
      "image/png": "[encoded data removed]",
      "text/plain": [
       "<Figure size 1000x600 with 1 Axes>"
      ]
     },
     "metadata": {},
     "output_type": "display_data"
    }
   ],
   "source": [
    "maxVO2=pd.DataFrame(ath)\n",
    "#Sum the VO2 values for each ID\n",
    "total_VO2 = final_table.groupby('ID')['VO2'].sum().reset_index()\n",
    "#Merge sum of VO2 values for each id to maxVO2 dataframe\n",
    "maxVO2=pd.merge(maxVO2,total_VO2,on='ID')\n",
    "#print(maxVO2)\n",
    "#Find Max VO2 which is VO2 divided by each athlete weight\n",
    "maxVO2['Max VO2']=maxVO2['VO2']/maxVO2['Weight']\n",
    "#find the avg vo2 max group by sport\n",
    "avg_maxvo2=maxVO2.groupby('sport')['Max VO2'].mean().reset_index()\n",
    "print('VO2 max for each sport:')\n",
    "print(avg_maxvo2)\n",
    "# Set the style of the plot\n",
    "sns.set_style('darkgrid' ,{'grid.color': '.6', 'grid.linestyle': ':'})\n",
    "#Plot bar chart\n",
    "plt.figure(figsize=(10, 6))\n",
    "ax=sns.barplot(x='sport', y='Max VO2', data=avg_maxvo2, palette='husl')\n",
    "#To show count\n",
    "for p in ax.patches:\n",
    " height = p.get_height()\n",
    " # Format height to 2 decimal points\n",
    " label = f'{height:.2f}'\n",
    " ax.annotate(label, (p.get_x() + p.get_width() / 2., height), ha='center',va='baseline', fontsize=10, color='black', xytext=(0, 10), textcoords='offset points')\n",
    "#Assign titles and lables\n",
    "plt.title('Average VO2 Max by Sport',fontsize=18, color ='Purple')\n",
    "plt.xlabel('Sport', fontsize=14, color ='Purple')\n",
    "plt.ylabel('Average VO2 Max', fontsize=14, color ='Purple')\n",
    "plt.xticks(fontsize=14);\n",
    "plt.yticks(fontsize=14);\n",
    "plt.show()"
   ]
  },
  {
   "cell_type": "markdown",
   "id": "367a9cd3-e84a-4dd1-a00e-76a5ae62d822",
   "metadata": {},
   "source": [
    "<span style=\"font-size:24px;\">##Qn:20 Analyze the trend of HR at the start of the test vs the middle and the end.What is the overall trend?</span> \n"
   ]
  },
  {
   "cell_type": "code",
   "execution_count": 41,
   "id": "c5500030-9b47-4a15-9d0d-89e445dc40d9",
   "metadata": {},
   "outputs": [
    {
     "name": "stdout",
     "output_type": "stream",
     "text": [
      "DataFrame:\n",
      "   ID     time     RR       VO2  power\n",
      "0   1 -130.840  672.0  0.302008      0\n",
      "1   1 -130.168  672.0  0.302008      0\n",
      "2   1 -129.536  632.0  0.301336      0\n",
      "3   1 -128.824  712.0  0.301336      0\n",
      "4   1 -127.948  876.0  0.301336      0\n",
      "\n",
      "Trend Data:\n",
      "    Phase          HR\n",
      "0   Start   89.285714\n",
      "1  Middle  151.515152\n",
      "2     End  111.111111\n"
     ]
    },
    {
     "data": {
      "image/png": "[encoded data removed]",
      "text/plain": [
       "<Figure size 800x500 with 1 Axes>"
      ]
     },
     "metadata": {},
     "output_type": "display_data"
    },
    {
     "name": "stdout",
     "output_type": "stream",
     "text": [
      "\n",
      "Overall Trend: Variable\n",
      "\n",
      "Overall Trend: Variable\n"
     ]
    }
   ],
   "source": [
    "# Load the data\n",
    "\n",
    "df = pd.DataFrame(final_table)\n",
    "# Display the first few rows of the DataFrame (optional)\n",
    "print(\"DataFrame:\")\n",
    "print(df.head())\n",
    "\n",
    "#calculating HR\n",
    "df['HR']=60/(df['RR']/1000)\n",
    "# Extract HR values at the start, middle, and end\n",
    "start_hr = df['HR'].iloc[0]  # First entry (start of the test)\n",
    "middle_hr = df['HR'].iloc[len(df) // 2]  # Middle entry\n",
    "end_hr = df['HR'].iloc[-1]  # Last entry (end of the test)\n",
    "\n",
    "# Create a DataFrame for trend analysis\n",
    "trend_data = pd.DataFrame({\n",
    "    'Phase': ['Start', 'Middle', 'End'],\n",
    "    'HR': [start_hr, middle_hr, end_hr]\n",
    "})\n",
    "\n",
    "# Display the trend data\n",
    "print(\"\\nTrend Data:\")\n",
    "print(trend_data)\n",
    "\n",
    "# Visualize the trend\n",
    "plt.figure(figsize=(8, 5))\n",
    "plt.plot(trend_data['Phase'], trend_data['HR'], marker='o')\n",
    "plt.title('Trend of Heart Rate (HR) During the Test')\n",
    "plt.xlabel('Test Phase')\n",
    "plt.ylabel('Heart Rate (HR)')\n",
    "plt.grid()\n",
    "plt.tight_layout()\n",
    "plt.show()\n",
    "\n",
    "# Analyze the overall trend\n",
    "if start_hr < middle_hr < end_hr:\n",
    "    overall_trend = \"Increasing\"\n",
    "elif start_hr > middle_hr > end_hr:\n",
    "    overall_trend = \"Decreasing\"\n",
    "else:\n",
    "    overall_trend = \"Variable\"\n",
    "\n",
    "print(f\"\\nOverall Trend: {overall_trend}\")\n",
    "\r\n",
    "\r\n",
    "print(f\"\\nOverall Trend: {overall_trend}\")\r\n",
    "\r\n",
    "\r\n",
    "\r\n"
   ]
  },
  {
   "cell_type": "markdown",
   "id": "d780d565-f5aa-4713-819e-d185f2a1074c",
   "metadata": {},
   "source": [
    "<span style=\"font-size:24px;\">##Qn21:Display a pie chart of number of athletes by sport.</span>."
   ]
  },
  {
   "cell_type": "code",
   "execution_count": 45,
   "id": "79fd9524-907b-471a-b4b0-029a2be99975",
   "metadata": {},
   "outputs": [
    {
     "data": {
      "image/png": "[encoded data removed]",
      "text/plain": [
       "<Figure size 1000x600 with 1 Axes>"
      ]
     },
     "metadata": {},
     "output_type": "display_data"
    }
   ],
   "source": [
    "# Count the number of athletes by sport\n",
    "athlete_counts = ath['sport'].value_counts() \n",
    "\n",
    "# Create a pie chart\n",
    "plt.figure(figsize=(10, 6))\n",
    "plt.pie(athlete_counts, labels=athlete_counts.index, autopct='%1.1f%%', startangle=140)\n",
    "plt.title('Number of Athletes by Sport')\n",
    "plt.axis('equal')  # Equal aspect ratio ensures that pie chart is circular.\n",
    "plt.tight_layout()\n",
    "plt.show()"
   ]
  },
  {
   "cell_type": "markdown",
   "id": "50648a70-0650-45c6-9754-2f7089361f76",
   "metadata": {},
   "source": [
    "<span style=\"font-size:24px;\">## Qn22:Using any 10 HR values print even if the value is an even number and odd if its an odd number</span>\n"
   ]
  },
  {
   "cell_type": "code",
   "execution_count": 53,
   "id": "5c7519ed-399f-4a3a-aace-942232270be1",
   "metadata": {},
   "outputs": [
    {
     "name": "stdout",
     "output_type": "stream",
     "text": [
      "131.57894736842104 is odd\n",
      "127.11864406779662 is odd\n",
      "166.66666666666669 is odd\n",
      "137.61467889908258 is odd\n",
      "132.7433628318584 is odd\n",
      "126.05042016806723 is odd\n",
      "82.41758241758242 is odd\n",
      "132.7433628318584 is odd\n",
      "142.85714285714286 is odd\n",
      "150.0 is even\n"
     ]
    }
   ],
   "source": [
    "# Fetch RR values from Triathlon\n",
    "tri['HR']=60/(tri['RR']/1000)\n",
    "hr_values = tri['HR'].sample(n=10, random_state=1).tolist() \n",
    "\n",
    "# Print even or odd for each HR value\n",
    "for hr in hr_values:\n",
    "    if hr % 2 == 0:\n",
    "        print(f\"{hr} is even\")\n",
    "    else:\n",
    "        print(f\"{hr} is odd\")"
   ]
  },
  {
   "cell_type": "markdown",
   "id": "be264fca-918e-4e01-8483-93613041765d",
   "metadata": {},
   "source": [
    "<span style=\"font-size:24px;\">##Qn 23: Which heart rate zone did most participants spend the longest duration of time in?</span>\n"
   ]
  },
  {
   "cell_type": "code",
   "execution_count": 631,
   "id": "7635ae9f-5665-46b0-becc-6cc5f18bc495",
   "metadata": {},
   "outputs": [
    {
     "name": "stdout",
     "output_type": "stream",
     "text": [
      "DataFrame:\n",
      "   ID     time   RR       VO2  power         HR      Zone\n",
      "0   1 -130.840  672  0.302008      0  89.285714  Moderate\n",
      "1   1 -130.168  672  0.302008      0  89.285714  Moderate\n",
      "2   1 -129.536  632  0.301336      0  94.936709  Moderate\n",
      "3   1 -128.824  712  0.301336      0  84.269663  Moderate\n",
      "4   1 -127.948  876  0.301336      0  68.493151  Moderate\n",
      "\n",
      "Duration in Each Heart Rate Zone:\n",
      "       Zone          time\n",
      "0   Maximal  1.070860e+07\n",
      "1  Moderate -1.736734e+05\n",
      "2   Resting -1.662085e+04\n",
      "3  Vigorous  3.659421e+06\n",
      "\n",
      "Zone with the longest duration: Maximal with 10708599.02 units of time.\n"
     ]
    }
   ],
   "source": [
    "# Display the first few rows of the DataFrame (optional)\n",
    "print(\"DataFrame:\")\n",
    "print(fen.head())\n",
    "\n",
    "# Define heart rate zones (example ranges)\n",
    "def heart_rate_zone(hr):\n",
    "    if hr < 60:\n",
    "        return 'Resting'\n",
    "    elif 60 <= hr < 100:\n",
    "        return 'Moderate'\n",
    "    elif 100 <= hr < 140:\n",
    "        return 'Vigorous'\n",
    "    else:\n",
    "        return 'Maximal'\n",
    "fen['HR']=60/(fen['RR']/1000)\n",
    "# Apply the function to create a new column for heart rate zone\n",
    "fen['Zone'] = fen['HR'].apply(heart_rate_zone) \n",
    "\n",
    "# Calculate the duration spent in each zone for each participant\n",
    "\n",
    "zone_duration = fen.groupby('Zone')['time'].sum().reset_index() \n",
    "\n",
    "# Identify the zone with the maximum duration\n",
    "max_zone = zone_duration.loc[zone_duration['time'].idxmax()]\n",
    "\n",
    "# Display the results\n",
    "print(\"\\nDuration in Each Heart Rate Zone:\")\n",
    "print(zone_duration)\n",
    "print(f\"\\nZone with the longest duration: {max_zone['Zone']} with {max_zone['time']} units of time.\")\n"
   ]
  },
  {
   "cell_type": "markdown",
   "id": "e250ed86-618c-40ca-a303-2d8493b04d57",
   "metadata": {},
   "source": [
    "<span style=\"font-size:24px;\">##Qn 24:Store athlete name and sport in a dictionary as a pair of values.</span>"
   ]
  },
  {
   "cell_type": "code",
   "execution_count": 633,
   "id": "a8de6cfa-36a5-4da7-b999-8a62b9bfb57a",
   "metadata": {},
   "outputs": [
    {
     "name": "stdout",
     "output_type": "stream",
     "text": [
      "DataFrame:\n",
      "   ID  age  Weight  Height  P_vt1  P_vt2    sport  Gender Ethnicity  \\\n",
      "0   1   15    53.7     161     50    140  fencing  Female   African   \n",
      "1   2   15    56.2     162     80    127  fencing    Male   African   \n",
      "2   3   16    89.9     191    155    300  fencing    Male     White   \n",
      "3   4   16    76.5     180    215    275  fencing    Male     White   \n",
      "4   5   17    76.4     186    110    172  fencing  Female     White   \n",
      "\n",
      "  First Name Last Name  \n",
      "0     Olivia  Martinez  \n",
      "1      Ethan  Reynolds  \n",
      "2    Jackson    Harper  \n",
      "3       Liam   Sanchez  \n",
      "4        Ava  Thompson  \n",
      "\n",
      "Athlete and Sport Dictionary:\n",
      "{'Olivia Martinez': 'fencing', 'Ethan Reynolds': 'fencing', 'Jackson Harper': 'fencing', 'Liam Sanchez': 'fencing', 'Ava Thompson': 'fencing', 'Sophia Rodriguez': 'fencing', 'Grace Simmons': 'fencing', 'Aiden Bennett': 'fencing', 'Chloe Price': 'fencing', 'Lily Jordan': 'fencing', 'Isabella Griffin': 'kayak', 'Caleb Dixon': 'kayak', 'Mia Carpenter': 'kayak', 'Harper Mitchell': 'kayak', 'Mason Wallace': 'kayak', 'Logan Anderson': 'kayak', 'Lucas Foster': 'triathlon', 'Owen Myers': 'triathlon'}\n"
     ]
    }
   ],
   "source": [
    "\n",
    "print(\"DataFrame:\")\n",
    "print(ath.head())\n",
    "\n",
    "#concatenate first name and last name for row name\n",
    "ath['full_nm'] = ath['First Name'] + \" \" + ath['Last Name']\n",
    "athlete_sport_dict = {row['full_nm']:row['sport'] for index, row in ath.iterrows()}\n",
    "\n",
    "# Display the dictionary\n",
    "print(\"\\nAthlete and Sport Dictionary:\")\n",
    "print(athlete_sport_dict)"
   ]
  },
  {
   "cell_type": "markdown",
   "id": "f27cbf5e-1cd8-4551-b298-373cc40a1c58",
   "metadata": {},
   "source": [
    "<span style=\"font-size:24px;\">##Question 25:Using arrays and loops, find the count of athletes based on gender.</span>"
   ]
  },
  {
   "cell_type": "code",
   "execution_count": 55,
   "id": "51c7515a-cddd-4ea0-a450-4e1776238bca",
   "metadata": {},
   "outputs": [
    {
     "name": "stdout",
     "output_type": "stream",
     "text": [
      "\n",
      "Count of Athletes by Gender:\n",
      "Female: 10\n",
      "Male: 8\n"
     ]
    }
   ],
   "source": [
    "#fetch Gender of Athletes\n",
    "athlete_genders = ath['Gender'].tolist()  # Convert the Gender column to a list\n",
    "\n",
    "# Initialize a count dictionary\n",
    "gender_count = {}\n",
    "\n",
    "# Loop through the array to count genders\n",
    "for gender in athlete_genders:\n",
    "    if gender in gender_count:\n",
    "        gender_count[gender] += 1  # Increment count if gender already exists\n",
    "    else:\n",
    "        gender_count[gender] = 1  # Initialize count if gender is encountered for the first time\n",
    "\n",
    "# Display the counts of athletes based on gender\n",
    "print(\"\\nCount of Athletes by Gender:\")\n",
    "for gender, count in gender_count.items():\n",
    "    print(f\"{gender}: {count}\")"
   ]
  },
  {
   "cell_type": "markdown",
   "id": "b5d8596b-4945-462a-a942-e5392dde1365",
   "metadata": {},
   "source": [
    "<span style=\"font-size:24px;\">##Qn 26:Create a sankey diagram to show the groups of race within each sport</span>"
   ]
  },
  {
   "cell_type": "code",
   "execution_count": 73,
   "id": "97df1dc1-67c0-42b2-a7ca-dbf85a3ba129",
   "metadata": {},
   "outputs": [
    {
     "data": {
      "application/vnd.plotly.v1+json": {
       "config": {
        "plotlyServerURL": "https://plot.ly"
       },
       "data": [
        {
         "link": {
          "source": [
           0,
           0,
           1,
           1,
           1,
           2
          ],
          "target": [
           3,
           4,
           3,
           5,
           6,
           6
          ],
          "value": [
           4,
           6,
           2,
           2,
           2,
           2
          ]
         },
         "node": {
          "label": [
           "fencing",
           "kayak",
           "triathlon",
           "African",
           "White",
           "Asian",
           "Latino"
          ],
          "line": {
           "color": "red",
           "width": 0.7
          },
          "pad": 15,
          "thickness": 20
         },
         "type": "sankey"
        }
       ],
       "layout": {
        "font": {
         "size": 10
        },
        "height": 900,
        "template": {
         "data": {
          "bar": [
           {
            "error_x": {
             "color": "#2a3f5f"
            },
            "error_y": {
             "color": "#2a3f5f"
            },
            "marker": {
             "line": {
              "color": "#E5ECF6",
              "width": 0.5
             },
             "pattern": {
              "fillmode": "overlay",
              "size": 10,
              "solidity": 0.2
             }
            },
            "type": "bar"
           }
          ],
          "barpolar": [
           {
            "marker": {
             "line": {
              "color": "#E5ECF6",
              "width": 0.5
             },
             "pattern": {
              "fillmode": "overlay",
              "size": 10,
              "solidity": 0.2
             }
            },
            "type": "barpolar"
           }
          ],
          "carpet": [
           {
            "aaxis": {
             "endlinecolor": "#2a3f5f",
             "gridcolor": "white",
             "linecolor": "white",
             "minorgridcolor": "white",
             "startlinecolor": "#2a3f5f"
            },
            "baxis": {
             "endlinecolor": "#2a3f5f",
             "gridcolor": "white",
             "linecolor": "white",
             "minorgridcolor": "white",
             "startlinecolor": "#2a3f5f"
            },
            "type": "carpet"
           }
          ],
          "choropleth": [
           {
            "colorbar": {
             "outlinewidth": 0,
             "ticks": ""
            },
            "type": "choropleth"
           }
          ],
          "contour": [
           {
            "colorbar": {
             "outlinewidth": 0,
             "ticks": ""
            },
            "colorscale": [
             [
              0,
              "#0d0887"
             ],
             [
              0.1111111111111111,
              "#46039f"
             ],
             [
              0.2222222222222222,
              "#7201a8"
             ],
             [
              0.3333333333333333,
              "#9c179e"
             ],
             [
              0.4444444444444444,
              "#bd3786"
             ],
             [
              0.5555555555555556,
              "#d8576b"
             ],
             [
              0.6666666666666666,
              "#ed7953"
             ],
             [
              0.7777777777777778,
              "#fb9f3a"
             ],
             [
              0.8888888888888888,
              "#fdca26"
             ],
             [
              1,
              "#f0f921"
             ]
            ],
            "type": "contour"
           }
          ],
          "contourcarpet": [
           {
            "colorbar": {
             "outlinewidth": 0,
             "ticks": ""
            },
            "type": "contourcarpet"
           }
          ],
          "heatmap": [
           {
            "colorbar": {
             "outlinewidth": 0,
             "ticks": ""
            },
            "colorscale": [
             [
              0,
              "#0d0887"
             ],
             [
              0.1111111111111111,
              "#46039f"
             ],
             [
              0.2222222222222222,
              "#7201a8"
             ],
             [
              0.3333333333333333,
              "#9c179e"
             ],
             [
              0.4444444444444444,
              "#bd3786"
             ],
             [
              0.5555555555555556,
              "#d8576b"
             ],
             [
              0.6666666666666666,
              "#ed7953"
             ],
             [
              0.7777777777777778,
              "#fb9f3a"
             ],
             [
              0.8888888888888888,
              "#fdca26"
             ],
             [
              1,
              "#f0f921"
             ]
            ],
            "type": "heatmap"
           }
          ],
          "heatmapgl": [
           {
            "colorbar": {
             "outlinewidth": 0,
             "ticks": ""
            },
            "colorscale": [
             [
              0,
              "#0d0887"
             ],
             [
              0.1111111111111111,
              "#46039f"
             ],
             [
              0.2222222222222222,
              "#7201a8"
             ],
             [
              0.3333333333333333,
              "#9c179e"
             ],
             [
              0.4444444444444444,
              "#bd3786"
             ],
             [
              0.5555555555555556,
              "#d8576b"
             ],
             [
              0.6666666666666666,
              "#ed7953"
             ],
             [
              0.7777777777777778,
              "#fb9f3a"
             ],
             [
              0.8888888888888888,
              "#fdca26"
             ],
             [
              1,
              "#f0f921"
             ]
            ],
            "type": "heatmapgl"
           }
          ],
          "histogram": [
           {
            "marker": {
             "pattern": {
              "fillmode": "overlay",
              "size": 10,
              "solidity": 0.2
             }
            },
            "type": "histogram"
           }
          ],
          "histogram2d": [
           {
            "colorbar": {
             "outlinewidth": 0,
             "ticks": ""
            },
            "colorscale": [
             [
              0,
              "#0d0887"
             ],
             [
              0.1111111111111111,
              "#46039f"
             ],
             [
              0.2222222222222222,
              "#7201a8"
             ],
             [
              0.3333333333333333,
              "#9c179e"
             ],
             [
              0.4444444444444444,
              "#bd3786"
             ],
             [
              0.5555555555555556,
              "#d8576b"
             ],
             [
              0.6666666666666666,
              "#ed7953"
             ],
             [
              0.7777777777777778,
              "#fb9f3a"
             ],
             [
              0.8888888888888888,
              "#fdca26"
             ],
             [
              1,
              "#f0f921"
             ]
            ],
            "type": "histogram2d"
           }
          ],
          "histogram2dcontour": [
           {
            "colorbar": {
             "outlinewidth": 0,
             "ticks": ""
            },
            "colorscale": [
             [
              0,
              "#0d0887"
             ],
             [
              0.1111111111111111,
              "#46039f"
             ],
             [
              0.2222222222222222,
              "#7201a8"
             ],
             [
              0.3333333333333333,
              "#9c179e"
             ],
             [
              0.4444444444444444,
              "#bd3786"
             ],
             [
              0.5555555555555556,
              "#d8576b"
             ],
             [
              0.6666666666666666,
              "#ed7953"
             ],
             [
              0.7777777777777778,
              "#fb9f3a"
             ],
             [
              0.8888888888888888,
              "#fdca26"
             ],
             [
              1,
              "#f0f921"
             ]
            ],
            "type": "histogram2dcontour"
           }
          ],
          "mesh3d": [
           {
            "colorbar": {
             "outlinewidth": 0,
             "ticks": ""
            },
            "type": "mesh3d"
           }
          ],
          "parcoords": [
           {
            "line": {
             "colorbar": {
              "outlinewidth": 0,
              "ticks": ""
             }
            },
            "type": "parcoords"
           }
          ],
          "pie": [
           {
            "automargin": true,
            "type": "pie"
           }
          ],
          "scatter": [
           {
            "fillpattern": {
             "fillmode": "overlay",
             "size": 10,
             "solidity": 0.2
            },
            "type": "scatter"
           }
          ],
          "scatter3d": [
           {
            "line": {
             "colorbar": {
              "outlinewidth": 0,
              "ticks": ""
             }
            },
            "marker": {
             "colorbar": {
              "outlinewidth": 0,
              "ticks": ""
             }
            },
            "type": "scatter3d"
           }
          ],
          "scattercarpet": [
           {
            "marker": {
             "colorbar": {
              "outlinewidth": 0,
              "ticks": ""
             }
            },
            "type": "scattercarpet"
           }
          ],
          "scattergeo": [
           {
            "marker": {
             "colorbar": {
              "outlinewidth": 0,
              "ticks": ""
             }
            },
            "type": "scattergeo"
           }
          ],
          "scattergl": [
           {
            "marker": {
             "colorbar": {
              "outlinewidth": 0,
              "ticks": ""
             }
            },
            "type": "scattergl"
           }
          ],
          "scattermapbox": [
           {
            "marker": {
             "colorbar": {
              "outlinewidth": 0,
              "ticks": ""
             }
            },
            "type": "scattermapbox"
           }
          ],
          "scatterpolar": [
           {
            "marker": {
             "colorbar": {
              "outlinewidth": 0,
              "ticks": ""
             }
            },
            "type": "scatterpolar"
           }
          ],
          "scatterpolargl": [
           {
            "marker": {
             "colorbar": {
              "outlinewidth": 0,
              "ticks": ""
             }
            },
            "type": "scatterpolargl"
           }
          ],
          "scatterternary": [
           {
            "marker": {
             "colorbar": {
              "outlinewidth": 0,
              "ticks": ""
             }
            },
            "type": "scatterternary"
           }
          ],
          "surface": [
           {
            "colorbar": {
             "outlinewidth": 0,
             "ticks": ""
            },
            "colorscale": [
             [
              0,
              "#0d0887"
             ],
             [
              0.1111111111111111,
              "#46039f"
             ],
             [
              0.2222222222222222,
              "#7201a8"
             ],
             [
              0.3333333333333333,
              "#9c179e"
             ],
             [
              0.4444444444444444,
              "#bd3786"
             ],
             [
              0.5555555555555556,
              "#d8576b"
             ],
             [
              0.6666666666666666,
              "#ed7953"
             ],
             [
              0.7777777777777778,
              "#fb9f3a"
             ],
             [
              0.8888888888888888,
              "#fdca26"
             ],
             [
              1,
              "#f0f921"
             ]
            ],
            "type": "surface"
           }
          ],
          "table": [
           {
            "cells": {
             "fill": {
              "color": "#EBF0F8"
             },
             "line": {
              "color": "white"
             }
            },
            "header": {
             "fill": {
              "color": "#C8D4E3"
             },
             "line": {
              "color": "white"
             }
            },
            "type": "table"
           }
          ]
         },
         "layout": {
          "annotationdefaults": {
           "arrowcolor": "#2a3f5f",
           "arrowhead": 0,
           "arrowwidth": 1
          },
          "autotypenumbers": "strict",
          "coloraxis": {
           "colorbar": {
            "outlinewidth": 0,
            "ticks": ""
           }
          },
          "colorscale": {
           "diverging": [
            [
             0,
             "#8e0152"
            ],
            [
             0.1,
             "#c51b7d"
            ],
            [
             0.2,
             "#de77ae"
            ],
            [
             0.3,
             "#f1b6da"
            ],
            [
             0.4,
             "#fde0ef"
            ],
            [
             0.5,
             "#f7f7f7"
            ],
            [
             0.6,
             "#e6f5d0"
            ],
            [
             0.7,
             "#b8e186"
            ],
            [
             0.8,
             "#7fbc41"
            ],
            [
             0.9,
             "#4d9221"
            ],
            [
             1,
             "#276419"
            ]
           ],
           "sequential": [
            [
             0,
             "#0d0887"
            ],
            [
             0.1111111111111111,
             "#46039f"
            ],
            [
             0.2222222222222222,
             "#7201a8"
            ],
            [
             0.3333333333333333,
             "#9c179e"
            ],
            [
             0.4444444444444444,
             "#bd3786"
            ],
            [
             0.5555555555555556,
             "#d8576b"
            ],
            [
             0.6666666666666666,
             "#ed7953"
            ],
            [
             0.7777777777777778,
             "#fb9f3a"
            ],
            [
             0.8888888888888888,
             "#fdca26"
            ],
            [
             1,
             "#f0f921"
            ]
           ],
           "sequentialminus": [
            [
             0,
             "#0d0887"
            ],
            [
             0.1111111111111111,
             "#46039f"
            ],
            [
             0.2222222222222222,
             "#7201a8"
            ],
            [
             0.3333333333333333,
             "#9c179e"
            ],
            [
             0.4444444444444444,
             "#bd3786"
            ],
            [
             0.5555555555555556,
             "#d8576b"
            ],
            [
             0.6666666666666666,
             "#ed7953"
            ],
            [
             0.7777777777777778,
             "#fb9f3a"
            ],
            [
             0.8888888888888888,
             "#fdca26"
            ],
            [
             1,
             "#f0f921"
            ]
           ]
          },
          "colorway": [
           "#636efa",
           "#EF553B",
           "#00cc96",
           "#ab63fa",
           "#FFA15A",
           "#19d3f3",
           "#FF6692",
           "#B6E880",
           "#FF97FF",
           "#FECB52"
          ],
          "font": {
           "color": "#2a3f5f"
          },
          "geo": {
           "bgcolor": "white",
           "lakecolor": "white",
           "landcolor": "#E5ECF6",
           "showlakes": true,
           "showland": true,
           "subunitcolor": "white"
          },
          "hoverlabel": {
           "align": "left"
          },
          "hovermode": "closest",
          "mapbox": {
           "style": "light"
          },
          "paper_bgcolor": "white",
          "plot_bgcolor": "#E5ECF6",
          "polar": {
           "angularaxis": {
            "gridcolor": "white",
            "linecolor": "white",
            "ticks": ""
           },
           "bgcolor": "#E5ECF6",
           "radialaxis": {
            "gridcolor": "white",
            "linecolor": "white",
            "ticks": ""
           }
          },
          "scene": {
           "xaxis": {
            "backgroundcolor": "#E5ECF6",
            "gridcolor": "white",
            "gridwidth": 2,
            "linecolor": "white",
            "showbackground": true,
            "ticks": "",
            "zerolinecolor": "white"
           },
           "yaxis": {
            "backgroundcolor": "#E5ECF6",
            "gridcolor": "white",
            "gridwidth": 2,
            "linecolor": "white",
            "showbackground": true,
            "ticks": "",
            "zerolinecolor": "white"
           },
           "zaxis": {
            "backgroundcolor": "#E5ECF6",
            "gridcolor": "white",
            "gridwidth": 2,
            "linecolor": "white",
            "showbackground": true,
            "ticks": "",
            "zerolinecolor": "white"
           }
          },
          "shapedefaults": {
           "line": {
            "color": "#2a3f5f"
           }
          },
          "ternary": {
           "aaxis": {
            "gridcolor": "white",
            "linecolor": "white",
            "ticks": ""
           },
           "baxis": {
            "gridcolor": "white",
            "linecolor": "white",
            "ticks": ""
           },
           "bgcolor": "#E5ECF6",
           "caxis": {
            "gridcolor": "white",
            "linecolor": "white",
            "ticks": ""
           }
          },
          "title": {
           "x": 0.05
          },
          "xaxis": {
           "automargin": true,
           "gridcolor": "white",
           "linecolor": "white",
           "ticks": "",
           "title": {
            "standoff": 15
           },
           "zerolinecolor": "white",
           "zerolinewidth": 2
          },
          "yaxis": {
           "automargin": true,
           "gridcolor": "white",
           "linecolor": "white",
           "ticks": "",
           "title": {
            "standoff": 15
           },
           "zerolinecolor": "white",
           "zerolinewidth": 2
          }
         }
        },
        "title": {
         "text": "Races BY sport "
        },
        "width": 1200
       }
      },
      "image/png": "[encoded data removed]",
      "text/html": [
       "<div>                            <div id=\"4d2cf903-4c71-481e-af20-e985fb7c3e51\" class=\"plotly-graph-div\" style=\"height:900px; width:1200px;\"></div>            <script type=\"text/javascript\">                require([\"plotly\"], function(Plotly) {                    window.PLOTLYENV=window.PLOTLYENV || {};                                    if (document.getElementById(\"4d2cf903-4c71-481e-af20-e985fb7c3e51\")) {                    Plotly.newPlot(                        \"4d2cf903-4c71-481e-af20-e985fb7c3e51\",                        [{\"link\":{\"source\":[0,0,1,1,1,2],\"target\":[3,4,3,5,6,6],\"value\":[4,6,2,2,2,2]},\"node\":{\"label\":[\"fencing\",\"kayak\",\"triathlon\",\"African\",\"White\",\"Asian\",\"Latino\"],\"line\":{\"color\":\"red\",\"width\":0.7},\"pad\":15,\"thickness\":20},\"type\":\"sankey\"}],                        {\"template\":{\"data\":{\"histogram2dcontour\":[{\"type\":\"histogram2dcontour\",\"colorbar\":{\"outlinewidth\":0,\"ticks\":\"\"},\"colorscale\":[[0.0,\"#0d0887\"],[0.1111111111111111,\"#46039f\"],[0.2222222222222222,\"#7201a8\"],[0.3333333333333333,\"#9c179e\"],[0.4444444444444444,\"#bd3786\"],[0.5555555555555556,\"#d8576b\"],[0.6666666666666666,\"#ed7953\"],[0.7777777777777778,\"#fb9f3a\"],[0.8888888888888888,\"#fdca26\"],[1.0,\"#f0f921\"]]}],\"choropleth\":[{\"type\":\"choropleth\",\"colorbar\":{\"outlinewidth\":0,\"ticks\":\"\"}}],\"histogram2d\":[{\"type\":\"histogram2d\",\"colorbar\":{\"outlinewidth\":0,\"ticks\":\"\"},\"colorscale\":[[0.0,\"#0d0887\"],[0.1111111111111111,\"#46039f\"],[0.2222222222222222,\"#7201a8\"],[0.3333333333333333,\"#9c179e\"],[0.4444444444444444,\"#bd3786\"],[0.5555555555555556,\"#d8576b\"],[0.6666666666666666,\"#ed7953\"],[0.7777777777777778,\"#fb9f3a\"],[0.8888888888888888,\"#fdca26\"],[1.0,\"#f0f921\"]]}],\"heatmap\":[{\"type\":\"heatmap\",\"colorbar\":{\"outlinewidth\":0,\"ticks\":\"\"},\"colorscale\":[[0.0,\"#0d0887\"],[0.1111111111111111,\"#46039f\"],[0.2222222222222222,\"#7201a8\"],[0.3333333333333333,\"#9c179e\"],[0.4444444444444444,\"#bd3786\"],[0.5555555555555556,\"#d8576b\"],[0.6666666666666666,\"#ed7953\"],[0.7777777777777778,\"#fb9f3a\"],[0.8888888888888888,\"#fdca26\"],[1.0,\"#f0f921\"]]}],\"heatmapgl\":[{\"type\":\"heatmapgl\",\"colorbar\":{\"outlinewidth\":0,\"ticks\":\"\"},\"colorscale\":[[0.0,\"#0d0887\"],[0.1111111111111111,\"#46039f\"],[0.2222222222222222,\"#7201a8\"],[0.3333333333333333,\"#9c179e\"],[0.4444444444444444,\"#bd3786\"],[0.5555555555555556,\"#d8576b\"],[0.6666666666666666,\"#ed7953\"],[0.7777777777777778,\"#fb9f3a\"],[0.8888888888888888,\"#fdca26\"],[1.0,\"#f0f921\"]]}],\"contourcarpet\":[{\"type\":\"contourcarpet\",\"colorbar\":{\"outlinewidth\":0,\"ticks\":\"\"}}],\"contour\":[{\"type\":\"contour\",\"colorbar\":{\"outlinewidth\":0,\"ticks\":\"\"},\"colorscale\":[[0.0,\"#0d0887\"],[0.1111111111111111,\"#46039f\"],[0.2222222222222222,\"#7201a8\"],[0.3333333333333333,\"#9c179e\"],[0.4444444444444444,\"#bd3786\"],[0.5555555555555556,\"#d8576b\"],[0.6666666666666666,\"#ed7953\"],[0.7777777777777778,\"#fb9f3a\"],[0.8888888888888888,\"#fdca26\"],[1.0,\"#f0f921\"]]}],\"surface\":[{\"type\":\"surface\",\"colorbar\":{\"outlinewidth\":0,\"ticks\":\"\"},\"colorscale\":[[0.0,\"#0d0887\"],[0.1111111111111111,\"#46039f\"],[0.2222222222222222,\"#7201a8\"],[0.3333333333333333,\"#9c179e\"],[0.4444444444444444,\"#bd3786\"],[0.5555555555555556,\"#d8576b\"],[0.6666666666666666,\"#ed7953\"],[0.7777777777777778,\"#fb9f3a\"],[0.8888888888888888,\"#fdca26\"],[1.0,\"#f0f921\"]]}],\"mesh3d\":[{\"type\":\"mesh3d\",\"colorbar\":{\"outlinewidth\":0,\"ticks\":\"\"}}],\"scatter\":[{\"fillpattern\":{\"fillmode\":\"overlay\",\"size\":10,\"solidity\":0.2},\"type\":\"scatter\"}],\"parcoords\":[{\"type\":\"parcoords\",\"line\":{\"colorbar\":{\"outlinewidth\":0,\"ticks\":\"\"}}}],\"scatterpolargl\":[{\"type\":\"scatterpolargl\",\"marker\":{\"colorbar\":{\"outlinewidth\":0,\"ticks\":\"\"}}}],\"bar\":[{\"error_x\":{\"color\":\"#2a3f5f\"},\"error_y\":{\"color\":\"#2a3f5f\"},\"marker\":{\"line\":{\"color\":\"#E5ECF6\",\"width\":0.5},\"pattern\":{\"fillmode\":\"overlay\",\"size\":10,\"solidity\":0.2}},\"type\":\"bar\"}],\"scattergeo\":[{\"type\":\"scattergeo\",\"marker\":{\"colorbar\":{\"outlinewidth\":0,\"ticks\":\"\"}}}],\"scatterpolar\":[{\"type\":\"scatterpolar\",\"marker\":{\"colorbar\":{\"outlinewidth\":0,\"ticks\":\"\"}}}],\"histogram\":[{\"marker\":{\"pattern\":{\"fillmode\":\"overlay\",\"size\":10,\"solidity\":0.2}},\"type\":\"histogram\"}],\"scattergl\":[{\"type\":\"scattergl\",\"marker\":{\"colorbar\":{\"outlinewidth\":0,\"ticks\":\"\"}}}],\"scatter3d\":[{\"type\":\"scatter3d\",\"line\":{\"colorbar\":{\"outlinewidth\":0,\"ticks\":\"\"}},\"marker\":{\"colorbar\":{\"outlinewidth\":0,\"ticks\":\"\"}}}],\"scattermapbox\":[{\"type\":\"scattermapbox\",\"marker\":{\"colorbar\":{\"outlinewidth\":0,\"ticks\":\"\"}}}],\"scatterternary\":[{\"type\":\"scatterternary\",\"marker\":{\"colorbar\":{\"outlinewidth\":0,\"ticks\":\"\"}}}],\"scattercarpet\":[{\"type\":\"scattercarpet\",\"marker\":{\"colorbar\":{\"outlinewidth\":0,\"ticks\":\"\"}}}],\"carpet\":[{\"aaxis\":{\"endlinecolor\":\"#2a3f5f\",\"gridcolor\":\"white\",\"linecolor\":\"white\",\"minorgridcolor\":\"white\",\"startlinecolor\":\"#2a3f5f\"},\"baxis\":{\"endlinecolor\":\"#2a3f5f\",\"gridcolor\":\"white\",\"linecolor\":\"white\",\"minorgridcolor\":\"white\",\"startlinecolor\":\"#2a3f5f\"},\"type\":\"carpet\"}],\"table\":[{\"cells\":{\"fill\":{\"color\":\"#EBF0F8\"},\"line\":{\"color\":\"white\"}},\"header\":{\"fill\":{\"color\":\"#C8D4E3\"},\"line\":{\"color\":\"white\"}},\"type\":\"table\"}],\"barpolar\":[{\"marker\":{\"line\":{\"color\":\"#E5ECF6\",\"width\":0.5},\"pattern\":{\"fillmode\":\"overlay\",\"size\":10,\"solidity\":0.2}},\"type\":\"barpolar\"}],\"pie\":[{\"automargin\":true,\"type\":\"pie\"}]},\"layout\":{\"autotypenumbers\":\"strict\",\"colorway\":[\"#636efa\",\"#EF553B\",\"#00cc96\",\"#ab63fa\",\"#FFA15A\",\"#19d3f3\",\"#FF6692\",\"#B6E880\",\"#FF97FF\",\"#FECB52\"],\"font\":{\"color\":\"#2a3f5f\"},\"hovermode\":\"closest\",\"hoverlabel\":{\"align\":\"left\"},\"paper_bgcolor\":\"white\",\"plot_bgcolor\":\"#E5ECF6\",\"polar\":{\"bgcolor\":\"#E5ECF6\",\"angularaxis\":{\"gridcolor\":\"white\",\"linecolor\":\"white\",\"ticks\":\"\"},\"radialaxis\":{\"gridcolor\":\"white\",\"linecolor\":\"white\",\"ticks\":\"\"}},\"ternary\":{\"bgcolor\":\"#E5ECF6\",\"aaxis\":{\"gridcolor\":\"white\",\"linecolor\":\"white\",\"ticks\":\"\"},\"baxis\":{\"gridcolor\":\"white\",\"linecolor\":\"white\",\"ticks\":\"\"},\"caxis\":{\"gridcolor\":\"white\",\"linecolor\":\"white\",\"ticks\":\"\"}},\"coloraxis\":{\"colorbar\":{\"outlinewidth\":0,\"ticks\":\"\"}},\"colorscale\":{\"sequential\":[[0.0,\"#0d0887\"],[0.1111111111111111,\"#46039f\"],[0.2222222222222222,\"#7201a8\"],[0.3333333333333333,\"#9c179e\"],[0.4444444444444444,\"#bd3786\"],[0.5555555555555556,\"#d8576b\"],[0.6666666666666666,\"#ed7953\"],[0.7777777777777778,\"#fb9f3a\"],[0.8888888888888888,\"#fdca26\"],[1.0,\"#f0f921\"]],\"sequentialminus\":[[0.0,\"#0d0887\"],[0.1111111111111111,\"#46039f\"],[0.2222222222222222,\"#7201a8\"],[0.3333333333333333,\"#9c179e\"],[0.4444444444444444,\"#bd3786\"],[0.5555555555555556,\"#d8576b\"],[0.6666666666666666,\"#ed7953\"],[0.7777777777777778,\"#fb9f3a\"],[0.8888888888888888,\"#fdca26\"],[1.0,\"#f0f921\"]],\"diverging\":[[0,\"#8e0152\"],[0.1,\"#c51b7d\"],[0.2,\"#de77ae\"],[0.3,\"#f1b6da\"],[0.4,\"#fde0ef\"],[0.5,\"#f7f7f7\"],[0.6,\"#e6f5d0\"],[0.7,\"#b8e186\"],[0.8,\"#7fbc41\"],[0.9,\"#4d9221\"],[1,\"#276419\"]]},\"xaxis\":{\"gridcolor\":\"white\",\"linecolor\":\"white\",\"ticks\":\"\",\"title\":{\"standoff\":15},\"zerolinecolor\":\"white\",\"automargin\":true,\"zerolinewidth\":2},\"yaxis\":{\"gridcolor\":\"white\",\"linecolor\":\"white\",\"ticks\":\"\",\"title\":{\"standoff\":15},\"zerolinecolor\":\"white\",\"automargin\":true,\"zerolinewidth\":2},\"scene\":{\"xaxis\":{\"backgroundcolor\":\"#E5ECF6\",\"gridcolor\":\"white\",\"linecolor\":\"white\",\"showbackground\":true,\"ticks\":\"\",\"zerolinecolor\":\"white\",\"gridwidth\":2},\"yaxis\":{\"backgroundcolor\":\"#E5ECF6\",\"gridcolor\":\"white\",\"linecolor\":\"white\",\"showbackground\":true,\"ticks\":\"\",\"zerolinecolor\":\"white\",\"gridwidth\":2},\"zaxis\":{\"backgroundcolor\":\"#E5ECF6\",\"gridcolor\":\"white\",\"linecolor\":\"white\",\"showbackground\":true,\"ticks\":\"\",\"zerolinecolor\":\"white\",\"gridwidth\":2}},\"shapedefaults\":{\"line\":{\"color\":\"#2a3f5f\"}},\"annotationdefaults\":{\"arrowcolor\":\"#2a3f5f\",\"arrowhead\":0,\"arrowwidth\":1},\"geo\":{\"bgcolor\":\"white\",\"landcolor\":\"#E5ECF6\",\"subunitcolor\":\"white\",\"showland\":true,\"showlakes\":true,\"lakecolor\":\"white\"},\"title\":{\"x\":0.05},\"mapbox\":{\"style\":\"light\"}}},\"title\":{\"text\":\"Races BY sport \"},\"font\":{\"size\":10},\"width\":1200,\"height\":900},                        {\"responsive\": true}                    ).then(function(){\n",
       "                            \n",
       "var gd = document.getElementById('4d2cf903-4c71-481e-af20-e985fb7c3e51');\n",
       "var x = new MutationObserver(function (mutations, observer) {{\n",
       "        var display = window.getComputedStyle(gd).display;\n",
       "        if (!display || display === 'none') {{\n",
       "            console.log([gd, 'removed!']);\n",
       "            Plotly.purge(gd);\n",
       "            observer.disconnect();\n",
       "        }}\n",
       "}});\n",
       "\n",
       "// Listen for the removal of the full notebook cells\n",
       "var notebookContainer = gd.closest('#notebook-container');\n",
       "if (notebookContainer) {{\n",
       "    x.observe(notebookContainer, {childList: true});\n",
       "}}\n",
       "\n",
       "// Listen for the clearing of the current output cell\n",
       "var outputEl = gd.closest('.output');\n",
       "if (outputEl) {{\n",
       "    x.observe(outputEl, {childList: true});\n",
       "}}\n",
       "\n",
       "                        })                };                });            </script>        </div>"
      ]
     },
     "metadata": {},
     "output_type": "display_data"
    }
   ],
   "source": [
    "#Group Data \n",
    "sport_race=ath.groupby(['sport', 'Ethnicity']).size().reset_index(name='count')\n",
    "#Renaming Columns \n",
    "sport_race.columns=['source','target','value']\n",
    "\n",
    "#Create List of Unique values\n",
    "uvalues = list(pd.unique(sport_race[['source', 'target']].values.ravel('K')))\n",
    "map = {k: v for v, k in enumerate(uvalues)}\n",
    "\n",
    "#Mapping \n",
    "sport_race['source']=sport_race['source'].map(map)\n",
    "\n",
    "sport_race['target']=sport_race['target'].map(map)\n",
    "\n",
    "\n",
    "#converting to list \n",
    "link = sport_race.to_dict(orient='list')\n",
    "\n",
    "#Sankey Diagram \n",
    "fig = go.Figure(data=[go.Sankey(\n",
    "    node = dict(\n",
    "      pad = 15,\n",
    "      thickness = 20,\n",
    "      line = dict(color = \"red\", width = 0.7),\n",
    "      label =uvalues,      \n",
    "    ),\n",
    "      link = dict(\n",
    "      source = link[\"source\"],\n",
    "      target = link[\"target\"],\n",
    "      value = link[\"value\"],\n",
    "  \n",
    "  ))])\n",
    "#Step 8 Update and show plot\n",
    "fig.update_layout(title_text=\"Races BY sport \", font_size=10,width=1200, height=900)\n",
    "fig.show()\n"
   ]
  },
  {
   "cell_type": "markdown",
   "id": "41001de8-49d0-4b8f-b7e1-5a941d395d0a",
   "metadata": {},
   "source": [
    "<span style=\"font-size:24px;\">##Qn 27:Calculate the average heart rate for every minute for every athlete and add it as a column in the same dataframe.</span>"
   ]
  },
  {
   "cell_type": "code",
   "execution_count": 651,
   "id": "78961de1-d2b7-4605-9562-c5f00bc754f7",
   "metadata": {},
   "outputs": [
    {
     "name": "stdout",
     "output_type": "stream",
     "text": [
      "Dataframe successfully written to Excel file FinalVO2_Table.xlsx\n",
      "\n",
      "Reading FinalVO2_Table.xlsx Excel file for Verification:\n",
      "       ID     time     RR       VO2  power                     timestamp  \\\n",
      "0       1 -130.840  672.0  0.302008      0 1969-12-31 23:59:59.999999870   \n",
      "1       1 -130.168  672.0  0.302008      0 1969-12-31 23:59:59.999999870   \n",
      "2       1 -129.536  632.0  0.301336      0 1969-12-31 23:59:59.999999871   \n",
      "3       1 -128.824  712.0  0.301336      0 1969-12-31 23:59:59.999999872   \n",
      "4       1 -127.948  876.0  0.301336      0 1969-12-31 23:59:59.999999873   \n",
      "...    ..      ...    ...       ...    ...                           ...   \n",
      "52057  18  947.288  536.0  0.507071      0 1970-01-01 00:00:00.000000947   \n",
      "52058  18  947.816  528.0  0.507071      0 1970-01-01 00:00:00.000000947   \n",
      "52059  18  948.344  528.0  0.507071      0 1970-01-01 00:00:00.000000948   \n",
      "52060  18  948.884  540.0  0.507071      0 1970-01-01 00:00:00.000000948   \n",
      "52061  18  949.424  540.0  0.507071      0 1970-01-01 00:00:00.000000949   \n",
      "\n",
      "       heart_rate  avg_heart_rate  \n",
      "0       89.285714       79.963765  \n",
      "1       89.285714       79.963765  \n",
      "2       94.936709       79.963765  \n",
      "3       84.269663       79.963765  \n",
      "4       68.493151       79.963765  \n",
      "...           ...             ...  \n",
      "52057  111.940299      152.868421  \n",
      "52058  113.636364      152.868421  \n",
      "52059  113.636364      152.868421  \n",
      "52060  111.111111      152.868421  \n",
      "52061  111.111111      152.868421  \n",
      "\n",
      "[52062 rows x 8 columns]\n"
     ]
    }
   ],
   "source": [
    "# Create a DataFrame\n",
    "#Concatenating all sport related table to one dataframe final_table\n",
    "final_table=pd.concat([fen[['ID','time','RR','VO2','power']],\n",
    "                       kay[['ID','time','RR','VO2','power']],\n",
    "                       tri[['ID','time','RR','VO2','power']]],ignore_index=True)\n",
    "\n",
    "#defining output excel file name\n",
    "output='FinalVO2_Table.xlsx'\n",
    "\n",
    "#writing dataframe to excel using to_excel\n",
    "final_table.to_excel(output,index=False)\n",
    "print(\"Dataframe successfully written to Excel file\",output)\n",
    "\n",
    "#Reading the excel file back into dataframe for verification\n",
    "print(\"\\nReading\",output,\"Excel file for Verification:\")\n",
    "sportdf=pd.read_excel(\"FinalVO2_Table.xlsx\")\n",
    "df = pd.DataFrame(sportdf)\n",
    "\n",
    "# Convert the timestamp column to datetime\n",
    "df['timestamp'] = pd.to_datetime(df['time'])\n",
    "# Convert RR intervals to heart rate (bpm)\n",
    "df['heart_rate'] = 60000 / df['RR']\n",
    "# Add a new column for the minute of each timestamp\n",
    "df['minute'] = df['timestamp'].dt.floor('T')\n",
    "\n",
    "# Calculate the average heart rate for each athlete for every minute\n",
    "average_hr = df.groupby(['ID', 'minute'])['heart_rate'].mean().reset_index()\n",
    "\n",
    "# Rename the 'heart_rate' column to 'avg_heart_rate'\n",
    "average_hr.rename(columns={'heart_rate': 'avg_heart_rate'}, inplace=True)\n",
    "\n",
    "# Merge the average heart rate back into the original DataFrame\n",
    "df = pd.merge(df, average_hr, on=['ID', 'minute'], how='left')\n",
    "\n",
    "# Drop the 'minute' column if it's not needed\n",
    "df = df.drop(columns=['minute'])\n",
    "\n",
    "# Display the updated DataFrame\n",
    "print(df)\n"
   ]
  },
  {
   "cell_type": "markdown",
   "id": "35d555b6-9291-4d47-9d7b-0e148f48dcba",
   "metadata": {},
   "source": [
    "<span style=\"font-size:24px;\">##Qn28: Print athlete 15s Age and Pvt1 using the format() function</span>"
   ]
  },
  {
   "cell_type": "code",
   "execution_count": 641,
   "id": "5ae54bd3-2a25-4af7-bbc5-13a5df58814f",
   "metadata": {},
   "outputs": [
    {
     "name": "stdout",
     "output_type": "stream",
     "text": [
      "Athlete 15:Name=Mason, Age = 13, Pvt1 = 125\n"
     ]
    }
   ],
   "source": [
    "# Fetching the Age and Pvt1 for athlete 15\n",
    "athlete_id = 15\n",
    "\n",
    "# Extracting the Age and Pvt1 for athlete 15\n",
    "name = ath.loc[ath['ID'] == athlete_id, 'First Name'].values[0] \n",
    "age = ath.loc[ath['ID'] == athlete_id, 'age'].values[0] \n",
    "pvt1 = ath.loc[ath['ID'] == athlete_id, 'P_vt1'].values[0] \n",
    "\n",
    "# Printing the values using format()\n",
    "print(\"Athlete {}:Name={}, Age = {}, Pvt1 = {}\".format(athlete_id,name, age, pvt1))\n"
   ]
  },
  {
   "cell_type": "markdown",
   "id": "45c047d6-cfed-4076-8b0d-5c750c165241",
   "metadata": {},
   "source": [
    "<span style=\"font-size:24px;\">##Qn29: On average how long was each participants’ warm up?</span>"
   ]
  },
  {
   "cell_type": "code",
   "execution_count": 81,
   "id": "7d81acf1-9830-4a1c-80dc-34c31b9ff741",
   "metadata": {},
   "outputs": [
    {
     "data": {
      "text/html": [
       "<div>\n",
       "<style scoped>\n",
       "    .dataframe tbody tr th:only-of-type {\n",
       "        vertical-align: middle;\n",
       "    }\n",
       "\n",
       "    .dataframe tbody tr th {\n",
       "        vertical-align: top;\n",
       "    }\n",
       "\n",
       "    .dataframe thead th {\n",
       "        text-align: right;\n",
       "    }\n",
       "</style>\n",
       "<table border=\"1\" class=\"dataframe\">\n",
       "  <thead>\n",
       "    <tr style=\"text-align: right;\">\n",
       "      <th></th>\n",
       "      <th>ID</th>\n",
       "      <th>Avg warm up</th>\n",
       "    </tr>\n",
       "  </thead>\n",
       "  <tbody>\n",
       "    <tr>\n",
       "      <th>0</th>\n",
       "      <td>1</td>\n",
       "      <td>411.478394</td>\n",
       "    </tr>\n",
       "    <tr>\n",
       "      <th>1</th>\n",
       "      <td>2</td>\n",
       "      <td>308.536912</td>\n",
       "    </tr>\n",
       "    <tr>\n",
       "      <th>2</th>\n",
       "      <td>3</td>\n",
       "      <td>681.356388</td>\n",
       "    </tr>\n",
       "    <tr>\n",
       "      <th>3</th>\n",
       "      <td>4</td>\n",
       "      <td>668.300107</td>\n",
       "    </tr>\n",
       "    <tr>\n",
       "      <th>4</th>\n",
       "      <td>5</td>\n",
       "      <td>668.425687</td>\n",
       "    </tr>\n",
       "    <tr>\n",
       "      <th>5</th>\n",
       "      <td>6</td>\n",
       "      <td>522.460847</td>\n",
       "    </tr>\n",
       "    <tr>\n",
       "      <th>6</th>\n",
       "      <td>7</td>\n",
       "      <td>346.229780</td>\n",
       "    </tr>\n",
       "    <tr>\n",
       "      <th>7</th>\n",
       "      <td>8</td>\n",
       "      <td>379.946684</td>\n",
       "    </tr>\n",
       "    <tr>\n",
       "      <th>8</th>\n",
       "      <td>9</td>\n",
       "      <td>418.125411</td>\n",
       "    </tr>\n",
       "    <tr>\n",
       "      <th>9</th>\n",
       "      <td>10</td>\n",
       "      <td>456.474324</td>\n",
       "    </tr>\n",
       "    <tr>\n",
       "      <th>10</th>\n",
       "      <td>11</td>\n",
       "      <td>726.372165</td>\n",
       "    </tr>\n",
       "    <tr>\n",
       "      <th>11</th>\n",
       "      <td>12</td>\n",
       "      <td>705.826717</td>\n",
       "    </tr>\n",
       "    <tr>\n",
       "      <th>12</th>\n",
       "      <td>13</td>\n",
       "      <td>694.410218</td>\n",
       "    </tr>\n",
       "    <tr>\n",
       "      <th>13</th>\n",
       "      <td>14</td>\n",
       "      <td>534.847141</td>\n",
       "    </tr>\n",
       "    <tr>\n",
       "      <th>14</th>\n",
       "      <td>15</td>\n",
       "      <td>485.675046</td>\n",
       "    </tr>\n",
       "    <tr>\n",
       "      <th>15</th>\n",
       "      <td>16</td>\n",
       "      <td>540.857349</td>\n",
       "    </tr>\n",
       "    <tr>\n",
       "      <th>16</th>\n",
       "      <td>17</td>\n",
       "      <td>391.114455</td>\n",
       "    </tr>\n",
       "    <tr>\n",
       "      <th>17</th>\n",
       "      <td>18</td>\n",
       "      <td>442.164613</td>\n",
       "    </tr>\n",
       "  </tbody>\n",
       "</table>\n",
       "</div>"
      ],
      "text/plain": [
       "    ID  Avg warm up\n",
       "0    1   411.478394\n",
       "1    2   308.536912\n",
       "2    3   681.356388\n",
       "3    4   668.300107\n",
       "4    5   668.425687\n",
       "5    6   522.460847\n",
       "6    7   346.229780\n",
       "7    8   379.946684\n",
       "8    9   418.125411\n",
       "9   10   456.474324\n",
       "10  11   726.372165\n",
       "11  12   705.826717\n",
       "12  13   694.410218\n",
       "13  14   534.847141\n",
       "14  15   485.675046\n",
       "15  16   540.857349\n",
       "16  17   391.114455\n",
       "17  18   442.164613"
      ]
     },
     "execution_count": 81,
     "metadata": {},
     "output_type": "execute_result"
    }
   ],
   "source": [
    "#Initialize Dataframe phase\n",
    "phase=pd.DataFrame(final_table)\n",
    "#print(phase);\n",
    "#initialize Phase column\n",
    "phase['Phase']='Other Phase'\n",
    "\n",
    "#Apply conditions to find Warm Up-time less than 0,GET-time>=0 and power>0,Cool Down-time>0 and power=0\n",
    "phase.loc[phase['time']<0,'Phase']='Warm Up'\n",
    "phase.loc[(phase['time']>=0) & (phase['power']>0),'Phase']='GET'\n",
    "phase.loc[(phase['time']>0) & (phase['power']==0),'Phase']='Cool Down'\n",
    "# Create a DataFrame\n",
    "df = pd.DataFrame(phase)\n",
    "result_df = df.where(df['Phase'] =='Warm Up')\n",
    "# Calculate the average warm-up time\n",
    "average_warm_up_time = df.groupby('ID')['time'].mean()\n",
    "average_warm_up_time.reset_index(name='Avg warm up')\n",
    "# Display the result\n",
    "#print(f\"On average, each participant's warm-up time was {average_warm_up_time:.2f} minutes.\")"
   ]
  },
  {
   "cell_type": "markdown",
   "id": "e5d552e9-a337-4221-a324-4d3fb3495a1c",
   "metadata": {},
   "source": [
    "<span style=\"font-size:24px;\">##Qn30:Display the HRV of each athlete?</span>"
   ]
  },
  {
   "cell_type": "code",
   "execution_count": 645,
   "id": "5b674b2c-2066-4da3-a5a9-e4cf201fd904",
   "metadata": {},
   "outputs": [
    {
     "name": "stdout",
     "output_type": "stream",
     "text": [
      "HRV of each athlete:\n",
      "    ID First Name  HRV\n",
      "0    1     Olivia   90\n",
      "1    2      Ethan   47\n",
      "2    3    Jackson  145\n",
      "3    4       Liam   60\n",
      "4    5        Ava   62\n",
      "5    6     Sophia   55\n",
      "6    7      Grace   43\n",
      "7    8      Aiden   53\n",
      "8    9      Chloe   75\n",
      "9   10       Lily   61\n",
      "10  11   Isabella   94\n",
      "11  12      Caleb  124\n",
      "12  13        Mia  123\n",
      "13  14     Harper   30\n",
      "14  15      Mason   31\n",
      "15  16      Logan   96\n",
      "16  17      Lucas   44\n",
      "17  18       Owen  103\n"
     ]
    }
   ],
   "source": [
    "# Create a DataFrame\n",
    "df = pd.DataFrame(ath)\n",
    "\n",
    "# Calculate HRV as the absolute difference between P_vt1 and P_vt2\n",
    "df['HRV'] = (df['P_vt2'] - df['P_vt1']).abs()\n",
    "\n",
    "# Display the HRV of each athlete\n",
    "print(\"HRV of each athlete:\")\n",
    "print(df[['ID','First Name', 'HRV']])"
   ]
  },
  {
   "cell_type": "markdown",
   "id": "7c4ccb1a-85da-4935-86c4-ac5e753ef609",
   "metadata": {},
   "source": [
    "<span style=\"font-size:24px;\">##Qn31:Return the count of athletes for any sport that the user inputs.</span>"
   ]
  },
  {
   "cell_type": "code",
   "execution_count": 647,
   "id": "0d46d501-5ada-4ee8-9b30-9099437b92d8",
   "metadata": {},
   "outputs": [
    {
     "name": "stdin",
     "output_type": "stream",
     "text": [
      "Enter the sport:  fencing\n"
     ]
    },
    {
     "name": "stdout",
     "output_type": "stream",
     "text": [
      "The number of athletes participating in fencing is: 10\n"
     ]
    }
   ],
   "source": [
    "# Create a DataFrame\n",
    "df = pd.DataFrame(ath)\n",
    "\n",
    "def count_athletes_by_sport(sport):\n",
    "    # Filter the DataFrame by the specified sport and count the athletes\n",
    "    count = df[df['sport'] == sport].shape[0]\n",
    "    return count\n",
    "\n",
    "# Example usage\n",
    "user_input_sport = input(\"Enter the sport: \")  # For instance, the user inputs 'fencing'\n",
    "athlete_count = count_athletes_by_sport(user_input_sport)\n",
    "\n",
    "print(f\"The number of athletes participating in {user_input_sport} is: {athlete_count}\")\n"
   ]
  },
  {
   "cell_type": "markdown",
   "id": "aebc0efd-435a-4bf1-b87b-d296ad453ab8",
   "metadata": {},
   "source": [
    "<span style=\"font-size:24px;\">##Qn32:Insert the name of every athlete into an array and display the length of that array.\n",
    "</span>"
   ]
  },
  {
   "cell_type": "code",
   "execution_count": 83,
   "id": "03caed40-c2d9-4807-9ce2-4c98fae54a1d",
   "metadata": {},
   "outputs": [
    {
     "name": "stdout",
     "output_type": "stream",
     "text": [
      "DataFrame:\n",
      "   ID  age  Weight  Height  P_vt1  P_vt2    sport  Gender Ethnicity  \\\n",
      "0   1   15    53.7     161     50    140  fencing  Female   African   \n",
      "1   2   15    56.2     162     80    127  fencing    Male   African   \n",
      "2   3   16    89.9     191    155    300  fencing    Male     White   \n",
      "3   4   16    76.5     180    215    275  fencing    Male     White   \n",
      "4   5   17    76.4     186    110    172  fencing  Female     White   \n",
      "\n",
      "  First Name Last Name  \n",
      "0     Olivia  Martinez  \n",
      "1      Ethan  Reynolds  \n",
      "2    Jackson    Harper  \n",
      "3       Liam   Sanchez  \n",
      "4        Ava  Thompson  \n"
     ]
    },
    {
     "ename": "NameError",
     "evalue": "name 'n' is not defined",
     "output_type": "error",
     "traceback": [
      "\u001b[0;31m---------------------------------------------------------------------------\u001b[0m",
      "\u001b[0;31mNameError\u001b[0m                                 Traceback (most recent call last)",
      "Cell \u001b[0;32mIn[83], line 14\u001b[0m\n\u001b[1;32m      9\u001b[0m ath[\u001b[38;5;124m'\u001b[39m\u001b[38;5;124mfull_nm\u001b[39m\u001b[38;5;124m'\u001b[39m] \u001b[38;5;241m=\u001b[39m ath[\u001b[38;5;124m'\u001b[39m\u001b[38;5;124mFirst Name\u001b[39m\u001b[38;5;124m'\u001b[39m] \u001b[38;5;241m+\u001b[39m \u001b[38;5;124m\"\u001b[39m\u001b[38;5;124m \u001b[39m\u001b[38;5;124m\"\u001b[39m \u001b[38;5;241m+\u001b[39m ath[\u001b[38;5;124m'\u001b[39m\u001b[38;5;124mLast Name\u001b[39m\u001b[38;5;124m'\u001b[39m]\n\u001b[1;32m     11\u001b[0m \u001b[38;5;66;03m# iterating till the range\u001b[39;00m\n\u001b[1;32m     12\u001b[0m \u001b[38;5;66;03m#insert in array\u001b[39;00m\n\u001b[0;32m---> 14\u001b[0m \u001b[38;5;28;01mfor\u001b[39;00m i \u001b[38;5;129;01min\u001b[39;00m \u001b[38;5;28mrange\u001b[39m(\u001b[38;5;241m0\u001b[39m, n):\n\u001b[1;32m     15\u001b[0m     ele \u001b[38;5;241m=\u001b[39m ath[\u001b[38;5;124m'\u001b[39m\u001b[38;5;124mfull_nm\u001b[39m\u001b[38;5;124m'\u001b[39m]\n\u001b[1;32m     16\u001b[0m     \u001b[38;5;66;03m# adding the elemen\u001b[39;00m\n",
      "\u001b[0;31mNameError\u001b[0m: name 'n' is not defined"
     ]
    }
   ],
   "source": []
  },
  {
   "cell_type": "code",
   "execution_count": null,
   "id": "b828c732-3b02-4db8-9eef-36eef17e4b25",
   "metadata": {},
   "outputs": [],
   "source": []
  }
 ],
 "metadata": {
  "kernelspec": {
   "display_name": "Python 3 (ipykernel)",
   "language": "python",
   "name": "python3"
  },
  "language_info": {
   "codemirror_mode": {
    "name": "ipython",
    "version": 3
   },
   "file_extension": ".py",
   "mimetype": "text/x-python",
   "name": "python",
   "nbconvert_exporter": "python",
   "pygments_lexer": "ipython3",
   "version": "3.11.7"
  }
 },
 "nbformat": 4,
 "nbformat_minor": 5
}
