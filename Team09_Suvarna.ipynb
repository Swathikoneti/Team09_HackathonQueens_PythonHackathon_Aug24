{
 "cells": [
  {
   "cell_type": "code",
   "execution_count": 39,
   "id": "68159efe-fb44-454a-956c-6ebb1a0e0a64",
   "metadata": {},
   "outputs": [
    {
     "name": "stdout",
     "output_type": "stream",
     "text": [
      "maximum ventilatory threshold for triathletes is: 2.205941909\n",
      "maximum ventilatory threshold for triathletes row is:\n"
     ]
    },
    {
     "data": {
      "text/plain": [
       "ID        17.000000\n",
       "time     662.160000\n",
       "RR              NaN\n",
       "VO2        2.205942\n",
       "power    185.000000\n",
       "Name: 1922, dtype: float64"
      ]
     },
     "execution_count": 39,
     "metadata": {},
     "output_type": "execute_result"
    }
   ],
   "source": [
    "import pandas as pd \n",
    "import numpy as np \n",
    "import seaborn as sns\n",
    "import matplotlib.pyplot as plt\n",
    "import warnings\n",
    "warnings.filterwarnings(\"ignore\")\n",
    "\n",
    "#Read the excel file and store the sheets into dataframes.\n",
    "df = pd.ExcelFile(r\"/Users/niles/V02Max_Combined.xlsx\")\n",
    "kay = pd.read_excel(df, sheet_name = 'Kayaking')\n",
    "ath = pd.read_excel(df, sheet_name = 'Athletes')\n",
    "tri = pd.read_excel(df, sheet_name = 'Triathlon')\n",
    "fen = pd.read_excel(df, sheet_name = 'Fencing')\n",
    "\n",
    "##Question 17: What is the maximum ventilatory threshold for triathletes.\n",
    "\n",
    "dl = pd.DataFrame(tri)\n",
    "print(\"maximum ventilatory threshold for triathletes is:\",dl['VO2'].max())\n",
    "\n",
    "print(\"maximum ventilatory threshold for triathletes row is:\")\n",
    "dl.iloc[dl['VO2'].idxmax()]\n",
    "##print(dl['VO2'].max())\n",
    "##(dl.max())\n"
   ]
  },
  {
   "cell_type": "code",
   "execution_count": null,
   "id": "0df318c7-1561-44b4-b714-938ae39cd032",
   "metadata": {},
   "outputs": [],
   "source": []
  },
  {
   "cell_type": "code",
   "execution_count": null,
   "id": "9d51c225-e034-40a8-98ff-c94686c9f453",
   "metadata": {},
   "outputs": [],
   "source": []
  }
 ],
 "metadata": {
  "kernelspec": {
   "display_name": "Python 3 (ipykernel)",
   "language": "python",
   "name": "python3"
  },
  "language_info": {
   "codemirror_mode": {
    "name": "ipython",
    "version": 3
   },
   "file_extension": ".py",
   "mimetype": "text/x-python",
   "name": "python",
   "nbconvert_exporter": "python",
   "pygments_lexer": "ipython3",
   "version": "3.12.4"
  }
 },
 "nbformat": 4,
 "nbformat_minor": 5
}
