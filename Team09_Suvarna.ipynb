{
 "cells": [
  {
   "cell_type": "code",
   "execution_count": null,
   "id": "6675596e-32a8-462e-832b-ecb2550dc282",
   "metadata": {},
   "outputs": [],
   "source": [
    "import pandas as pd \n",
    "import numpy as np \n",
    "import seaborn as sns\n",
    "import matplotlib.pyplot as plt\n",
    "import warnings\n",
    "warnings.filterwarnings(\"ignore\")"
   ]
  },
  {
   "cell_type": "code",
   "execution_count": null,
   "id": "731f22b2-2d17-4704-9c03-d17fa94de3f3",
   "metadata": {},
   "outputs": [],
   "source": [
    "#Read the excel file and store the sheets into dataframes.\n",
    "import warnings\n",
    "# Suppress all warnings\n",
    "warnings.filterwarnings('ignore')\n",
    "df = pd.ExcelFile(r\"/Users/niles/V02Max_Combined.xlsx\")\n",
    "kay = pd.read_excel(df, sheet_name = 'Kayaking')\n",
    "ath = pd.read_excel(df, sheet_name = 'Athletes')\n",
    "tri = pd.read_excel(df, sheet_name = 'Triathlon')\n",
    "fen = pd.read_excel(df, sheet_name = 'Fencing')"
   ]
  },
  {
   "cell_type": "markdown",
   "id": "b5b5e55a-e66a-4251-a035-27daf1f78b6f",
   "metadata": {},
   "source": [
    "<span style=\"font-size:24px;\">##Question 1: Join all sport-related tables to produce one dataframe that has all athletes values. The final table should only have the same 5 columns: ID, time,power,RR, vo2, power. Write this dataframe to an excel file.</span>\n"
   ]
  },
  {
   "cell_type": "code",
   "execution_count": 600,
   "id": "74e4d0dd-e3bd-41b7-b111-4f9bd25b6cfe",
   "metadata": {},
   "outputs": [
    {
     "name": "stdout",
     "output_type": "stream",
     "text": [
      "Dataframe successfully written to Excel file FinalVO2_Table.xlsx\n",
      "\n",
      "Reading FinalVO2_Table.xlsx Excel file for Verification:\n",
      "       ID     time     RR       VO2  power\n",
      "0       1 -130.840  672.0  0.302008      0\n",
      "1       1 -130.168  672.0  0.302008      0\n",
      "2       1 -129.536  632.0  0.301336      0\n",
      "3       1 -128.824  712.0  0.301336      0\n",
      "4       1 -127.948  876.0  0.301336      0\n",
      "...    ..      ...    ...       ...    ...\n",
      "52057  18  947.288  536.0  0.507071      0\n",
      "52058  18  947.816  528.0  0.507071      0\n",
      "52059  18  948.344  528.0  0.507071      0\n",
      "52060  18  948.884  540.0  0.507071      0\n",
      "52061  18  949.424  540.0  0.507071      0\n",
      "\n",
      "[52062 rows x 5 columns]\n"
     ]
    }
   ],
   "source": [
    "#Concatenating all sport related table to one dataframe final_table\n",
    "final_table=pd.concat([fen[['ID','time','RR','VO2','power']],\n",
    "                       kay[['ID','time','RR','VO2','power']],\n",
    "                       tri[['ID','time','RR','VO2','power']]],ignore_index=True)\n",
    "\n",
    "#defining output excel file name\n",
    "output='FinalVO2_Table.xlsx'\n",
    "\n",
    "#writing dataframe to excel using to_excel\n",
    "final_table.to_excel(output,index=False)\n",
    "print(\"Dataframe successfully written to Excel file\",output)\n",
    "\n",
    "#Reading the excel file back into dataframe for verification\n",
    "print(\"\\nReading\",output,\"Excel file for Verification:\")\n",
    "sportdf=pd.read_excel(\"FinalVO2_Table.xlsx\")\n",
    "print(sportdf)"
   ]
  },
  {
   "cell_type": "markdown",
   "id": "f3abc351-8665-4cea-8ff3-bbc5f6ea67f0",
   "metadata": {},
   "source": [
    "<span style=\"font-size:24px;\">##Question 2: Divide the rows into 3 parts: Warm up, GET(graded exercise test) and cool down using the data def. Label each row accordingly</span>\n"
   ]
  },
  {
   "cell_type": "code",
   "execution_count": 30,
   "id": "accb5666-d048-4102-a91e-2d22b714d125",
   "metadata": {},
   "outputs": [
    {
     "name": "stdout",
     "output_type": "stream",
     "text": [
      "       ID     time     RR       VO2  power      Phase\n",
      "0       1 -130.840  672.0  0.302008      0    Warm Up\n",
      "1       1 -130.168  672.0  0.302008      0    Warm Up\n",
      "2       1 -129.536  632.0  0.301336      0    Warm Up\n",
      "3       1 -128.824  712.0  0.301336      0    Warm Up\n",
      "4       1 -127.948  876.0  0.301336      0    Warm Up\n",
      "...    ..      ...    ...       ...    ...        ...\n",
      "52057  18  947.288  536.0  0.507071      0  Cool Down\n",
      "52058  18  947.816  528.0  0.507071      0  Cool Down\n",
      "52059  18  948.344  528.0  0.507071      0  Cool Down\n",
      "52060  18  948.884  540.0  0.507071      0  Cool Down\n",
      "52061  18  949.424  540.0  0.507071      0  Cool Down\n",
      "\n",
      "[52062 rows x 6 columns]\n"
     ]
    }
   ],
   "source": [
    "\n",
    "\n",
    "#Initialize Dataframe phase\n",
    "phase=pd.DataFrame(final_table)\n",
    "\n",
    "#initialize Phase column\n",
    "phase['Phase']='Other Phase'\n",
    "\n",
    "#Apply conditions to find Warm Up-time less than 0,GET-time>=0 and power>0,Cool Down-time>0 and power=0\n",
    "phase.loc[phase['time']<0,'Phase']='Warm Up'\n",
    "phase.loc[(phase['time']>=0) & (phase['power']>0),'Phase']='GET'\n",
    "phase.loc[(phase['time']>0) & (phase['power']==0),'Phase']='Cool Down'\n",
    "\n",
    "#print dataframe phase details\n",
    "print(phase)"
   ]
  },
  {
   "cell_type": "markdown",
   "id": "3add9cf7-b1aa-490e-b611-bf4554869913",
   "metadata": {},
   "source": [
    "<span style=\"font-size:24px;\">##Question 17: What is the maximum ventilatory threshold for triathletes.</span>\n"
   ]
  },
  {
   "cell_type": "code",
   "execution_count": 621,
   "id": "afef2d17-04ae-4e69-ae0d-977284720f21",
   "metadata": {},
   "outputs": [
    {
     "name": "stdout",
     "output_type": "stream",
     "text": [
      "maximum ventilatory threshold for triathletes is: 2.205941909\n",
      "maximum ventilatory threshold for triathletes row is:\n"
     ]
    },
    {
     "data": {
      "text/plain": [
       "ID        17.000000\n",
       "time     662.160000\n",
       "RR              NaN\n",
       "VO2        2.205942\n",
       "power    185.000000\n",
       "HR              NaN\n",
       "Name: 1922, dtype: float64"
      ]
     },
     "execution_count": 621,
     "metadata": {},
     "output_type": "execute_result"
    }
   ],
   "source": [
    "dl = pd.DataFrame(tri)\n",
    "print(\"maximum ventilatory threshold for triathletes is:\",dl['VO2'].max())\n",
    "\n",
    "print(\"maximum ventilatory threshold for triathletes row is:\")\n",
    "dl.iloc[dl['VO2'].idxmax()]\n",
    "##print(dl['VO2'].max())\n",
    "##(dl.max())\n"
   ]
  },
  {
   "cell_type": "markdown",
   "id": "7d6cf45a-be4e-4bc3-8b82-af35968b7406",
   "metadata": {},
   "source": [
    "<span style=\"font-size:24px;\">##Question 18: Display the number of athletes in every sport against the name of the sport.</span>\n"
   ]
  },
  {
   "cell_type": "code",
   "execution_count": 619,
   "id": "0df318c7-1561-44b4-b714-938ae39cd032",
   "metadata": {},
   "outputs": [
    {
     "name": "stdout",
     "output_type": "stream",
     "text": [
      "Number of athletes in each sport:\n",
      "fencing: 10\n",
      "kayak: 6\n",
      "triathlon: 2\n"
     ]
    }
   ],
   "source": [
    "##Question 18: Display the number of athletes in every sport against the name of the sport.\n",
    "#print(\"Number of athletes in every Sport:\")\n",
    "#ath['sport'].value_counts().groupby('sport').head(1)\n",
    "athl = pd.DataFrame(ath)\n",
    "#print(athl.head())\n",
    "# Display the number of athletes for each sport\n",
    "print(\"Number of athletes in each sport:\")\n",
    "for sport, count in athlete_counts.items():\n",
    "    print(f\"{sport}: {count}\")"
   ]
  },
  {
   "cell_type": "markdown",
   "id": "2d2544b0-a573-48be-8609-845a39214189",
   "metadata": {},
   "source": [
    "<span style=\"font-size:24px;\">##Question 19:Display a bar chart showing the average V02 Max by sport.</span>\n"
   ]
  },
  {
   "cell_type": "code",
   "execution_count": 623,
   "id": "ac22c3d7-263e-47ad-8456-fb36a493df66",
   "metadata": {},
   "outputs": [
    {
     "name": "stdout",
     "output_type": "stream",
     "text": [
      "VO2 max for each sport:\n",
      "       sport    Max VO2\n",
      "0    fencing  57.460350\n",
      "1      kayak  77.345233\n",
      "2  triathlon  77.499291\n"
     ]
    },
    {
     "data": {
      "image/png": "[encoded data removed]",
      "text/plain": [
       "<Figure size 1000x600 with 1 Axes>"
      ]
     },
     "metadata": {},
     "output_type": "display_data"
    }
   ],
   "source": [
    "\n",
    "import warnings\n",
    "# Suppress all warnings\n",
    "warnings.filterwarnings('ignore')\n",
    "#Load athlete details into dataframe\n",
    "df = pd.ExcelFile(r\"/Users/niles/V02Max_Combined.xlsx\")\n",
    "ath = pd.read_excel(df, sheet_name = 'Athletes')\n",
    "maxVO2=pd.DataFrame(ath)\n",
    "#print(maxVO2)\n",
    "final_table=pd.concat([fen[['ID','time','RR','VO2','power']],\n",
    "                       kay[['ID','time','RR','VO2','power']],\n",
    "                       tri[['ID','time','RR','VO2','power']]],ignore_index=True)\n",
    "#print(final_table)\n",
    "#Sum the VO2 values for each ID\n",
    "total_VO2 = final_table.groupby('ID')['VO2'].sum().reset_index()\n",
    "#Merge sum of VO2 values for each id to maxVO2 dataframe\n",
    "maxVO2=pd.merge(maxVO2,total_VO2,on='ID')\n",
    "#print(maxVO2)\n",
    "#Find Max VO2 which is VO2 divided by each athlete weight\n",
    "maxVO2['Max VO2']=maxVO2['VO2']/maxVO2['Weight']\n",
    "#find the avg vo2 max group by sport\n",
    "avg_maxvo2=maxVO2.groupby('sport')['Max VO2'].mean().reset_index()\n",
    "print('VO2 max for each sport:')\n",
    "print(avg_maxvo2)\n",
    "# Set the style of the plot\n",
    "sns.set_style('darkgrid' ,{'grid.color': '.6', 'grid.linestyle': ':'})\n",
    "#Plot bar chart\n",
    "plt.figure(figsize=(10, 6))\n",
    "ax=sns.barplot(x='sport', y='Max VO2', data=avg_maxvo2, palette='husl')\n",
    "#To show count\n",
    "for p in ax.patches:\n",
    " height = p.get_height()\n",
    " # Format height to 2 decimal points\n",
    " label = f'{height:.2f}'\n",
    " ax.annotate(label, (p.get_x() + p.get_width() / 2., height), ha='center',va='baseline', fontsize=10, color='black', xytext=(0, 10), textcoords='offset points')\n",
    "#Assign titles and lables\n",
    "plt.title('Average VO2 Max by Sport',fontsize=18, color ='Purple')\n",
    "plt.xlabel('Sport', fontsize=14, color ='Purple')\n",
    "plt.ylabel('Average VO2 Max', fontsize=14, color ='Purple')\n",
    "plt.xticks(fontsize=14);\n",
    "plt.yticks(fontsize=14);\n",
    "plt.show()"
   ]
  },
  {
   "cell_type": "markdown",
   "id": "367a9cd3-e84a-4dd1-a00e-76a5ae62d822",
   "metadata": {},
   "source": [
    "<span style=\"font-size:24px;\">##Question:20 Analyze the trend of HR at the start of the test vs the middle and the end.What is the overall trend?</span> \n"
   ]
  },
  {
   "cell_type": "code",
   "execution_count": 625,
   "id": "c5500030-9b47-4a15-9d0d-89e445dc40d9",
   "metadata": {},
   "outputs": [
    {
     "name": "stdout",
     "output_type": "stream",
     "text": [
      "DataFrame:\n",
      "   ID     time     RR       VO2  power\n",
      "0  11 -168.600  727.0  0.287147      0\n",
      "1  11 -167.872  728.0  0.287147      0\n",
      "2  11 -167.148  724.0  0.287147      0\n",
      "3  11 -166.484  664.0  0.320580      0\n",
      "4  11 -165.836  648.0  0.320580      0\n",
      "\n",
      "Trend Data:\n",
      "    Phase          HR\n",
      "0   Start   82.530949\n",
      "1  Middle  164.835165\n",
      "2     End  113.636364\n"
     ]
    },
    {
     "data": {
      "image/png": "[encoded data removed]",
      "text/plain": [
       "<Figure size 800x500 with 1 Axes>"
      ]
     },
     "metadata": {},
     "output_type": "display_data"
    },
    {
     "name": "stdout",
     "output_type": "stream",
     "text": [
      "\n",
      "Overall Trend: Variable\n",
      "\n",
      "Overall Trend: Variable\n"
     ]
    }
   ],
   "source": [
    "# Load the data\n",
    "file_path = r\"/Users/niles/V02Max_Combined.xlsx\" \n",
    "df = pd.read_excel(file_path, sheet_name='Kayaking') \n",
    "\n",
    "# Display the first few rows of the DataFrame (optional)\n",
    "print(\"DataFrame:\")\n",
    "print(df.head())\n",
    "\n",
    "#calculating HR\n",
    "df['HR']=60/(df['RR']/1000)\n",
    "# Extract HR values at the start, middle, and end\n",
    "start_hr = df['HR'].iloc[0]  # First entry (start of the test)\n",
    "middle_hr = df['HR'].iloc[len(df) // 2]  # Middle entry\n",
    "end_hr = df['HR'].iloc[-1]  # Last entry (end of the test)\n",
    "\n",
    "# Create a DataFrame for trend analysis\n",
    "trend_data = pd.DataFrame({\n",
    "    'Phase': ['Start', 'Middle', 'End'],\n",
    "    'HR': [start_hr, middle_hr, end_hr]\n",
    "})\n",
    "\n",
    "# Display the trend data\n",
    "print(\"\\nTrend Data:\")\n",
    "print(trend_data)\n",
    "\n",
    "# Visualize the trend\n",
    "plt.figure(figsize=(8, 5))\n",
    "plt.plot(trend_data['Phase'], trend_data['HR'], marker='o')\n",
    "plt.title('Trend of Heart Rate (HR) During the Test')\n",
    "plt.xlabel('Test Phase')\n",
    "plt.ylabel('Heart Rate (HR)')\n",
    "plt.grid()\n",
    "plt.tight_layout()\n",
    "plt.show()\n",
    "\n",
    "# Analyze the overall trend\n",
    "if start_hr < middle_hr < end_hr:\n",
    "    overall_trend = \"Increasing\"\n",
    "elif start_hr > middle_hr > end_hr:\n",
    "    overall_trend = \"Decreasing\"\n",
    "else:\n",
    "    overall_trend = \"Variable\"\n",
    "\n",
    "print(f\"\\nOverall Trend: {overall_trend}\")\n",
    "\r\n",
    "\r\n",
    "print(f\"\\nOverall Trend: {overall_trend}\")\r\n",
    "\r\n",
    "\r\n",
    "\r\n"
   ]
  },
  {
   "cell_type": "markdown",
   "id": "d780d565-f5aa-4713-819e-d185f2a1074c",
   "metadata": {},
   "source": [
    "<span style=\"font-size:24px;\">##Question21:Display a pie chart of number of athletes by sport.</span>."
   ]
  },
  {
   "cell_type": "code",
   "execution_count": 627,
   "id": "79fd9524-907b-471a-b4b0-029a2be99975",
   "metadata": {},
   "outputs": [
    {
     "name": "stdout",
     "output_type": "stream",
     "text": [
      "DataFrame:\n",
      "   ID  age  Weight  Height  P_vt1  P_vt2    sport  Gender Ethnicity  \\\n",
      "0   1   15    53.7     161     50    140  fencing  Female   African   \n",
      "1   2   15    56.2     162     80    127  fencing    Male   African   \n",
      "2   3   16    89.9     191    155    300  fencing    Male     White   \n",
      "3   4   16    76.5     180    215    275  fencing    Male     White   \n",
      "4   5   17    76.4     186    110    172  fencing  Female     White   \n",
      "\n",
      "  First Name Last Name  \n",
      "0     Olivia  Martinez  \n",
      "1      Ethan  Reynolds  \n",
      "2    Jackson    Harper  \n",
      "3       Liam   Sanchez  \n",
      "4        Ava  Thompson  \n"
     ]
    },
    {
     "data": {
      "image/png": "[encoded data removed]",
      "text/plain": [
       "<Figure size 800x800 with 1 Axes>"
      ]
     },
     "metadata": {},
     "output_type": "display_data"
    }
   ],
   "source": [
    "print(\"DataFrame:\")\n",
    "print(ath.head())\n",
    "\n",
    "# Count the number of athletes by sport\n",
    "athlete_counts = ath['sport'].value_counts() \n",
    "\n",
    "# Create a pie chart\n",
    "plt.figure(figsize=(8, 8))\n",
    "plt.pie(athlete_counts, labels=athlete_counts.index, autopct='%1.1f%%', startangle=140)\n",
    "plt.title('Number of Athletes by Sport')\n",
    "plt.axis('equal')  # Equal aspect ratio ensures that pie chart is circular.\n",
    "plt.tight_layout()\n",
    "plt.show()"
   ]
  },
  {
   "cell_type": "markdown",
   "id": "50648a70-0650-45c6-9754-2f7089361f76",
   "metadata": {},
   "source": [
    "<span style=\"font-size:24px;\">##Question 22:Using any 10 HR values print even if the value is an even number and odd if its an odd number</span>\n"
   ]
  },
  {
   "cell_type": "code",
   "execution_count": 629,
   "id": "5c7519ed-399f-4a3a-aace-942232270be1",
   "metadata": {},
   "outputs": [
    {
     "name": "stdout",
     "output_type": "stream",
     "text": [
      "131.57894736842104 is odd\n",
      "127.11864406779662 is odd\n",
      "166.66666666666669 is odd\n",
      "137.61467889908258 is odd\n",
      "132.7433628318584 is odd\n",
      "126.05042016806723 is odd\n",
      "82.41758241758242 is odd\n",
      "132.7433628318584 is odd\n",
      "142.85714285714286 is odd\n",
      "150.0 is even\n"
     ]
    }
   ],
   "source": [
    "# Fetch RR values from Triathlon\n",
    "tri['HR']=60/(tri['RR']/1000)\n",
    "hr_values = tri['HR'].sample(n=10, random_state=1).tolist() \n",
    "\n",
    "# Print even or odd for each HR value\n",
    "for hr in hr_values:\n",
    "    if hr % 2 == 0:\n",
    "        print(f\"{hr} is even\")\n",
    "    else:\n",
    "        print(f\"{hr} is odd\")"
   ]
  },
  {
   "cell_type": "markdown",
   "id": "be264fca-918e-4e01-8483-93613041765d",
   "metadata": {},
   "source": [
    "<span style=\"font-size:24px;\">##Question 23: Which heart rate zone did most participants spend the longest duration of time in?</span>\n"
   ]
  },
  {
   "cell_type": "code",
   "execution_count": 631,
   "id": "7635ae9f-5665-46b0-becc-6cc5f18bc495",
   "metadata": {},
   "outputs": [
    {
     "name": "stdout",
     "output_type": "stream",
     "text": [
      "DataFrame:\n",
      "   ID     time   RR       VO2  power         HR      Zone\n",
      "0   1 -130.840  672  0.302008      0  89.285714  Moderate\n",
      "1   1 -130.168  672  0.302008      0  89.285714  Moderate\n",
      "2   1 -129.536  632  0.301336      0  94.936709  Moderate\n",
      "3   1 -128.824  712  0.301336      0  84.269663  Moderate\n",
      "4   1 -127.948  876  0.301336      0  68.493151  Moderate\n",
      "\n",
      "Duration in Each Heart Rate Zone:\n",
      "       Zone          time\n",
      "0   Maximal  1.070860e+07\n",
      "1  Moderate -1.736734e+05\n",
      "2   Resting -1.662085e+04\n",
      "3  Vigorous  3.659421e+06\n",
      "\n",
      "Zone with the longest duration: Maximal with 10708599.02 units of time.\n"
     ]
    }
   ],
   "source": [
    "# Display the first few rows of the DataFrame (optional)\n",
    "print(\"DataFrame:\")\n",
    "print(fen.head())\n",
    "\n",
    "# Define heart rate zones (example ranges)\n",
    "def heart_rate_zone(hr):\n",
    "    if hr < 60:\n",
    "        return 'Resting'\n",
    "    elif 60 <= hr < 100:\n",
    "        return 'Moderate'\n",
    "    elif 100 <= hr < 140:\n",
    "        return 'Vigorous'\n",
    "    else:\n",
    "        return 'Maximal'\n",
    "fen['HR']=60/(fen['RR']/1000)\n",
    "# Apply the function to create a new column for heart rate zone\n",
    "fen['Zone'] = fen['HR'].apply(heart_rate_zone) \n",
    "\n",
    "# Calculate the duration spent in each zone for each participant\n",
    "\n",
    "zone_duration = fen.groupby('Zone')['time'].sum().reset_index() \n",
    "\n",
    "# Identify the zone with the maximum duration\n",
    "max_zone = zone_duration.loc[zone_duration['time'].idxmax()]\n",
    "\n",
    "# Display the results\n",
    "print(\"\\nDuration in Each Heart Rate Zone:\")\n",
    "print(zone_duration)\n",
    "print(f\"\\nZone with the longest duration: {max_zone['Zone']} with {max_zone['time']} units of time.\")\n"
   ]
  },
  {
   "cell_type": "markdown",
   "id": "e250ed86-618c-40ca-a303-2d8493b04d57",
   "metadata": {},
   "source": [
    "<span style=\"font-size:24px;\">##Question 24:Store athlete name and sport in a dictionary as a pair of values.</span>"
   ]
  },
  {
   "cell_type": "code",
   "execution_count": 633,
   "id": "a8de6cfa-36a5-4da7-b999-8a62b9bfb57a",
   "metadata": {},
   "outputs": [
    {
     "name": "stdout",
     "output_type": "stream",
     "text": [
      "DataFrame:\n",
      "   ID  age  Weight  Height  P_vt1  P_vt2    sport  Gender Ethnicity  \\\n",
      "0   1   15    53.7     161     50    140  fencing  Female   African   \n",
      "1   2   15    56.2     162     80    127  fencing    Male   African   \n",
      "2   3   16    89.9     191    155    300  fencing    Male     White   \n",
      "3   4   16    76.5     180    215    275  fencing    Male     White   \n",
      "4   5   17    76.4     186    110    172  fencing  Female     White   \n",
      "\n",
      "  First Name Last Name  \n",
      "0     Olivia  Martinez  \n",
      "1      Ethan  Reynolds  \n",
      "2    Jackson    Harper  \n",
      "3       Liam   Sanchez  \n",
      "4        Ava  Thompson  \n",
      "\n",
      "Athlete and Sport Dictionary:\n",
      "{'Olivia Martinez': 'fencing', 'Ethan Reynolds': 'fencing', 'Jackson Harper': 'fencing', 'Liam Sanchez': 'fencing', 'Ava Thompson': 'fencing', 'Sophia Rodriguez': 'fencing', 'Grace Simmons': 'fencing', 'Aiden Bennett': 'fencing', 'Chloe Price': 'fencing', 'Lily Jordan': 'fencing', 'Isabella Griffin': 'kayak', 'Caleb Dixon': 'kayak', 'Mia Carpenter': 'kayak', 'Harper Mitchell': 'kayak', 'Mason Wallace': 'kayak', 'Logan Anderson': 'kayak', 'Lucas Foster': 'triathlon', 'Owen Myers': 'triathlon'}\n"
     ]
    }
   ],
   "source": [
    "\n",
    "print(\"DataFrame:\")\n",
    "print(ath.head())\n",
    "\n",
    "#concatenate first name and last name for row name\n",
    "ath['full_nm'] = ath['First Name'] + \" \" + ath['Last Name']\n",
    "athlete_sport_dict = {row['full_nm']:row['sport'] for index, row in ath.iterrows()}\n",
    "\n",
    "# Display the dictionary\n",
    "print(\"\\nAthlete and Sport Dictionary:\")\n",
    "print(athlete_sport_dict)"
   ]
  },
  {
   "cell_type": "markdown",
   "id": "f27cbf5e-1cd8-4551-b298-373cc40a1c58",
   "metadata": {},
   "source": [
    "<span style=\"font-size:24px;\">##Question 25:Using arrays and loops, find the count of athletes based on gender.</span>"
   ]
  },
  {
   "cell_type": "code",
   "execution_count": 635,
   "id": "51c7515a-cddd-4ea0-a450-4e1776238bca",
   "metadata": {},
   "outputs": [
    {
     "name": "stdout",
     "output_type": "stream",
     "text": [
      "\n",
      "Count of Athletes by Gender:\n",
      "Female: 10\n",
      "Male: 8\n"
     ]
    }
   ],
   "source": [
    "#fetch Gender of Athletes\n",
    "athlete_genders = ath['Gender'].tolist()  # Convert the Gender column to a list\n",
    "\n",
    "# Initialize a count dictionary\n",
    "gender_count = {}\n",
    "\n",
    "# Loop through the array to count genders\n",
    "for gender in athlete_genders:\n",
    "    if gender in gender_count:\n",
    "        gender_count[gender] += 1  # Increment count if gender already exists\n",
    "    else:\n",
    "        gender_count[gender] = 1  # Initialize count if gender is encountered for the first time\n",
    "\n",
    "# Display the counts of athletes based on gender\n",
    "print(\"\\nCount of Athletes by Gender:\")\n",
    "for gender, count in gender_count.items():\n",
    "    print(f\"{gender}: {count}\")"
   ]
  },
  {
   "cell_type": "markdown",
   "id": "b5d8596b-4945-462a-a942-e5392dde1365",
   "metadata": {},
   "source": [
    "<span style=\"font-size:24px;\">##Question 26:Create a sankey diagram to show the groups of race within each sport</span>"
   ]
  },
  {
   "cell_type": "code",
   "execution_count": 637,
   "id": "97df1dc1-67c0-42b2-a7ca-dbf85a3ba129",
   "metadata": {},
   "outputs": [
    {
     "name": "stdout",
     "output_type": "stream",
     "text": [
      "DataFrame:\n",
      "   ID  age  Weight  Height  P_vt1  P_vt2    sport  Gender Ethnicity  \\\n",
      "0   1   15    53.7     161     50    140  fencing  Female   African   \n",
      "1   2   15    56.2     162     80    127  fencing    Male   African   \n",
      "2   3   16    89.9     191    155    300  fencing    Male     White   \n",
      "3   4   16    76.5     180    215    275  fencing    Male     White   \n",
      "4   5   17    76.4     186    110    172  fencing  Female     White   \n",
      "\n",
      "  First Name Last Name          full_nm  \n",
      "0     Olivia  Martinez  Olivia Martinez  \n",
      "1      Ethan  Reynolds   Ethan Reynolds  \n",
      "2    Jackson    Harper   Jackson Harper  \n",
      "3       Liam   Sanchez     Liam Sanchez  \n",
      "4        Ava  Thompson     Ava Thompson  \n"
     ]
    },
    {
     "data": {
      "application/vnd.plotly.v1+json": {
       "config": {
        "plotlyServerURL": "https://plot.ly"
       },
       "data": [
        {
         "link": {
          "source": [
           0,
           0,
           0,
           0,
           0,
           0,
           0,
           0,
           0,
           0,
           1,
           1,
           1,
           1,
           1,
           1,
           2,
           2
          ],
          "target": [
           3,
           4,
           5,
           6,
           7,
           8,
           9,
           10,
           11,
           12,
           13,
           14,
           15,
           16,
           17,
           18,
           19,
           20
          ],
          "value": [
           1,
           2,
           3,
           4,
           5,
           6,
           7,
           8,
           9,
           10,
           11,
           12,
           13,
           14,
           15,
           16,
           17,
           18
          ]
         },
         "node": {
          "label": [
           "fencing",
           "kayak",
           "triathlon",
           1,
           2,
           3,
           4,
           5,
           6,
           7,
           8,
           9,
           10,
           11,
           12,
           13,
           14,
           15,
           16,
           17,
           18
          ],
          "line": {
           "color": "black",
           "width": 0.5
          },
          "pad": 15,
          "thickness": 20
         },
         "type": "sankey"
        }
       ],
       "layout": {
        "autosize": true,
        "font": {
         "size": 10
        },
        "template": {
         "data": {
          "bar": [
           {
            "error_x": {
             "color": "#2a3f5f"
            },
            "error_y": {
             "color": "#2a3f5f"
            },
            "marker": {
             "line": {
              "color": "#E5ECF6",
              "width": 0.5
             },
             "pattern": {
              "fillmode": "overlay",
              "size": 10,
              "solidity": 0.2
             }
            },
            "type": "bar"
           }
          ],
          "barpolar": [
           {
            "marker": {
             "line": {
              "color": "#E5ECF6",
              "width": 0.5
             },
             "pattern": {
              "fillmode": "overlay",
              "size": 10,
              "solidity": 0.2
             }
            },
            "type": "barpolar"
           }
          ],
          "carpet": [
           {
            "aaxis": {
             "endlinecolor": "#2a3f5f",
             "gridcolor": "white",
             "linecolor": "white",
             "minorgridcolor": "white",
             "startlinecolor": "#2a3f5f"
            },
            "baxis": {
             "endlinecolor": "#2a3f5f",
             "gridcolor": "white",
             "linecolor": "white",
             "minorgridcolor": "white",
             "startlinecolor": "#2a3f5f"
            },
            "type": "carpet"
           }
          ],
          "choropleth": [
           {
            "colorbar": {
             "outlinewidth": 0,
             "ticks": ""
            },
            "type": "choropleth"
           }
          ],
          "contour": [
           {
            "colorbar": {
             "outlinewidth": 0,
             "ticks": ""
            },
            "colorscale": [
             [
              0,
              "#0d0887"
             ],
             [
              0.1111111111111111,
              "#46039f"
             ],
             [
              0.2222222222222222,
              "#7201a8"
             ],
             [
              0.3333333333333333,
              "#9c179e"
             ],
             [
              0.4444444444444444,
              "#bd3786"
             ],
             [
              0.5555555555555556,
              "#d8576b"
             ],
             [
              0.6666666666666666,
              "#ed7953"
             ],
             [
              0.7777777777777778,
              "#fb9f3a"
             ],
             [
              0.8888888888888888,
              "#fdca26"
             ],
             [
              1,
              "#f0f921"
             ]
            ],
            "type": "contour"
           }
          ],
          "contourcarpet": [
           {
            "colorbar": {
             "outlinewidth": 0,
             "ticks": ""
            },
            "type": "contourcarpet"
           }
          ],
          "heatmap": [
           {
            "colorbar": {
             "outlinewidth": 0,
             "ticks": ""
            },
            "colorscale": [
             [
              0,
              "#0d0887"
             ],
             [
              0.1111111111111111,
              "#46039f"
             ],
             [
              0.2222222222222222,
              "#7201a8"
             ],
             [
              0.3333333333333333,
              "#9c179e"
             ],
             [
              0.4444444444444444,
              "#bd3786"
             ],
             [
              0.5555555555555556,
              "#d8576b"
             ],
             [
              0.6666666666666666,
              "#ed7953"
             ],
             [
              0.7777777777777778,
              "#fb9f3a"
             ],
             [
              0.8888888888888888,
              "#fdca26"
             ],
             [
              1,
              "#f0f921"
             ]
            ],
            "type": "heatmap"
           }
          ],
          "heatmapgl": [
           {
            "colorbar": {
             "outlinewidth": 0,
             "ticks": ""
            },
            "colorscale": [
             [
              0,
              "#0d0887"
             ],
             [
              0.1111111111111111,
              "#46039f"
             ],
             [
              0.2222222222222222,
              "#7201a8"
             ],
             [
              0.3333333333333333,
              "#9c179e"
             ],
             [
              0.4444444444444444,
              "#bd3786"
             ],
             [
              0.5555555555555556,
              "#d8576b"
             ],
             [
              0.6666666666666666,
              "#ed7953"
             ],
             [
              0.7777777777777778,
              "#fb9f3a"
             ],
             [
              0.8888888888888888,
              "#fdca26"
             ],
             [
              1,
              "#f0f921"
             ]
            ],
            "type": "heatmapgl"
           }
          ],
          "histogram": [
           {
            "marker": {
             "pattern": {
              "fillmode": "overlay",
              "size": 10,
              "solidity": 0.2
             }
            },
            "type": "histogram"
           }
          ],
          "histogram2d": [
           {
            "colorbar": {
             "outlinewidth": 0,
             "ticks": ""
            },
            "colorscale": [
             [
              0,
              "#0d0887"
             ],
             [
              0.1111111111111111,
              "#46039f"
             ],
             [
              0.2222222222222222,
              "#7201a8"
             ],
             [
              0.3333333333333333,
              "#9c179e"
             ],
             [
              0.4444444444444444,
              "#bd3786"
             ],
             [
              0.5555555555555556,
              "#d8576b"
             ],
             [
              0.6666666666666666,
              "#ed7953"
             ],
             [
              0.7777777777777778,
              "#fb9f3a"
             ],
             [
              0.8888888888888888,
              "#fdca26"
             ],
             [
              1,
              "#f0f921"
             ]
            ],
            "type": "histogram2d"
           }
          ],
          "histogram2dcontour": [
           {
            "colorbar": {
             "outlinewidth": 0,
             "ticks": ""
            },
            "colorscale": [
             [
              0,
              "#0d0887"
             ],
             [
              0.1111111111111111,
              "#46039f"
             ],
             [
              0.2222222222222222,
              "#7201a8"
             ],
             [
              0.3333333333333333,
              "#9c179e"
             ],
             [
              0.4444444444444444,
              "#bd3786"
             ],
             [
              0.5555555555555556,
              "#d8576b"
             ],
             [
              0.6666666666666666,
              "#ed7953"
             ],
             [
              0.7777777777777778,
              "#fb9f3a"
             ],
             [
              0.8888888888888888,
              "#fdca26"
             ],
             [
              1,
              "#f0f921"
             ]
            ],
            "type": "histogram2dcontour"
           }
          ],
          "mesh3d": [
           {
            "colorbar": {
             "outlinewidth": 0,
             "ticks": ""
            },
            "type": "mesh3d"
           }
          ],
          "parcoords": [
           {
            "line": {
             "colorbar": {
              "outlinewidth": 0,
              "ticks": ""
             }
            },
            "type": "parcoords"
           }
          ],
          "pie": [
           {
            "automargin": true,
            "type": "pie"
           }
          ],
          "scatter": [
           {
            "fillpattern": {
             "fillmode": "overlay",
             "size": 10,
             "solidity": 0.2
            },
            "type": "scatter"
           }
          ],
          "scatter3d": [
           {
            "line": {
             "colorbar": {
              "outlinewidth": 0,
              "ticks": ""
             }
            },
            "marker": {
             "colorbar": {
              "outlinewidth": 0,
              "ticks": ""
             }
            },
            "type": "scatter3d"
           }
          ],
          "scattercarpet": [
           {
            "marker": {
             "colorbar": {
              "outlinewidth": 0,
              "ticks": ""
             }
            },
            "type": "scattercarpet"
           }
          ],
          "scattergeo": [
           {
            "marker": {
             "colorbar": {
              "outlinewidth": 0,
              "ticks": ""
             }
            },
            "type": "scattergeo"
           }
          ],
          "scattergl": [
           {
            "marker": {
             "colorbar": {
              "outlinewidth": 0,
              "ticks": ""
             }
            },
            "type": "scattergl"
           }
          ],
          "scattermapbox": [
           {
            "marker": {
             "colorbar": {
              "outlinewidth": 0,
              "ticks": ""
             }
            },
            "type": "scattermapbox"
           }
          ],
          "scatterpolar": [
           {
            "marker": {
             "colorbar": {
              "outlinewidth": 0,
              "ticks": ""
             }
            },
            "type": "scatterpolar"
           }
          ],
          "scatterpolargl": [
           {
            "marker": {
             "colorbar": {
              "outlinewidth": 0,
              "ticks": ""
             }
            },
            "type": "scatterpolargl"
           }
          ],
          "scatterternary": [
           {
            "marker": {
             "colorbar": {
              "outlinewidth": 0,
              "ticks": ""
             }
            },
            "type": "scatterternary"
           }
          ],
          "surface": [
           {
            "colorbar": {
             "outlinewidth": 0,
             "ticks": ""
            },
            "colorscale": [
             [
              0,
              "#0d0887"
             ],
             [
              0.1111111111111111,
              "#46039f"
             ],
             [
              0.2222222222222222,
              "#7201a8"
             ],
             [
              0.3333333333333333,
              "#9c179e"
             ],
             [
              0.4444444444444444,
              "#bd3786"
             ],
             [
              0.5555555555555556,
              "#d8576b"
             ],
             [
              0.6666666666666666,
              "#ed7953"
             ],
             [
              0.7777777777777778,
              "#fb9f3a"
             ],
             [
              0.8888888888888888,
              "#fdca26"
             ],
             [
              1,
              "#f0f921"
             ]
            ],
            "type": "surface"
           }
          ],
          "table": [
           {
            "cells": {
             "fill": {
              "color": "#EBF0F8"
             },
             "line": {
              "color": "white"
             }
            },
            "header": {
             "fill": {
              "color": "#C8D4E3"
             },
             "line": {
              "color": "white"
             }
            },
            "type": "table"
           }
          ]
         },
         "layout": {
          "annotationdefaults": {
           "arrowcolor": "#2a3f5f",
           "arrowhead": 0,
           "arrowwidth": 1
          },
          "autotypenumbers": "strict",
          "coloraxis": {
           "colorbar": {
            "outlinewidth": 0,
            "ticks": ""
           }
          },
          "colorscale": {
           "diverging": [
            [
             0,
             "#8e0152"
            ],
            [
             0.1,
             "#c51b7d"
            ],
            [
             0.2,
             "#de77ae"
            ],
            [
             0.3,
             "#f1b6da"
            ],
            [
             0.4,
             "#fde0ef"
            ],
            [
             0.5,
             "#f7f7f7"
            ],
            [
             0.6,
             "#e6f5d0"
            ],
            [
             0.7,
             "#b8e186"
            ],
            [
             0.8,
             "#7fbc41"
            ],
            [
             0.9,
             "#4d9221"
            ],
            [
             1,
             "#276419"
            ]
           ],
           "sequential": [
            [
             0,
             "#0d0887"
            ],
            [
             0.1111111111111111,
             "#46039f"
            ],
            [
             0.2222222222222222,
             "#7201a8"
            ],
            [
             0.3333333333333333,
             "#9c179e"
            ],
            [
             0.4444444444444444,
             "#bd3786"
            ],
            [
             0.5555555555555556,
             "#d8576b"
            ],
            [
             0.6666666666666666,
             "#ed7953"
            ],
            [
             0.7777777777777778,
             "#fb9f3a"
            ],
            [
             0.8888888888888888,
             "#fdca26"
            ],
            [
             1,
             "#f0f921"
            ]
           ],
           "sequentialminus": [
            [
             0,
             "#0d0887"
            ],
            [
             0.1111111111111111,
             "#46039f"
            ],
            [
             0.2222222222222222,
             "#7201a8"
            ],
            [
             0.3333333333333333,
             "#9c179e"
            ],
            [
             0.4444444444444444,
             "#bd3786"
            ],
            [
             0.5555555555555556,
             "#d8576b"
            ],
            [
             0.6666666666666666,
             "#ed7953"
            ],
            [
             0.7777777777777778,
             "#fb9f3a"
            ],
            [
             0.8888888888888888,
             "#fdca26"
            ],
            [
             1,
             "#f0f921"
            ]
           ]
          },
          "colorway": [
           "#636efa",
           "#EF553B",
           "#00cc96",
           "#ab63fa",
           "#FFA15A",
           "#19d3f3",
           "#FF6692",
           "#B6E880",
           "#FF97FF",
           "#FECB52"
          ],
          "font": {
           "color": "#2a3f5f"
          },
          "geo": {
           "bgcolor": "white",
           "lakecolor": "white",
           "landcolor": "#E5ECF6",
           "showlakes": true,
           "showland": true,
           "subunitcolor": "white"
          },
          "hoverlabel": {
           "align": "left"
          },
          "hovermode": "closest",
          "mapbox": {
           "style": "light"
          },
          "paper_bgcolor": "white",
          "plot_bgcolor": "#E5ECF6",
          "polar": {
           "angularaxis": {
            "gridcolor": "white",
            "linecolor": "white",
            "ticks": ""
           },
           "bgcolor": "#E5ECF6",
           "radialaxis": {
            "gridcolor": "white",
            "linecolor": "white",
            "ticks": ""
           }
          },
          "scene": {
           "xaxis": {
            "backgroundcolor": "#E5ECF6",
            "gridcolor": "white",
            "gridwidth": 2,
            "linecolor": "white",
            "showbackground": true,
            "ticks": "",
            "zerolinecolor": "white"
           },
           "yaxis": {
            "backgroundcolor": "#E5ECF6",
            "gridcolor": "white",
            "gridwidth": 2,
            "linecolor": "white",
            "showbackground": true,
            "ticks": "",
            "zerolinecolor": "white"
           },
           "zaxis": {
            "backgroundcolor": "#E5ECF6",
            "gridcolor": "white",
            "gridwidth": 2,
            "linecolor": "white",
            "showbackground": true,
            "ticks": "",
            "zerolinecolor": "white"
           }
          },
          "shapedefaults": {
           "line": {
            "color": "#2a3f5f"
           }
          },
          "ternary": {
           "aaxis": {
            "gridcolor": "white",
            "linecolor": "white",
            "ticks": ""
           },
           "baxis": {
            "gridcolor": "white",
            "linecolor": "white",
            "ticks": ""
           },
           "bgcolor": "#E5ECF6",
           "caxis": {
            "gridcolor": "white",
            "linecolor": "white",
            "ticks": ""
           }
          },
          "title": {
           "x": 0.05
          },
          "xaxis": {
           "automargin": true,
           "gridcolor": "white",
           "linecolor": "white",
           "ticks": "",
           "title": {
            "standoff": 15
           },
           "zerolinecolor": "white",
           "zerolinewidth": 2
          },
          "yaxis": {
           "automargin": true,
           "gridcolor": "white",
           "linecolor": "white",
           "ticks": "",
           "title": {
            "standoff": 15
           },
           "zerolinecolor": "white",
           "zerolinewidth": 2
          }
         }
        },
        "title": {
         "text": "Sankey Diagram of Races within Sports"
        }
       }
      },
      "image/png": "[encoded data removed]",
      "text/html": [
       "<div>                            <div id=\"fa0781eb-6615-4b20-a467-02b5a6f4d48b\" class=\"plotly-graph-div\" style=\"height:525px; width:100%;\"></div>            <script type=\"text/javascript\">                require([\"plotly\"], function(Plotly) {                    window.PLOTLYENV=window.PLOTLYENV || {};                                    if (document.getElementById(\"fa0781eb-6615-4b20-a467-02b5a6f4d48b\")) {                    Plotly.newPlot(                        \"fa0781eb-6615-4b20-a467-02b5a6f4d48b\",                        [{\"link\":{\"source\":[0,0,0,0,0,0,0,0,0,0,1,1,1,1,1,1,2,2],\"target\":[3,4,5,6,7,8,9,10,11,12,13,14,15,16,17,18,19,20],\"value\":[1,2,3,4,5,6,7,8,9,10,11,12,13,14,15,16,17,18]},\"node\":{\"label\":[\"fencing\",\"kayak\",\"triathlon\",1,2,3,4,5,6,7,8,9,10,11,12,13,14,15,16,17,18],\"line\":{\"color\":\"black\",\"width\":0.5},\"pad\":15,\"thickness\":20},\"type\":\"sankey\"}],                        {\"template\":{\"data\":{\"histogram2dcontour\":[{\"type\":\"histogram2dcontour\",\"colorbar\":{\"outlinewidth\":0,\"ticks\":\"\"},\"colorscale\":[[0.0,\"#0d0887\"],[0.1111111111111111,\"#46039f\"],[0.2222222222222222,\"#7201a8\"],[0.3333333333333333,\"#9c179e\"],[0.4444444444444444,\"#bd3786\"],[0.5555555555555556,\"#d8576b\"],[0.6666666666666666,\"#ed7953\"],[0.7777777777777778,\"#fb9f3a\"],[0.8888888888888888,\"#fdca26\"],[1.0,\"#f0f921\"]]}],\"choropleth\":[{\"type\":\"choropleth\",\"colorbar\":{\"outlinewidth\":0,\"ticks\":\"\"}}],\"histogram2d\":[{\"type\":\"histogram2d\",\"colorbar\":{\"outlinewidth\":0,\"ticks\":\"\"},\"colorscale\":[[0.0,\"#0d0887\"],[0.1111111111111111,\"#46039f\"],[0.2222222222222222,\"#7201a8\"],[0.3333333333333333,\"#9c179e\"],[0.4444444444444444,\"#bd3786\"],[0.5555555555555556,\"#d8576b\"],[0.6666666666666666,\"#ed7953\"],[0.7777777777777778,\"#fb9f3a\"],[0.8888888888888888,\"#fdca26\"],[1.0,\"#f0f921\"]]}],\"heatmap\":[{\"type\":\"heatmap\",\"colorbar\":{\"outlinewidth\":0,\"ticks\":\"\"},\"colorscale\":[[0.0,\"#0d0887\"],[0.1111111111111111,\"#46039f\"],[0.2222222222222222,\"#7201a8\"],[0.3333333333333333,\"#9c179e\"],[0.4444444444444444,\"#bd3786\"],[0.5555555555555556,\"#d8576b\"],[0.6666666666666666,\"#ed7953\"],[0.7777777777777778,\"#fb9f3a\"],[0.8888888888888888,\"#fdca26\"],[1.0,\"#f0f921\"]]}],\"heatmapgl\":[{\"type\":\"heatmapgl\",\"colorbar\":{\"outlinewidth\":0,\"ticks\":\"\"},\"colorscale\":[[0.0,\"#0d0887\"],[0.1111111111111111,\"#46039f\"],[0.2222222222222222,\"#7201a8\"],[0.3333333333333333,\"#9c179e\"],[0.4444444444444444,\"#bd3786\"],[0.5555555555555556,\"#d8576b\"],[0.6666666666666666,\"#ed7953\"],[0.7777777777777778,\"#fb9f3a\"],[0.8888888888888888,\"#fdca26\"],[1.0,\"#f0f921\"]]}],\"contourcarpet\":[{\"type\":\"contourcarpet\",\"colorbar\":{\"outlinewidth\":0,\"ticks\":\"\"}}],\"contour\":[{\"type\":\"contour\",\"colorbar\":{\"outlinewidth\":0,\"ticks\":\"\"},\"colorscale\":[[0.0,\"#0d0887\"],[0.1111111111111111,\"#46039f\"],[0.2222222222222222,\"#7201a8\"],[0.3333333333333333,\"#9c179e\"],[0.4444444444444444,\"#bd3786\"],[0.5555555555555556,\"#d8576b\"],[0.6666666666666666,\"#ed7953\"],[0.7777777777777778,\"#fb9f3a\"],[0.8888888888888888,\"#fdca26\"],[1.0,\"#f0f921\"]]}],\"surface\":[{\"type\":\"surface\",\"colorbar\":{\"outlinewidth\":0,\"ticks\":\"\"},\"colorscale\":[[0.0,\"#0d0887\"],[0.1111111111111111,\"#46039f\"],[0.2222222222222222,\"#7201a8\"],[0.3333333333333333,\"#9c179e\"],[0.4444444444444444,\"#bd3786\"],[0.5555555555555556,\"#d8576b\"],[0.6666666666666666,\"#ed7953\"],[0.7777777777777778,\"#fb9f3a\"],[0.8888888888888888,\"#fdca26\"],[1.0,\"#f0f921\"]]}],\"mesh3d\":[{\"type\":\"mesh3d\",\"colorbar\":{\"outlinewidth\":0,\"ticks\":\"\"}}],\"scatter\":[{\"fillpattern\":{\"fillmode\":\"overlay\",\"size\":10,\"solidity\":0.2},\"type\":\"scatter\"}],\"parcoords\":[{\"type\":\"parcoords\",\"line\":{\"colorbar\":{\"outlinewidth\":0,\"ticks\":\"\"}}}],\"scatterpolargl\":[{\"type\":\"scatterpolargl\",\"marker\":{\"colorbar\":{\"outlinewidth\":0,\"ticks\":\"\"}}}],\"bar\":[{\"error_x\":{\"color\":\"#2a3f5f\"},\"error_y\":{\"color\":\"#2a3f5f\"},\"marker\":{\"line\":{\"color\":\"#E5ECF6\",\"width\":0.5},\"pattern\":{\"fillmode\":\"overlay\",\"size\":10,\"solidity\":0.2}},\"type\":\"bar\"}],\"scattergeo\":[{\"type\":\"scattergeo\",\"marker\":{\"colorbar\":{\"outlinewidth\":0,\"ticks\":\"\"}}}],\"scatterpolar\":[{\"type\":\"scatterpolar\",\"marker\":{\"colorbar\":{\"outlinewidth\":0,\"ticks\":\"\"}}}],\"histogram\":[{\"marker\":{\"pattern\":{\"fillmode\":\"overlay\",\"size\":10,\"solidity\":0.2}},\"type\":\"histogram\"}],\"scattergl\":[{\"type\":\"scattergl\",\"marker\":{\"colorbar\":{\"outlinewidth\":0,\"ticks\":\"\"}}}],\"scatter3d\":[{\"type\":\"scatter3d\",\"line\":{\"colorbar\":{\"outlinewidth\":0,\"ticks\":\"\"}},\"marker\":{\"colorbar\":{\"outlinewidth\":0,\"ticks\":\"\"}}}],\"scattermapbox\":[{\"type\":\"scattermapbox\",\"marker\":{\"colorbar\":{\"outlinewidth\":0,\"ticks\":\"\"}}}],\"scatterternary\":[{\"type\":\"scatterternary\",\"marker\":{\"colorbar\":{\"outlinewidth\":0,\"ticks\":\"\"}}}],\"scattercarpet\":[{\"type\":\"scattercarpet\",\"marker\":{\"colorbar\":{\"outlinewidth\":0,\"ticks\":\"\"}}}],\"carpet\":[{\"aaxis\":{\"endlinecolor\":\"#2a3f5f\",\"gridcolor\":\"white\",\"linecolor\":\"white\",\"minorgridcolor\":\"white\",\"startlinecolor\":\"#2a3f5f\"},\"baxis\":{\"endlinecolor\":\"#2a3f5f\",\"gridcolor\":\"white\",\"linecolor\":\"white\",\"minorgridcolor\":\"white\",\"startlinecolor\":\"#2a3f5f\"},\"type\":\"carpet\"}],\"table\":[{\"cells\":{\"fill\":{\"color\":\"#EBF0F8\"},\"line\":{\"color\":\"white\"}},\"header\":{\"fill\":{\"color\":\"#C8D4E3\"},\"line\":{\"color\":\"white\"}},\"type\":\"table\"}],\"barpolar\":[{\"marker\":{\"line\":{\"color\":\"#E5ECF6\",\"width\":0.5},\"pattern\":{\"fillmode\":\"overlay\",\"size\":10,\"solidity\":0.2}},\"type\":\"barpolar\"}],\"pie\":[{\"automargin\":true,\"type\":\"pie\"}]},\"layout\":{\"autotypenumbers\":\"strict\",\"colorway\":[\"#636efa\",\"#EF553B\",\"#00cc96\",\"#ab63fa\",\"#FFA15A\",\"#19d3f3\",\"#FF6692\",\"#B6E880\",\"#FF97FF\",\"#FECB52\"],\"font\":{\"color\":\"#2a3f5f\"},\"hovermode\":\"closest\",\"hoverlabel\":{\"align\":\"left\"},\"paper_bgcolor\":\"white\",\"plot_bgcolor\":\"#E5ECF6\",\"polar\":{\"bgcolor\":\"#E5ECF6\",\"angularaxis\":{\"gridcolor\":\"white\",\"linecolor\":\"white\",\"ticks\":\"\"},\"radialaxis\":{\"gridcolor\":\"white\",\"linecolor\":\"white\",\"ticks\":\"\"}},\"ternary\":{\"bgcolor\":\"#E5ECF6\",\"aaxis\":{\"gridcolor\":\"white\",\"linecolor\":\"white\",\"ticks\":\"\"},\"baxis\":{\"gridcolor\":\"white\",\"linecolor\":\"white\",\"ticks\":\"\"},\"caxis\":{\"gridcolor\":\"white\",\"linecolor\":\"white\",\"ticks\":\"\"}},\"coloraxis\":{\"colorbar\":{\"outlinewidth\":0,\"ticks\":\"\"}},\"colorscale\":{\"sequential\":[[0.0,\"#0d0887\"],[0.1111111111111111,\"#46039f\"],[0.2222222222222222,\"#7201a8\"],[0.3333333333333333,\"#9c179e\"],[0.4444444444444444,\"#bd3786\"],[0.5555555555555556,\"#d8576b\"],[0.6666666666666666,\"#ed7953\"],[0.7777777777777778,\"#fb9f3a\"],[0.8888888888888888,\"#fdca26\"],[1.0,\"#f0f921\"]],\"sequentialminus\":[[0.0,\"#0d0887\"],[0.1111111111111111,\"#46039f\"],[0.2222222222222222,\"#7201a8\"],[0.3333333333333333,\"#9c179e\"],[0.4444444444444444,\"#bd3786\"],[0.5555555555555556,\"#d8576b\"],[0.6666666666666666,\"#ed7953\"],[0.7777777777777778,\"#fb9f3a\"],[0.8888888888888888,\"#fdca26\"],[1.0,\"#f0f921\"]],\"diverging\":[[0,\"#8e0152\"],[0.1,\"#c51b7d\"],[0.2,\"#de77ae\"],[0.3,\"#f1b6da\"],[0.4,\"#fde0ef\"],[0.5,\"#f7f7f7\"],[0.6,\"#e6f5d0\"],[0.7,\"#b8e186\"],[0.8,\"#7fbc41\"],[0.9,\"#4d9221\"],[1,\"#276419\"]]},\"xaxis\":{\"gridcolor\":\"white\",\"linecolor\":\"white\",\"ticks\":\"\",\"title\":{\"standoff\":15},\"zerolinecolor\":\"white\",\"automargin\":true,\"zerolinewidth\":2},\"yaxis\":{\"gridcolor\":\"white\",\"linecolor\":\"white\",\"ticks\":\"\",\"title\":{\"standoff\":15},\"zerolinecolor\":\"white\",\"automargin\":true,\"zerolinewidth\":2},\"scene\":{\"xaxis\":{\"backgroundcolor\":\"#E5ECF6\",\"gridcolor\":\"white\",\"linecolor\":\"white\",\"showbackground\":true,\"ticks\":\"\",\"zerolinecolor\":\"white\",\"gridwidth\":2},\"yaxis\":{\"backgroundcolor\":\"#E5ECF6\",\"gridcolor\":\"white\",\"linecolor\":\"white\",\"showbackground\":true,\"ticks\":\"\",\"zerolinecolor\":\"white\",\"gridwidth\":2},\"zaxis\":{\"backgroundcolor\":\"#E5ECF6\",\"gridcolor\":\"white\",\"linecolor\":\"white\",\"showbackground\":true,\"ticks\":\"\",\"zerolinecolor\":\"white\",\"gridwidth\":2}},\"shapedefaults\":{\"line\":{\"color\":\"#2a3f5f\"}},\"annotationdefaults\":{\"arrowcolor\":\"#2a3f5f\",\"arrowhead\":0,\"arrowwidth\":1},\"geo\":{\"bgcolor\":\"white\",\"landcolor\":\"#E5ECF6\",\"subunitcolor\":\"white\",\"showland\":true,\"showlakes\":true,\"lakecolor\":\"white\"},\"title\":{\"x\":0.05},\"mapbox\":{\"style\":\"light\"}}},\"title\":{\"text\":\"Sankey Diagram of Races within Sports\"},\"font\":{\"size\":10}},                        {\"responsive\": true}                    ).then(function(){\n",
       "                            \n",
       "var gd = document.getElementById('fa0781eb-6615-4b20-a467-02b5a6f4d48b');\n",
       "var x = new MutationObserver(function (mutations, observer) {{\n",
       "        var display = window.getComputedStyle(gd).display;\n",
       "        if (!display || display === 'none') {{\n",
       "            console.log([gd, 'removed!']);\n",
       "            Plotly.purge(gd);\n",
       "            observer.disconnect();\n",
       "        }}\n",
       "}});\n",
       "\n",
       "// Listen for the removal of the full notebook cells\n",
       "var notebookContainer = gd.closest('#notebook-container');\n",
       "if (notebookContainer) {{\n",
       "    x.observe(notebookContainer, {childList: true});\n",
       "}}\n",
       "\n",
       "// Listen for the clearing of the current output cell\n",
       "var outputEl = gd.closest('.output');\n",
       "if (outputEl) {{\n",
       "    x.observe(outputEl, {childList: true});\n",
       "}}\n",
       "\n",
       "                        })                };                });            </script>        </div>"
      ]
     },
     "metadata": {},
     "output_type": "display_data"
    }
   ],
   "source": [
    "print(\"DataFrame:\")\n",
    "import plotly.graph_objects as go\n",
    "print(ath.head())\n",
    "# Create a count of races within each sport\n",
    "sankey_data = ath.groupby(['sport', 'ID']).size().reset_index()\n",
    "\n",
    "# Create a list of unique sports and races\n",
    "sports = sankey_data['sport'].unique()\n",
    "races = sankey_data['ID'].unique()\n",
    "\n",
    "# Create a mapping for the indices of the nodes\n",
    "sport_indices = {sport: i for i, sport in enumerate(sports)}\n",
    "race_indices = {race: i + len(sports) for i, race in enumerate(races)}  # Offset by the number of sports\n",
    "\n",
    "# Create the source and target lists for the Sankey diagram\n",
    "sources = []\n",
    "targets = []\n",
    "values = []\n",
    "\n",
    "for _, row in sankey_data.iterrows():\n",
    "    sources.append(sport_indices[row['sport']])\n",
    "    targets.append(race_indices[row['ID']])\n",
    "    values.append(row['ID'])\n",
    "\n",
    "# Create the Sankey diagram\n",
    "fig = go.Figure(data=[go.Sankey(\n",
    "    node=dict(\n",
    "        pad=15,\n",
    "        thickness=20,\n",
    "        line=dict(color=\"black\", width=0.5),\n",
    "        label=list(sports) + list(races),  # Combine sports and races for labels\n",
    "    ),\n",
    "    link=dict(\n",
    "        source=sources,\n",
    "        target=targets,\n",
    "        value=values,\n",
    "    ))])\n",
    "\n",
    "fig.update_layout(title_text=\"Sankey Diagram of Races within Sports\", font_size=10)\n",
    "fig.show()\n"
   ]
  },
  {
   "cell_type": "markdown",
   "id": "41001de8-49d0-4b8f-b7e1-5a941d395d0a",
   "metadata": {},
   "source": [
    "<span style=\"font-size:24px;\">##Question 27:Calculate the average heart rate for every minute for every athlete and add it as a column in the same dataframe.</span>"
   ]
  },
  {
   "cell_type": "code",
   "execution_count": 651,
   "id": "78961de1-d2b7-4605-9562-c5f00bc754f7",
   "metadata": {},
   "outputs": [
    {
     "name": "stdout",
     "output_type": "stream",
     "text": [
      "Dataframe successfully written to Excel file FinalVO2_Table.xlsx\n",
      "\n",
      "Reading FinalVO2_Table.xlsx Excel file for Verification:\n",
      "       ID     time     RR       VO2  power                     timestamp  \\\n",
      "0       1 -130.840  672.0  0.302008      0 1969-12-31 23:59:59.999999870   \n",
      "1       1 -130.168  672.0  0.302008      0 1969-12-31 23:59:59.999999870   \n",
      "2       1 -129.536  632.0  0.301336      0 1969-12-31 23:59:59.999999871   \n",
      "3       1 -128.824  712.0  0.301336      0 1969-12-31 23:59:59.999999872   \n",
      "4       1 -127.948  876.0  0.301336      0 1969-12-31 23:59:59.999999873   \n",
      "...    ..      ...    ...       ...    ...                           ...   \n",
      "52057  18  947.288  536.0  0.507071      0 1970-01-01 00:00:00.000000947   \n",
      "52058  18  947.816  528.0  0.507071      0 1970-01-01 00:00:00.000000947   \n",
      "52059  18  948.344  528.0  0.507071      0 1970-01-01 00:00:00.000000948   \n",
      "52060  18  948.884  540.0  0.507071      0 1970-01-01 00:00:00.000000948   \n",
      "52061  18  949.424  540.0  0.507071      0 1970-01-01 00:00:00.000000949   \n",
      "\n",
      "       heart_rate  avg_heart_rate  \n",
      "0       89.285714       79.963765  \n",
      "1       89.285714       79.963765  \n",
      "2       94.936709       79.963765  \n",
      "3       84.269663       79.963765  \n",
      "4       68.493151       79.963765  \n",
      "...           ...             ...  \n",
      "52057  111.940299      152.868421  \n",
      "52058  113.636364      152.868421  \n",
      "52059  113.636364      152.868421  \n",
      "52060  111.111111      152.868421  \n",
      "52061  111.111111      152.868421  \n",
      "\n",
      "[52062 rows x 8 columns]\n"
     ]
    }
   ],
   "source": [
    "# Create a DataFrame\n",
    "#Concatenating all sport related table to one dataframe final_table\n",
    "final_table=pd.concat([fen[['ID','time','RR','VO2','power']],\n",
    "                       kay[['ID','time','RR','VO2','power']],\n",
    "                       tri[['ID','time','RR','VO2','power']]],ignore_index=True)\n",
    "\n",
    "#defining output excel file name\n",
    "output='FinalVO2_Table.xlsx'\n",
    "\n",
    "#writing dataframe to excel using to_excel\n",
    "final_table.to_excel(output,index=False)\n",
    "print(\"Dataframe successfully written to Excel file\",output)\n",
    "\n",
    "#Reading the excel file back into dataframe for verification\n",
    "print(\"\\nReading\",output,\"Excel file for Verification:\")\n",
    "sportdf=pd.read_excel(\"FinalVO2_Table.xlsx\")\n",
    "df = pd.DataFrame(sportdf)\n",
    "\n",
    "# Convert the timestamp column to datetime\n",
    "df['timestamp'] = pd.to_datetime(df['time'])\n",
    "# Convert RR intervals to heart rate (bpm)\n",
    "df['heart_rate'] = 60000 / df['RR']\n",
    "# Add a new column for the minute of each timestamp\n",
    "df['minute'] = df['timestamp'].dt.floor('T')\n",
    "\n",
    "# Calculate the average heart rate for each athlete for every minute\n",
    "average_hr = df.groupby(['ID', 'minute'])['heart_rate'].mean().reset_index()\n",
    "\n",
    "# Rename the 'heart_rate' column to 'avg_heart_rate'\n",
    "average_hr.rename(columns={'heart_rate': 'avg_heart_rate'}, inplace=True)\n",
    "\n",
    "# Merge the average heart rate back into the original DataFrame\n",
    "df = pd.merge(df, average_hr, on=['ID', 'minute'], how='left')\n",
    "\n",
    "# Drop the 'minute' column if it's not needed\n",
    "df = df.drop(columns=['minute'])\n",
    "\n",
    "# Display the updated DataFrame\n",
    "print(df)\n"
   ]
  },
  {
   "cell_type": "markdown",
   "id": "35d555b6-9291-4d47-9d7b-0e148f48dcba",
   "metadata": {},
   "source": [
    "<span style=\"font-size:24px;\">##Question28: Print athlete 15s Age and Pvt1 using the format() function</span>"
   ]
  },
  {
   "cell_type": "code",
   "execution_count": 641,
   "id": "5ae54bd3-2a25-4af7-bbc5-13a5df58814f",
   "metadata": {},
   "outputs": [
    {
     "name": "stdout",
     "output_type": "stream",
     "text": [
      "Athlete 15:Name=Mason, Age = 13, Pvt1 = 125\n"
     ]
    }
   ],
   "source": [
    "# Fetching the Age and Pvt1 for athlete 15\n",
    "athlete_id = 15\n",
    "\n",
    "# Extracting the Age and Pvt1 for athlete 15\n",
    "name = ath.loc[ath['ID'] == athlete_id, 'First Name'].values[0] \n",
    "age = ath.loc[ath['ID'] == athlete_id, 'age'].values[0] \n",
    "pvt1 = ath.loc[ath['ID'] == athlete_id, 'P_vt1'].values[0] \n",
    "\n",
    "# Printing the values using format()\n",
    "print(\"Athlete {}:Name={}, Age = {}, Pvt1 = {}\".format(athlete_id,name, age, pvt1))\n"
   ]
  },
  {
   "cell_type": "markdown",
   "id": "45c047d6-cfed-4076-8b0d-5c750c165241",
   "metadata": {},
   "source": [
    "<span style=\"font-size:24px;\">##Question29: On average how long was each participants’ warm up?</span>"
   ]
  },
  {
   "cell_type": "code",
   "execution_count": 643,
   "id": "7d81acf1-9830-4a1c-80dc-34c31b9ff741",
   "metadata": {},
   "outputs": [
    {
     "name": "stdout",
     "output_type": "stream",
     "text": [
      "       ID     time     RR       VO2  power\n",
      "0       1 -130.840  672.0  0.302008      0\n",
      "1       1 -130.168  672.0  0.302008      0\n",
      "2       1 -129.536  632.0  0.301336      0\n",
      "3       1 -128.824  712.0  0.301336      0\n",
      "4       1 -127.948  876.0  0.301336      0\n",
      "...    ..      ...    ...       ...    ...\n",
      "52057  18  947.288  536.0  0.507071      0\n",
      "52058  18  947.816  528.0  0.507071      0\n",
      "52059  18  948.344  528.0  0.507071      0\n",
      "52060  18  948.884  540.0  0.507071      0\n",
      "52061  18  949.424  540.0  0.507071      0\n",
      "\n",
      "[52062 rows x 5 columns]\n",
      "On average, each participant's warm-up time was 547.46 minutes.\n"
     ]
    }
   ],
   "source": [
    "#Initialize Dataframe phase\n",
    "phase=pd.DataFrame(final_table)\n",
    "print(phase);\n",
    "#initialize Phase column\n",
    "phase['Phase']='Other Phase'\n",
    "\n",
    "#Apply conditions to find Warm Up-time less than 0,GET-time>=0 and power>0,Cool Down-time>0 and power=0\n",
    "phase.loc[phase['time']<0,'Phase']='Warm Up'\n",
    "phase.loc[(phase['time']>=0) & (phase['power']>0),'Phase']='GET'\n",
    "phase.loc[(phase['time']>0) & (phase['power']==0),'Phase']='Cool Down'\n",
    "# Create a DataFrame\n",
    "df = pd.DataFrame(phase)\n",
    "result_df = df.where(df['Phase'] =='Warm Up')\n",
    "# Calculate the average warm-up time\n",
    "average_warm_up_time = df['time'].mean()\n",
    "\n",
    "# Display the result\n",
    "print(f\"On average, each participant's warm-up time was {average_warm_up_time:.2f} minutes.\")"
   ]
  },
  {
   "cell_type": "markdown",
   "id": "e5d552e9-a337-4221-a324-4d3fb3495a1c",
   "metadata": {},
   "source": [
    "<span style=\"font-size:24px;\">##Question30:Display the HRV of each athlete?</span>"
   ]
  },
  {
   "cell_type": "code",
   "execution_count": 645,
   "id": "5b674b2c-2066-4da3-a5a9-e4cf201fd904",
   "metadata": {},
   "outputs": [
    {
     "name": "stdout",
     "output_type": "stream",
     "text": [
      "HRV of each athlete:\n",
      "    ID First Name  HRV\n",
      "0    1     Olivia   90\n",
      "1    2      Ethan   47\n",
      "2    3    Jackson  145\n",
      "3    4       Liam   60\n",
      "4    5        Ava   62\n",
      "5    6     Sophia   55\n",
      "6    7      Grace   43\n",
      "7    8      Aiden   53\n",
      "8    9      Chloe   75\n",
      "9   10       Lily   61\n",
      "10  11   Isabella   94\n",
      "11  12      Caleb  124\n",
      "12  13        Mia  123\n",
      "13  14     Harper   30\n",
      "14  15      Mason   31\n",
      "15  16      Logan   96\n",
      "16  17      Lucas   44\n",
      "17  18       Owen  103\n"
     ]
    }
   ],
   "source": [
    "# Create a DataFrame\n",
    "df = pd.DataFrame(ath)\n",
    "\n",
    "# Calculate HRV as the absolute difference between P_vt1 and P_vt2\n",
    "df['HRV'] = (df['P_vt2'] - df['P_vt1']).abs()\n",
    "\n",
    "# Display the HRV of each athlete\n",
    "print(\"HRV of each athlete:\")\n",
    "print(df[['ID','First Name', 'HRV']])"
   ]
  },
  {
   "cell_type": "markdown",
   "id": "7c4ccb1a-85da-4935-86c4-ac5e753ef609",
   "metadata": {},
   "source": [
    "<span style=\"font-size:24px;\">##Question31:Return the count of athletes for any sport that the user inputs.</span>"
   ]
  },
  {
   "cell_type": "code",
   "execution_count": 647,
   "id": "0d46d501-5ada-4ee8-9b30-9099437b92d8",
   "metadata": {},
   "outputs": [
    {
     "name": "stdin",
     "output_type": "stream",
     "text": [
      "Enter the sport:  fencing\n"
     ]
    },
    {
     "name": "stdout",
     "output_type": "stream",
     "text": [
      "The number of athletes participating in fencing is: 10\n"
     ]
    }
   ],
   "source": [
    "# Create a DataFrame\n",
    "df = pd.DataFrame(ath)\n",
    "\n",
    "def count_athletes_by_sport(sport):\n",
    "    # Filter the DataFrame by the specified sport and count the athletes\n",
    "    count = df[df['sport'] == sport].shape[0]\n",
    "    return count\n",
    "\n",
    "# Example usage\n",
    "user_input_sport = input(\"Enter the sport: \")  # For instance, the user inputs 'fencing'\n",
    "athlete_count = count_athletes_by_sport(user_input_sport)\n",
    "\n",
    "print(f\"The number of athletes participating in {user_input_sport} is: {athlete_count}\")\n"
   ]
  },
  {
   "cell_type": "markdown",
   "id": "aebc0efd-435a-4bf1-b87b-d296ad453ab8",
   "metadata": {},
   "source": [
    "<span style=\"font-size:24px;\">##Question32:Insert the name of every athlete into an array and display the length of that array.\n",
    "</span>"
   ]
  },
  {
   "cell_type": "code",
   "execution_count": 425,
   "id": "03caed40-c2d9-4807-9ce2-4c98fae54a1d",
   "metadata": {},
   "outputs": [
    {
     "name": "stdout",
     "output_type": "stream",
     "text": [
      "DataFrame:\n",
      "   ID  age  Weight  Height  P_vt1  P_vt2    sport  Gender Ethnicity  \\\n",
      "0   1   15    53.7     161     50    140  fencing  Female   African   \n",
      "1   2   15    56.2     162     80    127  fencing    Male   African   \n",
      "2   3   16    89.9     191    155    300  fencing    Male     White   \n",
      "3   4   16    76.5     180    215    275  fencing    Male     White   \n",
      "4   5   17    76.4     186    110    172  fencing  Female     White   \n",
      "\n",
      "  First Name Last Name          full_nm  \n",
      "0     Olivia  Martinez  Olivia Martinez  \n",
      "1      Ethan  Reynolds   Ethan Reynolds  \n",
      "2    Jackson    Harper   Jackson Harper  \n",
      "3       Liam   Sanchez     Liam Sanchez  \n",
      "4        Ava  Thompson     Ava Thompson  \n",
      "Printing Array:\n",
      "[0      Olivia Martinez\n",
      "1       Ethan Reynolds\n",
      "2       Jackson Harper\n",
      "3         Liam Sanchez\n",
      "4         Ava Thompson\n",
      "5     Sophia Rodriguez\n",
      "6        Grace Simmons\n",
      "7        Aiden Bennett\n",
      "8          Chloe Price\n",
      "9          Lily Jordan\n",
      "10    Isabella Griffin\n",
      "11         Caleb Dixon\n",
      "12       Mia Carpenter\n",
      "13     Harper Mitchell\n",
      "14       Mason Wallace\n",
      "15      Logan Anderson\n",
      "16        Lucas Foster\n",
      "17          Owen Myers\n",
      "Name: full_nm, dtype: object]\n",
      "Length of Array:\n",
      "18\n"
     ]
    }
   ],
   "source": [
    "import numpy\n",
    "print(\"DataFrame:\")\n",
    "print(ath.head())\n",
    "# creating an empty list\n",
    "lst = []\n",
    "#for counting array size\n",
    "count=0\n",
    "#concatenate first name and last name for row name\n",
    "ath['full_nm'] = ath['First Name'] + \" \" + ath['Last Name']\n",
    " \n",
    "# iterating till the range\n",
    "#insert in array\n",
    "\n",
    "for i in range(0, n):\n",
    "    ele = ath['full_nm']\n",
    "    # adding the elemen\n",
    "\n",
    "    lst.append(ele)  \n",
    "array1=numpy.array(ath['full_nm'])\n",
    "\n",
    "print(\"Printing Array:\")\n",
    "print(lst)\n",
    "print(\"Length of Array:\")\n",
    "print(len(array1))"
   ]
  },
  {
   "cell_type": "code",
   "execution_count": null,
   "id": "b828c732-3b02-4db8-9eef-36eef17e4b25",
   "metadata": {},
   "outputs": [],
   "source": []
  }
 ],
 "metadata": {
  "kernelspec": {
   "display_name": "Python 3 (ipykernel)",
   "language": "python",
   "name": "python3"
  },
  "language_info": {
   "codemirror_mode": {
    "name": "ipython",
    "version": 3
   },
   "file_extension": ".py",
   "mimetype": "text/x-python",
   "name": "python",
   "nbconvert_exporter": "python",
   "pygments_lexer": "ipython3",
   "version": "3.12.4"
  }
 },
 "nbformat": 4,
 "nbformat_minor": 5
}
