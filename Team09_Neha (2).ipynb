{
 "cells": [
  {
   "cell_type": "code",
   "execution_count": 3,
   "id": "86fc3248-0ffd-4786-a32a-78e11fa6dc8e",
   "metadata": {},
   "outputs": [],
   "source": [
    "import pandas as pd \n",
    "import numpy as np \n",
    "import seaborn as sns\n",
    "import matplotlib.pyplot as plt\n",
    "import warnings\n",
    "warnings.filterwarnings(\"ignore\")"
   ]
  },
  {
   "cell_type": "code",
   "execution_count": 4,
   "id": "0493d884-03dc-425a-a9f8-9a968cf10268",
   "metadata": {},
   "outputs": [],
   "source": [
    "#Read the excel file and store the sheets into dataframes.\n",
    "df = pd.ExcelFile('C:/Users/jaina/OneDrive/Desktop/Python Hackathon 2/V02Max_Combined.xlsx')\n",
    "kay = pd.read_excel(df, sheet_name = 'Kayaking')\n",
    "ath = pd.read_excel(df, sheet_name = 'Athletes')\n",
    "tri = pd.read_excel(df, sheet_name = 'Triathlon')\n",
    "fen = pd.read_excel(df, sheet_name = 'Fencing')"
   ]
  },
  {
   "cell_type": "markdown",
   "id": "f0ed975d-6e79-4a1d-97a4-6ff4a037512f",
   "metadata": {},
   "source": [
    "## Qn1 Join all sport-related tables to produce one dataframe that has all athletes values. The final table should only have the same 5 columns: ID, time,power,RR, vo2, power. Write this dataframe to an excel file."
   ]
  },
  {
   "cell_type": "code",
   "execution_count": 8,
   "id": "c7095ffd-e649-46cb-8651-44c8afba3741",
   "metadata": {},
   "outputs": [
    {
     "name": "stdout",
     "output_type": "stream",
     "text": [
      "Dataframe successfully written to Excel file FinalVO2_Table.xlsx\n",
      "\n",
      "Reading FinalVO2_Table.xlsx Excel file for Verification:\n",
      "       ID     time     RR       VO2  power\n",
      "0       1 -130.840  672.0  0.302008      0\n",
      "1       1 -130.168  672.0  0.302008      0\n",
      "2       1 -129.536  632.0  0.301336      0\n",
      "3       1 -128.824  712.0  0.301336      0\n",
      "4       1 -127.948  876.0  0.301336      0\n",
      "...    ..      ...    ...       ...    ...\n",
      "52057  18  947.288  536.0  0.507071      0\n",
      "52058  18  947.816  528.0  0.507071      0\n",
      "52059  18  948.344  528.0  0.507071      0\n",
      "52060  18  948.884  540.0  0.507071      0\n",
      "52061  18  949.424  540.0  0.507071      0\n",
      "\n",
      "[52062 rows x 5 columns]\n"
     ]
    }
   ],
   "source": [
    "#Concatenating all sport related table to one dataframe final_table\n",
    "final_table=pd.concat([fen[['ID','time','RR','VO2','power']],\n",
    "                       kay[['ID','time','RR','VO2','power']],\n",
    "                       tri[['ID','time','RR','VO2','power']]],ignore_index=True)\n",
    "\n",
    "#defining output excel file name\n",
    "output='FinalVO2_Table.xlsx'\n",
    "\n",
    "#writing dataframe to excel using to_excel\n",
    "final_table.to_excel(output,index=False)\n",
    "print(\"Dataframe successfully written to Excel file\",output)\n",
    "\n",
    "#Reading the excel file back into dataframe for verification\n",
    "print(\"\\nReading\",output,\"Excel file for Verification:\")\n",
    "sportdf=pd.read_excel(\"FinalVO2_Table.xlsx\")\n",
    "print(sportdf)"
   ]
  },
  {
   "cell_type": "markdown",
   "id": "3baab8a0-6686-4cad-bd2f-ab9369517add",
   "metadata": {},
   "source": [
    "## Qn2 Divide the rows into 3 parts: Warm up, GET(graded exercise test) and cool down using the data def. Label each row accordingly"
   ]
  },
  {
   "cell_type": "code",
   "execution_count": 52,
   "id": "fa48d4b7-5c30-4611-ae34-9007a2824fbc",
   "metadata": {},
   "outputs": [
    {
     "name": "stdout",
     "output_type": "stream",
     "text": [
      "       ID     time     RR       VO2  power      Phase\n",
      "0       1 -130.840  672.0  0.302008      0    Warm Up\n",
      "1       1 -130.168  672.0  0.302008      0    Warm Up\n",
      "2       1 -129.536  632.0  0.301336      0    Warm Up\n",
      "3       1 -128.824  712.0  0.301336      0    Warm Up\n",
      "4       1 -127.948  876.0  0.301336      0    Warm Up\n",
      "...    ..      ...    ...       ...    ...        ...\n",
      "52057  18  947.288  536.0  0.507071      0  Cool Down\n",
      "52058  18  947.816  528.0  0.507071      0  Cool Down\n",
      "52059  18  948.344  528.0  0.507071      0  Cool Down\n",
      "52060  18  948.884  540.0  0.507071      0  Cool Down\n",
      "52061  18  949.424  540.0  0.507071      0  Cool Down\n",
      "\n",
      "[52062 rows x 6 columns]\n"
     ]
    }
   ],
   "source": [
    "#Initialize Dataframe phase\r\n",
    "phase=pd.DataFrame(final_table)\r\n",
    "\r\n",
    "#initialize Phase column\r\n",
    "phase['Phase']='Other Phase'\r\n",
    "\r\n",
    "#Apply conditions to find Warm Up-time less than 0,GET-time>=0 and power>0,Cool Down-time>0 and power=0\r\n",
    "phase.loc[phase['time']<0,'Phase']='Warm Up'\r\n",
    "phase.loc[(phase['time']>=0) & (phase['power']>0),'Phase']='GET'\r\n",
    "phase.loc[(phase['time']>0) & (phase['power']==0),'Phase']='Cool Down'\r\n",
    "\r\n",
    "#print dataframe phase details\r\n",
    "print(phase)"
   ]
  },
  {
   "cell_type": "markdown",
   "id": "cefd52f8-a2ac-4eba-930f-e6549c5c6302",
   "metadata": {},
   "source": [
    "## Qn3 What was the average time each tested lasted excluding warm up for all athletes?"
   ]
  },
  {
   "cell_type": "code",
   "execution_count": 78,
   "id": "493d6851-fbe6-472f-9782-be1eb984caa1",
   "metadata": {},
   "outputs": [
    {
     "name": "stdout",
     "output_type": "stream",
     "text": [
      "Average cool down time: 993.9884049295774\n"
     ]
    }
   ],
   "source": [
    "import pandas as pd\n",
    "\n",
    "def calculate_cool_down_average(final_table):\n",
    "  \"\"\"Calculates the average cool down time from a DataFrame.\n",
    "\n",
    "  Args:\n",
    "    final_table: A Pandas DataFrame containing columns like 'time' and 'power'.\n",
    "\n",
    "  Returns:\n",
    "    The average cool down time.\n",
    "  \"\"\"\n",
    "\n",
    "  # Create a copy of the DataFrame to avoid modifying the original\n",
    "  phase = final_table.copy()\n",
    "\n",
    "  # Initialize Phase column\n",
    "  phase['Phase'] = 'Other Phase'\n",
    "\n",
    "  # Apply conditions to find phases\n",
    "  phase.loc[(phase['time'] < 0), 'Phase'] = 'Warm Up'\n",
    "  phase.loc[(phase['time'] >= 0) & (phase['power'] > 0), 'Phase'] = 'GET'\n",
    "  phase.loc[(phase['time'] > 0) & (phase['power'] == 0), 'Phase'] = 'Cool Down'\n",
    "\n",
    "  # Filter for Cool Down phase and calculate average time\n",
    "  cool_down_data = phase[phase['Phase'] == 'Cool Down']\n",
    "  average_cool_down_time = cool_down_data['time'].mean()\n",
    "\n",
    "  return average_cool_down_time\n",
    "\n",
    "# Example usage:\n",
    "# Assuming final_table is your DataFrame\n",
    "average_cool_down = calculate_cool_down_average(final_table)\n",
    "print(\"Average cool down time:\", average_cool_down)"
   ]
  },
  {
   "cell_type": "markdown",
   "id": "ce63d092-4aa9-4e06-9f93-de9865da3cb3",
   "metadata": {},
   "source": [
    "## Qn4 Athletes from which sport had the highest average cardiorespiratory fitness in terms of HRV?"
   ]
  },
  {
   "cell_type": "code",
   "execution_count": 27,
   "id": "f74283b7-71e6-4fb3-b027-d5a1c3d53dfb",
   "metadata": {},
   "outputs": [
    {
     "ename": "NameError",
     "evalue": "name 'final_table' is not defined",
     "output_type": "error",
     "traceback": [
      "\u001b[1;31m---------------------------------------------------------------------------\u001b[0m",
      "\u001b[1;31mNameError\u001b[0m                                 Traceback (most recent call last)",
      "Cell \u001b[1;32mIn[27], line 14\u001b[0m\n\u001b[0;32m     12\u001b[0m   highest_hrv_sport \u001b[38;5;241m=\u001b[39m hrv_by_sport\u001b[38;5;241m.\u001b[39midxmax()\n\u001b[0;32m     13\u001b[0m   \u001b[38;5;28;01mreturn\u001b[39;00m highest_hrv_sport\n\u001b[1;32m---> 14\u001b[0m \u001b[38;5;28mprint\u001b[39m (final_table)\n",
      "\u001b[1;31mNameError\u001b[0m: name 'final_table' is not defined"
     ]
    }
   ],
   "source": [
    "\n",
    "def find_sport_with_highest_hrv(final_table):\n",
    "  \"\"\"Finds the sport with the highest average HRV.\n",
    "\n",
    "  Args:\n",
    "    df: A DataFrame with 'sport' and 'HRV' columns.\n",
    "\n",
    "  Returns:\n",
    "    The sport with the highest average HRV.\n",
    "  \"\"\"\n",
    "\n",
    "  hrv_by_sport = final_table.groupby('sport')['HRV'].mean()\n",
    "  highest_hrv_sport = hrv_by_sport.idxmax()\n",
    "  return highest_hrv_sport\n",
    "print (final_table) \n",
    "\n"
   ]
  },
  {
   "cell_type": "markdown",
   "id": "ef63ea77-6374-48d5-bd91-62817347ad09",
   "metadata": {},
   "source": [
    "## Qn5 What was the average time each test lasted (including warm up) for all athletes?"
   ]
  },
  {
   "cell_type": "code",
   "execution_count": 121,
   "id": "33e9b01f-501b-484c-91e9-93ff6477996a",
   "metadata": {},
   "outputs": [
    {
     "name": "stdout",
     "output_type": "stream",
     "text": [
      "Average warm-up time: 90.05824569676963\n",
      "Average GET time: 70.43377777777778\n",
      "Average cool-down time: 993.9884049295774\n"
     ]
    }
   ],
   "source": [
    "import pandas as pd\n",
    "\n",
    "def calculate_phase_averages(final_table):\n",
    "  \"\"\"Calculates average warm-up, GET, and cool-down times from a DataFrame.\n",
    "\n",
    "  Args:\n",
    "    final_table: A Pandas DataFrame containing columns like 'time' and 'power'.\n",
    "\n",
    "  Returns:\n",
    "    A dictionary with average warm-up, GET, and cool-down times.\n",
    "  \"\"\"\n",
    "\n",
    "  phase = final_table.copy()\n",
    "  phase['Phase'] = 'Other Phase'\n",
    "  phase.loc[(phase['time'] < 0), 'Phase'] = 'Warm Up'\n",
    "  phase.loc[(phase['time'] >= 0) & (phase['power'] > 0), 'Phase'] = 'GET'\n",
    "  phase.loc[(phase['time'] > 0) & (phase['power'] == 0), 'Phase'] = 'Cool Down'\n",
    "\n",
    "  average_warm_up_time = phase[phase['Phase'] == 'Warm Up']['time'].abs().mean()  # Absolute value for warm-up\n",
    "  average_get_time = (phase[phase['Phase'] == 'GET']['time'].max() - phase[phase['Phase'] == 'GET']['time'].min()) / len(phase[phase['Phase'] == 'GET']['ID'].unique())\n",
    "  average_cool_down_time = phase[phase['Phase'] == 'Cool Down']['time'].mean()\n",
    "\n",
    "  return {'average_warm_up': average_warm_up_time,\n",
    "          'average_get': average_get_time,\n",
    "          'average_cool_down': average_cool_down_time}\n",
    "\n",
    "# Example usage:\n",
    "# Assuming final_table is your DataFrame\n",
    "phase_averages = calculate_phase_averages(final_table)\n",
    "print(\"Average warm-up time:\", phase_averages['average_warm_up'])\n",
    "print(\"Average GET time:\", phase_averages['average_get'])\n",
    "print(\"Average cool-down time:\", phase_averages['average_cool_down'])"
   ]
  },
  {
   "cell_type": "markdown",
   "id": "a5014f7c-8393-49bb-8d26-574098e5aede",
   "metadata": {},
   "source": [
    "## Qn6 What was the most common wattage (above 0) achieved by participants and for how many seconds (average time)? You may choose to show averages based on any one/all sports. "
   ]
  },
  {
   "cell_type": "markdown",
   "id": "90e017ba-2781-4f9c-8153-0a9799c036b4",
   "metadata": {},
   "source": []
  },
  {
   "cell_type": "markdown",
   "id": "18321baf-a8fd-4a05-8a41-2a6731d309aa",
   "metadata": {},
   "source": [
    "## Qn7 Create a correlation matrix to show the relationship between HR, BMI and sport."
   ]
  },
  {
   "cell_type": "code",
   "execution_count": null,
   "id": "b2cc5bf3-eac1-4f21-8cd0-b57ba72e578a",
   "metadata": {},
   "outputs": [],
   "source": []
  },
  {
   "cell_type": "markdown",
   "id": "cf5fd65d-e1e4-4e9b-818d-a35dec3ef5ba",
   "metadata": {},
   "source": [
    "## Qn8 What are the names of the kayaking athletes?"
   ]
  },
  {
   "cell_type": "code",
   "execution_count": 15,
   "id": "f243ad5e-710c-412a-aca2-f12087668748",
   "metadata": {},
   "outputs": [
    {
     "ename": "IndentationError",
     "evalue": "unindent does not match any outer indentation level (<string>, line 6)",
     "output_type": "error",
     "traceback": [
      "\u001b[1;36m  File \u001b[1;32m<string>:6\u001b[1;36m\u001b[0m\n\u001b[1;33m    kayak_athletes = ath[ath['sport'] == ['kayak']]\u001b[0m\n\u001b[1;37m                                                   ^\u001b[0m\n\u001b[1;31mIndentationError\u001b[0m\u001b[1;31m:\u001b[0m unindent does not match any outer indentation level\n"
     ]
    }
   ],
   "source": [
    "import pandas as pd\n",
    "\n",
    "def display_kayak_athletes(ath):\n",
    "    ath = pd.read_excel(df, sheet_name = 'Athletes')\n",
    "  \n",
    "  kayak_athletes = ath[ath['sport'] == ['kayak']]\n",
    "  print(kayak_athletes[['first_name', 'last_name']])\n",
    "\n",
    "# Example usage:\n",
    "# Assuming 'athletes_sheet' is your DataFrame\n",
    "#display_kayak_athletes(ath)\n",
    "#print(ath)"
   ]
  },
  {
   "cell_type": "markdown",
   "id": "1db836a4-4574-4b9c-a405-8fe4eb281a89",
   "metadata": {},
   "source": [
    "## Qn9 What was the average HRV of the triathletes?"
   ]
  },
  {
   "cell_type": "code",
   "execution_count": null,
   "id": "188cab2a-611f-448a-84fb-700ab8faf6b3",
   "metadata": {},
   "outputs": [],
   "source": []
  },
  {
   "cell_type": "markdown",
   "id": "10d5a082-9544-47d9-aaff-823cdb238dda",
   "metadata": {},
   "source": [
    "## Qn 10 How long was athlete 12 in HR Zone 5?"
   ]
  },
  {
   "cell_type": "code",
   "execution_count": null,
   "id": "c125923b-14db-4bad-8995-d95a7834f8a1",
   "metadata": {},
   "outputs": [],
   "source": []
  },
  {
   "cell_type": "markdown",
   "id": "1f7fed31-cd6e-4ed9-972d-6c4836e1c66a",
   "metadata": {},
   "source": [
    "## Qn 11 Create any 3d plot using any data. Values do not have to be from the dataset given. "
   ]
  },
  {
   "cell_type": "code",
   "execution_count": null,
   "id": "02e7c7b7-b074-4aac-8124-2cf13517bc61",
   "metadata": {},
   "outputs": [],
   "source": []
  },
  {
   "cell_type": "markdown",
   "id": "37975644-5bb2-42e4-9ca4-bcf3d8882ff1",
   "metadata": {},
   "source": [
    "## Qn 12 What were the Highest 3 V02 Maxes recorded. Display all 3 names, sport and personal V02 Maxes."
   ]
  },
  {
   "cell_type": "code",
   "execution_count": null,
   "id": "89e8fb5d-e622-4d50-bee2-1b61fe464073",
   "metadata": {},
   "outputs": [],
   "source": []
  },
  {
   "cell_type": "markdown",
   "id": "7ef01433-6b25-4ed2-9ae2-76d6dfcaf615",
   "metadata": {},
   "source": [
    "## Qn 13 Calculate the year of birth of each athlete and store it as a column in the tables."
   ]
  },
  {
   "cell_type": "code",
   "execution_count": null,
   "id": "c02dbced-38b4-4b36-a123-8d87188bf641",
   "metadata": {},
   "outputs": [],
   "source": []
  },
  {
   "cell_type": "markdown",
   "id": "6df051b3-0e1e-4235-afdf-3b224536f903",
   "metadata": {},
   "source": [
    "## Qn 14 What were the lowest 3 V02 Maxes recorded. Display all 3 names, sport and personal V02 Maxes."
   ]
  },
  {
   "cell_type": "code",
   "execution_count": null,
   "id": "5ffecb80-87c6-4461-83e5-4826ddacedf9",
   "metadata": {},
   "outputs": [],
   "source": []
  },
  {
   "cell_type": "markdown",
   "id": "bf4ec56e-a954-4c2a-bc4c-3a3ffaec5b63",
   "metadata": {},
   "source": [
    "## Qn 15 \"Assign 1 of the following 5 heart rate zones for every record for all sports and athletes and add this as a column to every table:\n",
    "Zone 1 (recovery/easy)       <100 HR max\n",
    "Zone 2 (aerobic/base)        100-120 HR max\n",
    "Zone 3 (tempo)        120-135 HR max\n",
    "Zone 4 (lactate threshold)        135-155 HR max\n",
    "Zone 5 (anaerobic)        155+ HR max and above\""
   ]
  },
  {
   "cell_type": "code",
   "execution_count": null,
   "id": "23e2098f-7223-4cd5-9b01-860f5d3e4489",
   "metadata": {},
   "outputs": [],
   "source": []
  }
 ],
 "metadata": {
  "kernelspec": {
   "display_name": "Python 3 (ipykernel)",
   "language": "python",
   "name": "python3"
  },
  "language_info": {
   "codemirror_mode": {
    "name": "ipython",
    "version": 3
   },
   "file_extension": ".py",
   "mimetype": "text/x-python",
   "name": "python",
   "nbconvert_exporter": "python",
   "pygments_lexer": "ipython3",
   "version": "3.12.4"
  }
 },
 "nbformat": 4,
 "nbformat_minor": 5
}
