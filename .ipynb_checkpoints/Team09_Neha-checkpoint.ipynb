{
 "cells": [
  {
   "cell_type": "code",
   "execution_count": 1,
   "id": "68056ebe-5f23-4cbc-81bf-232ea2dc5bfc",
   "metadata": {},
   "outputs": [],
   "source": [
    "import pandas as pd \n",
    "import numpy as np \n",
    "import seaborn as sns\n",
    "import matplotlib.pyplot as plt\n",
    "import warnings\n",
    "warnings.filterwarnings(\"ignore\")"
   ]
  },
  {
   "cell_type": "code",
   "execution_count": 3,
   "id": "44024e1a-c755-4ab8-bd74-33e3263f8f4e",
   "metadata": {},
   "outputs": [],
   "source": [
    "#Read the excel file and store the sheets into dataframes.\n",
    "df = pd.ExcelFile('C:/Users/jaina/OneDrive/Desktop/Python Hackathon 2/V02Max_Combined.xlsx')\n",
    "kay = pd.read_excel(df, sheet_name = 'Kayaking')\n",
    "ath = pd.read_excel(df, sheet_name = 'Athletes')\n",
    "tri = pd.read_excel(df, sheet_name = 'Triathlon')\n",
    "fen = pd.read_excel(df, sheet_name = 'Fencing')"
   ]
  },
  {
   "cell_type": "markdown",
   "id": "6b3d79c5-ba2d-4eba-8d4a-472c502e4548",
   "metadata": {},
   "source": [
    "Question 1) Join all sport-related tables to produce one dataframe that has all athletes values. The final table should only have the same 5 columns: ID, time,power,RR, vo2, power. Write this dataframe to an excel file"
   ]
  },
  {
   "cell_type": "code",
   "execution_count": 40,
   "id": "4e57ddf0-ddfc-4037-aa41-4521bf790bb1",
   "metadata": {},
   "outputs": [
    {
     "name": "stdout",
     "output_type": "stream",
     "text": [
      "Index(['ID', 'time', 'RR', 'VO2', 'power', 'vo2'], dtype='object')\n",
      "Index(['ID', 'age', 'Weight', 'Height', 'P_vt1', 'P_vt2', 'sport', 'Gender',\n",
      "       'Ethnicity', 'First Name', 'Last Name'],\n",
      "      dtype='object')\n",
      "Index(['ID', 'time', 'RR', 'VO2', 'power'], dtype='object')\n",
      "Index(['ID', 'time', 'RR', 'VO2', 'power'], dtype='object')\n"
     ]
    }
   ],
   "source": [
    "# Assuming you have the dataframes kay, ath, tri, fen defined\n",
    "\n",
    "# Check for missing columns (optional)\n",
    "print(kay.columns)\n",
    "print(ath.columns)\n",
    "print(tri.columns)\n",
    "print(fen.columns)\n",
    "\n",
    "# Add placeholder column if necessary\n",
    "if 'VO2' not in kay.columns:\n",
    "    kay['VO2'] = np.nan\n",
    "\n",
    "# Concatenate the dataframes\n",
    "combined_df = pd.concat([kay, ath, tri, fen], ignore_index=True)\n",
    "\n",
    "# Select the desired columns\n",
    "final_df = combined_df[['ID', 'time', 'power', 'RR', 'VO2']]\n",
    "\n",
    "# Write to Excel\n",
    "writer = pd.ExcelWriter('combined_data.xlsx')\n",
    "final_df.to_excel(writer, index=False)\n",
    "writer.close()"
   ]
  },
  {
   "cell_type": "markdown",
   "id": "8a98bd40-4c59-42d1-9914-ff88a438f6bc",
   "metadata": {},
   "source": [
    "##Question 2 Divide the rows into 3 parts: Warm up, GET(graded exercise test) and cool down using the data def. Label each row accordingly"
   ]
  },
  {
   "cell_type": "code",
   "execution_count": null,
   "id": "d43d11b5-752b-4acb-8344-75a42d4edc0f",
   "metadata": {},
   "outputs": [],
   "source": [
    "#df = pd.ExcelFile('C:/Users/jaina/OneDrive/Desktop/Python Hackathon 2/combined_data.xlsx')# \n",
    "df = pd.DataFrame(data)\n",
    "\n",
    "# Define thresholds for warm-up and cool-down (adjust as needed)\n",
    "warm_up_threshold = 15\n",
    "cool_down_threshold = 15\n",
    "\n",
    "# Function to determine the phase based on value\n",
    "def determine_phase(value):\n",
    "    if value < warm_up_threshold:\n",
    "        return 'Warm-up'\n",
    "    elif value > cool_down_threshold:\n",
    "        return 'GET'\n",
    "    else:\n",
    "        return 'Cool-down'\n",
    "\n",
    "# Apply the function to create a new column 'phase'\n",
    "df['phase'] = df['value'].apply(determine_phase)\n",
    "\n",
    "print(df)"
   ]
  },
  {
   "cell_type": "markdown",
   "id": "740f2ea7-a063-4b43-a975-1e5821cd876e",
   "metadata": {},
   "source": [
    "Question 3 What was the average time each tested lasted excluding warm up for all athletes?"
   ]
  },
  {
   "cell_type": "code",
   "execution_count": null,
   "id": "2b88619b-45d9-4547-8de9-4206f0fbc05b",
   "metadata": {},
   "outputs": [],
   "source": []
  }
 ],
 "metadata": {
  "kernelspec": {
   "display_name": "Python 3 (ipykernel)",
   "language": "python",
   "name": "python3"
  },
  "language_info": {
   "codemirror_mode": {
    "name": "ipython",
    "version": 3
   },
   "file_extension": ".py",
   "mimetype": "text/x-python",
   "name": "python",
   "nbconvert_exporter": "python",
   "pygments_lexer": "ipython3",
   "version": "3.12.4"
  }
 },
 "nbformat": 4,
 "nbformat_minor": 5
}
