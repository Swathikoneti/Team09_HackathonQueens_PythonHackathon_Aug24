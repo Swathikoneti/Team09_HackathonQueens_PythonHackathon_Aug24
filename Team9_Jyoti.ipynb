{
 "cells": [
  {
   "cell_type": "code",
   "execution_count": 6,
   "id": "0670422d-2faf-4ab7-8e57-35055b4fd180",
   "metadata": {},
   "outputs": [],
   "source": [
    "import pandas as pd \n",
    "import numpy as np \n",
    "import seaborn as sns\n",
    "import matplotlib.pyplot as plt\n",
    "import warnings\n",
    "warnings.filterwarnings(\"ignore\")\n",
    "\n",
    "#Read the excel file and store the sheets into dataframes.\n",
    "df = pd.ExcelFile('C:/Jyoti/Data Analytics/PYTHON Session/Python Hackathon/V02Max_Combined.xlsx')\n",
    "kay = pd.read_excel(df, sheet_name = 'Kayaking')\n",
    "ath = pd.read_excel(df, sheet_name = 'Athletes')\n",
    "tri = pd.read_excel(df, sheet_name = 'Triathlon')\n",
    "fen = pd.read_excel(df, sheet_name = 'Fencing')\n"
   ]
  },
  {
   "attachments": {},
   "cell_type": "markdown",
   "id": "127453eb-868e-4d76-9111-359add23ec2d",
   "metadata": {},
   "source": [
    "QQ5.   [ 1,  2,  3,  4,  5],\r\n",
    "       [ 6,  7,  8,  9, 10],\r\n",
    "       [11, 12, 13, 14, 15],\r\n",
    "       [16, 17, 18, 19, 20],\r\n",
    "       [21, 22, 23, 24, 25],\r\n",
    "       [26, 27, 28, 29, 30]  Use array slicing to display elements 4,7,1\n",
    "       "
   ]
  },
  {
   "cell_type": "code",
   "execution_count": null,
   "id": "3f7d092e-5ef3-4e39-8fde-d81f8b3839fd",
   "metadata": {},
   "outputs": [],
   "source": []
  },
  {
   "cell_type": "markdown",
   "id": "e22383da-3ddd-4b49-a208-b507d050ffdb",
   "metadata": {},
   "source": [
    "Q66. On average, how long did each participant spend at 200 watts?"
   ]
  },
  {
   "cell_type": "code",
   "execution_count": null,
   "id": "5f57571d-993e-402c-8545-960ecc48a49c",
   "metadata": {},
   "outputs": [],
   "source": []
  },
  {
   "cell_type": "markdown",
   "id": "a71dda49-bdd2-4806-bcb3-41058d14a637",
   "metadata": {},
   "source": [
    "Q67. Athletes from which sport had the highest average cardiorespiratory fitness in terms of v02 max?"
   ]
  },
  {
   "cell_type": "code",
   "execution_count": null,
   "id": "a6ae46db-d649-4503-8cc4-55da531d98ad",
   "metadata": {},
   "outputs": [],
   "source": []
  },
  {
   "cell_type": "markdown",
   "id": "eb403778-16e4-4b73-a1fb-426c465d6266",
   "metadata": {},
   "source": [
    "Q68. What % of athletes exceeded 90% of max HR? (Max HR is calculated as 220-Age)"
   ]
  },
  {
   "cell_type": "code",
   "execution_count": null,
   "id": "e4c66c80-e3ac-4a8e-8932-cfac3cce280b",
   "metadata": {},
   "outputs": [],
   "source": []
  },
  {
   "cell_type": "markdown",
   "id": "2e900cd2-8340-4202-9360-a4091ee8c62a",
   "metadata": {},
   "source": [
    "Q69. What was the lowest heart rate recorded at a power wattage of 200"
   ]
  },
  {
   "cell_type": "code",
   "execution_count": null,
   "id": "beb886c1-fe9e-4110-97e8-f59ec19395c5",
   "metadata": {},
   "outputs": [],
   "source": []
  },
  {
   "cell_type": "markdown",
   "id": "705363d5-6150-4edb-8153-2d2392253789",
   "metadata": {},
   "source": [
    "Q70. On Average how long did most athletes spend at 75% of MaxHR (Max HR is calculated as 220-Age)"
   ]
  },
  {
   "cell_type": "code",
   "execution_count": null,
   "id": "77cda7f3-c0df-4027-9fdf-82b7c3b42c8f",
   "metadata": {},
   "outputs": [],
   "source": []
  },
  {
   "cell_type": "markdown",
   "id": "1d5e5b7d-a9f1-4ed9-96d7-0e35075a9959",
   "metadata": {},
   "source": [
    "Q71. Create a crosstab to show each sport as a column and each heart rate zone as rows with counts of rows that satisfy each condition as values"
   ]
  },
  {
   "cell_type": "code",
   "execution_count": null,
   "id": "3a7a4d1f-3b7b-4dc8-a760-ee3fb75bd534",
   "metadata": {},
   "outputs": [],
   "source": []
  },
  {
   "cell_type": "markdown",
   "id": "d21456f2-9230-4cf6-8f6a-b30709b2a3e0",
   "metadata": {},
   "source": [
    "Q72. Provide an example of a lambda function that multiplies any 2 input values."
   ]
  },
  {
   "cell_type": "code",
   "execution_count": 8,
   "id": "de461e60-d4c0-4d5d-9cd8-305ab5352b1b",
   "metadata": {},
   "outputs": [
    {
     "name": "stdin",
     "output_type": "stream",
     "text": [
      "Enter Your first Value :  5\n",
      "Enter Your Second Value :  6\n"
     ]
    },
    {
     "name": "stdout",
     "output_type": "stream",
     "text": [
      "<function <lambda> at 0x00000266A657BD80>\n"
     ]
    }
   ],
   "source": [
    "int_Var1 = input(\"Enter Your first Value : \")\n",
    "int_Var2 = input(\"Enter Your Second Value : \")\n",
    "\n",
    "x = lambda int_Var1, int_Var2: int_Var1 * int_Var2\n",
    "print(x)"
   ]
  },
  {
   "cell_type": "markdown",
   "id": "5f356198-a89d-4afd-89d3-c1b9bf5b4457",
   "metadata": {},
   "source": [
    "Q73. How long was athlete 17s warm up"
   ]
  },
  {
   "cell_type": "code",
   "execution_count": null,
   "id": "265c6e16-2806-455d-b4b4-b6cb7db4e94f",
   "metadata": {},
   "outputs": [],
   "source": []
  },
  {
   "cell_type": "markdown",
   "id": "9391e320-c6c3-4b85-a1b1-870e95745847",
   "metadata": {},
   "source": [
    "Q74. Take a students full name and reverse it using a for loop"
   ]
  },
  {
   "cell_type": "code",
   "execution_count": null,
   "id": "55ae5fba-fcc8-4ef7-854f-1081b726a6b5",
   "metadata": {},
   "outputs": [],
   "source": [
    "\n",
    "String Full_Name =\n",
    "\n"
   ]
  },
  {
   "cell_type": "markdown",
   "id": "98c965ab-8a19-40c1-97d5-bd49336e6ff3",
   "metadata": {},
   "source": [
    "Q75. What was the maximum heart rate recorded during the test. Which athlete did it belong to? Display name, sport and HR"
   ]
  },
  {
   "cell_type": "code",
   "execution_count": null,
   "id": "e8d3d87d-8962-43f1-967b-dd155dca6155",
   "metadata": {},
   "outputs": [],
   "source": []
  },
  {
   "cell_type": "markdown",
   "id": "aaa4dd2a-9572-4995-986c-6829c256477e",
   "metadata": {},
   "source": [
    "Q76. np.arange(1,31).reshape(6,5),find array slicing to get the elements 2,5,13,25,30."
   ]
  },
  {
   "cell_type": "code",
   "execution_count": null,
   "id": "2233c8ca-f598-455e-91a4-97a6d741ffd0",
   "metadata": {},
   "outputs": [],
   "source": []
  },
  {
   "cell_type": "markdown",
   "id": "cd44be06-6f8e-4486-be9a-eeb769314851",
   "metadata": {},
   "source": [
    "Q77. Display a violin chart to show distribution of VO2Max against age."
   ]
  },
  {
   "cell_type": "code",
   "execution_count": null,
   "id": "0fa80077-7835-489f-b7b7-8a930b2e0bbf",
   "metadata": {},
   "outputs": [],
   "source": []
  },
  {
   "cell_type": "markdown",
   "id": "351ec455-71d3-41e9-9034-3125e370242f",
   "metadata": {},
   "source": [
    "Q78. Create a heatmap that show heart rate zones by minutes and the number of athletes in each HR and each minute."
   ]
  },
  {
   "cell_type": "code",
   "execution_count": null,
   "id": "e29106a3-606c-4a32-bdf9-c3e14c288e0c",
   "metadata": {},
   "outputs": [],
   "source": []
  },
  {
   "cell_type": "markdown",
   "id": "b9547b2f-1673-4f36-a52f-3d61b803a216",
   "metadata": {},
   "source": [
    "Q79. Plot the Donut chart athlete distrubution by Gender"
   ]
  },
  {
   "cell_type": "code",
   "execution_count": null,
   "id": "36d0c5f7-f227-463b-b600-f9dfdf14b8c5",
   "metadata": {},
   "outputs": [],
   "source": []
  },
  {
   "cell_type": "markdown",
   "id": "00094e56-fdf2-4754-8c88-17a5b17176bd",
   "metadata": {},
   "source": [
    "Q80. find the size of Tuple for any given input."
   ]
  },
  {
   "cell_type": "code",
   "execution_count": null,
   "id": "eb806d32-73b5-4e23-94eb-67058be76605",
   "metadata": {},
   "outputs": [],
   "source": []
  }
 ],
 "metadata": {
  "kernelspec": {
   "display_name": "Python 3 (ipykernel)",
   "language": "python",
   "name": "python3"
  },
  "language_info": {
   "codemirror_mode": {
    "name": "ipython",
    "version": 3
   },
   "file_extension": ".py",
   "mimetype": "text/x-python",
   "name": "python",
   "nbconvert_exporter": "python",
   "pygments_lexer": "ipython3",
   "version": "3.12.4"
  }
 },
 "nbformat": 4,
 "nbformat_minor": 5
}
