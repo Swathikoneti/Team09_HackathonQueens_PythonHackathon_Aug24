{
 "cells": [
  {
   "cell_type": "code",
   "execution_count": 16,
   "id": "40913b14-9f2b-43a8-bac9-ffef640c1207",
   "metadata": {},
   "outputs": [
    {
     "name": "stdout",
     "output_type": "stream",
     "text": [
      "Requirement already satisfied: wordcloud in /opt/anaconda3/lib/python3.11/site-packages (1.9.3)\n",
      "Requirement already satisfied: numpy>=1.6.1 in /opt/anaconda3/lib/python3.11/site-packages (from wordcloud) (1.26.4)\n",
      "Requirement already satisfied: pillow in /opt/anaconda3/lib/python3.11/site-packages (from wordcloud) (10.2.0)\n",
      "Requirement already satisfied: matplotlib in /opt/anaconda3/lib/python3.11/site-packages (from wordcloud) (3.8.0)\n",
      "Requirement already satisfied: contourpy>=1.0.1 in /opt/anaconda3/lib/python3.11/site-packages (from matplotlib->wordcloud) (1.2.0)\n",
      "Requirement already satisfied: cycler>=0.10 in /opt/anaconda3/lib/python3.11/site-packages (from matplotlib->wordcloud) (0.11.0)\n",
      "Requirement already satisfied: fonttools>=4.22.0 in /opt/anaconda3/lib/python3.11/site-packages (from matplotlib->wordcloud) (4.25.0)\n",
      "Requirement already satisfied: kiwisolver>=1.0.1 in /opt/anaconda3/lib/python3.11/site-packages (from matplotlib->wordcloud) (1.4.4)\n",
      "Requirement already satisfied: packaging>=20.0 in /opt/anaconda3/lib/python3.11/site-packages (from matplotlib->wordcloud) (23.1)\n",
      "Requirement already satisfied: pyparsing>=2.3.1 in /opt/anaconda3/lib/python3.11/site-packages (from matplotlib->wordcloud) (3.0.9)\n",
      "Requirement already satisfied: python-dateutil>=2.7 in /opt/anaconda3/lib/python3.11/site-packages (from matplotlib->wordcloud) (2.8.2)\n",
      "Requirement already satisfied: six>=1.5 in /opt/anaconda3/lib/python3.11/site-packages (from python-dateutil>=2.7->matplotlib->wordcloud) (1.16.0)\n",
      "Requirement already satisfied: scikit-learn in /opt/anaconda3/lib/python3.11/site-packages (1.2.2)\n",
      "Requirement already satisfied: numpy>=1.17.3 in /opt/anaconda3/lib/python3.11/site-packages (from scikit-learn) (1.26.4)\n",
      "Requirement already satisfied: scipy>=1.3.2 in /opt/anaconda3/lib/python3.11/site-packages (from scikit-learn) (1.11.4)\n",
      "Requirement already satisfied: joblib>=1.1.1 in /opt/anaconda3/lib/python3.11/site-packages (from scikit-learn) (1.2.0)\n",
      "Requirement already satisfied: threadpoolctl>=2.0.0 in /opt/anaconda3/lib/python3.11/site-packages (from scikit-learn) (2.2.0)\n"
     ]
    }
   ],
   "source": [
    "import pandas as pd \n",
    "import numpy as np \n",
    "import seaborn as sns\n",
    "import matplotlib.pyplot as plt\n",
    "import warnings\n",
    "warnings.filterwarnings(\"ignore\")\n",
    "import datetime\n",
    "import re\n",
    "!pip install wordcloud\n",
    "from wordcloud import WordCloud\n",
    "from datetime import datetime, timedelta\n",
    "import matplotlib.dates as mdates\n",
    "!pip install scikit-learn\n",
    "from sklearn.preprocessing import LabelEncoder"
   ]
  },
  {
   "cell_type": "code",
   "execution_count": 17,
   "id": "0e2b49cd-85e3-4654-99f1-bbcdd21f71fe",
   "metadata": {},
   "outputs": [],
   "source": [
    "#Read the excel file and store the sheets into dataframes.\n",
    "df = pd.ExcelFile(r\"V02Max_Combined.xlsx\")\n",
    "kay = pd.read_excel(df, sheet_name = 'Kayaking')\n",
    "ath = pd.read_excel(df, sheet_name = 'Athletes')\n",
    "tri = pd.read_excel(df, sheet_name = 'Triathlon')\n",
    "fen = pd.read_excel(df, sheet_name = 'Fencing')"
   ]
  },
  {
   "cell_type": "markdown",
   "id": "ba92c535-9a69-4496-95b1-e395123c1275",
   "metadata": {},
   "source": [
    "## Qn1:Join all sport-related tables to produce one dataframe that has all athletes values. The final table should only have the same 5 columns: ID, time,power,RR, vo2, power. Write this dataframe to an excel file."
   ]
  },
  {
   "cell_type": "code",
   "execution_count": 19,
   "id": "f23003ab-7dec-4ec9-bc3f-2e27a9c27564",
   "metadata": {},
   "outputs": [
    {
     "name": "stdout",
     "output_type": "stream",
     "text": [
      "Dataframe successfully written to Excel file FinalVO2_Table.xlsx\n",
      "\n",
      "Reading FinalVO2_Table.xlsx Excel file for Verification:\n",
      "       ID     time     RR       VO2  power\n",
      "0       1 -130.840  672.0  0.302008      0\n",
      "1       1 -130.168  672.0  0.302008      0\n",
      "2       1 -129.536  632.0  0.301336      0\n",
      "3       1 -128.824  712.0  0.301336      0\n",
      "4       1 -127.948  876.0  0.301336      0\n",
      "...    ..      ...    ...       ...    ...\n",
      "52057  18  947.288  536.0  0.507071      0\n",
      "52058  18  947.816  528.0  0.507071      0\n",
      "52059  18  948.344  528.0  0.507071      0\n",
      "52060  18  948.884  540.0  0.507071      0\n",
      "52061  18  949.424  540.0  0.507071      0\n",
      "\n",
      "[52062 rows x 5 columns]\n"
     ]
    }
   ],
   "source": [
    "#Concatenating all sport related table to one dataframe final_table\n",
    "final_table=pd.concat([fen[['ID','time','RR','VO2','power']],\n",
    "                       kay[['ID','time','RR','VO2','power']],\n",
    "                       tri[['ID','time','RR','VO2','power']]],ignore_index=True)\n",
    "\n",
    "#defining output excel file name\n",
    "output='FinalVO2_Table.xlsx'\n",
    "\n",
    "#writing dataframe to excel using to_excel\n",
    "final_table.to_excel(output,index=False)\n",
    "print(\"Dataframe successfully written to Excel file\",output)\n",
    "\n",
    "#Reading the excel file back into dataframe for verification\n",
    "print(\"\\nReading\",output,\"Excel file for Verification:\")\n",
    "sportdf=pd.read_excel(\"FinalVO2_Table.xlsx\")\n",
    "print(sportdf)"
   ]
  },
  {
   "cell_type": "markdown",
   "id": "2075c7a2-8237-4bde-8e09-770bec153fd9",
   "metadata": {},
   "source": [
    "## Qn2:Divide the rows into 3 parts: Warm up, GET(graded exercise test) and cool down using the data def. Label each row accordingly"
   ]
  },
  {
   "cell_type": "code",
   "execution_count": 21,
   "id": "7104da4e-e279-4267-a766-2dcae2fa3db3",
   "metadata": {},
   "outputs": [
    {
     "name": "stdout",
     "output_type": "stream",
     "text": [
      "       ID     time     RR       VO2  power      Phase\n",
      "0       1 -130.840  672.0  0.302008      0    Warm Up\n",
      "1       1 -130.168  672.0  0.302008      0    Warm Up\n",
      "2       1 -129.536  632.0  0.301336      0    Warm Up\n",
      "3       1 -128.824  712.0  0.301336      0    Warm Up\n",
      "4       1 -127.948  876.0  0.301336      0    Warm Up\n",
      "...    ..      ...    ...       ...    ...        ...\n",
      "52057  18  947.288  536.0  0.507071      0  Cool Down\n",
      "52058  18  947.816  528.0  0.507071      0  Cool Down\n",
      "52059  18  948.344  528.0  0.507071      0  Cool Down\n",
      "52060  18  948.884  540.0  0.507071      0  Cool Down\n",
      "52061  18  949.424  540.0  0.507071      0  Cool Down\n",
      "\n",
      "[52062 rows x 6 columns]\n"
     ]
    }
   ],
   "source": [
    "#Initialize Dataframe phase\n",
    "phase=pd.DataFrame(final_table)\n",
    "\n",
    "#initialize Phase column\n",
    "phase['Phase']='Other Phase'\n",
    "\n",
    "#Apply conditions to find Warm Up-time less than 0,GET-time>=0 and power>0,Cool Down-time>0 and power=0\n",
    "phase.loc[phase['time']<0,'Phase']='Warm Up'\n",
    "phase.loc[(phase['time']>=0) & (phase['power']>0),'Phase']='GET'\n",
    "phase.loc[(phase['time']>0) & (phase['power']==0),'Phase']='Cool Down'\n",
    "\n",
    "#print dataframe phase details\n",
    "print(phase)"
   ]
  },
  {
   "cell_type": "markdown",
   "id": "0df9bc4d-c2c7-4de4-b76a-dc0a3c3aa577",
   "metadata": {},
   "source": [
    "## Qn3:What was the average time each test lasted excluding warm-up for all athletes?"
   ]
  },
  {
   "cell_type": "code",
   "execution_count": 63,
   "id": "1725b921-89dc-4a0e-a970-a3e7e8db684d",
   "metadata": {},
   "outputs": [
    {
     "name": "stdout",
     "output_type": "stream",
     "text": [
      "Average Time for GET and COOL DOWN:\n"
     ]
    },
    {
     "data": {
      "text/html": [
       "<style type=\"text/css\">\n",
       "</style>\n",
       "<table id=\"T_b18c8\">\n",
       "  <thead>\n",
       "    <tr>\n",
       "      <th id=\"T_b18c8_level0_col0\" class=\"col_heading level0 col0\" >Phase</th>\n",
       "      <th id=\"T_b18c8_level0_col1\" class=\"col_heading level0 col1\" >Average Time</th>\n",
       "    </tr>\n",
       "  </thead>\n",
       "  <tbody>\n",
       "    <tr>\n",
       "      <td id=\"T_b18c8_row0_col0\" class=\"data row0 col0\" >Cool Down</td>\n",
       "      <td id=\"T_b18c8_row0_col1\" class=\"data row0 col1\" >993.988405</td>\n",
       "    </tr>\n",
       "    <tr>\n",
       "      <td id=\"T_b18c8_row1_col0\" class=\"data row1 col0\" >GET</td>\n",
       "      <td id=\"T_b18c8_row1_col1\" class=\"data row1 col1\" >512.492916</td>\n",
       "    </tr>\n",
       "  </tbody>\n",
       "</table>\n"
      ],
      "text/plain": [
       "<pandas.io.formats.style.Styler at 0x147f294d0>"
      ]
     },
     "execution_count": 63,
     "metadata": {},
     "output_type": "execute_result"
    }
   ],
   "source": [
    "#Exclude warmup phase\n",
    "excludeWarmup = phase[phase['Phase'] != 'Warm Up']\n",
    "\n",
    "# Find the average Time for GET and COOL DOWN\n",
    "avg_time=excludeWarmup.groupby('Phase')['time'].mean().reset_index(name='Average Time')\n",
    "\n",
    "#print average time\n",
    "print(\"Average Time for GET and COOL DOWN:\")\n",
    "avg_time.style.hide(axis='index')\n"
   ]
  },
  {
   "cell_type": "markdown",
   "id": "2629bd58-ed8d-4e82-880c-3c61215cb72c",
   "metadata": {},
   "source": [
    "## Qn04:Athletes from which sport had the highest average cardiorespiratory fitness in terms of HRV?"
   ]
  },
  {
   "cell_type": "code",
   "execution_count": 109,
   "id": "df32622e-202e-48d6-aa5f-4db886cbe788",
   "metadata": {},
   "outputs": [
    {
     "name": "stdout",
     "output_type": "stream",
     "text": [
      "Athletes from sport:kayak had the highest average HRV: 170.64090949012146\n"
     ]
    }
   ],
   "source": [
    "# Initialize Dataframe \n",
    "hrv_df=pd.DataFrame(final_table)\n",
    "\n",
    "# Calculate RR change\n",
    "hrv_df['RR Change'] = hrv_df.groupby('ID')['RR'].diff()\n",
    "\n",
    "#Calculate hrv using std()\n",
    "hrv=hrv_df.groupby('ID')['RR Change'].std().reset_index(name='HRV')\n",
    "\n",
    "#merge hrv and athletes table\n",
    "merge_hrv=hrv.merge(ath,on='ID',how='left')\n",
    "\n",
    "#find average hrv by sports\n",
    "Average_hrv=merge_hrv.groupby('sport')['HRV'].mean().reset_index(name='Average HRV')\n",
    "\n",
    "#Sort descending and find the max average hrv sport details\n",
    "Average_hrvdetails=Average_hrv.sort_values(by='Average HRV',ascending=False).head(1)\n",
    "\n",
    "#Print result\n",
    "print(f\"Athletes from sport:{Average_hrvdetails['sport'].values[0]} had the highest average HRV: {Average_hrvdetails['Average HRV'].values[0]}\")\n",
    " "
   ]
  },
  {
   "cell_type": "markdown",
   "id": "0edc6531-60df-468e-87d4-6e83922386fb",
   "metadata": {},
   "source": [
    "## Qn5:What was the average time each test lasted (including warm up) for all athletes?"
   ]
  },
  {
   "cell_type": "code",
   "execution_count": 117,
   "id": "575b935a-9ebc-49da-893b-b3723873d5fb",
   "metadata": {},
   "outputs": [
    {
     "name": "stdout",
     "output_type": "stream",
     "text": [
      "Average Time for ALL Phases:\n"
     ]
    },
    {
     "data": {
      "text/html": [
       "<style type=\"text/css\">\n",
       "</style>\n",
       "<table id=\"T_37929\">\n",
       "  <thead>\n",
       "    <tr>\n",
       "      <th id=\"T_37929_level0_col0\" class=\"col_heading level0 col0\" >Phase</th>\n",
       "      <th id=\"T_37929_level0_col1\" class=\"col_heading level0 col1\" >Average Time</th>\n",
       "    </tr>\n",
       "  </thead>\n",
       "  <tbody>\n",
       "    <tr>\n",
       "      <td id=\"T_37929_row0_col0\" class=\"data row0 col0\" >Cool Down</td>\n",
       "      <td id=\"T_37929_row0_col1\" class=\"data row0 col1\" >993.988405</td>\n",
       "    </tr>\n",
       "    <tr>\n",
       "      <td id=\"T_37929_row1_col0\" class=\"data row1 col0\" >GET</td>\n",
       "      <td id=\"T_37929_row1_col1\" class=\"data row1 col1\" >512.492916</td>\n",
       "    </tr>\n",
       "    <tr>\n",
       "      <td id=\"T_37929_row2_col0\" class=\"data row2 col0\" >Warm Up</td>\n",
       "      <td id=\"T_37929_row2_col1\" class=\"data row2 col1\" >-90.058246</td>\n",
       "    </tr>\n",
       "  </tbody>\n",
       "</table>\n"
      ],
      "text/plain": [
       "<pandas.io.formats.style.Styler at 0x1485a4a10>"
      ]
     },
     "execution_count": 117,
     "metadata": {},
     "output_type": "execute_result"
    }
   ],
   "source": [
    "# Find the average Time for all phases\n",
    "avg_time=phase.groupby('Phase')['time'].mean().reset_index(name='Average Time')\n",
    "\n",
    "#print average time\n",
    "print(\"Average Time for ALL Phases:\")\n",
    "avg_time.style.hide(axis='index')\n"
   ]
  },
  {
   "cell_type": "markdown",
   "id": "623d1888-93d8-4be5-b3cb-5d11a89fa96f",
   "metadata": {},
   "source": [
    "## Qn6:What was the most common wattage (above 0) achieved by participants and for how many seconds (average time)? You may choose to show averages based on any one/all sports."
   ]
  },
  {
   "cell_type": "code",
   "execution_count": 130,
   "id": "0e14c6d3-a0b9-4575-ae62-a3026a22ec4d",
   "metadata": {},
   "outputs": [
    {
     "name": "stdout",
     "output_type": "stream",
     "text": [
      "Most common wattage (above 0) achieved by participants is:  50\n",
      "Average time for all sports with 50 watts is:  92.2396158663883\n"
     ]
    }
   ],
   "source": [
    "# form dataframe where power greater then 0\n",
    "powerdf=pd.DataFrame(final_table)\n",
    "new_sportdf= powerdf[powerdf['power']>0]\n",
    "\n",
    "#calculate most common wattage using mode function\n",
    "mcw= new_sportdf['power'].mode()[0]\n",
    "\n",
    "# print result\n",
    "print(\"Most common wattage (above 0) achieved by participants is: \", mcw)\n",
    "mcw_data=new_sportdf[new_sportdf['power'] == mcw]\n",
    "\n",
    "#average of most common wattage \n",
    "avg_time=mcw_data['time'].mean()\n",
    "\n",
    "#print Average time for all sports\n",
    "print(\"Average time for all sports with 50 watts is: \", avg_time)"
   ]
  },
  {
   "cell_type": "markdown",
   "id": "8118929e-dd2a-4c65-a522-6de25833f774",
   "metadata": {},
   "source": [
    "## Qn7:Create a correlation matrix to show the relationship between HR, BMI, and sport."
   ]
  },
  {
   "cell_type": "code",
   "execution_count": 158,
   "id": "a90d4d0d-bee2-471c-bf15-1bacbd71e844",
   "metadata": {},
   "outputs": [
    {
     "name": "stdout",
     "output_type": "stream",
     "text": [
      "Correlation matrix is : \n",
      "                       HR       bmi  sport_fencing  sport_kayak  \\\n",
      "HR               1.000000 -0.056952       0.039244    -0.035366   \n",
      "bmi             -0.056952  1.000000      -0.146334     0.520190   \n",
      "sport_fencing    0.039244 -0.146334       1.000000    -0.821351   \n",
      "sport_kayak     -0.035366  0.520190      -0.821351     1.000000   \n",
      "sport_triathlon -0.008736 -0.607475      -0.345537    -0.251481   \n",
      "\n",
      "                 sport_triathlon  \n",
      "HR                     -0.008736  \n",
      "bmi                    -0.607475  \n",
      "sport_fencing          -0.345537  \n",
      "sport_kayak            -0.251481  \n",
      "sport_triathlon         1.000000  \n"
     ]
    },
    {
     "data": {
      "image/png": "[encoded data removed]",
      "text/plain": [
       "<Figure size 1000x700 with 2 Axes>"
      ]
     },
     "metadata": {},
     "output_type": "display_data"
    }
   ],
   "source": [
    "# form dataframe\n",
    "\n",
    "ath_1=pd.DataFrame(ath)\n",
    "hr_1=pd.DataFrame(final_table)\n",
    "#calculating BMI values\n",
    "ath_1['bmi']=round((ath_1['Weight']/((ath_1['Height']/100)**2)),2)\n",
    "#  represents HR ( Heart Rate )\n",
    "\n",
    "hr_1['HR']=round(60/(hr_1['RR']/1000),2)\n",
    "\n",
    "\n",
    "\n",
    "#  merge data frame\n",
    "merge_bmi=pd.merge(ath_1,hr_1, on=\"ID\")\n",
    "\n",
    "# Create a DataFrame with only the columns needed for correlation\n",
    "correlation_df = merge_bmi[['HR', 'bmi', 'sport']]\n",
    "\n",
    "# Convert categorical 'Sport' to numerical using one-hot encoding\n",
    "corr_encode = pd.get_dummies(correlation_df, columns = ['sport'])\n",
    "corr_matrix=corr_encode.corr()\n",
    "\n",
    "# plotting correlation matrix\n",
    "\n",
    "\n",
    "# Visualize correlation matrix using heatmap\n",
    "print(\"Correlation matrix is : \")\n",
    "print(corr_matrix)\n",
    "plt.figure(figsize=(10, 7))\n",
    "sns.heatmap(corr_matrix, annot=True, cmap='coolwarm', fmt='.2f')\n",
    "plt.title('Correlation Matrix of HR, BMI, and Sport')\n",
    "plt.show()\n",
    "#sns.heatmap(matrix, cmap=\"Greens\", annot=True)"
   ]
  },
  {
   "cell_type": "markdown",
   "id": "d7674c4d-c2be-42c9-a80c-a7ce1ff81ca6",
   "metadata": {},
   "source": [
    "## Qn8:What are the names of the kayaking athletes?"
   ]
  },
  {
   "cell_type": "code",
   "execution_count": 134,
   "id": "db53ed86-44d3-46d8-98ea-5e2814e4e436",
   "metadata": {},
   "outputs": [
    {
     "name": "stdout",
     "output_type": "stream",
     "text": [
      "10    Isabella Griffin\n",
      "11         Caleb Dixon\n",
      "12       Mia Carpenter\n",
      "13     Harper Mitchell\n",
      "14       Mason Wallace\n",
      "15      Logan Anderson\n",
      "dtype: object\n"
     ]
    }
   ],
   "source": [
    "# loading value from 'ath' DataFrame\n",
    "nam=pd.DataFrame(ath)\n",
    "\n",
    "# Filter for kayaking athletes\n",
    "kayak_names = nam[nam['sport'] == 'kayak']\n",
    "\n",
    "# Extract and print the names of Kayak athletes \n",
    "print(kayak_names['First Name']+\" \"+kayak_names['Last Name'])"
   ]
  },
  {
   "cell_type": "markdown",
   "id": "0ebbf5e6-8bac-4f51-9108-89715b2e6d1d",
   "metadata": {},
   "source": [
    "## Qn9:What was the average HRV of the triathletes?"
   ]
  },
  {
   "cell_type": "code",
   "execution_count": null,
   "id": "aaf6982f-6fd3-4484-992e-17477800ae34",
   "metadata": {},
   "outputs": [],
   "source": [
    "# sportdf DataFrame creaed\n",
    "sportdf=pd.read_excel(\"FinalVO2_Table.xlsx\")\n",
    "\n",
    "# RR Changes \n",
    "sportdf['RR Change'] = sportdf.groupby('ID')['RR'].diff()\n",
    "\n",
    "#sportdf['HRV']=sportdf['RR Change'].std()\n",
    "hrv=sportdf.groupby('ID')['RR Change'].std().reset_index()\n",
    "hrv.columns = ['ID', 'HRV']\n",
    "\n",
    "# mergeing the data frame\n",
    "mergedf=pd.merge(hrv,ath1, on=\"ID\")\n",
    "\n",
    "# average hrv caluated\n",
    "avg_hrv = mergedf.groupby('sport')['HRV'].mean()\n",
    "\n",
    "#print Average HRV of the triathletes\n",
    "print(\"Average HRV of the triathletes: \", avg_hrv.loc['triathlon'])\n"
   ]
  },
  {
   "cell_type": "markdown",
   "id": "334307c3-7f5e-42ef-8f31-2c4df13d8783",
   "metadata": {},
   "source": [
    "## Qn10:How long was athlete 12 in HR Zone 5?"
   ]
  },
  {
   "cell_type": "code",
   "execution_count": null,
   "id": "2281433d-5df1-47c8-a9af-1918120a26f0",
   "metadata": {},
   "outputs": [],
   "source": [
    "# calculating Time Zone 5 Athlete ID \n",
    "\n",
    "zone5_hr=zone_det[(zone_det['ID'] == 12) & (zone_det['Zone'] =='Zone 5 (anaerobic)' )]\n",
    "\n",
    "# calculating Time spent by Athlete \n",
    "zone5_time = zone5_hr['time'].sum()\n",
    "\n",
    "print(f\"Time spent by Athlete 12 in HR Zone 5 is {zone5_time} seconds .\")"
   ]
  },
  {
   "cell_type": "markdown",
   "id": "434f83e6-30f5-4630-a7b1-a30b565b79ba",
   "metadata": {},
   "source": [
    "## Qn11: Create any 3d plot using any data. Values do not have to be from the dataset given."
   ]
  },
  {
   "cell_type": "code",
   "execution_count": null,
   "id": "4d04d0fb-b6d1-426e-b33c-f9c5b8ab0b4a",
   "metadata": {},
   "outputs": [],
   "source": [
    "import matplotlib.pyplot as plt\n",
    "from mpl_toolkits.mplot3d import Axes3D\n",
    "import numpy as np\n",
    "\n",
    "# Generate random data\n",
    "np.random.seed(42)  # For reproducibility\n",
    "x = np.random.rand(100)\n",
    "y = np.random.rand(100)\n",
    "z = np.random.rand(100)\n",
    "\n",
    "# Create a 3D figure\n",
    "fig = plt.figure()\n",
    "ax = fig.add_subplot(111, projection='3d')\n",
    "\n",
    "# Plot the data\n",
    "ax.scatter(x, y, z)\n",
    "\n",
    "# Set labels and title\n",
    "ax.set_xlabel('X Label')\n",
    "ax.set_ylabel('Y Label')\n",
    "ax.set_zlabel('Z Label')\n",
    "ax.set_title('3D Scatter Plot')\n",
    "\n",
    "plt.show()"
   ]
  },
  {
   "cell_type": "markdown",
   "id": "3234b452-9702-4ef7-b96c-411ef5412041",
   "metadata": {},
   "source": [
    "## Qn12:What were the Highest 3 V02 Maxes recorded. Display all 3 names, sport and personal V02 Maxes.¶"
   ]
  },
  {
   "cell_type": "code",
   "execution_count": null,
   "id": "6ff535e4-1408-4919-bd9b-4f4608358601",
   "metadata": {},
   "outputs": [],
   "source": [
    "#Load athlete details into dataframe\n",
    "VO2ml=pd.DataFrame(ath)\n",
    "\n",
    "#Sum the VO2 values for each ID\n",
    "Sum_VO2 = final_table.groupby('ID')['VO2'].sum().reset_index() \n",
    "\n",
    "#Merge sum of VO2 values for each id to VO2ml dataframe\n",
    "VO2ml=VO2ml.merge(Sum_VO2,on='ID')\n",
    "\n",
    "#Find VO2ml/kg which is VO2ml/min divided by each athlete weight\n",
    "VO2ml['VO2ml/kg']=VO2ml['VO2']/VO2ml['Weight']\n",
    "\n",
    "#Highest 3 V02 Maxes record using nlargest method\n",
    "\n",
    "top_3_vo2max = VO2ml.nlargest(3, 'VO2ml/kg')[['ID','First Name','Last Name','sport','VO2ml/kg']]\n",
    "\n",
    "\n",
    "print('Athlete Details Highest 3 V02 Maxes record')\n",
    "\n",
    "#display every athlete's VO2ml/kg values\n",
    "top_3_vo2max.style.hide(axis='index')"
   ]
  },
  {
   "cell_type": "markdown",
   "id": "a73d5cae-62d2-4667-b77e-87c51543ebd4",
   "metadata": {},
   "source": [
    "## Qn13:What were the Highest 3 V02 Maxes recorded. Display all 3 names, sport and personal V02 Maxes."
   ]
  },
  {
   "cell_type": "code",
   "execution_count": null,
   "id": "95cfb3b2-ecca-480c-8d5a-c19e3f9644b5",
   "metadata": {},
   "outputs": [],
   "source": [
    "from datetime import datetime\n",
    "\n",
    "# loading ath1 DataFrame\n",
    "ath1 = pd.read_excel(df, sheet_name = 'Athletes')\n",
    "\n",
    "#Calculates the year of birth given the current age and year.\n",
    "current_year = datetime.now().year\n",
    "\n",
    "#Calculates the year of birth of each athlete \n",
    "ath1['birth_year'] = current_year - ath1['age']\n",
    "\n",
    "#Print year of birth of each athlete \n",
    "print(ath1['ID'], ath1['birth_year'])"
   ]
  },
  {
   "cell_type": "markdown",
   "id": "0a8412df-d25f-45e0-9ba7-9b72b1ef2456",
   "metadata": {},
   "source": [
    "## Qn:14 What were the lowest 3 V02 Maxes recorded. Display all 3 names, sport and personal V02 Maxes."
   ]
  },
  {
   "cell_type": "code",
   "execution_count": null,
   "id": "c4af0801-2d6d-4ce6-9ce8-8fcf7b877516",
   "metadata": {},
   "outputs": [],
   "source": [
    "#Load athlete details into dataframe\n",
    "VO2ml=pd.DataFrame(ath)\n",
    "\n",
    "#Sum the VO2 values for each ID\n",
    "Sum_VO2 = final_table.groupby('ID')['VO2'].sum().reset_index() \n",
    "\n",
    "#Merge sum of VO2 values for each id to VO2ml dataframe\n",
    "VO2ml=VO2ml.merge(Sum_VO2,on='ID')\n",
    "\n",
    "#Find VO2ml/kg which is VO2ml/min divided by each athlete weight\n",
    "VO2ml['VO2ml/kg']=VO2ml['VO2']/VO2ml['Weight']\n",
    "\n",
    "#Lowest 3 V02 Maxes record using nsmallest method\n",
    "bottom_3_vo2min = VO2ml.nsmallest(3, 'VO2ml/kg')[['ID','First Name','Last Name','sport','VO2ml/kg']]\n",
    "\n",
    "\n",
    "print('Athlete Details lowest 3 V02  record')\n",
    "\n",
    "#display every athlete's VO2ml/kg values\n",
    "bottom_3_vo2min.style.hide(axis='index')\n"
   ]
  },
  {
   "cell_type": "markdown",
   "id": "1d1502ab-d29c-4dd6-98be-773c52a9ff2c",
   "metadata": {},
   "source": [
    "## Qn15:\"Assign 1 of the following 5 heart rate zones for every record for all sports and athletes and add this as a column to every table:\n",
    "## Zone 1 (recovery/easy)       <100 HR max\n",
    "## Zone 2 (aerobic/base)        100-120 HR max\n",
    "## Zone 3 (tempo)        120-135 HR max\n",
    "## Zone 4 (lactate threshold)        135-155 HR max\n",
    "## Zone 5 (anaerobic)        155+ HR max and above\""
   ]
  },
  {
   "cell_type": "code",
   "execution_count": null,
   "id": "844e821e-47e3-4c83-82d8-9230f4520eb8",
   "metadata": {},
   "outputs": [],
   "source": [
    "#Calculate time in minutes,Heart Rate(HR)=60/(RR/1000),Max HeartRate(MaxHR)=220-age\n",
    "zone_merged=pd.DataFrame(final_table)\n",
    "zone_ath=pd.DataFrame(ath)\n",
    "zone_det=zone_merged.merge(zone_ath[['ID','age']],on='ID')\n",
    "zone_det['HR']=60/(zone_det['RR']/1000)\n",
    "zone_det['MaxHR']=220-zone_det['age']\n",
    "\n",
    "#Calculate Zone as per question \n",
    "Zone_1= zone_det['HR'] <100\n",
    "Zone_2 = (zone_det['HR'] >=100 ) & (zone_det['HR']<120)\n",
    "Zone_3=(zone_det['HR'] >=120 ) & (zone_det['HR']<135)\n",
    "Zone_4=(zone_det['HR'] >=135 ) & (zone_det['HR']<155)\n",
    "\n",
    "zone_det['Zone'] = 'Zone 5 (anaerobic)'\n",
    "zone_det.loc[Zone_1, 'Zone'] = 'Zone 1 (recovery/easy)'\n",
    "zone_det.loc[Zone_2, 'Zone'] = 'Zone 2 (aerobic/base)'\n",
    "zone_det.loc[Zone_3, 'Zone'] = 'Zone 3 (tempo)'\n",
    "zone_det.loc[Zone_4, 'Zone'] = 'Zone 4 (lactate threshold)'\n",
    "print(zone_det)"
   ]
  },
  {
   "cell_type": "markdown",
   "id": "7a8b504c-a705-4df5-af20-8cbe25777fbc",
   "metadata": {},
   "source": [
    "## Qn16:Calculate the BMI of every athlete and display it as a list."
   ]
  },
  {
   "cell_type": "code",
   "execution_count": 152,
   "id": "58c23691-eb69-4046-8b47-bf8af3c07819",
   "metadata": {},
   "outputs": [
    {
     "name": "stdout",
     "output_type": "stream",
     "text": [
      "BMI of every athlete in list: [20.72, 21.41, 24.64, 23.61, 22.08, 22.97, 18.29, 18.81, 18.43, 18.77, 25.6, 25.68, 25.05, 21.31, 21.46, 21.25, 16.4, 15.9]\n"
     ]
    }
   ],
   "source": [
    "# loading dataframe \n",
    "ath_1 = pd.DataFrame(ath)\n",
    "\n",
    "# change bmi column to list\n",
    "bmi_list=ath_1['bmi'].tolist()\n",
    "\n",
    "#print list\n",
    "print(\"BMI of every athlete in list:\",bmi_list)\n"
   ]
  },
  {
   "cell_type": "markdown",
   "id": "ea71c83b-ba05-4416-bace-701a568a9d52",
   "metadata": {},
   "source": [
    "Qn33. Create a list and a tuple. Print the types and lengths of both."
   ]
  },
  {
   "cell_type": "code",
   "execution_count": null,
   "id": "7a289545-dd50-4ef7-86ec-4ac7eeb81ac0",
   "metadata": {},
   "outputs": [],
   "source": [
    "#Create a List and tuple\n",
    "List=[1,2,3,4,5,6,7,8,9,10,11,12]\n",
    "print(List)\n",
    "tuple=(10,20,30,40,50,60,70,80,90,10,20)\n",
    "print(tuple)\n",
    "\n",
    "#Print the types of both.\n",
    "print(type(list))\n",
    "print(type(tuple))"
   ]
  },
  {
   "cell_type": "markdown",
   "id": "f535aa68-33bc-4637-89f4-b6da0898341b",
   "metadata": {},
   "source": [
    "Qn34. Display a word cloud using any values in the dataset."
   ]
  },
  {
   "cell_type": "code",
   "execution_count": null,
   "id": "d4354711-635c-463c-9227-14c83ee0cb4b",
   "metadata": {},
   "outputs": [],
   "source": [
    "#Create dataframe\n",
    "wcloud = pd.DataFrame(ath)\n",
    "\n",
    "# Combine all athlete names into a single string\n",
    "text = ' '.join(wcloud['Ethnicity'])\n",
    "\n",
    "# Create the word cloud\n",
    "wordcloud = WordCloud(width=800, height=400, background_color='white').generate(text)\n",
    "\n",
    "# Display the word cloud\n",
    "plt.figure(figsize=(10, 5))\n",
    "plt.imshow(wordcloud, interpolation='bilinear')\n",
    "plt.axis('off')\n",
    "plt.show()"
   ]
  },
  {
   "cell_type": "markdown",
   "id": "e194b375-473e-4ce8-84e8-fd99d124e1e9",
   "metadata": {},
   "source": [
    "Qn35. Create a Regression Plot on Max V02 and mean BMI for any sport of your choice."
   ]
  },
  {
   "cell_type": "code",
   "execution_count": null,
   "id": "24ccfb9b-ca16-4022-aa9d-5a163ff740d7",
   "metadata": {},
   "outputs": [],
   "source": [
    "#Load athlete details into the dataframe\n",
    "fname=pd.DataFrame(ath)\n",
    "\n",
    "#Merge fname for each id to VO2_all dataframe\n",
    "VO2_all=phase.merge(fname[['ID','Weight']],on='ID',how='right')\n",
    "\n",
    "#Sum the VO2 values for each ID\n",
    "VO2_MAX = VO2_all['VO2'].sum()/VO2_all[ 'Weight']\n",
    "print(VO2_MAX)\n",
    "\n",
    "#Filter data for fencing sport\n",
    "sport_of_choice = 'fencing'\n",
    "ath_sport= fname[fname['sport'] == sport_of_choice]\n",
    "#print(ath_sport)\n",
    "#Calculate BMI for fencing sport\n",
    "ath_sport['BMI'] = ath_sport['Weight'] / (ath_sport['Height'] ** 2)\n",
    "\n",
    "#Calculate mean BMI\n",
    "mean_BMI = ath_sport['BMI'].mean()\n",
    "#print(mean_BMI)\n",
    "# Create a DataFrame\n",
    "df = pd.DataFrame({'BMI': mean_BMI, 'VO2': VO2_MAX })\n",
    "\n",
    "# Create a regression plot using Seaborn\n",
    "plt.figure(figsize=(10, 6))\n",
    "sns.regplot(x='BMI', y='VO2', data=df, scatter_kws={'s':100}, line_kws={'color':'red'})\n",
    "\n",
    "# Adding titles and labels\n",
    "plt.title(f'Regression Plot of Max VO2 vs. Mean BMI for {sport_of_choice}')\n",
    "plt.xlabel('BMI')\n",
    "plt.ylabel('VO2_MAX (ml/kg/min)')\n",
    "\n",
    "# Show plot\n",
    "plt.show()"
   ]
  },
  {
   "cell_type": "markdown",
   "id": "375461ad-c4aa-41e8-a638-007cb783388a",
   "metadata": {},
   "source": [
    "Qn36. Plot the time series of HR( every 5 mins) of athlete 1."
   ]
  },
  {
   "cell_type": "code",
   "execution_count": null,
   "id": "84b6c42b-5a19-4977-bccd-78efe084099e",
   "metadata": {},
   "outputs": [],
   "source": [
    "#Initialize dataframe ath_1\n",
    "ath_1 = phase.loc[phase['ID'] == 1]\n",
    "\n",
    "#Calculate HR of athlete 1\n",
    "HR_ath1 = 60/(ath_1['RR']/1000)\n",
    "\n",
    "#Create a synthetic timestamp starting from a chosen date/time\n",
    "start_time =datetime(2024, 8, 21, 0, 0)  # August 21, 2024 at 00:00\n",
    "time_points = [start_time + timedelta(minutes=5*i) for i in range(len(ath_1))]\n",
    "\n",
    "#Create a DataFrame\n",
    "df = pd.DataFrame({'Timestamp': time_points, 'HR': HR_ath1 })\n",
    "df[\"Timestamp\"] = pd.to_datetime(df[\"Timestamp\"])\n",
    "\n",
    "#Plot the time series\n",
    "plt.figure(figsize=(12, 6))\n",
    "plt.plot(df['Timestamp'], df['HR'], marker=\"o\", linestyle=\"-\")\n",
    "\n",
    "#Format x-axis to show date and time\n",
    "plt.gca().xaxis.set_major_formatter(mdates.DateFormatter('%Y-%m-%d %H:%M'))\n",
    "plt.gca().xaxis.set_major_locator(mdates.AutoDateLocator())\n",
    "\n",
    "#Rotate and align the tick labels so they look better\n",
    "plt.gcf().autofmt_xdate()\n",
    "plt.title('Heart Rate Time Series for Athlete 1')\n",
    "plt.xlabel('Time')\n",
    "plt.ylabel('Heart Rate')\n",
    "plt.grid(True)\n",
    "plt.xticks(rotation=45)\n",
    "plt.tight_layout()\n",
    "plt.show()"
   ]
  },
  {
   "cell_type": "markdown",
   "id": "8e9be5f9-e82a-4b61-a422-120737886f52",
   "metadata": {},
   "source": [
    "Qn37. What was the maximum power achieved in terms of watts, which participant achieved it? Display name, sport and watts."
   ]
  },
  {
   "cell_type": "code",
   "execution_count": null,
   "id": "17127ebc-f2a9-4407-a3ea-89f81196a377",
   "metadata": {},
   "outputs": [],
   "source": [
    "#Initalize dataframe phase\n",
    "max_power=pd.DataFrame(final_table)\n",
    "fname=pd.DataFrame(ath)\n",
    "max_power=max_power.merge(fname[['ID','First Name','Last Name','sport']],on='ID',how='right')\n",
    "\n",
    "# Find the athlete with maximum power\n",
    "max_power_row = max_power.loc[max_power['power'].idxmax()]\n",
    "\n",
    "# Display relevant information\n",
    "athlete_ID = max_power_row['ID']\n",
    "first_name = max_power_row['First Name']\n",
    "last_name = max_power_row['Last Name']\n",
    "sport = max_power_row['sport']\n",
    "max_power_watts = max_power_row['power']\n",
    "\n",
    "print(f\"Athlete: {first_name} {last_name}\")\n",
    "print(f\"Sport: {sport}\")\n",
    "print(f\"Maximum Power (Watts): {max_power_watts:.2f}\")"
   ]
  },
  {
   "cell_type": "markdown",
   "id": "85773c74-5c07-49c6-ad25-4157e16fb72e",
   "metadata": {},
   "source": [
    "Qn38.What is the average difference in IBI during the warm up Vs the actual test?"
   ]
  },
  {
   "cell_type": "code",
   "execution_count": null,
   "id": "5a7a235e-8052-4923-bf64-e54413b526e1",
   "metadata": {},
   "outputs": [],
   "source": [
    "#RR interval and inter-beat interval (IBI) are both measurements of time between heartbeats,IBI is essentially the same as the RR interval.\n",
    "#Calculate average IBI for each phase\n",
    "avg_warm_up = phase[phase['Phase'] == 'Warm Up']['time'].mean()\n",
    "avg_get = phase[phase['Phase'] == 'GET']['time'].mean()\n",
    "\n",
    "#Calculate the difference in IBI in both phases\n",
    "avg_diff= avg_get - avg_warm_up \n",
    "\n",
    "#Print average IBI for both phases and the difference\n",
    "print(f\"Average IBI during Warm-up: {avg_warm_up:.2f} ms\")\n",
    "print(f\"Average IBI during Test: {avg_get:.2f} ms\")\n",
    "print(f\"Average Difference: {avg_diff:.2f} ms\")"
   ]
  },
  {
   "cell_type": "markdown",
   "id": "136356ec-49d1-49d7-a49c-bfec4547f92f",
   "metadata": {},
   "source": [
    "Qn39.Print out what's in indexes 7, 10, and 3 for the array. [1, 2, 3, 4, 5,6,7,8,9,10].\n",
    "\n"
   ]
  },
  {
   "cell_type": "code",
   "execution_count": null,
   "id": "08886b10-7015-4885-9a67-6bc6acac1afc",
   "metadata": {},
   "outputs": [],
   "source": [
    "#define the array\n",
    "array=[1,2,3,4,5,6,7,8,9,10]\n",
    "indices=[7,10,3]\n",
    "for index in indices:\n",
    "    if index < len(array):\n",
    "        print(f\"Element at index {index}: {array[index]}\")\n",
    "    else:\n",
    "        print(f\"Index {index} is out of range.\")\n"
   ]
  },
  {
   "cell_type": "markdown",
   "id": "9f0826c0-fc1a-4ef7-8a47-32749e2c2407",
   "metadata": {},
   "source": [
    "Qn40. \" [ 1, 2, 3, 4, 5], [ 6, 7, 8, 9, 10], [11, 12, 13, 14, 15], [16, 17, 18, 19, 20], [21, 22, 23, 24, 25], [26, 27, 28, 29, 30] Use array slicing to display elements 1,3,5. If the value is less than 4 display it as 99\"."
   ]
  },
  {
   "cell_type": "code",
   "execution_count": null,
   "id": "6396d68d-5e3a-400a-9202-dcfde18a8662",
   "metadata": {},
   "outputs": [],
   "source": [
    "#Create the given array\n",
    "arr = np.array([[1, 2, 3, 4, 5],\n",
    "                [6, 7, 8, 9, 10],\n",
    "                [11, 12, 13, 14, 15],\n",
    "                [16, 17, 18, 19, 20],\n",
    "                [21, 22, 23, 24, 25],\n",
    "                [26, 27, 28, 29, 30]])\n",
    "\n",
    "#Slice the array to get elements 1, 3, and 5 (index 0, 2, and 4)\n",
    "sliced = arr[:, [0, 2, 4]]\n",
    "\n",
    "#Replace values less than 4 with 99\n",
    "value = np.where(sliced < 4, 99, sliced)\n",
    "print(value)"
   ]
  },
  {
   "cell_type": "markdown",
   "id": "c8355021-b288-430a-811f-080db1c11266",
   "metadata": {},
   "source": [
    "Qn41. What was lowest wattage achieved at the end of a test and by which participant? Display name, sport and watts."
   ]
  },
  {
   "cell_type": "code",
   "execution_count": null,
   "id": "4fe326a1-6c19-40fd-a0b8-44989697a4c1",
   "metadata": {},
   "outputs": [],
   "source": [
    "#Load athlete details into dataframe\n",
    "fname=pd.DataFrame(ath)\n",
    "\n",
    "#Merge fname values to each ID to min_power\n",
    "min_power=phase.merge(fname[['ID','First Name','Last Name','sport']],on='ID',how='right')\n",
    "\n",
    "#Calculate wattage at warm up phase \n",
    "wattage = min_power[min_power['Phase'] == 'Warm Up']['power'].idxmin()\n",
    "print(wattage)"
   ]
  },
  {
   "cell_type": "markdown",
   "id": "3268f9c5-2c20-40fd-b6f5-3f689dbe5634",
   "metadata": {},
   "source": [
    "Qn42. What was the difference in heart rate between warm up and GET for athlete 1."
   ]
  },
  {
   "cell_type": "code",
   "execution_count": null,
   "id": "9b4e1638-39f1-434d-b0cc-76433ab82183",
   "metadata": {},
   "outputs": [],
   "source": [
    "#Calculate RR value of Athlete 1 at warm up and GET phase\n",
    "RR_warm_up = phase[(phase['Phase'] == 'Warm Up') & (phase['ID'] == 1)]['time'].mean()\n",
    "print(f\"Average warm up phase RR value for athlete 1: {RR_warm_up:.2f}ms\")\n",
    "RR_get = phase[(phase['Phase'] == 'GET') & (phase['ID'] == 1)]['time'].mean()\n",
    "print(f\"Average GET phase RR value for athlete 1: {RR_get:.2f}ms\")\n",
    "\n",
    "#Calculate the HR for warm up phase and GET phase\n",
    "HR_warm_up = 60/(RR_warm_up/1000)\n",
    "print(f\"HR for warm up phase of athlete 1: {HR_warm_up:.2f}bpm\")\n",
    "\n",
    "HR_get = 60/(RR_get/1000)\n",
    "print(f\"HR for GET phase of athlete 1: {HR_get:.2f}bpm\")\n",
    "\n",
    "#Calculate the difference in HR for warmup and GET for Athlete 1\n",
    "diff_HR = HR_get - HR_warm_up\n",
    "print(f\"Difference in HR: {diff_HR:.2f}bpm\")"
   ]
  },
  {
   "cell_type": "markdown",
   "id": "768bd7a3-6b65-4d1c-8eb6-c74161fb6278",
   "metadata": {},
   "source": [
    "Qn43. Create a pivot table that shows count of patients within each age group and sport."
   ]
  },
  {
   "cell_type": "code",
   "execution_count": null,
   "id": "cd14f0fc-1854-4bf4-a59b-a62cecb90e76",
   "metadata": {},
   "outputs": [],
   "source": [
    "#Initialize dataframe pd\n",
    "patients = pd.DataFrame(ath)\n",
    "bins = [12, 13, 14, 15, 16, 17, 18]\n",
    "labels = ['12', '13', '14', '15', '16', '17', '18']\n",
    "\n",
    "# Create a pivot table with count of patients\n",
    "pivot_table = pd.pivot_table(patients, values= 'ID', index='age', columns='sport', aggfunc='count', fill_value=0)\n",
    "\n",
    "print(pivot_table)"
   ]
  },
  {
   "cell_type": "markdown",
   "id": "9698f710-8f80-40e9-90e9-1de43c734eb8",
   "metadata": {},
   "source": [
    "Qn44.Display a distrubution chart of MAX V02 for all athletes."
   ]
  },
  {
   "cell_type": "code",
   "execution_count": null,
   "id": "b462a919-c50d-42ad-a134-f06ebba3ca0f",
   "metadata": {},
   "outputs": [],
   "source": [
    "#Load athlete details into the dataframe\n",
    "fname=pd.DataFrame(ath)\n",
    "\n",
    "#Merge fname for each id to VO2_all dataframe\n",
    "VO2_all=phase.merge(fname[['ID','Weight']],on='ID',how='right')\n",
    "\n",
    "#Sum the VO2 values for each ID\n",
    "VO2_MAX = VO2_all['VO2'].sum()/VO2_all[ 'Weight']\n",
    "\n",
    "# Plotting\n",
    "plt.figure(figsize=(10, 6))\n",
    "sns.histplot(VO2_MAX, bins=18, kde=True, color='blue')\n",
    "\n",
    "# Adding titles and labels\n",
    "plt.title('Distribution of Maximum VO2 for All Athletes')\n",
    "plt.xlabel('Maximum VO2 (ml/kg/min)')\n",
    "plt.ylabel('Frequency')\n",
    "\n",
    "# Show plot\n",
    "plt.show()"
   ]
  },
  {
   "cell_type": "markdown",
   "id": "3de146d2-3416-4035-8391-edc52c71279e",
   "metadata": {},
   "source": [
    "Qn45. Create a dummy array with no data with a size of 15."
   ]
  },
  {
   "cell_type": "code",
   "execution_count": null,
   "id": "5290b141-be1f-4f61-a1e1-2ea623b344f8",
   "metadata": {},
   "outputs": [],
   "source": [
    "dummy_array = np.empty(15)"
   ]
  },
  {
   "cell_type": "markdown",
   "id": "5d1f4cbf-561f-4721-b284-eec4ee49196b",
   "metadata": {},
   "source": [
    "Qn.46.How many minutes did participant 15s exercise last and what was the total V02 max consumed during the test?"
   ]
  },
  {
   "cell_type": "code",
   "execution_count": null,
   "id": "56f3a14a-0c84-4236-9d92-086ff344193c",
   "metadata": {},
   "outputs": [],
   "source": [
    "#Merge dataframes\n",
    "VO2=phase.merge(fname[['ID','Weight']],on='ID',how='right')\n",
    "\n",
    "#Filtering for a Specific Athlete and Phase:\n",
    "VO2 = VO2.loc[(VO2['ID'] == 15) & (VO2['Phase'] == 'GET')]\n",
    "\n",
    "#Calculate VO2_MAX\n",
    "VO2_MAX = VO2['VO2'].sum()/VO2[ 'Weight'].mean()\n",
    "\n",
    "#Calculate the exercise time of Athlete 15\n",
    "Exec_Time = VO2['time'].sum() /(1000 * 60)\n",
    "print(f\"Total VO2 max of test phase: {VO2_MAX}\")\n",
    "print(f\"Excercise time of Athlete 15 is {Exec_Time:.2f} minutes\")"
   ]
  },
  {
   "cell_type": "markdown",
   "id": "f548eb41-6927-4c25-82eb-1bc1989852c8",
   "metadata": {},
   "source": [
    "Qn47.Convert ' sport' into a numeric field through Label encoding."
   ]
  },
  {
   "cell_type": "code",
   "execution_count": null,
   "id": "4c5c5aa7-df48-4265-9f7a-cfdbf4cf3112",
   "metadata": {},
   "outputs": [],
   "source": [
    "#Initialize LabelEncoder\n",
    "lab = LabelEncoder()\n",
    "\n",
    "#Fit and transform the 'sport' column\n",
    "ath['sport'] = lab.fit_transform(ath['sport'])\n",
    "print(ath)"
   ]
  },
  {
   "cell_type": "markdown",
   "id": "a94fc232-2f8e-4bbb-9d6a-698b24f9b04a",
   "metadata": {},
   "source": [
    "Qn48. What was the average age of the athletes?"
   ]
  },
  {
   "cell_type": "code",
   "execution_count": null,
   "id": "2de98299-e635-43ea-bbb2-cf50f0ec0c4c",
   "metadata": {},
   "outputs": [],
   "source": [
    "#Read the excel file and store the sheets into dataframes.\n",
    "ath = pd.read_excel(df, sheet_name = 'Athletes')\n",
    "\n",
    "# Calculate the average age and print\n",
    "average_age = ath['age'].mean()\n",
    "print(f\"Average age of athletes: {average_age:.2f} years\")"
   ]
  },
  {
   "cell_type": "markdown",
   "id": "d1e8c003-5f23-4641-9904-8570cffb6a79",
   "metadata": {},
   "source": [
    "## Qn49:Retrieve the row with minimum IBI for fencing athletes using sorting technique."
   ]
  },
  {
   "cell_type": "code",
   "execution_count": null,
   "id": "8b1a4ff9-2ea2-425b-b6a6-dc87b6269133",
   "metadata": {},
   "outputs": [],
   "source": [
    "#RR interval and inter-beat interval (IBI) are both measurements of time between heartbeats,IBI is essentially the same as the RR interval.\n",
    "\n",
    "#Group by ID and sort RR values ascending,Then take the first value of RR using first()\n",
    "a=fen.sort_values('RR').groupby('ID')['RR'].first().reset_index()\n",
    "\n",
    "#Rename the RR column to IBI\n",
    "a.rename(columns={'RR':'IBI'},inplace='True')\n",
    "\n",
    "#Print ID and Minimun IBI value\n",
    "print(\"Minimum IBI values for Fencing athletes:\")\n",
    "print(a)"
   ]
  },
  {
   "cell_type": "markdown",
   "id": "113a6c6a-2171-4371-8e6a-974c9ea56025",
   "metadata": {},
   "source": [
    "## Qn50:Create a violin chart using any 2 columns in the dataset"
   ]
  },
  {
   "cell_type": "code",
   "execution_count": null,
   "id": "573dffc5-0f50-4fc0-a7fb-f7c5a20823f2",
   "metadata": {},
   "outputs": [],
   "source": [
    "# Set the style of the plot\n",
    "sns.set_style(\"dark\" ,{\"grid.color\": \".6\", \"grid.linestyle\": \":\"})\n",
    "\n",
    "# Defining plot area\n",
    "plt.figure(figsize=(10, 6)) \n",
    "\n",
    "# Assigning x axis with age and y axis with ventilatory threshold 2\n",
    "# Sort the athletes data by age in ascending order\n",
    "sns.violinplot(x=ath.sort_values(by='age')['age'], y=ath['P_vt2'],palette=\"muted\")\n",
    "\n",
    "# Assigning title and labels\n",
    "plt.title('Distribution of Ventilatory Threshold 2 across Age', fontsize=18, color ='green')\n",
    "plt.xlabel('Age', fontsize=14, color='purple');\n",
    "plt.ylabel('Ventilatory Threshold 2', fontsize=14, color='purple');\n",
    "plt.xticks(fontsize=14);\n",
    "plt.yticks(fontsize=14);\n",
    "\n"
   ]
  },
  {
   "cell_type": "markdown",
   "id": "bb41bd39-153c-40b5-9362-1360c85035cb",
   "metadata": {},
   "source": [
    "## Qn51:List every athlete’s V02 ml/kg"
   ]
  },
  {
   "cell_type": "code",
   "execution_count": null,
   "id": "81c22b50-c1ea-4802-ab09-12e93115e856",
   "metadata": {},
   "outputs": [],
   "source": [
    "#Load athlete details into dataframe\n",
    "VO2ml=pd.DataFrame(ath)\n",
    "\n",
    "#Sum the VO2 values for each ID\n",
    "Sum_VO2 = final_table.groupby('ID')['VO2'].sum().reset_index() \n",
    "\n",
    "#Merge sum of VO2 values for each id to VO2ml dataframe\n",
    "VO2ml=VO2ml.merge(Sum_VO2,on='ID')\n",
    "\n",
    "#Find VO2ml/kg which is VO2ml/min divided by each athlete weight\n",
    "VO2ml['VO2ml/kg']=VO2ml['VO2']/VO2ml['Weight']\n",
    "\n",
    "#display every athlete's VO2ml/kg values\n",
    "VO2ml[['ID','First Name','Last Name','VO2ml/kg']].style.hide(axis='index')"
   ]
  },
  {
   "cell_type": "markdown",
   "id": "10aeb3f4-a65d-41ff-b203-b48782d60cb9",
   "metadata": {},
   "source": [
    "## Qn52:Using all markers of fitness available to you, who is fittest athlete. Write 1-2 lines about the analysis that led to your insight."
   ]
  },
  {
   "cell_type": "code",
   "execution_count": null,
   "id": "2b88d3f8-c6cb-4bb5-b6ae-77b4e6f569f1",
   "metadata": {},
   "outputs": [],
   "source": [
    "#Analysis - A higher VO2 max score indicates greater performance capacity and better physical fitness, and is associated with a lower risk \n",
    "#for cardiovascular disease and increased longevity.\n",
    "\n",
    "#Sort VO2ml/kg values to find the athlete with max VO2ml/kg\n",
    "Fittest=VO2ml.sort_values('VO2ml/kg',ascending=False).reset_index(drop=True)\n",
    "top=Fittest.iloc[0]\n",
    "\n",
    "#Print fittest athlete details\n",
    "print(\"Analysis-The fittest athlete would likely be the one with the highest VO2max.\")\n",
    "print(\"Fittest athlete details based on Max VO2ml/kg:\")\n",
    "print(\"ID:\",top['ID'],\"\\nFirst Name:\",top['First Name'],\"\\nLast Name:\",top['Last Name'],\"\\nVO2ml/kg:\",top['VO2ml/kg'])\n"
   ]
  },
  {
   "cell_type": "markdown",
   "id": "382967c3-aab9-473f-bf0c-e4b120a34a20",
   "metadata": {},
   "source": [
    "## Qn53:phonebook={\"john\":938477566,\"Jack\":938377264,\"Jill\":947662781}  ,find the phone number of Jill"
   ]
  },
  {
   "cell_type": "code",
   "execution_count": null,
   "id": "21c04bfc-4599-43b4-9f86-8438421c9633",
   "metadata": {},
   "outputs": [],
   "source": [
    "#create phonebook dictionary with names and numbers\n",
    "phonebook={\"john\":938477566,\"Jack\":938377264,\"Jill\":947662781} \n",
    "\n",
    "#retrive jill's phone number using get()\n",
    "a=phonebook.get(\"Jill\")\n",
    "\n",
    "#print jills's phone number\n",
    "print(\"Jill phone number:\",a)"
   ]
  },
  {
   "cell_type": "markdown",
   "id": "1d834080-fd95-4237-a07b-0ea450509358",
   "metadata": {},
   "source": [
    "## Qn54:Create a Pie chart for  Athletes and explode the widge with Highest V02 kg/ml in and Label by Athlete ID\n"
   ]
  },
  {
   "cell_type": "code",
   "execution_count": null,
   "id": "771e0220-0099-4298-bb81-aa907f5153d7",
   "metadata": {},
   "outputs": [],
   "source": [
    "#Set the style of the plot\n",
    "plt.style.use('fivethirtyeight')\n",
    "\n",
    "# Defining plot area\n",
    "plt.figure(figsize=(11,11))\n",
    "plt.tight_layout()\n",
    "\n",
    "#Assign x and y values\n",
    "x=list(VO2ml['ID'])\n",
    "y=list(VO2ml['VO2ml/kg'])\n",
    "explodes=[0,0,0,0,0,0,0,0,0,0,0,0.5,0,0,0,0,0,0]\n",
    "\n",
    "#plot pie chart\n",
    "plt.pie(y,labels= x,explode=explodes,autopct=\"%1.1f%%\", textprops={'fontsize':12})\n",
    "plt.title('Athletes Distribution by VO2ml/kg', fontsize=18, color ='blue');"
   ]
  },
  {
   "cell_type": "markdown",
   "id": "d9762f2f-5f58-4768-b55b-2483a3e74eae",
   "metadata": {},
   "source": [
    "## Qn55:Using a for loop iterate through HR for all trathletes and display all details of the athlete with the highest heart rate\n"
   ]
  },
  {
   "cell_type": "code",
   "execution_count": null,
   "id": "bbbc077c-d320-41ec-8264-107a832589e2",
   "metadata": {},
   "outputs": [],
   "source": [
    "#Load triathlon and athlete details into dataframe\n",
    "df2=pd.DataFrame(tri)\n",
    "df1=pd.DataFrame(ath)\n",
    "\n",
    "#Calculate HR(HeartRate) From RR value,HR=60/(RR/1000)\n",
    "df2['HR']=60/(df2['RR']/1000)\n",
    "High_HR=0\n",
    "\n",
    "#Used for loop to iterate through rows to find the highest HR\n",
    "for i,r in df2.iterrows():\n",
    " if r['HR']>High_HR:\n",
    "    High_HR=r['HR']\n",
    "    a=r['ID']\n",
    "     \n",
    "#Print athlete ID with highest HR\n",
    "print(\"Athlete ID:\",int(a),\"has the highest heart rate:\",High_HR)\n",
    "\n",
    "#Used .loc to get the details of athelte with highest HR from athletes,triathlon dataframe\n",
    "details1=df1.loc[df1['ID']==a]\n",
    "details2=df2.loc[df2['HR']==High_HR]\n",
    "\n",
    "#Merged details from both dataframe using merge\n",
    "details=details1.merge(details2,on='ID')\n",
    "\n",
    "#print athlete details\n",
    "print(\"Athlete details:\")\n",
    "details"
   ]
  },
  {
   "cell_type": "markdown",
   "id": "6c0a0ac7-2448-4f30-bcea-9ec0ba3fbc33",
   "metadata": {},
   "source": [
    "## Qn56:Display a histogram to show distribution of athletes by sport."
   ]
  },
  {
   "cell_type": "code",
   "execution_count": null,
   "id": "e22ac778-77fe-48b0-9573-ad000a350e2b",
   "metadata": {},
   "outputs": [],
   "source": [
    "#Count of Athletes By Sport\n",
    "print(\"Count of Athletes By Sport:\\n\",ath['sport'].value_counts().reset_index())\n",
    "\n",
    "# Set the style of the plot\n",
    "sns.set_style(\"darkgrid\" ,{\"grid.color\": \".6\", \"grid.linestyle\": \":\"})\n",
    "\n",
    "# Defining plot area\n",
    "plt.figure(figsize=(10, 6)) \n",
    "\n",
    "# Assigning x axis with sport \n",
    "sns.histplot(x='sport',data=ath,kde=True)\n",
    "\n",
    "# Assigning title and labels\n",
    "plt.title('Athletes Count Based On Sport', fontsize=18, color ='green')\n",
    "plt.xlabel('Sport', fontsize=14, color='red');\n",
    "plt.ylabel('Count', fontsize=14, color='red');\n",
    "plt.xticks(fontsize=14);\n",
    "plt.yticks(fontsize=14);\n",
    "plt.show()"
   ]
  },
  {
   "cell_type": "markdown",
   "id": "293dba6a-7394-4b97-b146-360b041a4d2a",
   "metadata": {},
   "source": [
    "## Qn57:get the first letter of last name of students using for loops and RegEX"
   ]
  },
  {
   "cell_type": "code",
   "execution_count": null,
   "id": "7d5d0416-59f4-4f2e-81ad-c6d31f5fb3e3",
   "metadata": {},
   "outputs": [],
   "source": [
    "#Used for loop to iterate through athletes table rows \n",
    "for i,r in ath.iterrows():\n",
    "    lastname=r['Last Name']\n",
    "    \n",
    "#used Regex findall function to find the first letter of last name\n",
    "    FirstLetter=re.findall(r'\\b\\w',lastname)\n",
    "    \n",
    "#print first letter of last name\n",
    "    print(\"Last Name:\",lastname,\", First Letter:\",FirstLetter[0])"
   ]
  },
  {
   "cell_type": "markdown",
   "id": "6d8777ce-4783-48c2-9fbc-b8eb56efbc42",
   "metadata": {},
   "source": [
    "## Qn58:What is the average % difference in heart rate between warm up and GET for all athletes?"
   ]
  },
  {
   "cell_type": "code",
   "execution_count": null,
   "id": "174c2373-b48d-4ce2-8f7e-3a6e575277fc",
   "metadata": {},
   "outputs": [],
   "source": [
    "#Initialize Dataframe phase1\n",
    "phase1=pd.DataFrame(phase)\n",
    "\n",
    "#Calculate HR(HeartRate) From RR value,HR=60/(RR/1000)\n",
    "phase1['HR']=60/(phase1['RR']/1000)\n",
    "\n",
    "#Calculate mean Warmup & GET HR grouped by ID\n",
    "Warmup_hr = phase1[phase1['Phase'] == 'Warm Up'].groupby('ID')['HR'].mean().reset_index(name='Warmup_HR')\n",
    "GET_hr = phase1[phase1['Phase'] == 'GET'].groupby('ID')['HR'].mean().reset_index(name='GET_HR')\n",
    "\n",
    "#merge warmup & GET HR based on id to HR_Both\n",
    "HR_Both=pd.merge(Warmup_hr,GET_hr,on='ID')\n",
    "\n",
    "#Calculate % difference in HR between warmup and GET\n",
    "HR_Both['%Diff']=((HR_Both['GET_HR']- HR_Both['Warmup_HR'])/HR_Both['Warmup_HR'])*100\n",
    "\n",
    "#Calculate the average % difference in Heart Rate between Warm up and GET\n",
    "Average=HR_Both['%Diff'].mean()\n",
    "\n",
    "#print the average % difference in Heart Rate between Warm up and GET\n",
    "print(f\"Average % difference in Heart Rate between Warm up and GET : {Average:.2f}\")"
   ]
  },
  {
   "cell_type": "markdown",
   "id": "de1d3a65-fd2e-4e16-993d-00375f870088",
   "metadata": {},
   "source": [
    "## Qn59:Who is the tallest athlete in the dataset. What is his sport and his Vo2 ml/kg?"
   ]
  },
  {
   "cell_type": "code",
   "execution_count": null,
   "id": "3fd842d8-0c91-4857-af62-1a037494a408",
   "metadata": {},
   "outputs": [],
   "source": [
    "#Sort Height values to find the athlete with highest height\n",
    "Tallest=VO2ml.sort_values('Height',ascending=False).reset_index(drop=True)\n",
    "Tall=Tallest.iloc[0]\n",
    "\n",
    "#Print Tallest athlete details\n",
    "print(\"Tallest athlete details:\")\n",
    "print(\"ID:\",Tall['ID'],\"\\nFirst Name:\",Tall['First Name'],\"\\nLast Name:\",Tall['Last Name'],\"\\nSport:\",Tall['sport'],\"\\nVO2ml/kg:\",Tall['VO2ml/kg'])"
   ]
  },
  {
   "cell_type": "markdown",
   "id": "ec9640b1-b004-42d1-bb30-743cfe3d4ec5",
   "metadata": {},
   "source": [
    "## Qn60:get the last letter of athletes last names using RegEX\n"
   ]
  },
  {
   "cell_type": "code",
   "execution_count": null,
   "id": "454395c6-2777-4577-8da5-f266dad7e82b",
   "metadata": {},
   "outputs": [],
   "source": [
    "#Used for loop to iterate through athletes table rows \n",
    "for i,r in ath.iterrows():\n",
    "    lastname=r['Last Name']\n",
    "    \n",
    "#used Regex findall function to find the last letter of last name\n",
    "    LastLetter=re.findall(r'\\w$',lastname)\n",
    "    \n",
    "#print last letter of last name\n",
    "    print(\"Last Name:\",lastname,\", Last Letter:\",LastLetter[0])"
   ]
  },
  {
   "cell_type": "markdown",
   "id": "7bd5a53e-48c7-4108-85e7-131578c501d6",
   "metadata": {},
   "source": [
    "## Qn61:Reverse an arrays order in Python. You can use any array with any values you like."
   ]
  },
  {
   "cell_type": "code",
   "execution_count": null,
   "id": "5d08e30e-9511-4433-9148-ce6db59f2811",
   "metadata": {},
   "outputs": [],
   "source": [
    "#Creating a numpy array\n",
    "x=np.array([11,22,32,41])\n",
    "\n",
    "#Reverse array\n",
    "Reversed=x[::-1]\n",
    "\n",
    "#print reversed array\n",
    "print(\"Reversed Array:\",Reversed)"
   ]
  },
  {
   "cell_type": "markdown",
   "id": "31546b3f-7bea-4bf8-be08-3af24467186e",
   "metadata": {},
   "source": [
    "## Qn62:What is the root mean of successive differences for 30 consecutive minutes for each athlete."
   ]
  },
  {
   "cell_type": "code",
   "execution_count": null,
   "id": "0d9186a0-efb0-400c-af83-85d4ebd14f20",
   "metadata": {},
   "outputs": [],
   "source": [
    "#Initialize dataframe\n",
    "Dt=pd.DataFrame(final_table)\n",
    "#create function\n",
    "def rmsd(Dt):\n",
    "    results = []\n",
    "    for i, r in Dt.groupby('ID'):\n",
    "        #sort the data\n",
    "        r= r.sort_values('time')\n",
    "        \n",
    "        #calculate successive differences\n",
    "        r['successive_diff'] = r['time'].diff()\n",
    "        \n",
    "        #drop NaN values \n",
    "        r= r.dropna()\n",
    "        \n",
    "        #calculate squared differences\n",
    "        r['squared_diff'] = r['successive_diff'] ** 2\n",
    "        \n",
    "        #calculate mean of squared differences\n",
    "        mean_squared_diff = r['squared_diff'].mean()\n",
    "        \n",
    "        #calculate RMSD in mins\n",
    "        rmsd = np.sqrt(mean_squared_diff)/60\n",
    "        \n",
    "        #results\n",
    "        results.append({'ID': i, 'RMSD': rmsd})\n",
    "    \n",
    "    return pd.DataFrame(results)\n",
    "\n",
    "#calculating RMSD for each athlete\n",
    "rmsd_cal = rmsd(Dt)\n",
    "print(rmsd_cal)\n"
   ]
  },
  {
   "cell_type": "markdown",
   "id": "81829e3b-897b-4fa1-8cfa-3b888a7d1be9",
   "metadata": {},
   "source": [
    "## Qn63:On average how many minutes did each athlete in the sport of fencing spend in Zone 5?"
   ]
  },
  {
   "cell_type": "code",
   "execution_count": null,
   "id": "fc60a60a-6081-4901-85e2-e3a9d8546659",
   "metadata": {},
   "outputs": [],
   "source": [
    "#Load fencing and athlete details into dataframe\n",
    "Zn=pd.DataFrame(fen)\n",
    "Zn1=pd.DataFrame(ath)\n",
    "\n",
    "#merge dateframes on ID to include age column \n",
    "det1=Zn.merge(Zn1[['ID','age','First Name','Last Name']],on='ID')\n",
    "\n",
    "#Calculate time in minutes,Heart Rate(HR)=60/(RR/1000),Max HeartRate(MaxHR)=220-age\n",
    "det1['time']=det1['time']/60\n",
    "det1['HR']=60/(det1['RR']/1000)\n",
    "det1['MaxHR']=220-det1['age']\n",
    "\n",
    "#Define HR zone boundries for Zone 5 which is MaxHR=90-100%\n",
    "zonemin=0.90*det1['MaxHR']\n",
    "zonemax=1.00*det1['MaxHR']\n",
    "det1['Zone']='Other Zones'\n",
    "det1.loc[(det1['HR']>=zonemin)&(det1['HR']<=zonemax),'Zone']='Zone 5'\n",
    "det1.loc[(det1['HR'].isnull()),'Zone']='NA'\n",
    "\n",
    "#Calculate Average time for each athlete where Zone=Zone 5\n",
    "Time=det1.loc[(det1['Zone']=='Zone 5')].groupby(['ID','First Name','Last Name'])['time'].mean().reset_index()\n",
    "print(\"Time Spent By Each athlete from Fencing Sport in Zone 5:\")\n",
    "\n",
    "#Rename time column to Average Time\n",
    "Time.columns=['ID','First Name','Last Name','Avg Time(Min) in Zone 5'] \n",
    "\n",
    "#Print Average Time\n",
    "print(Time)"
   ]
  },
  {
   "cell_type": "markdown",
   "id": "77e4269f-8041-43cc-a584-4c2082381b22",
   "metadata": {},
   "source": [
    "## Qn64:Count athletes based on Gender using count plot"
   ]
  },
  {
   "cell_type": "code",
   "execution_count": null,
   "id": "81349a9e-2500-4180-956e-999da697718e",
   "metadata": {},
   "outputs": [],
   "source": [
    "#Count of Gender\n",
    "print(\"Count of Athletes By Gender:\\n\",ath['Gender'].value_counts().reset_index())\n",
    "\n",
    "# Set the style of the plot\n",
    "sns.set_style(\"darkgrid\")\n",
    "\n",
    "# Defining plot area\n",
    "plt.figure(figsize=(10, 8)) \n",
    "\n",
    "# Assigning x axis with gender \n",
    "ax=sns.countplot(x='Gender',data=ath,palette='husl')\n",
    "\n",
    "#To show count \n",
    "for p in ax.patches: \n",
    "    ax.annotate(f'{p.get_height()}', (p.get_x() + p.get_width() / 2., p.get_height()), ha='center', \n",
    "                va='baseline', fontsize=16, color='black', xytext=(0, 10), textcoords='offset points')\n",
    "    ax.set_ylim(0, ax.get_ylim()[1] + 1)\n",
    "    \n",
    "# Assigning title and labels\n",
    "plt.title('Athletes Count Based On Gender', fontsize=18, color ='Purple')\n",
    "plt.xlabel('Gender', fontsize=14, color='blue');\n",
    "plt.ylabel('Count', fontsize=14, color='blue');\n",
    "plt.xticks(fontsize=14);\n",
    "plt.yticks(fontsize=14);\n",
    "plt.show()"
   ]
  },
  {
   "cell_type": "code",
   "execution_count": null,
   "id": "cd998ee5-1497-4fd1-81ad-3034fbaad92f",
   "metadata": {},
   "outputs": [],
   "source": []
  }
 ],
 "metadata": {
  "kernelspec": {
   "display_name": "Python 3 (ipykernel)",
   "language": "python",
   "name": "python3"
  },
  "language_info": {
   "codemirror_mode": {
    "name": "ipython",
    "version": 3
   },
   "file_extension": ".py",
   "mimetype": "text/x-python",
   "name": "python",
   "nbconvert_exporter": "python",
   "pygments_lexer": "ipython3",
   "version": "3.11.7"
  }
 },
 "nbformat": 4,
 "nbformat_minor": 5
}
